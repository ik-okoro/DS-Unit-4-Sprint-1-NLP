{
  "nbformat": 4,
  "nbformat_minor": 0,
  "metadata": {
    "kernelspec": {
      "display_name": "U4S1DS10 (Python 3.7)",
      "language": "python",
      "name": "u4-s1-nlp-ds10"
    },
    "language_info": {
      "codemirror_mode": {
        "name": "ipython",
        "version": 3
      },
      "file_extension": ".py",
      "mimetype": "text/x-python",
      "name": "python",
      "nbconvert_exporter": "python",
      "pygments_lexer": "ipython3",
      "version": "3.7.0"
    },
    "colab": {
      "name": "Ik_LS_DS_412_Vector_Representations_Lecture.ipynb",
      "provenance": [],
      "include_colab_link": true
    }
  },
  "cells": [
    {
      "cell_type": "markdown",
      "metadata": {
        "id": "view-in-github",
        "colab_type": "text"
      },
      "source": [
        "<a href=\"https://colab.research.google.com/github/ik-okoro/DS-Unit-4-Sprint-1-NLP/blob/main/module2-vector-representations/LS_DS_412_Vector_Representations_Lecture.ipynb\" target=\"_parent\"><img src=\"https://colab.research.google.com/assets/colab-badge.svg\" alt=\"Open In Colab\"/></a>"
      ]
    },
    {
      "cell_type": "markdown",
      "metadata": {
        "id": "Poj3YxczlhX8"
      },
      "source": [
        "Lambda School Data Science\n",
        "\n",
        "*Unit 4, Sprint 1, Module 2*\n",
        "\n",
        "---\n",
        "\n",
        "# Vector Representations (Prepare)\n",
        "\n",
        "\n",
        "As we learned yesterday, machines cannot interpret raw text. We need to transform that text into something we/machines can more readily analyze. Yesterday, we did simple counts of counts to summarize the content of Amazon reviews. Today, we'll extend those concepts to talk about vector representations such as Bag of Words (BoW) and word embedding models. We'll use those representations for search, visualization, and prepare for our classification day tomorrow. \n",
        "\n",
        "Processing text data to prepare it for machine learning models often means translating the information from documents into a numerical format. Bag-of-Words approaches (sometimes referred to as Frequency-Based word embeddings) accomplish this by \"vectorizing\" tokenized documents. This is done by representing each document as a row in a DataFrame and creating a column for each unique word in the corpora (group of documents). The presence or lack of a given word in a document is then represented either as a raw count of how many times a given word appears in a document (CountVectorizer) or as that word's TF-IDF score (TfidfVectorizer).\n",
        "\n",
        "On the python side, we will be focusing on `sklearn` and `spacy` today.  \n",
        "\n",
        "## Case Study\n",
        "\n",
        "We're going to pretend we're on the datascience team at the BBC. We want to recommend articles to visitors to on the BBC website based on the article they just read. Our team wants \n",
        "\n",
        "**Dataset:**\n",
        "\n",
        "[D. Greene and P. Cunningham. \"Practical Solutions to the Problem of Diagonal Dominance in Kernel Document Clustering\", Proc. ICML 2006.](http://mlg.ucd.ie/datasets/bbc.html)\n",
        "*Please note that the dataset has been sampled down to tech articles only.* \n",
        "\n",
        "## Learning Objectives\n",
        "* <a href=\"#p1\">Part 1</a>: Represent a document as a vector\n",
        "* <a href=\"#p2\">Part 2</a>: Query Documents by Similarity\n",
        "* <a href=\"#p3\">Part 3</a>: Apply word embedding models to create document vectors"
      ]
    },
    {
      "cell_type": "markdown",
      "metadata": {
        "id": "tzJDbFxPlhX9"
      },
      "source": [
        "# Represent a document as a vector (Learn)\n",
        "<a id=\"p1\"></a>"
      ]
    },
    {
      "cell_type": "markdown",
      "metadata": {
        "id": "PZtTd5FalhX9"
      },
      "source": [
        "## Overview\n",
        "\n",
        "In this section, we are going to create Document Term Matrices (DTM). Each column represents a word. Each row represents a document. The value in each cell can be range of different things. The most traditional: counts of appearances of words, does the word appear at all (binary), and term-frequency inverse-document frequency (TF-IDF). \n",
        "\n",
        "**Discussion:** Don't we loose all the context and grammar if we do this? So Why does it work?"
      ]
    },
    {
      "cell_type": "markdown",
      "metadata": {
        "toc-hr-collapsed": true,
        "id": "hf2_YdcvlhX9"
      },
      "source": [
        "## Follow Along"
      ]
    },
    {
      "cell_type": "code",
      "metadata": {
        "id": "l1jg2W6klhX9",
        "colab": {
          "base_uri": "https://localhost:8080/"
        },
        "outputId": "fc07cffc-0a65-4ef4-e053-ed5b38d4af16"
      },
      "source": [
        "\"\"\" Import Statements \"\"\"\n",
        "\n",
        "# Classics\n",
        "import pandas as pd\n",
        "import seaborn as sns\n",
        "import matplotlib.pyplot as plt\n",
        "\n",
        "from sklearn.feature_extraction.text import CountVectorizer, TfidfVectorizer\n",
        "from sklearn.metrics.pairwise import cosine_similarity\n",
        "from sklearn.neighbors import NearestNeighbors\n",
        "from sklearn.decomposition import PCA\n",
        "\n",
        "import spacy\n",
        "!python -m spacy download en_core_web_lg\n"
      ],
      "execution_count": null,
      "outputs": [
        {
          "output_type": "stream",
          "text": [
            "Requirement already satisfied: en_core_web_lg==2.2.5 from https://github.com/explosion/spacy-models/releases/download/en_core_web_lg-2.2.5/en_core_web_lg-2.2.5.tar.gz#egg=en_core_web_lg==2.2.5 in /usr/local/lib/python3.6/dist-packages (2.2.5)\n",
            "Requirement already satisfied: spacy>=2.2.2 in /usr/local/lib/python3.6/dist-packages (from en_core_web_lg==2.2.5) (2.2.4)\n",
            "Requirement already satisfied: murmurhash<1.1.0,>=0.28.0 in /usr/local/lib/python3.6/dist-packages (from spacy>=2.2.2->en_core_web_lg==2.2.5) (1.0.4)\n",
            "Requirement already satisfied: cymem<2.1.0,>=2.0.2 in /usr/local/lib/python3.6/dist-packages (from spacy>=2.2.2->en_core_web_lg==2.2.5) (2.0.4)\n",
            "Requirement already satisfied: blis<0.5.0,>=0.4.0 in /usr/local/lib/python3.6/dist-packages (from spacy>=2.2.2->en_core_web_lg==2.2.5) (0.4.1)\n",
            "Requirement already satisfied: numpy>=1.15.0 in /usr/local/lib/python3.6/dist-packages (from spacy>=2.2.2->en_core_web_lg==2.2.5) (1.18.5)\n",
            "Requirement already satisfied: srsly<1.1.0,>=1.0.2 in /usr/local/lib/python3.6/dist-packages (from spacy>=2.2.2->en_core_web_lg==2.2.5) (1.0.4)\n",
            "Requirement already satisfied: preshed<3.1.0,>=3.0.2 in /usr/local/lib/python3.6/dist-packages (from spacy>=2.2.2->en_core_web_lg==2.2.5) (3.0.4)\n",
            "Requirement already satisfied: setuptools in /usr/local/lib/python3.6/dist-packages (from spacy>=2.2.2->en_core_web_lg==2.2.5) (50.3.2)\n",
            "Requirement already satisfied: tqdm<5.0.0,>=4.38.0 in /usr/local/lib/python3.6/dist-packages (from spacy>=2.2.2->en_core_web_lg==2.2.5) (4.41.1)\n",
            "Requirement already satisfied: plac<1.2.0,>=0.9.6 in /usr/local/lib/python3.6/dist-packages (from spacy>=2.2.2->en_core_web_lg==2.2.5) (1.1.3)\n",
            "Requirement already satisfied: requests<3.0.0,>=2.13.0 in /usr/local/lib/python3.6/dist-packages (from spacy>=2.2.2->en_core_web_lg==2.2.5) (2.23.0)\n",
            "Requirement already satisfied: wasabi<1.1.0,>=0.4.0 in /usr/local/lib/python3.6/dist-packages (from spacy>=2.2.2->en_core_web_lg==2.2.5) (0.8.0)\n",
            "Requirement already satisfied: thinc==7.4.0 in /usr/local/lib/python3.6/dist-packages (from spacy>=2.2.2->en_core_web_lg==2.2.5) (7.4.0)\n",
            "Requirement already satisfied: catalogue<1.1.0,>=0.0.7 in /usr/local/lib/python3.6/dist-packages (from spacy>=2.2.2->en_core_web_lg==2.2.5) (1.0.0)\n",
            "Requirement already satisfied: urllib3!=1.25.0,!=1.25.1,<1.26,>=1.21.1 in /usr/local/lib/python3.6/dist-packages (from requests<3.0.0,>=2.13.0->spacy>=2.2.2->en_core_web_lg==2.2.5) (1.24.3)\n",
            "Requirement already satisfied: certifi>=2017.4.17 in /usr/local/lib/python3.6/dist-packages (from requests<3.0.0,>=2.13.0->spacy>=2.2.2->en_core_web_lg==2.2.5) (2020.11.8)\n",
            "Requirement already satisfied: chardet<4,>=3.0.2 in /usr/local/lib/python3.6/dist-packages (from requests<3.0.0,>=2.13.0->spacy>=2.2.2->en_core_web_lg==2.2.5) (3.0.4)\n",
            "Requirement already satisfied: idna<3,>=2.5 in /usr/local/lib/python3.6/dist-packages (from requests<3.0.0,>=2.13.0->spacy>=2.2.2->en_core_web_lg==2.2.5) (2.10)\n",
            "Requirement already satisfied: importlib-metadata>=0.20; python_version < \"3.8\" in /usr/local/lib/python3.6/dist-packages (from catalogue<1.1.0,>=0.0.7->spacy>=2.2.2->en_core_web_lg==2.2.5) (2.0.0)\n",
            "Requirement already satisfied: zipp>=0.5 in /usr/local/lib/python3.6/dist-packages (from importlib-metadata>=0.20; python_version < \"3.8\"->catalogue<1.1.0,>=0.0.7->spacy>=2.2.2->en_core_web_lg==2.2.5) (3.4.0)\n",
            "\u001b[38;5;2m✔ Download and installation successful\u001b[0m\n",
            "You can now load the model via spacy.load('en_core_web_lg')\n"
          ],
          "name": "stdout"
        }
      ]
    },
    {
      "cell_type": "code",
      "metadata": {
        "id": "XSRp-NwQq45o"
      },
      "source": [
        "nlp = spacy.load(\"en_core_web_lg\")"
      ],
      "execution_count": null,
      "outputs": []
    },
    {
      "cell_type": "markdown",
      "metadata": {
        "id": "YdAGd7sGlhX-"
      },
      "source": [
        "**Warm Up (_3 Minutes_)**\n",
        "\n",
        "Extract the tokens from this sentence using Spacy. Text is from [OpenAI](https://openai.com/blog/better-language-models/)"
      ]
    },
    {
      "cell_type": "code",
      "metadata": {
        "id": "FqjbJst6lhX-"
      },
      "source": [
        "text = \"We created a new dataset which emphasizes diversity of content, by scraping content from the Internet. In order to preserve document quality, we used only pages which have been curated/filtered by humans—specifically, we used outbound links from Reddit which received at least 3 karma. This can be thought of as a heuristic indicator for whether other users found the link interesting (whether educational or funny), leading to higher data quality than other similar datasets, such as CommonCrawl.\""
      ],
      "execution_count": null,
      "outputs": []
    },
    {
      "cell_type": "code",
      "metadata": {
        "id": "ebcsAJLklhX-",
        "colab": {
          "base_uri": "https://localhost:8080/"
        },
        "outputId": "8483c46d-bedc-4206-d4ff-ad0676f75794"
      },
      "source": [
        "doc = nlp(text)\n",
        "\n",
        "print([token.lemma_ for token in doc if (token.is_stop != True) and (token.is_punct != True)])"
      ],
      "execution_count": null,
      "outputs": [
        {
          "output_type": "stream",
          "text": [
            "['create', 'new', 'dataset', 'emphasize', 'diversity', 'content', 'scrape', 'content', 'internet', 'order', 'preserve', 'document', 'quality', 'page', 'curate', 'filter', 'human', 'specifically', 'outbound', 'link', 'Reddit', 'receive', '3', 'karma', 'think', 'heuristic', 'indicator', 'user', 'find', 'link', 'interesting', 'educational', 'funny', 'lead', 'high', 'datum', 'quality', 'similar', 'dataset', 'CommonCrawl']\n"
          ],
          "name": "stdout"
        }
      ]
    },
    {
      "cell_type": "code",
      "metadata": {
        "id": "WcOfySLvlhYC"
      },
      "source": [
        "import os \n",
        "\n",
        "def gather_data(filefolder):\n",
        "    \"\"\" Produces List of Documents from a Directory\n",
        "    \n",
        "    filefolder (str): a path of .txt files\n",
        "    \n",
        "    returns list of strings \n",
        "    \"\"\"\n",
        "    \n",
        "    data = []\n",
        "    \n",
        "    files = os.listdir(filefolder) # Causes variation across machines\n",
        "    \n",
        "    for article in files: \n",
        "        \n",
        "        path = os.path.join(filefolder, article)\n",
        "                    \n",
        "        if  path[-3:] == 'txt': # os ~endswith('txt')\n",
        "            with open(path, 'rb') as f:\n",
        "                data.append(f.read())\n",
        "    \n",
        "    return data"
      ],
      "execution_count": null,
      "outputs": []
    },
    {
      "cell_type": "code",
      "metadata": {
        "id": "jcipWMHvlhYD"
      },
      "source": [
        "data = gather_data('/content/data')"
      ],
      "execution_count": null,
      "outputs": []
    },
    {
      "cell_type": "code",
      "metadata": {
        "colab": {
          "base_uri": "https://localhost:8080/"
        },
        "id": "7Zyij6m_u_Xq",
        "outputId": "f38fc176-8bfd-4de7-8105-dfc9e03605ce"
      },
      "source": [
        "len(data)"
      ],
      "execution_count": null,
      "outputs": [
        {
          "output_type": "execute_result",
          "data": {
            "text/plain": [
              "401"
            ]
          },
          "metadata": {
            "tags": []
          },
          "execution_count": 27
        }
      ]
    },
    {
      "cell_type": "code",
      "metadata": {
        "id": "JLNHsgJtlhYD",
        "colab": {
          "base_uri": "https://localhost:8080/"
        },
        "outputId": "637dafb3-8e4c-4395-a111-a3daa6294d24"
      },
      "source": [
        "data[0]"
      ],
      "execution_count": null,
      "outputs": [
        {
          "output_type": "execute_result",
          "data": {
            "text/plain": [
              "b'Millions buy MP3 players in US\\r\\n\\r\\nOne in 10 adult Americans - equivalent to 22 million people - owns an MP3 player, according to a survey.\\r\\n\\r\\nA study by the Pew Internet and American Life Project found that MP3 players are the gadget of choice among affluent young Americans. The survey did not interview teenagers but it is likely that millions of under-18s also have MP3 players. The American love affair with digital music players has been made possible as more and more homes get broadband.\\r\\n\\r\\nOf the 22 million Americans who own MP3 players, 59% are men compared to 41% of women. Those on high income - judged to be $75,000 (\\xc2\\xa339,000) or above - are four times more likely to have players than those earning less than $30, 000 ( \\xc2\\xa315,000). Broadband access plays a big part in ownership too. Almost a quarter of those with broadband at home have players, compared to 9% of those who have dial-up access. MP3 players are still the gadget of choice for younger adults. Almost one in five US citizens aged under 30 have one. This compares to 14% of those aged 30-39 and 14% of those aged 40-48. The influence of children also plays a part. Sixteen percent of parents living with children under 18 have digital players compared to 9% of those who don\\'t. The ease of use and growth of music available on the net are the main factors for the upsurge in ownership, the survey found. People are beginning to use them as instruments of social activity - sharing songs and taking part in podcasting - the survey found. \"IPods and MP3 players are becoming a mainstream technology for consumers\" said Lee Rainie, director of the Pew Internet and American Life Project. \"More growth in the market is inevitable as new devices become available, as new players enter the market, and as new social uses for iPods/MP3 players become popular,\" he added.\\r\\n'"
            ]
          },
          "metadata": {
            "tags": []
          },
          "execution_count": 9
        }
      ]
    },
    {
      "cell_type": "code",
      "metadata": {
        "colab": {
          "base_uri": "https://localhost:8080/"
        },
        "id": "zZXK3bd415jB",
        "outputId": "590237b4-cdec-4bd4-d412-aa89d487fbca"
      },
      "source": [
        "len(data[0])"
      ],
      "execution_count": null,
      "outputs": [
        {
          "output_type": "execute_result",
          "data": {
            "text/plain": [
              "1842"
            ]
          },
          "metadata": {
            "tags": []
          },
          "execution_count": 28
        }
      ]
    },
    {
      "cell_type": "markdown",
      "metadata": {
        "id": "wQjE8uM_lhYE"
      },
      "source": [
        "### CountVectorizer"
      ]
    },
    {
      "cell_type": "code",
      "metadata": {
        "id": "umb3LyAZlhYE"
      },
      "source": [
        "from sklearn.feature_extraction.text import CountVectorizer\n",
        "\n",
        "# list of text documents\n",
        "text = [\"We created a new dataset which emphasizes diversity of content, by scraping content from the Internet.\",\" In order to preserve document quality, we used only pages which have been curated/filtered by humans—specifically, we used outbound links from Reddit which received at least 3 karma.\",\" This can be thought of as a heuristic indicator for whether other users found the link interesting (whether educational or funny), leading to higher data quality than other similar datasets, such as CommonCrawl.\"]\n",
        "\n",
        "# create the transformer\n",
        "vect = CountVectorizer()\n",
        "\n",
        "# build vocab\n",
        "vect.fit(text)\n",
        "\n",
        "# transform text\n",
        "dtm = vect.transform(text)\n",
        "\n",
        "# Create a Vocabulary\n",
        "# The vocabulary establishes all of the possible words that we might use.\n",
        "\n",
        "# The vocabulary dictionary does not represent the counts of words!!\n"
      ],
      "execution_count": null,
      "outputs": []
    },
    {
      "cell_type": "code",
      "metadata": {
        "id": "gKRuv_GqlhYF",
        "colab": {
          "base_uri": "https://localhost:8080/"
        },
        "outputId": "6d547d18-1a6f-4353-a05e-1ce1db1f4800"
      },
      "source": [
        "type(dtm)"
      ],
      "execution_count": null,
      "outputs": [
        {
          "output_type": "execute_result",
          "data": {
            "text/plain": [
              "scipy.sparse.csr.csr_matrix"
            ]
          },
          "metadata": {
            "tags": []
          },
          "execution_count": 11
        }
      ]
    },
    {
      "cell_type": "code",
      "metadata": {
        "colab": {
          "base_uri": "https://localhost:8080/"
        },
        "id": "7KpqusyUwY0T",
        "outputId": "c006a3c0-90c9-4ad6-bf14-3132d78b0e1a"
      },
      "source": [
        "dtm"
      ],
      "execution_count": null,
      "outputs": [
        {
          "output_type": "execute_result",
          "data": {
            "text/plain": [
              "<3x61 sparse matrix of type '<class 'numpy.int64'>'\n",
              "\twith 69 stored elements in Compressed Sparse Row format>"
            ]
          },
          "metadata": {
            "tags": []
          },
          "execution_count": 12
        }
      ]
    },
    {
      "cell_type": "code",
      "metadata": {
        "colab": {
          "base_uri": "https://localhost:8080/"
        },
        "id": "TvAC0WMVwmGI",
        "outputId": "b52c0eec-babf-453b-de3d-960e613a0d78"
      },
      "source": [
        "# Bag of words model\n",
        "dtm.todense()"
      ],
      "execution_count": null,
      "outputs": [
        {
          "output_type": "execute_result",
          "data": {
            "text/plain": [
              "matrix([[0, 0, 0, 0, 1, 0, 0, 2, 1, 0, 0, 1, 0, 1, 0, 0, 1, 0, 0, 0, 1,\n",
              "         0, 0, 0, 0, 0, 0, 0, 0, 1, 0, 0, 0, 0, 0, 1, 1, 0, 0, 0, 0, 0,\n",
              "         0, 0, 0, 0, 0, 1, 0, 0, 0, 0, 1, 0, 0, 0, 0, 0, 1, 0, 1],\n",
              "        [0, 1, 0, 1, 1, 0, 0, 0, 0, 1, 0, 0, 0, 0, 1, 0, 0, 1, 0, 0, 1,\n",
              "         0, 1, 0, 0, 1, 1, 0, 0, 0, 1, 0, 1, 0, 1, 0, 0, 1, 0, 1, 0, 1,\n",
              "         1, 1, 1, 1, 1, 0, 0, 1, 0, 0, 0, 0, 0, 1, 2, 0, 2, 0, 2],\n",
              "        [2, 0, 1, 0, 0, 1, 1, 0, 0, 0, 1, 0, 1, 0, 0, 1, 0, 0, 1, 1, 0,\n",
              "         1, 0, 1, 1, 0, 0, 1, 1, 0, 0, 1, 0, 1, 0, 0, 1, 0, 1, 0, 2, 0,\n",
              "         0, 0, 1, 0, 0, 0, 1, 0, 1, 1, 1, 1, 1, 1, 0, 1, 0, 2, 0]])"
            ]
          },
          "metadata": {
            "tags": []
          },
          "execution_count": 13
        }
      ]
    },
    {
      "cell_type": "code",
      "metadata": {
        "colab": {
          "base_uri": "https://localhost:8080/"
        },
        "id": "8XPxfL6Pw4ZV",
        "outputId": "e8d47d1b-03b5-4f2c-a030-7eee1ee74837"
      },
      "source": [
        "print(vect.get_feature_names())"
      ],
      "execution_count": null,
      "outputs": [
        {
          "output_type": "stream",
          "text": [
            "['as', 'at', 'be', 'been', 'by', 'can', 'commoncrawl', 'content', 'created', 'curated', 'data', 'dataset', 'datasets', 'diversity', 'document', 'educational', 'emphasizes', 'filtered', 'for', 'found', 'from', 'funny', 'have', 'heuristic', 'higher', 'humans', 'in', 'indicator', 'interesting', 'internet', 'karma', 'leading', 'least', 'link', 'links', 'new', 'of', 'only', 'or', 'order', 'other', 'outbound', 'pages', 'preserve', 'quality', 'received', 'reddit', 'scraping', 'similar', 'specifically', 'such', 'than', 'the', 'this', 'thought', 'to', 'used', 'users', 'we', 'whether', 'which']\n"
          ],
          "name": "stdout"
        }
      ]
    },
    {
      "cell_type": "code",
      "metadata": {
        "id": "-fZA8FlLlhYQ",
        "colab": {
          "base_uri": "https://localhost:8080/"
        },
        "outputId": "a53b5d78-63e5-47c3-f84c-4a707132b1ff"
      },
      "source": [
        "len(vect.get_feature_names())"
      ],
      "execution_count": null,
      "outputs": [
        {
          "output_type": "execute_result",
          "data": {
            "text/plain": [
              "61"
            ]
          },
          "metadata": {
            "tags": []
          },
          "execution_count": 16
        }
      ]
    },
    {
      "cell_type": "code",
      "metadata": {
        "id": "KCtZyBQ5lhYe",
        "outputId": "95122557-6bb2-41c3-de65-c246b7a552cb"
      },
      "source": [
        "text[:25]"
      ],
      "execution_count": null,
      "outputs": [
        {
          "output_type": "execute_result",
          "data": {
            "text/plain": [
              "['We created a new dataset which emphasizes diversity of content, by scraping content from the Internet.',\n",
              " ' In order to preserve document quality, we used only pages which have been curated/filtered by humans—specifically, we used outbound links from Reddit which received at least 3 karma.',\n",
              " ' This can be thought of as a heuristic indicator for whether other users found the link interesting (whether educational or funny), leading to higher data quality than other similar datasets, such as CommonCrawl.']"
            ]
          },
          "metadata": {
            "tags": []
          },
          "execution_count": 11
        }
      ]
    },
    {
      "cell_type": "code",
      "metadata": {
        "id": "3Z7fthXmlhYj",
        "colab": {
          "base_uri": "https://localhost:8080/"
        },
        "outputId": "6fd1a2ae-40e8-424d-b1f9-2cdf5c619e85"
      },
      "source": [
        "# Gives (a, b)  c\n",
        "# Where a is the row, b is the column, and c is the count\n",
        "# Only tracks non-zeroes\n",
        "print(dtm)"
      ],
      "execution_count": null,
      "outputs": [
        {
          "output_type": "stream",
          "text": [
            "  (0, 4)\t1\n",
            "  (0, 7)\t2\n",
            "  (0, 8)\t1\n",
            "  (0, 11)\t1\n",
            "  (0, 13)\t1\n",
            "  (0, 16)\t1\n",
            "  (0, 20)\t1\n",
            "  (0, 29)\t1\n",
            "  (0, 35)\t1\n",
            "  (0, 36)\t1\n",
            "  (0, 47)\t1\n",
            "  (0, 52)\t1\n",
            "  (0, 58)\t1\n",
            "  (0, 60)\t1\n",
            "  (1, 1)\t1\n",
            "  (1, 3)\t1\n",
            "  (1, 4)\t1\n",
            "  (1, 9)\t1\n",
            "  (1, 14)\t1\n",
            "  (1, 17)\t1\n",
            "  (1, 20)\t1\n",
            "  (1, 22)\t1\n",
            "  (1, 25)\t1\n",
            "  (1, 26)\t1\n",
            "  (1, 30)\t1\n",
            "  :\t:\n",
            "  (2, 10)\t1\n",
            "  (2, 12)\t1\n",
            "  (2, 15)\t1\n",
            "  (2, 18)\t1\n",
            "  (2, 19)\t1\n",
            "  (2, 21)\t1\n",
            "  (2, 23)\t1\n",
            "  (2, 24)\t1\n",
            "  (2, 27)\t1\n",
            "  (2, 28)\t1\n",
            "  (2, 31)\t1\n",
            "  (2, 33)\t1\n",
            "  (2, 36)\t1\n",
            "  (2, 38)\t1\n",
            "  (2, 40)\t2\n",
            "  (2, 44)\t1\n",
            "  (2, 48)\t1\n",
            "  (2, 50)\t1\n",
            "  (2, 51)\t1\n",
            "  (2, 52)\t1\n",
            "  (2, 53)\t1\n",
            "  (2, 54)\t1\n",
            "  (2, 55)\t1\n",
            "  (2, 57)\t1\n",
            "  (2, 59)\t2\n"
          ],
          "name": "stdout"
        }
      ]
    },
    {
      "cell_type": "code",
      "metadata": {
        "id": "JQfBfLgnlhYm",
        "outputId": "53c70bae-e61a-425d-b3c1-caa86c373432"
      },
      "source": [
        "# Dealing with Sparse Matrix\n",
        "dtm.todense()"
      ],
      "execution_count": null,
      "outputs": [
        {
          "output_type": "execute_result",
          "data": {
            "text/plain": [
              "matrix([[0, 0, 0, 0, 1, 0, 0, 2, 1, 0, 0, 1, 0, 1, 0, 0, 1, 0, 0, 0, 1,\n",
              "         0, 0, 0, 0, 0, 0, 0, 0, 1, 0, 0, 0, 0, 0, 1, 1, 0, 0, 0, 0, 0,\n",
              "         0, 0, 0, 0, 0, 1, 0, 0, 0, 0, 1, 0, 0, 0, 0, 0, 1, 0, 1],\n",
              "        [0, 1, 0, 1, 1, 0, 0, 0, 0, 1, 0, 0, 0, 0, 1, 0, 0, 1, 0, 0, 1,\n",
              "         0, 1, 0, 0, 1, 1, 0, 0, 0, 1, 0, 1, 0, 1, 0, 0, 1, 0, 1, 0, 1,\n",
              "         1, 1, 1, 1, 1, 0, 0, 1, 0, 0, 0, 0, 0, 1, 2, 0, 2, 0, 2],\n",
              "        [2, 0, 1, 0, 0, 1, 1, 0, 0, 0, 1, 0, 1, 0, 0, 1, 0, 0, 1, 1, 0,\n",
              "         1, 0, 1, 1, 0, 0, 1, 1, 0, 0, 1, 0, 1, 0, 0, 1, 0, 1, 0, 2, 0,\n",
              "         0, 0, 1, 0, 0, 0, 1, 0, 1, 1, 1, 1, 1, 1, 0, 1, 0, 2, 0]])"
            ]
          },
          "metadata": {
            "tags": []
          },
          "execution_count": 10
        }
      ]
    },
    {
      "cell_type": "code",
      "metadata": {
        "id": "Q4-ruIqOlhYn",
        "outputId": "c11be3ed-182b-452c-8307-6b96feb149b9"
      },
      "source": [
        "type(dtm)"
      ],
      "execution_count": null,
      "outputs": [
        {
          "output_type": "execute_result",
          "data": {
            "text/plain": [
              "pandas.core.frame.DataFrame"
            ]
          },
          "metadata": {
            "tags": []
          },
          "execution_count": 12
        }
      ]
    },
    {
      "cell_type": "code",
      "metadata": {
        "id": "1YCzLFRIlhYq",
        "outputId": "10fbe9ad-fea3-4baf-f3ec-544505ded56e"
      },
      "source": [
        "# Get Word Counts for each document\n",
        "dtm = pd.DataFrame(dtm.todense(), columns=vect.get_feature_names())\n",
        "dtm"
      ],
      "execution_count": null,
      "outputs": [
        {
          "output_type": "execute_result",
          "data": {
            "text/html": [
              "<div>\n",
              "<style scoped>\n",
              "    .dataframe tbody tr th:only-of-type {\n",
              "        vertical-align: middle;\n",
              "    }\n",
              "\n",
              "    .dataframe tbody tr th {\n",
              "        vertical-align: top;\n",
              "    }\n",
              "\n",
              "    .dataframe thead th {\n",
              "        text-align: right;\n",
              "    }\n",
              "</style>\n",
              "<table border=\"1\" class=\"dataframe\">\n",
              "  <thead>\n",
              "    <tr style=\"text-align: right;\">\n",
              "      <th></th>\n",
              "      <th>as</th>\n",
              "      <th>at</th>\n",
              "      <th>be</th>\n",
              "      <th>been</th>\n",
              "      <th>by</th>\n",
              "      <th>can</th>\n",
              "      <th>commoncrawl</th>\n",
              "      <th>content</th>\n",
              "      <th>created</th>\n",
              "      <th>curated</th>\n",
              "      <th>...</th>\n",
              "      <th>than</th>\n",
              "      <th>the</th>\n",
              "      <th>this</th>\n",
              "      <th>thought</th>\n",
              "      <th>to</th>\n",
              "      <th>used</th>\n",
              "      <th>users</th>\n",
              "      <th>we</th>\n",
              "      <th>whether</th>\n",
              "      <th>which</th>\n",
              "    </tr>\n",
              "  </thead>\n",
              "  <tbody>\n",
              "    <tr>\n",
              "      <th>0</th>\n",
              "      <td>0</td>\n",
              "      <td>0</td>\n",
              "      <td>0</td>\n",
              "      <td>0</td>\n",
              "      <td>1</td>\n",
              "      <td>0</td>\n",
              "      <td>0</td>\n",
              "      <td>2</td>\n",
              "      <td>1</td>\n",
              "      <td>0</td>\n",
              "      <td>...</td>\n",
              "      <td>0</td>\n",
              "      <td>1</td>\n",
              "      <td>0</td>\n",
              "      <td>0</td>\n",
              "      <td>0</td>\n",
              "      <td>0</td>\n",
              "      <td>0</td>\n",
              "      <td>1</td>\n",
              "      <td>0</td>\n",
              "      <td>1</td>\n",
              "    </tr>\n",
              "    <tr>\n",
              "      <th>1</th>\n",
              "      <td>0</td>\n",
              "      <td>1</td>\n",
              "      <td>0</td>\n",
              "      <td>1</td>\n",
              "      <td>1</td>\n",
              "      <td>0</td>\n",
              "      <td>0</td>\n",
              "      <td>0</td>\n",
              "      <td>0</td>\n",
              "      <td>1</td>\n",
              "      <td>...</td>\n",
              "      <td>0</td>\n",
              "      <td>0</td>\n",
              "      <td>0</td>\n",
              "      <td>0</td>\n",
              "      <td>1</td>\n",
              "      <td>2</td>\n",
              "      <td>0</td>\n",
              "      <td>2</td>\n",
              "      <td>0</td>\n",
              "      <td>2</td>\n",
              "    </tr>\n",
              "    <tr>\n",
              "      <th>2</th>\n",
              "      <td>2</td>\n",
              "      <td>0</td>\n",
              "      <td>1</td>\n",
              "      <td>0</td>\n",
              "      <td>0</td>\n",
              "      <td>1</td>\n",
              "      <td>1</td>\n",
              "      <td>0</td>\n",
              "      <td>0</td>\n",
              "      <td>0</td>\n",
              "      <td>...</td>\n",
              "      <td>1</td>\n",
              "      <td>1</td>\n",
              "      <td>1</td>\n",
              "      <td>1</td>\n",
              "      <td>1</td>\n",
              "      <td>0</td>\n",
              "      <td>1</td>\n",
              "      <td>0</td>\n",
              "      <td>2</td>\n",
              "      <td>0</td>\n",
              "    </tr>\n",
              "  </tbody>\n",
              "</table>\n",
              "<p>3 rows × 61 columns</p>\n",
              "</div>"
            ],
            "text/plain": [
              "   as  at  be  been  by  can  commoncrawl  content  created  curated  ...  \\\n",
              "0   0   0   0     0   1    0            0        2        1        0  ...   \n",
              "1   0   1   0     1   1    0            0        0        0        1  ...   \n",
              "2   2   0   1     0   0    1            1        0        0        0  ...   \n",
              "\n",
              "   than  the  this  thought  to  used  users  we  whether  which  \n",
              "0     0    1     0        0   0     0      0   1        0      1  \n",
              "1     0    0     0        0   1     2      0   2        0      2  \n",
              "2     1    1     1        1   1     0      1   0        2      0  \n",
              "\n",
              "[3 rows x 61 columns]"
            ]
          },
          "metadata": {
            "tags": []
          },
          "execution_count": 11
        }
      ]
    },
    {
      "cell_type": "markdown",
      "metadata": {
        "id": "86Hi25YNlhYr"
      },
      "source": [
        "**Three Minute Challenge:** \n",
        "* Apply CountVectorizer to our BBC Data\n",
        "* Store results in a dataframe called `dtm`\n",
        "* Extra Challenge - Try to Customize CountVectorizer with Spacy Processing"
      ]
    },
    {
      "cell_type": "code",
      "metadata": {
        "id": "1YSgh0uVlhYr"
      },
      "source": [
        "# Apply CountVectorizer to our Data\n",
        "# Use custom Spacy Vectorizer\n",
        "# BBC articles in `data` variable\n",
        "\n",
        "from sklearn.feature_extraction.text import CountVectorizer\n",
        "\n",
        "vect = CountVectorizer(stop_words=\"english\", max_features=1000) # max features uses most common tokens\n",
        "\n",
        "#Learn our Vocab\n",
        "vect.fit(data)\n",
        "\n",
        "# Get sparse dtm\n",
        "dtm = vect.transform(data)\n",
        "\n",
        "# Could also dtm = vect.fit_transform(data)\n",
        "\n",
        "dtm = pd.DataFrame(dtm.todense(), columns=vect.get_feature_names())"
      ],
      "execution_count": null,
      "outputs": []
    },
    {
      "cell_type": "code",
      "metadata": {
        "id": "N8Ma2ESJlhYr",
        "colab": {
          "base_uri": "https://localhost:8080/",
          "height": 246
        },
        "outputId": "169b241a-00f5-455d-9d9a-d70281023693"
      },
      "source": [
        "dtm.head()"
      ],
      "execution_count": null,
      "outputs": [
        {
          "output_type": "execute_result",
          "data": {
            "text/html": [
              "<div>\n",
              "<style scoped>\n",
              "    .dataframe tbody tr th:only-of-type {\n",
              "        vertical-align: middle;\n",
              "    }\n",
              "\n",
              "    .dataframe tbody tr th {\n",
              "        vertical-align: top;\n",
              "    }\n",
              "\n",
              "    .dataframe thead th {\n",
              "        text-align: right;\n",
              "    }\n",
              "</style>\n",
              "<table border=\"1\" class=\"dataframe\">\n",
              "  <thead>\n",
              "    <tr style=\"text-align: right;\">\n",
              "      <th></th>\n",
              "      <th>000</th>\n",
              "      <th>10</th>\n",
              "      <th>100</th>\n",
              "      <th>11</th>\n",
              "      <th>12</th>\n",
              "      <th>14</th>\n",
              "      <th>15</th>\n",
              "      <th>18</th>\n",
              "      <th>20</th>\n",
              "      <th>200</th>\n",
              "      <th>2003</th>\n",
              "      <th>2004</th>\n",
              "      <th>2005</th>\n",
              "      <th>2006</th>\n",
              "      <th>25</th>\n",
              "      <th>30</th>\n",
              "      <th>3d</th>\n",
              "      <th>3g</th>\n",
              "      <th>40</th>\n",
              "      <th>50</th>\n",
              "      <th>500</th>\n",
              "      <th>60</th>\n",
              "      <th>80</th>\n",
              "      <th>ability</th>\n",
              "      <th>able</th>\n",
              "      <th>access</th>\n",
              "      <th>according</th>\n",
              "      <th>account</th>\n",
              "      <th>accounts</th>\n",
              "      <th>act</th>\n",
              "      <th>action</th>\n",
              "      <th>activity</th>\n",
              "      <th>actually</th>\n",
              "      <th>add</th>\n",
              "      <th>added</th>\n",
              "      <th>address</th>\n",
              "      <th>addresses</th>\n",
              "      <th>advantage</th>\n",
              "      <th>age</th>\n",
              "      <th>ago</th>\n",
              "      <th>...</th>\n",
              "      <th>wanted</th>\n",
              "      <th>wants</th>\n",
              "      <th>warned</th>\n",
              "      <th>warning</th>\n",
              "      <th>wars</th>\n",
              "      <th>watch</th>\n",
              "      <th>watching</th>\n",
              "      <th>way</th>\n",
              "      <th>ways</th>\n",
              "      <th>web</th>\n",
              "      <th>website</th>\n",
              "      <th>websites</th>\n",
              "      <th>week</th>\n",
              "      <th>weeks</th>\n",
              "      <th>went</th>\n",
              "      <th>wi</th>\n",
              "      <th>wide</th>\n",
              "      <th>widely</th>\n",
              "      <th>win</th>\n",
              "      <th>windows</th>\n",
              "      <th>wireless</th>\n",
              "      <th>women</th>\n",
              "      <th>won</th>\n",
              "      <th>word</th>\n",
              "      <th>words</th>\n",
              "      <th>work</th>\n",
              "      <th>worked</th>\n",
              "      <th>working</th>\n",
              "      <th>works</th>\n",
              "      <th>world</th>\n",
              "      <th>worldwide</th>\n",
              "      <th>worm</th>\n",
              "      <th>worth</th>\n",
              "      <th>writing</th>\n",
              "      <th>xbox</th>\n",
              "      <th>xp</th>\n",
              "      <th>yahoo</th>\n",
              "      <th>year</th>\n",
              "      <th>years</th>\n",
              "      <th>york</th>\n",
              "    </tr>\n",
              "  </thead>\n",
              "  <tbody>\n",
              "    <tr>\n",
              "      <th>0</th>\n",
              "      <td>4</td>\n",
              "      <td>1</td>\n",
              "      <td>0</td>\n",
              "      <td>0</td>\n",
              "      <td>0</td>\n",
              "      <td>2</td>\n",
              "      <td>1</td>\n",
              "      <td>1</td>\n",
              "      <td>0</td>\n",
              "      <td>0</td>\n",
              "      <td>0</td>\n",
              "      <td>0</td>\n",
              "      <td>0</td>\n",
              "      <td>0</td>\n",
              "      <td>0</td>\n",
              "      <td>3</td>\n",
              "      <td>0</td>\n",
              "      <td>0</td>\n",
              "      <td>1</td>\n",
              "      <td>0</td>\n",
              "      <td>0</td>\n",
              "      <td>0</td>\n",
              "      <td>0</td>\n",
              "      <td>0</td>\n",
              "      <td>0</td>\n",
              "      <td>2</td>\n",
              "      <td>1</td>\n",
              "      <td>0</td>\n",
              "      <td>0</td>\n",
              "      <td>0</td>\n",
              "      <td>0</td>\n",
              "      <td>1</td>\n",
              "      <td>0</td>\n",
              "      <td>0</td>\n",
              "      <td>1</td>\n",
              "      <td>0</td>\n",
              "      <td>0</td>\n",
              "      <td>0</td>\n",
              "      <td>0</td>\n",
              "      <td>0</td>\n",
              "      <td>...</td>\n",
              "      <td>0</td>\n",
              "      <td>0</td>\n",
              "      <td>0</td>\n",
              "      <td>0</td>\n",
              "      <td>0</td>\n",
              "      <td>0</td>\n",
              "      <td>0</td>\n",
              "      <td>0</td>\n",
              "      <td>0</td>\n",
              "      <td>0</td>\n",
              "      <td>0</td>\n",
              "      <td>0</td>\n",
              "      <td>0</td>\n",
              "      <td>0</td>\n",
              "      <td>0</td>\n",
              "      <td>0</td>\n",
              "      <td>0</td>\n",
              "      <td>0</td>\n",
              "      <td>0</td>\n",
              "      <td>0</td>\n",
              "      <td>0</td>\n",
              "      <td>1</td>\n",
              "      <td>0</td>\n",
              "      <td>0</td>\n",
              "      <td>0</td>\n",
              "      <td>0</td>\n",
              "      <td>0</td>\n",
              "      <td>0</td>\n",
              "      <td>0</td>\n",
              "      <td>0</td>\n",
              "      <td>0</td>\n",
              "      <td>0</td>\n",
              "      <td>0</td>\n",
              "      <td>0</td>\n",
              "      <td>0</td>\n",
              "      <td>0</td>\n",
              "      <td>0</td>\n",
              "      <td>0</td>\n",
              "      <td>0</td>\n",
              "      <td>0</td>\n",
              "    </tr>\n",
              "    <tr>\n",
              "      <th>1</th>\n",
              "      <td>0</td>\n",
              "      <td>0</td>\n",
              "      <td>0</td>\n",
              "      <td>0</td>\n",
              "      <td>0</td>\n",
              "      <td>0</td>\n",
              "      <td>0</td>\n",
              "      <td>0</td>\n",
              "      <td>0</td>\n",
              "      <td>0</td>\n",
              "      <td>0</td>\n",
              "      <td>0</td>\n",
              "      <td>0</td>\n",
              "      <td>0</td>\n",
              "      <td>0</td>\n",
              "      <td>0</td>\n",
              "      <td>0</td>\n",
              "      <td>0</td>\n",
              "      <td>0</td>\n",
              "      <td>0</td>\n",
              "      <td>0</td>\n",
              "      <td>0</td>\n",
              "      <td>0</td>\n",
              "      <td>0</td>\n",
              "      <td>1</td>\n",
              "      <td>3</td>\n",
              "      <td>0</td>\n",
              "      <td>5</td>\n",
              "      <td>4</td>\n",
              "      <td>2</td>\n",
              "      <td>0</td>\n",
              "      <td>0</td>\n",
              "      <td>0</td>\n",
              "      <td>0</td>\n",
              "      <td>0</td>\n",
              "      <td>0</td>\n",
              "      <td>0</td>\n",
              "      <td>0</td>\n",
              "      <td>0</td>\n",
              "      <td>0</td>\n",
              "      <td>...</td>\n",
              "      <td>0</td>\n",
              "      <td>0</td>\n",
              "      <td>1</td>\n",
              "      <td>1</td>\n",
              "      <td>0</td>\n",
              "      <td>0</td>\n",
              "      <td>0</td>\n",
              "      <td>1</td>\n",
              "      <td>1</td>\n",
              "      <td>0</td>\n",
              "      <td>0</td>\n",
              "      <td>0</td>\n",
              "      <td>1</td>\n",
              "      <td>0</td>\n",
              "      <td>0</td>\n",
              "      <td>0</td>\n",
              "      <td>0</td>\n",
              "      <td>0</td>\n",
              "      <td>0</td>\n",
              "      <td>0</td>\n",
              "      <td>0</td>\n",
              "      <td>0</td>\n",
              "      <td>0</td>\n",
              "      <td>0</td>\n",
              "      <td>0</td>\n",
              "      <td>0</td>\n",
              "      <td>0</td>\n",
              "      <td>0</td>\n",
              "      <td>0</td>\n",
              "      <td>1</td>\n",
              "      <td>0</td>\n",
              "      <td>0</td>\n",
              "      <td>0</td>\n",
              "      <td>0</td>\n",
              "      <td>0</td>\n",
              "      <td>0</td>\n",
              "      <td>0</td>\n",
              "      <td>0</td>\n",
              "      <td>1</td>\n",
              "      <td>0</td>\n",
              "    </tr>\n",
              "    <tr>\n",
              "      <th>2</th>\n",
              "      <td>0</td>\n",
              "      <td>0</td>\n",
              "      <td>0</td>\n",
              "      <td>0</td>\n",
              "      <td>0</td>\n",
              "      <td>0</td>\n",
              "      <td>0</td>\n",
              "      <td>0</td>\n",
              "      <td>0</td>\n",
              "      <td>0</td>\n",
              "      <td>1</td>\n",
              "      <td>0</td>\n",
              "      <td>0</td>\n",
              "      <td>0</td>\n",
              "      <td>0</td>\n",
              "      <td>0</td>\n",
              "      <td>0</td>\n",
              "      <td>0</td>\n",
              "      <td>0</td>\n",
              "      <td>0</td>\n",
              "      <td>0</td>\n",
              "      <td>0</td>\n",
              "      <td>0</td>\n",
              "      <td>0</td>\n",
              "      <td>0</td>\n",
              "      <td>0</td>\n",
              "      <td>0</td>\n",
              "      <td>0</td>\n",
              "      <td>0</td>\n",
              "      <td>5</td>\n",
              "      <td>3</td>\n",
              "      <td>0</td>\n",
              "      <td>0</td>\n",
              "      <td>0</td>\n",
              "      <td>0</td>\n",
              "      <td>1</td>\n",
              "      <td>0</td>\n",
              "      <td>0</td>\n",
              "      <td>0</td>\n",
              "      <td>0</td>\n",
              "      <td>...</td>\n",
              "      <td>0</td>\n",
              "      <td>0</td>\n",
              "      <td>0</td>\n",
              "      <td>0</td>\n",
              "      <td>0</td>\n",
              "      <td>0</td>\n",
              "      <td>0</td>\n",
              "      <td>0</td>\n",
              "      <td>0</td>\n",
              "      <td>0</td>\n",
              "      <td>0</td>\n",
              "      <td>0</td>\n",
              "      <td>1</td>\n",
              "      <td>0</td>\n",
              "      <td>0</td>\n",
              "      <td>0</td>\n",
              "      <td>0</td>\n",
              "      <td>0</td>\n",
              "      <td>0</td>\n",
              "      <td>0</td>\n",
              "      <td>0</td>\n",
              "      <td>0</td>\n",
              "      <td>1</td>\n",
              "      <td>0</td>\n",
              "      <td>0</td>\n",
              "      <td>0</td>\n",
              "      <td>0</td>\n",
              "      <td>1</td>\n",
              "      <td>0</td>\n",
              "      <td>2</td>\n",
              "      <td>0</td>\n",
              "      <td>0</td>\n",
              "      <td>0</td>\n",
              "      <td>0</td>\n",
              "      <td>0</td>\n",
              "      <td>0</td>\n",
              "      <td>0</td>\n",
              "      <td>0</td>\n",
              "      <td>0</td>\n",
              "      <td>0</td>\n",
              "    </tr>\n",
              "    <tr>\n",
              "      <th>3</th>\n",
              "      <td>0</td>\n",
              "      <td>1</td>\n",
              "      <td>0</td>\n",
              "      <td>0</td>\n",
              "      <td>0</td>\n",
              "      <td>0</td>\n",
              "      <td>0</td>\n",
              "      <td>0</td>\n",
              "      <td>0</td>\n",
              "      <td>0</td>\n",
              "      <td>0</td>\n",
              "      <td>1</td>\n",
              "      <td>0</td>\n",
              "      <td>0</td>\n",
              "      <td>0</td>\n",
              "      <td>0</td>\n",
              "      <td>0</td>\n",
              "      <td>0</td>\n",
              "      <td>0</td>\n",
              "      <td>0</td>\n",
              "      <td>0</td>\n",
              "      <td>0</td>\n",
              "      <td>0</td>\n",
              "      <td>0</td>\n",
              "      <td>0</td>\n",
              "      <td>0</td>\n",
              "      <td>0</td>\n",
              "      <td>0</td>\n",
              "      <td>0</td>\n",
              "      <td>0</td>\n",
              "      <td>0</td>\n",
              "      <td>0</td>\n",
              "      <td>0</td>\n",
              "      <td>0</td>\n",
              "      <td>0</td>\n",
              "      <td>0</td>\n",
              "      <td>0</td>\n",
              "      <td>0</td>\n",
              "      <td>0</td>\n",
              "      <td>0</td>\n",
              "      <td>...</td>\n",
              "      <td>0</td>\n",
              "      <td>0</td>\n",
              "      <td>0</td>\n",
              "      <td>0</td>\n",
              "      <td>0</td>\n",
              "      <td>0</td>\n",
              "      <td>0</td>\n",
              "      <td>0</td>\n",
              "      <td>0</td>\n",
              "      <td>0</td>\n",
              "      <td>0</td>\n",
              "      <td>0</td>\n",
              "      <td>0</td>\n",
              "      <td>0</td>\n",
              "      <td>0</td>\n",
              "      <td>0</td>\n",
              "      <td>0</td>\n",
              "      <td>0</td>\n",
              "      <td>0</td>\n",
              "      <td>0</td>\n",
              "      <td>1</td>\n",
              "      <td>1</td>\n",
              "      <td>0</td>\n",
              "      <td>0</td>\n",
              "      <td>0</td>\n",
              "      <td>0</td>\n",
              "      <td>0</td>\n",
              "      <td>0</td>\n",
              "      <td>0</td>\n",
              "      <td>0</td>\n",
              "      <td>0</td>\n",
              "      <td>0</td>\n",
              "      <td>0</td>\n",
              "      <td>0</td>\n",
              "      <td>0</td>\n",
              "      <td>0</td>\n",
              "      <td>0</td>\n",
              "      <td>1</td>\n",
              "      <td>0</td>\n",
              "      <td>0</td>\n",
              "    </tr>\n",
              "    <tr>\n",
              "      <th>4</th>\n",
              "      <td>0</td>\n",
              "      <td>0</td>\n",
              "      <td>0</td>\n",
              "      <td>0</td>\n",
              "      <td>0</td>\n",
              "      <td>0</td>\n",
              "      <td>0</td>\n",
              "      <td>0</td>\n",
              "      <td>0</td>\n",
              "      <td>0</td>\n",
              "      <td>0</td>\n",
              "      <td>0</td>\n",
              "      <td>0</td>\n",
              "      <td>0</td>\n",
              "      <td>0</td>\n",
              "      <td>0</td>\n",
              "      <td>0</td>\n",
              "      <td>0</td>\n",
              "      <td>1</td>\n",
              "      <td>0</td>\n",
              "      <td>0</td>\n",
              "      <td>0</td>\n",
              "      <td>1</td>\n",
              "      <td>0</td>\n",
              "      <td>0</td>\n",
              "      <td>0</td>\n",
              "      <td>2</td>\n",
              "      <td>0</td>\n",
              "      <td>0</td>\n",
              "      <td>0</td>\n",
              "      <td>0</td>\n",
              "      <td>0</td>\n",
              "      <td>0</td>\n",
              "      <td>1</td>\n",
              "      <td>0</td>\n",
              "      <td>0</td>\n",
              "      <td>0</td>\n",
              "      <td>0</td>\n",
              "      <td>0</td>\n",
              "      <td>0</td>\n",
              "      <td>...</td>\n",
              "      <td>0</td>\n",
              "      <td>0</td>\n",
              "      <td>0</td>\n",
              "      <td>0</td>\n",
              "      <td>0</td>\n",
              "      <td>0</td>\n",
              "      <td>0</td>\n",
              "      <td>0</td>\n",
              "      <td>0</td>\n",
              "      <td>0</td>\n",
              "      <td>0</td>\n",
              "      <td>0</td>\n",
              "      <td>1</td>\n",
              "      <td>0</td>\n",
              "      <td>0</td>\n",
              "      <td>0</td>\n",
              "      <td>0</td>\n",
              "      <td>0</td>\n",
              "      <td>1</td>\n",
              "      <td>0</td>\n",
              "      <td>0</td>\n",
              "      <td>0</td>\n",
              "      <td>1</td>\n",
              "      <td>0</td>\n",
              "      <td>0</td>\n",
              "      <td>0</td>\n",
              "      <td>0</td>\n",
              "      <td>0</td>\n",
              "      <td>0</td>\n",
              "      <td>1</td>\n",
              "      <td>1</td>\n",
              "      <td>0</td>\n",
              "      <td>0</td>\n",
              "      <td>0</td>\n",
              "      <td>0</td>\n",
              "      <td>0</td>\n",
              "      <td>0</td>\n",
              "      <td>0</td>\n",
              "      <td>0</td>\n",
              "      <td>0</td>\n",
              "    </tr>\n",
              "  </tbody>\n",
              "</table>\n",
              "<p>5 rows × 1000 columns</p>\n",
              "</div>"
            ],
            "text/plain": [
              "   000  10  100  11  12  14  15  ...  writing  xbox  xp  yahoo  year  years  york\n",
              "0    4   1    0   0   0   2   1  ...        0     0   0      0     0      0     0\n",
              "1    0   0    0   0   0   0   0  ...        0     0   0      0     0      1     0\n",
              "2    0   0    0   0   0   0   0  ...        0     0   0      0     0      0     0\n",
              "3    0   1    0   0   0   0   0  ...        0     0   0      0     1      0     0\n",
              "4    0   0    0   0   0   0   0  ...        0     0   0      0     0      0     0\n",
              "\n",
              "[5 rows x 1000 columns]"
            ]
          },
          "metadata": {
            "tags": []
          },
          "execution_count": 23
        }
      ]
    },
    {
      "cell_type": "code",
      "metadata": {
        "id": "4DHjohCrlhYs"
      },
      "source": [
        ""
      ],
      "execution_count": null,
      "outputs": []
    },
    {
      "cell_type": "code",
      "metadata": {
        "id": "Pp8ywFxElhYs"
      },
      "source": [
        "doc_len = [len(doc) for doc in data]\n",
        "doc_len"
      ],
      "execution_count": null,
      "outputs": []
    },
    {
      "cell_type": "code",
      "metadata": {
        "id": "XkXQ6fuPlhYt",
        "colab": {
          "base_uri": "https://localhost:8080/",
          "height": 320
        },
        "outputId": "6e45c39d-2fa4-459d-c6ea-89c2b5cb37a3"
      },
      "source": [
        "import seaborn as sns\n",
        "\n",
        "sns.distplot(doc_len);"
      ],
      "execution_count": null,
      "outputs": [
        {
          "output_type": "stream",
          "text": [
            "/usr/local/lib/python3.6/dist-packages/seaborn/distributions.py:2551: FutureWarning: `distplot` is a deprecated function and will be removed in a future version. Please adapt your code to use either `displot` (a figure-level function with similar flexibility) or `histplot` (an axes-level function for histograms).\n",
            "  warnings.warn(msg, FutureWarning)\n"
          ],
          "name": "stderr"
        },
        {
          "output_type": "display_data",
          "data": {
            "image/png": "[encoded data removed]",
            "text/plain": [
              "<Figure size 432x288 with 1 Axes>"
            ]
          },
          "metadata": {
            "tags": [],
            "needs_background": "light"
          }
        }
      ]
    },
    {
      "cell_type": "markdown",
      "metadata": {
        "id": "XhKsUG-FlhYv"
      },
      "source": [
        "### TfidfVectorizer\n",
        "\n",
        "## Term Frequency - Inverse Document Frequency (TF-IDF)\n",
        "\n",
        "<center><img src=\"https://mungingdata.files.wordpress.com/2017/11/equation.png?w=430&h=336\" width=\"300\"></center>\n",
        "\n",
        "Term Frequency: Percentage of words in document for each word\n",
        "\n",
        "Document Frequency: A penalty for the word existing in a high number of documents.\n",
        "\n",
        "The purpose of TF-IDF is to find what is **unique** to each document. Because of this we will penalize the term frequencies of words that are common across all documents which will allow for each document's most different topics to rise to the top."
      ]
    },
    {
      "cell_type": "code",
      "metadata": {
        "id": "Bwx2RPSklhYv",
        "colab": {
          "base_uri": "https://localhost:8080/",
          "height": 246
        },
        "outputId": "d704e046-ede9-4cf9-d930-4cb9b87b5175"
      },
      "source": [
        "from sklearn.feature_extraction.text import TfidfVectorizer\n",
        "\n",
        "# Instantiate vectorizer object\n",
        "vect =TfidfVectorizer(stop_words=\"english\", max_features=5000)\n",
        "\n",
        "# Create a vocabulary and get word counts per document\n",
        "# Similiar to fit_predict\n",
        "dtm = vect.fit_transform(data)\n",
        "\n",
        "# Print word counts\n",
        "\n",
        "# Get feature names to use as dataframe column headers\n",
        "dtm = pd.DataFrame(data=dtm.todense(), columns= vect.get_feature_names())\n",
        "\n",
        "# View Feature Matrix as DataFrame\n",
        "dtm.head()"
      ],
      "execution_count": null,
      "outputs": [
        {
          "output_type": "execute_result",
          "data": {
            "text/html": [
              "<div>\n",
              "<style scoped>\n",
              "    .dataframe tbody tr th:only-of-type {\n",
              "        vertical-align: middle;\n",
              "    }\n",
              "\n",
              "    .dataframe tbody tr th {\n",
              "        vertical-align: top;\n",
              "    }\n",
              "\n",
              "    .dataframe thead th {\n",
              "        text-align: right;\n",
              "    }\n",
              "</style>\n",
              "<table border=\"1\" class=\"dataframe\">\n",
              "  <thead>\n",
              "    <tr style=\"text-align: right;\">\n",
              "      <th></th>\n",
              "      <th>000</th>\n",
              "      <th>10</th>\n",
              "      <th>100</th>\n",
              "      <th>101</th>\n",
              "      <th>104</th>\n",
              "      <th>10m</th>\n",
              "      <th>11</th>\n",
              "      <th>12</th>\n",
              "      <th>120</th>\n",
              "      <th>13</th>\n",
              "      <th>130</th>\n",
              "      <th>14</th>\n",
              "      <th>149</th>\n",
              "      <th>15</th>\n",
              "      <th>150</th>\n",
              "      <th>16</th>\n",
              "      <th>167</th>\n",
              "      <th>17</th>\n",
              "      <th>17m</th>\n",
              "      <th>18</th>\n",
              "      <th>19</th>\n",
              "      <th>1980s</th>\n",
              "      <th>1982</th>\n",
              "      <th>1983</th>\n",
              "      <th>1985</th>\n",
              "      <th>1990s</th>\n",
              "      <th>1993</th>\n",
              "      <th>1994</th>\n",
              "      <th>1995</th>\n",
              "      <th>1bn</th>\n",
              "      <th>1m</th>\n",
              "      <th>20</th>\n",
              "      <th>200</th>\n",
              "      <th>2000</th>\n",
              "      <th>2001</th>\n",
              "      <th>2002</th>\n",
              "      <th>2003</th>\n",
              "      <th>2004</th>\n",
              "      <th>2005</th>\n",
              "      <th>2006</th>\n",
              "      <th>...</th>\n",
              "      <th>worry</th>\n",
              "      <th>worrying</th>\n",
              "      <th>worse</th>\n",
              "      <th>worst</th>\n",
              "      <th>worth</th>\n",
              "      <th>worthwhile</th>\n",
              "      <th>wouldn</th>\n",
              "      <th>wow</th>\n",
              "      <th>wright</th>\n",
              "      <th>wristwatch</th>\n",
              "      <th>write</th>\n",
              "      <th>writer</th>\n",
              "      <th>writers</th>\n",
              "      <th>writing</th>\n",
              "      <th>written</th>\n",
              "      <th>wrong</th>\n",
              "      <th>wrongful</th>\n",
              "      <th>wrote</th>\n",
              "      <th>wsis</th>\n",
              "      <th>x1</th>\n",
              "      <th>xbox</th>\n",
              "      <th>xenon</th>\n",
              "      <th>xp</th>\n",
              "      <th>xxx</th>\n",
              "      <th>yahoo</th>\n",
              "      <th>yang</th>\n",
              "      <th>year</th>\n",
              "      <th>years</th>\n",
              "      <th>yen</th>\n",
              "      <th>yes</th>\n",
              "      <th>yoda</th>\n",
              "      <th>yoran</th>\n",
              "      <th>york</th>\n",
              "      <th>young</th>\n",
              "      <th>younger</th>\n",
              "      <th>youngsters</th>\n",
              "      <th>youth</th>\n",
              "      <th>zafi</th>\n",
              "      <th>zen</th>\n",
              "      <th>zombies</th>\n",
              "    </tr>\n",
              "  </thead>\n",
              "  <tbody>\n",
              "    <tr>\n",
              "      <th>0</th>\n",
              "      <td>0.120321</td>\n",
              "      <td>0.034637</td>\n",
              "      <td>0.0</td>\n",
              "      <td>0.0</td>\n",
              "      <td>0.0</td>\n",
              "      <td>0.0</td>\n",
              "      <td>0.0</td>\n",
              "      <td>0.0</td>\n",
              "      <td>0.0</td>\n",
              "      <td>0.0</td>\n",
              "      <td>0.0</td>\n",
              "      <td>0.110761</td>\n",
              "      <td>0.0</td>\n",
              "      <td>0.045233</td>\n",
              "      <td>0.000000</td>\n",
              "      <td>0.0</td>\n",
              "      <td>0.0</td>\n",
              "      <td>0.0</td>\n",
              "      <td>0.0</td>\n",
              "      <td>0.04763</td>\n",
              "      <td>0.0</td>\n",
              "      <td>0.0</td>\n",
              "      <td>0.0</td>\n",
              "      <td>0.0</td>\n",
              "      <td>0.0</td>\n",
              "      <td>0.0</td>\n",
              "      <td>0.0</td>\n",
              "      <td>0.0</td>\n",
              "      <td>0.0</td>\n",
              "      <td>0.0</td>\n",
              "      <td>0.0</td>\n",
              "      <td>0.0</td>\n",
              "      <td>0.0</td>\n",
              "      <td>0.0</td>\n",
              "      <td>0.0</td>\n",
              "      <td>0.0</td>\n",
              "      <td>0.000000</td>\n",
              "      <td>0.000000</td>\n",
              "      <td>0.0</td>\n",
              "      <td>0.0</td>\n",
              "      <td>...</td>\n",
              "      <td>0.0</td>\n",
              "      <td>0.0</td>\n",
              "      <td>0.0</td>\n",
              "      <td>0.0</td>\n",
              "      <td>0.0</td>\n",
              "      <td>0.0</td>\n",
              "      <td>0.0</td>\n",
              "      <td>0.0</td>\n",
              "      <td>0.0</td>\n",
              "      <td>0.0</td>\n",
              "      <td>0.0</td>\n",
              "      <td>0.0</td>\n",
              "      <td>0.0</td>\n",
              "      <td>0.0</td>\n",
              "      <td>0.0</td>\n",
              "      <td>0.0</td>\n",
              "      <td>0.0</td>\n",
              "      <td>0.0</td>\n",
              "      <td>0.0</td>\n",
              "      <td>0.0</td>\n",
              "      <td>0.0</td>\n",
              "      <td>0.0</td>\n",
              "      <td>0.0</td>\n",
              "      <td>0.0</td>\n",
              "      <td>0.0</td>\n",
              "      <td>0.0</td>\n",
              "      <td>0.000000</td>\n",
              "      <td>0.000000</td>\n",
              "      <td>0.0</td>\n",
              "      <td>0.0</td>\n",
              "      <td>0.0</td>\n",
              "      <td>0.0</td>\n",
              "      <td>0.0</td>\n",
              "      <td>0.060811</td>\n",
              "      <td>0.06179</td>\n",
              "      <td>0.0</td>\n",
              "      <td>0.0</td>\n",
              "      <td>0.0</td>\n",
              "      <td>0.0</td>\n",
              "      <td>0.0</td>\n",
              "    </tr>\n",
              "    <tr>\n",
              "      <th>1</th>\n",
              "      <td>0.000000</td>\n",
              "      <td>0.000000</td>\n",
              "      <td>0.0</td>\n",
              "      <td>0.0</td>\n",
              "      <td>0.0</td>\n",
              "      <td>0.0</td>\n",
              "      <td>0.0</td>\n",
              "      <td>0.0</td>\n",
              "      <td>0.0</td>\n",
              "      <td>0.0</td>\n",
              "      <td>0.0</td>\n",
              "      <td>0.000000</td>\n",
              "      <td>0.0</td>\n",
              "      <td>0.000000</td>\n",
              "      <td>0.000000</td>\n",
              "      <td>0.0</td>\n",
              "      <td>0.0</td>\n",
              "      <td>0.0</td>\n",
              "      <td>0.0</td>\n",
              "      <td>0.00000</td>\n",
              "      <td>0.0</td>\n",
              "      <td>0.0</td>\n",
              "      <td>0.0</td>\n",
              "      <td>0.0</td>\n",
              "      <td>0.0</td>\n",
              "      <td>0.0</td>\n",
              "      <td>0.0</td>\n",
              "      <td>0.0</td>\n",
              "      <td>0.0</td>\n",
              "      <td>0.0</td>\n",
              "      <td>0.0</td>\n",
              "      <td>0.0</td>\n",
              "      <td>0.0</td>\n",
              "      <td>0.0</td>\n",
              "      <td>0.0</td>\n",
              "      <td>0.0</td>\n",
              "      <td>0.000000</td>\n",
              "      <td>0.000000</td>\n",
              "      <td>0.0</td>\n",
              "      <td>0.0</td>\n",
              "      <td>...</td>\n",
              "      <td>0.0</td>\n",
              "      <td>0.0</td>\n",
              "      <td>0.0</td>\n",
              "      <td>0.0</td>\n",
              "      <td>0.0</td>\n",
              "      <td>0.0</td>\n",
              "      <td>0.0</td>\n",
              "      <td>0.0</td>\n",
              "      <td>0.0</td>\n",
              "      <td>0.0</td>\n",
              "      <td>0.0</td>\n",
              "      <td>0.0</td>\n",
              "      <td>0.0</td>\n",
              "      <td>0.0</td>\n",
              "      <td>0.0</td>\n",
              "      <td>0.0</td>\n",
              "      <td>0.0</td>\n",
              "      <td>0.0</td>\n",
              "      <td>0.0</td>\n",
              "      <td>0.0</td>\n",
              "      <td>0.0</td>\n",
              "      <td>0.0</td>\n",
              "      <td>0.0</td>\n",
              "      <td>0.0</td>\n",
              "      <td>0.0</td>\n",
              "      <td>0.0</td>\n",
              "      <td>0.000000</td>\n",
              "      <td>0.021169</td>\n",
              "      <td>0.0</td>\n",
              "      <td>0.0</td>\n",
              "      <td>0.0</td>\n",
              "      <td>0.0</td>\n",
              "      <td>0.0</td>\n",
              "      <td>0.000000</td>\n",
              "      <td>0.00000</td>\n",
              "      <td>0.0</td>\n",
              "      <td>0.0</td>\n",
              "      <td>0.0</td>\n",
              "      <td>0.0</td>\n",
              "      <td>0.0</td>\n",
              "    </tr>\n",
              "    <tr>\n",
              "      <th>2</th>\n",
              "      <td>0.000000</td>\n",
              "      <td>0.000000</td>\n",
              "      <td>0.0</td>\n",
              "      <td>0.0</td>\n",
              "      <td>0.0</td>\n",
              "      <td>0.0</td>\n",
              "      <td>0.0</td>\n",
              "      <td>0.0</td>\n",
              "      <td>0.0</td>\n",
              "      <td>0.0</td>\n",
              "      <td>0.0</td>\n",
              "      <td>0.000000</td>\n",
              "      <td>0.0</td>\n",
              "      <td>0.000000</td>\n",
              "      <td>0.000000</td>\n",
              "      <td>0.0</td>\n",
              "      <td>0.0</td>\n",
              "      <td>0.0</td>\n",
              "      <td>0.0</td>\n",
              "      <td>0.00000</td>\n",
              "      <td>0.0</td>\n",
              "      <td>0.0</td>\n",
              "      <td>0.0</td>\n",
              "      <td>0.0</td>\n",
              "      <td>0.0</td>\n",
              "      <td>0.0</td>\n",
              "      <td>0.0</td>\n",
              "      <td>0.0</td>\n",
              "      <td>0.0</td>\n",
              "      <td>0.0</td>\n",
              "      <td>0.0</td>\n",
              "      <td>0.0</td>\n",
              "      <td>0.0</td>\n",
              "      <td>0.0</td>\n",
              "      <td>0.0</td>\n",
              "      <td>0.0</td>\n",
              "      <td>0.031859</td>\n",
              "      <td>0.000000</td>\n",
              "      <td>0.0</td>\n",
              "      <td>0.0</td>\n",
              "      <td>...</td>\n",
              "      <td>0.0</td>\n",
              "      <td>0.0</td>\n",
              "      <td>0.0</td>\n",
              "      <td>0.0</td>\n",
              "      <td>0.0</td>\n",
              "      <td>0.0</td>\n",
              "      <td>0.0</td>\n",
              "      <td>0.0</td>\n",
              "      <td>0.0</td>\n",
              "      <td>0.0</td>\n",
              "      <td>0.0</td>\n",
              "      <td>0.0</td>\n",
              "      <td>0.0</td>\n",
              "      <td>0.0</td>\n",
              "      <td>0.0</td>\n",
              "      <td>0.0</td>\n",
              "      <td>0.0</td>\n",
              "      <td>0.0</td>\n",
              "      <td>0.0</td>\n",
              "      <td>0.0</td>\n",
              "      <td>0.0</td>\n",
              "      <td>0.0</td>\n",
              "      <td>0.0</td>\n",
              "      <td>0.0</td>\n",
              "      <td>0.0</td>\n",
              "      <td>0.0</td>\n",
              "      <td>0.000000</td>\n",
              "      <td>0.000000</td>\n",
              "      <td>0.0</td>\n",
              "      <td>0.0</td>\n",
              "      <td>0.0</td>\n",
              "      <td>0.0</td>\n",
              "      <td>0.0</td>\n",
              "      <td>0.000000</td>\n",
              "      <td>0.00000</td>\n",
              "      <td>0.0</td>\n",
              "      <td>0.0</td>\n",
              "      <td>0.0</td>\n",
              "      <td>0.0</td>\n",
              "      <td>0.0</td>\n",
              "    </tr>\n",
              "    <tr>\n",
              "      <th>3</th>\n",
              "      <td>0.000000</td>\n",
              "      <td>0.033429</td>\n",
              "      <td>0.0</td>\n",
              "      <td>0.0</td>\n",
              "      <td>0.0</td>\n",
              "      <td>0.0</td>\n",
              "      <td>0.0</td>\n",
              "      <td>0.0</td>\n",
              "      <td>0.0</td>\n",
              "      <td>0.0</td>\n",
              "      <td>0.0</td>\n",
              "      <td>0.000000</td>\n",
              "      <td>0.0</td>\n",
              "      <td>0.000000</td>\n",
              "      <td>0.000000</td>\n",
              "      <td>0.0</td>\n",
              "      <td>0.0</td>\n",
              "      <td>0.0</td>\n",
              "      <td>0.0</td>\n",
              "      <td>0.00000</td>\n",
              "      <td>0.0</td>\n",
              "      <td>0.0</td>\n",
              "      <td>0.0</td>\n",
              "      <td>0.0</td>\n",
              "      <td>0.0</td>\n",
              "      <td>0.0</td>\n",
              "      <td>0.0</td>\n",
              "      <td>0.0</td>\n",
              "      <td>0.0</td>\n",
              "      <td>0.0</td>\n",
              "      <td>0.0</td>\n",
              "      <td>0.0</td>\n",
              "      <td>0.0</td>\n",
              "      <td>0.0</td>\n",
              "      <td>0.0</td>\n",
              "      <td>0.0</td>\n",
              "      <td>0.000000</td>\n",
              "      <td>0.034951</td>\n",
              "      <td>0.0</td>\n",
              "      <td>0.0</td>\n",
              "      <td>...</td>\n",
              "      <td>0.0</td>\n",
              "      <td>0.0</td>\n",
              "      <td>0.0</td>\n",
              "      <td>0.0</td>\n",
              "      <td>0.0</td>\n",
              "      <td>0.0</td>\n",
              "      <td>0.0</td>\n",
              "      <td>0.0</td>\n",
              "      <td>0.0</td>\n",
              "      <td>0.0</td>\n",
              "      <td>0.0</td>\n",
              "      <td>0.0</td>\n",
              "      <td>0.0</td>\n",
              "      <td>0.0</td>\n",
              "      <td>0.0</td>\n",
              "      <td>0.0</td>\n",
              "      <td>0.0</td>\n",
              "      <td>0.0</td>\n",
              "      <td>0.0</td>\n",
              "      <td>0.0</td>\n",
              "      <td>0.0</td>\n",
              "      <td>0.0</td>\n",
              "      <td>0.0</td>\n",
              "      <td>0.0</td>\n",
              "      <td>0.0</td>\n",
              "      <td>0.0</td>\n",
              "      <td>0.023799</td>\n",
              "      <td>0.000000</td>\n",
              "      <td>0.0</td>\n",
              "      <td>0.0</td>\n",
              "      <td>0.0</td>\n",
              "      <td>0.0</td>\n",
              "      <td>0.0</td>\n",
              "      <td>0.000000</td>\n",
              "      <td>0.00000</td>\n",
              "      <td>0.0</td>\n",
              "      <td>0.0</td>\n",
              "      <td>0.0</td>\n",
              "      <td>0.0</td>\n",
              "      <td>0.0</td>\n",
              "    </tr>\n",
              "    <tr>\n",
              "      <th>4</th>\n",
              "      <td>0.000000</td>\n",
              "      <td>0.000000</td>\n",
              "      <td>0.0</td>\n",
              "      <td>0.0</td>\n",
              "      <td>0.0</td>\n",
              "      <td>0.0</td>\n",
              "      <td>0.0</td>\n",
              "      <td>0.0</td>\n",
              "      <td>0.0</td>\n",
              "      <td>0.0</td>\n",
              "      <td>0.0</td>\n",
              "      <td>0.000000</td>\n",
              "      <td>0.0</td>\n",
              "      <td>0.000000</td>\n",
              "      <td>0.068012</td>\n",
              "      <td>0.0</td>\n",
              "      <td>0.0</td>\n",
              "      <td>0.0</td>\n",
              "      <td>0.0</td>\n",
              "      <td>0.00000</td>\n",
              "      <td>0.0</td>\n",
              "      <td>0.0</td>\n",
              "      <td>0.0</td>\n",
              "      <td>0.0</td>\n",
              "      <td>0.0</td>\n",
              "      <td>0.0</td>\n",
              "      <td>0.0</td>\n",
              "      <td>0.0</td>\n",
              "      <td>0.0</td>\n",
              "      <td>0.0</td>\n",
              "      <td>0.0</td>\n",
              "      <td>0.0</td>\n",
              "      <td>0.0</td>\n",
              "      <td>0.0</td>\n",
              "      <td>0.0</td>\n",
              "      <td>0.0</td>\n",
              "      <td>0.000000</td>\n",
              "      <td>0.000000</td>\n",
              "      <td>0.0</td>\n",
              "      <td>0.0</td>\n",
              "      <td>...</td>\n",
              "      <td>0.0</td>\n",
              "      <td>0.0</td>\n",
              "      <td>0.0</td>\n",
              "      <td>0.0</td>\n",
              "      <td>0.0</td>\n",
              "      <td>0.0</td>\n",
              "      <td>0.0</td>\n",
              "      <td>0.0</td>\n",
              "      <td>0.0</td>\n",
              "      <td>0.0</td>\n",
              "      <td>0.0</td>\n",
              "      <td>0.0</td>\n",
              "      <td>0.0</td>\n",
              "      <td>0.0</td>\n",
              "      <td>0.0</td>\n",
              "      <td>0.0</td>\n",
              "      <td>0.0</td>\n",
              "      <td>0.0</td>\n",
              "      <td>0.0</td>\n",
              "      <td>0.0</td>\n",
              "      <td>0.0</td>\n",
              "      <td>0.0</td>\n",
              "      <td>0.0</td>\n",
              "      <td>0.0</td>\n",
              "      <td>0.0</td>\n",
              "      <td>0.0</td>\n",
              "      <td>0.000000</td>\n",
              "      <td>0.000000</td>\n",
              "      <td>0.0</td>\n",
              "      <td>0.0</td>\n",
              "      <td>0.0</td>\n",
              "      <td>0.0</td>\n",
              "      <td>0.0</td>\n",
              "      <td>0.000000</td>\n",
              "      <td>0.00000</td>\n",
              "      <td>0.0</td>\n",
              "      <td>0.0</td>\n",
              "      <td>0.0</td>\n",
              "      <td>0.0</td>\n",
              "      <td>0.0</td>\n",
              "    </tr>\n",
              "  </tbody>\n",
              "</table>\n",
              "<p>5 rows × 5000 columns</p>\n",
              "</div>"
            ],
            "text/plain": [
              "        000        10  100  101  104  ...  youngsters  youth  zafi  zen  zombies\n",
              "0  0.120321  0.034637  0.0  0.0  0.0  ...         0.0    0.0   0.0  0.0      0.0\n",
              "1  0.000000  0.000000  0.0  0.0  0.0  ...         0.0    0.0   0.0  0.0      0.0\n",
              "2  0.000000  0.000000  0.0  0.0  0.0  ...         0.0    0.0   0.0  0.0      0.0\n",
              "3  0.000000  0.033429  0.0  0.0  0.0  ...         0.0    0.0   0.0  0.0      0.0\n",
              "4  0.000000  0.000000  0.0  0.0  0.0  ...         0.0    0.0   0.0  0.0      0.0\n",
              "\n",
              "[5 rows x 5000 columns]"
            ]
          },
          "metadata": {
            "tags": []
          },
          "execution_count": 31
        }
      ]
    },
    {
      "cell_type": "code",
      "metadata": {
        "id": "uGzK2VoIlhY5"
      },
      "source": [
        "def tokenize(document):\n",
        "    \"\"\"\n",
        "    Takes a single doc/article and returns a list of tokens for that doc/article\n",
        "    \"\"\"\n",
        "    doc = nlp(document)\n",
        "    \n",
        "    return [token.lemma_.strip() for token in doc if (token.is_stop != True) and (token.is_punct != True)]"
      ],
      "execution_count": null,
      "outputs": []
    },
    {
      "cell_type": "markdown",
      "metadata": {
        "id": "wtTUY9hhlhY5"
      },
      "source": [
        "text data machines\n",
        "\n",
        "\"text data\" \"data machines\" \"text machines\""
      ]
    },
    {
      "cell_type": "code",
      "metadata": {
        "id": "zIN0AXOPlhY5",
        "colab": {
          "base_uri": "https://localhost:8080/",
          "height": 263
        },
        "outputId": "55ac5aec-890d-4b3f-a292-c74b1f737234"
      },
      "source": [
        "# Tunning Parameters\n",
        "\n",
        "# Instantiate vectorizer object\n",
        "tfidf = TfidfVectorizer(stop_words='english', \n",
        "                        ngram_range=(1,2),\n",
        "                        max_df=.97,\n",
        "                        min_df=10,\n",
        "                        tokenizer=tokenize)\n",
        "\n",
        "# Create a vocabulary and get word counts per document\n",
        "dtm = tfidf.fit_transform(data) # Similiar to fit_predict\n",
        "\n",
        "# Print word counts\n",
        "\n",
        "# Get feature names to use as dataframe column headers\n",
        "dtm = pd.DataFrame(dtm.todense(), columns=tfidf.get_feature_names())\n",
        "\n",
        "# View Feature Matrix as DataFrame\n",
        "dtm.head()"
      ],
      "execution_count": null,
      "outputs": [
        {
          "output_type": "execute_result",
          "data": {
            "text/html": [
              "<div>\n",
              "<style scoped>\n",
              "    .dataframe tbody tr th:only-of-type {\n",
              "        vertical-align: middle;\n",
              "    }\n",
              "\n",
              "    .dataframe tbody tr th {\n",
              "        vertical-align: top;\n",
              "    }\n",
              "\n",
              "    .dataframe thead th {\n",
              "        text-align: right;\n",
              "    }\n",
              "</style>\n",
              "<table border=\"1\" class=\"dataframe\">\n",
              "  <thead>\n",
              "    <tr style=\"text-align: right;\">\n",
              "      <th></th>\n",
              "      <th>accord</th>\n",
              "      <th>apple</th>\n",
              "      <th>company</th>\n",
              "      <th>computer</th>\n",
              "      <th>consumer</th>\n",
              "      <th>game</th>\n",
              "      <th>high</th>\n",
              "      <th>late</th>\n",
              "      <th>microsoft</th>\n",
              "      <th>mobile</th>\n",
              "      <th>mr</th>\n",
              "      <th>net</th>\n",
              "      <th>new</th>\n",
              "      <th>number</th>\n",
              "      <th>people</th>\n",
              "      <th>say</th>\n",
              "      <th>sony</th>\n",
              "      <th>study</th>\n",
              "      <th>technology</th>\n",
              "      <th>think</th>\n",
              "      <th>time</th>\n",
              "      <th>uk</th>\n",
              "      <th>year</th>\n",
              "      <th>$</th>\n",
              "      <th>1</th>\n",
              "      <th>1,000</th>\n",
              "      <th>1.3</th>\n",
              "      <th>10</th>\n",
              "      <th>100</th>\n",
              "      <th>100,000</th>\n",
              "      <th>11</th>\n",
              "      <th>12</th>\n",
              "      <th>12 month</th>\n",
              "      <th>120</th>\n",
              "      <th>13</th>\n",
              "      <th>14</th>\n",
              "      <th>15</th>\n",
              "      <th>150</th>\n",
              "      <th>16</th>\n",
              "      <th>17</th>\n",
              "      <th>...</th>\n",
              "      <th>whilst</th>\n",
              "      <th>wi</th>\n",
              "      <th>wi fi</th>\n",
              "      <th>wide</th>\n",
              "      <th>wide range</th>\n",
              "      <th>widely</th>\n",
              "      <th>win</th>\n",
              "      <th>window</th>\n",
              "      <th>windows</th>\n",
              "      <th>windows xp</th>\n",
              "      <th>winner</th>\n",
              "      <th>wireless</th>\n",
              "      <th>wish</th>\n",
              "      <th>woman</th>\n",
              "      <th>word</th>\n",
              "      <th>work</th>\n",
              "      <th>work</th>\n",
              "      <th>worker</th>\n",
              "      <th>world</th>\n",
              "      <th>world say</th>\n",
              "      <th>world service</th>\n",
              "      <th>worldwide</th>\n",
              "      <th>worm</th>\n",
              "      <th>worry</th>\n",
              "      <th>worth</th>\n",
              "      <th>write</th>\n",
              "      <th>writer</th>\n",
              "      <th>writing</th>\n",
              "      <th>wrong</th>\n",
              "      <th>xbox</th>\n",
              "      <th>xbox 2</th>\n",
              "      <th>xp</th>\n",
              "      <th>yahoo</th>\n",
              "      <th>year</th>\n",
              "      <th>year</th>\n",
              "      <th>year ago</th>\n",
              "      <th>year say</th>\n",
              "      <th>york</th>\n",
              "      <th>young</th>\n",
              "      <th>£</th>\n",
              "    </tr>\n",
              "  </thead>\n",
              "  <tbody>\n",
              "    <tr>\n",
              "      <th>0</th>\n",
              "      <td>0.0</td>\n",
              "      <td>0.000000</td>\n",
              "      <td>0.000000</td>\n",
              "      <td>0.0</td>\n",
              "      <td>0.0</td>\n",
              "      <td>0.0</td>\n",
              "      <td>0.0</td>\n",
              "      <td>0.0</td>\n",
              "      <td>0.0</td>\n",
              "      <td>0.0</td>\n",
              "      <td>0.0</td>\n",
              "      <td>0.0</td>\n",
              "      <td>0.0</td>\n",
              "      <td>0.000000</td>\n",
              "      <td>0.0</td>\n",
              "      <td>0.0</td>\n",
              "      <td>0.0</td>\n",
              "      <td>0.062152</td>\n",
              "      <td>0.0</td>\n",
              "      <td>0.0</td>\n",
              "      <td>0.0</td>\n",
              "      <td>0.0</td>\n",
              "      <td>0.0</td>\n",
              "      <td>0.075713</td>\n",
              "      <td>0.0</td>\n",
              "      <td>0.0</td>\n",
              "      <td>0.000000</td>\n",
              "      <td>0.034548</td>\n",
              "      <td>0.0</td>\n",
              "      <td>0.0</td>\n",
              "      <td>0.0</td>\n",
              "      <td>0.0</td>\n",
              "      <td>0.0</td>\n",
              "      <td>0.0</td>\n",
              "      <td>0.0</td>\n",
              "      <td>0.110229</td>\n",
              "      <td>0.0</td>\n",
              "      <td>0.000000</td>\n",
              "      <td>0.0</td>\n",
              "      <td>0.0</td>\n",
              "      <td>...</td>\n",
              "      <td>0.0</td>\n",
              "      <td>0.0</td>\n",
              "      <td>0.0</td>\n",
              "      <td>0.0</td>\n",
              "      <td>0.0</td>\n",
              "      <td>0.0</td>\n",
              "      <td>0.000000</td>\n",
              "      <td>0.0</td>\n",
              "      <td>0.0</td>\n",
              "      <td>0.0</td>\n",
              "      <td>0.0</td>\n",
              "      <td>0.00000</td>\n",
              "      <td>0.000000</td>\n",
              "      <td>0.053189</td>\n",
              "      <td>0.0</td>\n",
              "      <td>0.000000</td>\n",
              "      <td>0.0</td>\n",
              "      <td>0.0</td>\n",
              "      <td>0.000000</td>\n",
              "      <td>0.0</td>\n",
              "      <td>0.000000</td>\n",
              "      <td>0.000000</td>\n",
              "      <td>0.0</td>\n",
              "      <td>0.0</td>\n",
              "      <td>0.0</td>\n",
              "      <td>0.0</td>\n",
              "      <td>0.0</td>\n",
              "      <td>0.0</td>\n",
              "      <td>0.0</td>\n",
              "      <td>0.0</td>\n",
              "      <td>0.0</td>\n",
              "      <td>0.0</td>\n",
              "      <td>0.0</td>\n",
              "      <td>0.000000</td>\n",
              "      <td>0.0</td>\n",
              "      <td>0.0</td>\n",
              "      <td>0.0</td>\n",
              "      <td>0.0</td>\n",
              "      <td>0.105206</td>\n",
              "      <td>0.067010</td>\n",
              "    </tr>\n",
              "    <tr>\n",
              "      <th>1</th>\n",
              "      <td>0.0</td>\n",
              "      <td>0.000000</td>\n",
              "      <td>0.043466</td>\n",
              "      <td>0.0</td>\n",
              "      <td>0.0</td>\n",
              "      <td>0.0</td>\n",
              "      <td>0.0</td>\n",
              "      <td>0.0</td>\n",
              "      <td>0.0</td>\n",
              "      <td>0.0</td>\n",
              "      <td>0.0</td>\n",
              "      <td>0.0</td>\n",
              "      <td>0.0</td>\n",
              "      <td>0.000000</td>\n",
              "      <td>0.0</td>\n",
              "      <td>0.0</td>\n",
              "      <td>0.0</td>\n",
              "      <td>0.000000</td>\n",
              "      <td>0.0</td>\n",
              "      <td>0.0</td>\n",
              "      <td>0.0</td>\n",
              "      <td>0.0</td>\n",
              "      <td>0.0</td>\n",
              "      <td>0.000000</td>\n",
              "      <td>0.0</td>\n",
              "      <td>0.0</td>\n",
              "      <td>0.000000</td>\n",
              "      <td>0.000000</td>\n",
              "      <td>0.0</td>\n",
              "      <td>0.0</td>\n",
              "      <td>0.0</td>\n",
              "      <td>0.0</td>\n",
              "      <td>0.0</td>\n",
              "      <td>0.0</td>\n",
              "      <td>0.0</td>\n",
              "      <td>0.000000</td>\n",
              "      <td>0.0</td>\n",
              "      <td>0.000000</td>\n",
              "      <td>0.0</td>\n",
              "      <td>0.0</td>\n",
              "      <td>...</td>\n",
              "      <td>0.0</td>\n",
              "      <td>0.0</td>\n",
              "      <td>0.0</td>\n",
              "      <td>0.0</td>\n",
              "      <td>0.0</td>\n",
              "      <td>0.0</td>\n",
              "      <td>0.000000</td>\n",
              "      <td>0.0</td>\n",
              "      <td>0.0</td>\n",
              "      <td>0.0</td>\n",
              "      <td>0.0</td>\n",
              "      <td>0.00000</td>\n",
              "      <td>0.000000</td>\n",
              "      <td>0.000000</td>\n",
              "      <td>0.0</td>\n",
              "      <td>0.000000</td>\n",
              "      <td>0.0</td>\n",
              "      <td>0.0</td>\n",
              "      <td>0.018816</td>\n",
              "      <td>0.0</td>\n",
              "      <td>0.038545</td>\n",
              "      <td>0.000000</td>\n",
              "      <td>0.0</td>\n",
              "      <td>0.0</td>\n",
              "      <td>0.0</td>\n",
              "      <td>0.0</td>\n",
              "      <td>0.0</td>\n",
              "      <td>0.0</td>\n",
              "      <td>0.0</td>\n",
              "      <td>0.0</td>\n",
              "      <td>0.0</td>\n",
              "      <td>0.0</td>\n",
              "      <td>0.0</td>\n",
              "      <td>0.014807</td>\n",
              "      <td>0.0</td>\n",
              "      <td>0.0</td>\n",
              "      <td>0.0</td>\n",
              "      <td>0.0</td>\n",
              "      <td>0.000000</td>\n",
              "      <td>0.000000</td>\n",
              "    </tr>\n",
              "    <tr>\n",
              "      <th>2</th>\n",
              "      <td>0.0</td>\n",
              "      <td>0.000000</td>\n",
              "      <td>0.000000</td>\n",
              "      <td>0.0</td>\n",
              "      <td>0.0</td>\n",
              "      <td>0.0</td>\n",
              "      <td>0.0</td>\n",
              "      <td>0.0</td>\n",
              "      <td>0.0</td>\n",
              "      <td>0.0</td>\n",
              "      <td>0.0</td>\n",
              "      <td>0.0</td>\n",
              "      <td>0.0</td>\n",
              "      <td>0.000000</td>\n",
              "      <td>0.0</td>\n",
              "      <td>0.0</td>\n",
              "      <td>0.0</td>\n",
              "      <td>0.000000</td>\n",
              "      <td>0.0</td>\n",
              "      <td>0.0</td>\n",
              "      <td>0.0</td>\n",
              "      <td>0.0</td>\n",
              "      <td>0.0</td>\n",
              "      <td>0.000000</td>\n",
              "      <td>0.0</td>\n",
              "      <td>0.0</td>\n",
              "      <td>0.000000</td>\n",
              "      <td>0.000000</td>\n",
              "      <td>0.0</td>\n",
              "      <td>0.0</td>\n",
              "      <td>0.0</td>\n",
              "      <td>0.0</td>\n",
              "      <td>0.0</td>\n",
              "      <td>0.0</td>\n",
              "      <td>0.0</td>\n",
              "      <td>0.000000</td>\n",
              "      <td>0.0</td>\n",
              "      <td>0.000000</td>\n",
              "      <td>0.0</td>\n",
              "      <td>0.0</td>\n",
              "      <td>...</td>\n",
              "      <td>0.0</td>\n",
              "      <td>0.0</td>\n",
              "      <td>0.0</td>\n",
              "      <td>0.0</td>\n",
              "      <td>0.0</td>\n",
              "      <td>0.0</td>\n",
              "      <td>0.041194</td>\n",
              "      <td>0.0</td>\n",
              "      <td>0.0</td>\n",
              "      <td>0.0</td>\n",
              "      <td>0.0</td>\n",
              "      <td>0.00000</td>\n",
              "      <td>0.000000</td>\n",
              "      <td>0.000000</td>\n",
              "      <td>0.0</td>\n",
              "      <td>0.023129</td>\n",
              "      <td>0.0</td>\n",
              "      <td>0.0</td>\n",
              "      <td>0.051485</td>\n",
              "      <td>0.0</td>\n",
              "      <td>0.000000</td>\n",
              "      <td>0.000000</td>\n",
              "      <td>0.0</td>\n",
              "      <td>0.0</td>\n",
              "      <td>0.0</td>\n",
              "      <td>0.0</td>\n",
              "      <td>0.0</td>\n",
              "      <td>0.0</td>\n",
              "      <td>0.0</td>\n",
              "      <td>0.0</td>\n",
              "      <td>0.0</td>\n",
              "      <td>0.0</td>\n",
              "      <td>0.0</td>\n",
              "      <td>0.000000</td>\n",
              "      <td>0.0</td>\n",
              "      <td>0.0</td>\n",
              "      <td>0.0</td>\n",
              "      <td>0.0</td>\n",
              "      <td>0.000000</td>\n",
              "      <td>0.000000</td>\n",
              "    </tr>\n",
              "    <tr>\n",
              "      <th>3</th>\n",
              "      <td>0.0</td>\n",
              "      <td>0.066907</td>\n",
              "      <td>0.000000</td>\n",
              "      <td>0.0</td>\n",
              "      <td>0.0</td>\n",
              "      <td>0.0</td>\n",
              "      <td>0.0</td>\n",
              "      <td>0.0</td>\n",
              "      <td>0.0</td>\n",
              "      <td>0.0</td>\n",
              "      <td>0.0</td>\n",
              "      <td>0.0</td>\n",
              "      <td>0.0</td>\n",
              "      <td>0.000000</td>\n",
              "      <td>0.0</td>\n",
              "      <td>0.0</td>\n",
              "      <td>0.0</td>\n",
              "      <td>0.000000</td>\n",
              "      <td>0.0</td>\n",
              "      <td>0.0</td>\n",
              "      <td>0.0</td>\n",
              "      <td>0.0</td>\n",
              "      <td>0.0</td>\n",
              "      <td>0.000000</td>\n",
              "      <td>0.0</td>\n",
              "      <td>0.0</td>\n",
              "      <td>0.000000</td>\n",
              "      <td>0.041409</td>\n",
              "      <td>0.0</td>\n",
              "      <td>0.0</td>\n",
              "      <td>0.0</td>\n",
              "      <td>0.0</td>\n",
              "      <td>0.0</td>\n",
              "      <td>0.0</td>\n",
              "      <td>0.0</td>\n",
              "      <td>0.000000</td>\n",
              "      <td>0.0</td>\n",
              "      <td>0.000000</td>\n",
              "      <td>0.0</td>\n",
              "      <td>0.0</td>\n",
              "      <td>...</td>\n",
              "      <td>0.0</td>\n",
              "      <td>0.0</td>\n",
              "      <td>0.0</td>\n",
              "      <td>0.0</td>\n",
              "      <td>0.0</td>\n",
              "      <td>0.0</td>\n",
              "      <td>0.000000</td>\n",
              "      <td>0.0</td>\n",
              "      <td>0.0</td>\n",
              "      <td>0.0</td>\n",
              "      <td>0.0</td>\n",
              "      <td>0.04966</td>\n",
              "      <td>0.073173</td>\n",
              "      <td>0.063753</td>\n",
              "      <td>0.0</td>\n",
              "      <td>0.000000</td>\n",
              "      <td>0.0</td>\n",
              "      <td>0.0</td>\n",
              "      <td>0.000000</td>\n",
              "      <td>0.0</td>\n",
              "      <td>0.000000</td>\n",
              "      <td>0.000000</td>\n",
              "      <td>0.0</td>\n",
              "      <td>0.0</td>\n",
              "      <td>0.0</td>\n",
              "      <td>0.0</td>\n",
              "      <td>0.0</td>\n",
              "      <td>0.0</td>\n",
              "      <td>0.0</td>\n",
              "      <td>0.0</td>\n",
              "      <td>0.0</td>\n",
              "      <td>0.0</td>\n",
              "      <td>0.0</td>\n",
              "      <td>0.025377</td>\n",
              "      <td>0.0</td>\n",
              "      <td>0.0</td>\n",
              "      <td>0.0</td>\n",
              "      <td>0.0</td>\n",
              "      <td>0.000000</td>\n",
              "      <td>0.000000</td>\n",
              "    </tr>\n",
              "    <tr>\n",
              "      <th>4</th>\n",
              "      <td>0.0</td>\n",
              "      <td>0.000000</td>\n",
              "      <td>0.000000</td>\n",
              "      <td>0.0</td>\n",
              "      <td>0.0</td>\n",
              "      <td>0.0</td>\n",
              "      <td>0.0</td>\n",
              "      <td>0.0</td>\n",
              "      <td>0.0</td>\n",
              "      <td>0.0</td>\n",
              "      <td>0.0</td>\n",
              "      <td>0.0</td>\n",
              "      <td>0.0</td>\n",
              "      <td>0.089435</td>\n",
              "      <td>0.0</td>\n",
              "      <td>0.0</td>\n",
              "      <td>0.0</td>\n",
              "      <td>0.000000</td>\n",
              "      <td>0.0</td>\n",
              "      <td>0.0</td>\n",
              "      <td>0.0</td>\n",
              "      <td>0.0</td>\n",
              "      <td>0.0</td>\n",
              "      <td>0.053444</td>\n",
              "      <td>0.0</td>\n",
              "      <td>0.0</td>\n",
              "      <td>0.089435</td>\n",
              "      <td>0.000000</td>\n",
              "      <td>0.0</td>\n",
              "      <td>0.0</td>\n",
              "      <td>0.0</td>\n",
              "      <td>0.0</td>\n",
              "      <td>0.0</td>\n",
              "      <td>0.0</td>\n",
              "      <td>0.0</td>\n",
              "      <td>0.000000</td>\n",
              "      <td>0.0</td>\n",
              "      <td>0.089435</td>\n",
              "      <td>0.0</td>\n",
              "      <td>0.0</td>\n",
              "      <td>...</td>\n",
              "      <td>0.0</td>\n",
              "      <td>0.0</td>\n",
              "      <td>0.0</td>\n",
              "      <td>0.0</td>\n",
              "      <td>0.0</td>\n",
              "      <td>0.0</td>\n",
              "      <td>0.060782</td>\n",
              "      <td>0.0</td>\n",
              "      <td>0.0</td>\n",
              "      <td>0.0</td>\n",
              "      <td>0.0</td>\n",
              "      <td>0.00000</td>\n",
              "      <td>0.000000</td>\n",
              "      <td>0.000000</td>\n",
              "      <td>0.0</td>\n",
              "      <td>0.000000</td>\n",
              "      <td>0.0</td>\n",
              "      <td>0.0</td>\n",
              "      <td>0.037984</td>\n",
              "      <td>0.0</td>\n",
              "      <td>0.000000</td>\n",
              "      <td>0.072706</td>\n",
              "      <td>0.0</td>\n",
              "      <td>0.0</td>\n",
              "      <td>0.0</td>\n",
              "      <td>0.0</td>\n",
              "      <td>0.0</td>\n",
              "      <td>0.0</td>\n",
              "      <td>0.0</td>\n",
              "      <td>0.0</td>\n",
              "      <td>0.0</td>\n",
              "      <td>0.0</td>\n",
              "      <td>0.0</td>\n",
              "      <td>0.000000</td>\n",
              "      <td>0.0</td>\n",
              "      <td>0.0</td>\n",
              "      <td>0.0</td>\n",
              "      <td>0.0</td>\n",
              "      <td>0.000000</td>\n",
              "      <td>0.047301</td>\n",
              "    </tr>\n",
              "  </tbody>\n",
              "</table>\n",
              "<p>5 rows × 1710 columns</p>\n",
              "</div>"
            ],
            "text/plain": [
              "    accord     apple   company   computer  ...  year say  york     young         £\n",
              "0      0.0  0.000000  0.000000        0.0  ...       0.0   0.0  0.105206  0.067010\n",
              "1      0.0  0.000000  0.043466        0.0  ...       0.0   0.0  0.000000  0.000000\n",
              "2      0.0  0.000000  0.000000        0.0  ...       0.0   0.0  0.000000  0.000000\n",
              "3      0.0  0.066907  0.000000        0.0  ...       0.0   0.0  0.000000  0.000000\n",
              "4      0.0  0.000000  0.000000        0.0  ...       0.0   0.0  0.000000  0.047301\n",
              "\n",
              "[5 rows x 1710 columns]"
            ]
          },
          "metadata": {
            "tags": []
          },
          "execution_count": 33
        }
      ]
    },
    {
      "cell_type": "code",
      "metadata": {
        "id": "byjooOXo-vo9"
      },
      "source": [
        "tfidf.get_feature_names()"
      ],
      "execution_count": null,
      "outputs": []
    },
    {
      "cell_type": "code",
      "metadata": {
        "id": "ap2ykf-ZlhY7",
        "colab": {
          "base_uri": "https://localhost:8080/"
        },
        "outputId": "77300496-5293-43ae-f13b-7d22120484b1"
      },
      "source": [
        "dtm.shape"
      ],
      "execution_count": null,
      "outputs": [
        {
          "output_type": "execute_result",
          "data": {
            "text/plain": [
              "(401, 1710)"
            ]
          },
          "metadata": {
            "tags": []
          },
          "execution_count": 35
        }
      ]
    },
    {
      "cell_type": "markdown",
      "metadata": {
        "id": "EvZAo0jwlhY8"
      },
      "source": [
        "## Challenge\n",
        "\n",
        "During this module's project assignment, you will transform data science job listings to vector representations for analysis downstream. "
      ]
    },
    {
      "cell_type": "markdown",
      "metadata": {
        "id": "DxLihGAblhY8"
      },
      "source": [
        "# Query Documents by Similarity (Learn)\n",
        "<a id=\"p2\"></a>"
      ]
    },
    {
      "cell_type": "markdown",
      "metadata": {
        "id": "mq7r8E61lhY8"
      },
      "source": [
        "## Overview\n",
        "\n",
        "Have you ever considered how a search bar works? You may just think that search bars simply match your input text againist the documents. While there are many different mechanisms for the 'match', one of the most classic is to search by similarity. We will apply n-dimensional distance to measure similarity, and query for input and output. "
      ]
    },
    {
      "cell_type": "markdown",
      "metadata": {
        "toc-hr-collapsed": true,
        "id": "AfMHwMz7lhY8"
      },
      "source": [
        "## Follow Along"
      ]
    },
    {
      "cell_type": "markdown",
      "metadata": {
        "id": "4b_yKqDDlhY8"
      },
      "source": [
        "### Cosine Similarity (Brute Force)"
      ]
    },
    {
      "cell_type": "code",
      "metadata": {
        "id": "gHPPwV0PlhY8"
      },
      "source": [
        "# Calculate Distance of TF-IDF Vectors\n",
        "from sklearn.metrics.pairwise import cosine_similarity\n",
        "\n",
        "dist_matrix= cosine_similarity(dtm)"
      ],
      "execution_count": null,
      "outputs": []
    },
    {
      "cell_type": "code",
      "metadata": {
        "id": "HtkOUWfZlhY9"
      },
      "source": [
        "# Turn it into a DataFrame\n",
        "\n",
        "df = pd.DataFrame(dist_matrix)"
      ],
      "execution_count": null,
      "outputs": []
    },
    {
      "cell_type": "code",
      "metadata": {
        "colab": {
          "base_uri": "https://localhost:8080/",
          "height": 396
        },
        "id": "hw5i2yrf_36z",
        "outputId": "00e90933-b438-4a9f-aded-b575370eb23c"
      },
      "source": [
        "# Each row is a similarity percentage between itself and all other articles\n",
        "df.head(10)"
      ],
      "execution_count": null,
      "outputs": [
        {
          "output_type": "execute_result",
          "data": {
            "text/html": [
              "<div>\n",
              "<style scoped>\n",
              "    .dataframe tbody tr th:only-of-type {\n",
              "        vertical-align: middle;\n",
              "    }\n",
              "\n",
              "    .dataframe tbody tr th {\n",
              "        vertical-align: top;\n",
              "    }\n",
              "\n",
              "    .dataframe thead th {\n",
              "        text-align: right;\n",
              "    }\n",
              "</style>\n",
              "<table border=\"1\" class=\"dataframe\">\n",
              "  <thead>\n",
              "    <tr style=\"text-align: right;\">\n",
              "      <th></th>\n",
              "      <th>0</th>\n",
              "      <th>1</th>\n",
              "      <th>2</th>\n",
              "      <th>3</th>\n",
              "      <th>4</th>\n",
              "      <th>5</th>\n",
              "      <th>6</th>\n",
              "      <th>7</th>\n",
              "      <th>8</th>\n",
              "      <th>9</th>\n",
              "      <th>10</th>\n",
              "      <th>11</th>\n",
              "      <th>12</th>\n",
              "      <th>13</th>\n",
              "      <th>14</th>\n",
              "      <th>15</th>\n",
              "      <th>16</th>\n",
              "      <th>17</th>\n",
              "      <th>18</th>\n",
              "      <th>19</th>\n",
              "      <th>20</th>\n",
              "      <th>21</th>\n",
              "      <th>22</th>\n",
              "      <th>23</th>\n",
              "      <th>24</th>\n",
              "      <th>25</th>\n",
              "      <th>26</th>\n",
              "      <th>27</th>\n",
              "      <th>28</th>\n",
              "      <th>29</th>\n",
              "      <th>30</th>\n",
              "      <th>31</th>\n",
              "      <th>32</th>\n",
              "      <th>33</th>\n",
              "      <th>34</th>\n",
              "      <th>35</th>\n",
              "      <th>36</th>\n",
              "      <th>37</th>\n",
              "      <th>38</th>\n",
              "      <th>39</th>\n",
              "      <th>...</th>\n",
              "      <th>361</th>\n",
              "      <th>362</th>\n",
              "      <th>363</th>\n",
              "      <th>364</th>\n",
              "      <th>365</th>\n",
              "      <th>366</th>\n",
              "      <th>367</th>\n",
              "      <th>368</th>\n",
              "      <th>369</th>\n",
              "      <th>370</th>\n",
              "      <th>371</th>\n",
              "      <th>372</th>\n",
              "      <th>373</th>\n",
              "      <th>374</th>\n",
              "      <th>375</th>\n",
              "      <th>376</th>\n",
              "      <th>377</th>\n",
              "      <th>378</th>\n",
              "      <th>379</th>\n",
              "      <th>380</th>\n",
              "      <th>381</th>\n",
              "      <th>382</th>\n",
              "      <th>383</th>\n",
              "      <th>384</th>\n",
              "      <th>385</th>\n",
              "      <th>386</th>\n",
              "      <th>387</th>\n",
              "      <th>388</th>\n",
              "      <th>389</th>\n",
              "      <th>390</th>\n",
              "      <th>391</th>\n",
              "      <th>392</th>\n",
              "      <th>393</th>\n",
              "      <th>394</th>\n",
              "      <th>395</th>\n",
              "      <th>396</th>\n",
              "      <th>397</th>\n",
              "      <th>398</th>\n",
              "      <th>399</th>\n",
              "      <th>400</th>\n",
              "    </tr>\n",
              "  </thead>\n",
              "  <tbody>\n",
              "    <tr>\n",
              "      <th>0</th>\n",
              "      <td>1.000000</td>\n",
              "      <td>0.019081</td>\n",
              "      <td>0.020233</td>\n",
              "      <td>0.306865</td>\n",
              "      <td>0.088673</td>\n",
              "      <td>0.045698</td>\n",
              "      <td>0.099250</td>\n",
              "      <td>0.109274</td>\n",
              "      <td>0.034678</td>\n",
              "      <td>0.100899</td>\n",
              "      <td>0.056494</td>\n",
              "      <td>0.031953</td>\n",
              "      <td>0.028669</td>\n",
              "      <td>0.120750</td>\n",
              "      <td>0.037745</td>\n",
              "      <td>0.026361</td>\n",
              "      <td>0.015867</td>\n",
              "      <td>0.145821</td>\n",
              "      <td>0.023927</td>\n",
              "      <td>0.062971</td>\n",
              "      <td>0.044598</td>\n",
              "      <td>0.015607</td>\n",
              "      <td>0.032300</td>\n",
              "      <td>0.045267</td>\n",
              "      <td>0.022562</td>\n",
              "      <td>0.028147</td>\n",
              "      <td>0.050719</td>\n",
              "      <td>0.020938</td>\n",
              "      <td>0.012588</td>\n",
              "      <td>0.044017</td>\n",
              "      <td>0.031406</td>\n",
              "      <td>0.050337</td>\n",
              "      <td>0.066235</td>\n",
              "      <td>0.145420</td>\n",
              "      <td>0.103919</td>\n",
              "      <td>0.091260</td>\n",
              "      <td>0.127076</td>\n",
              "      <td>0.005771</td>\n",
              "      <td>0.082089</td>\n",
              "      <td>0.052320</td>\n",
              "      <td>...</td>\n",
              "      <td>0.026034</td>\n",
              "      <td>0.011712</td>\n",
              "      <td>0.046892</td>\n",
              "      <td>0.097114</td>\n",
              "      <td>0.080209</td>\n",
              "      <td>0.025388</td>\n",
              "      <td>0.142381</td>\n",
              "      <td>0.080233</td>\n",
              "      <td>0.095689</td>\n",
              "      <td>0.158123</td>\n",
              "      <td>0.034678</td>\n",
              "      <td>0.026766</td>\n",
              "      <td>0.058414</td>\n",
              "      <td>0.016615</td>\n",
              "      <td>0.034979</td>\n",
              "      <td>0.302591</td>\n",
              "      <td>0.027055</td>\n",
              "      <td>0.005207</td>\n",
              "      <td>0.019241</td>\n",
              "      <td>0.047999</td>\n",
              "      <td>0.194062</td>\n",
              "      <td>0.058430</td>\n",
              "      <td>0.021308</td>\n",
              "      <td>0.052433</td>\n",
              "      <td>0.285488</td>\n",
              "      <td>0.193012</td>\n",
              "      <td>0.027143</td>\n",
              "      <td>0.020912</td>\n",
              "      <td>0.018247</td>\n",
              "      <td>0.007149</td>\n",
              "      <td>0.061226</td>\n",
              "      <td>0.026649</td>\n",
              "      <td>0.162402</td>\n",
              "      <td>0.074498</td>\n",
              "      <td>0.118660</td>\n",
              "      <td>0.015627</td>\n",
              "      <td>0.034451</td>\n",
              "      <td>0.114178</td>\n",
              "      <td>0.043031</td>\n",
              "      <td>0.075299</td>\n",
              "    </tr>\n",
              "    <tr>\n",
              "      <th>1</th>\n",
              "      <td>0.019081</td>\n",
              "      <td>1.000000</td>\n",
              "      <td>0.105942</td>\n",
              "      <td>0.016471</td>\n",
              "      <td>0.036776</td>\n",
              "      <td>0.081417</td>\n",
              "      <td>0.093182</td>\n",
              "      <td>0.048319</td>\n",
              "      <td>0.058999</td>\n",
              "      <td>0.033640</td>\n",
              "      <td>0.051454</td>\n",
              "      <td>0.061553</td>\n",
              "      <td>0.061575</td>\n",
              "      <td>0.129547</td>\n",
              "      <td>0.035036</td>\n",
              "      <td>0.050943</td>\n",
              "      <td>0.069470</td>\n",
              "      <td>0.032965</td>\n",
              "      <td>0.044780</td>\n",
              "      <td>0.086965</td>\n",
              "      <td>0.078057</td>\n",
              "      <td>0.028061</td>\n",
              "      <td>0.104742</td>\n",
              "      <td>0.013688</td>\n",
              "      <td>0.057733</td>\n",
              "      <td>0.044774</td>\n",
              "      <td>0.028453</td>\n",
              "      <td>0.152045</td>\n",
              "      <td>0.019498</td>\n",
              "      <td>0.156514</td>\n",
              "      <td>0.034145</td>\n",
              "      <td>0.047286</td>\n",
              "      <td>0.039374</td>\n",
              "      <td>0.050272</td>\n",
              "      <td>0.043054</td>\n",
              "      <td>0.040539</td>\n",
              "      <td>0.037130</td>\n",
              "      <td>0.089470</td>\n",
              "      <td>0.070168</td>\n",
              "      <td>0.051250</td>\n",
              "      <td>...</td>\n",
              "      <td>0.063531</td>\n",
              "      <td>0.097947</td>\n",
              "      <td>0.126623</td>\n",
              "      <td>0.026386</td>\n",
              "      <td>0.054749</td>\n",
              "      <td>0.041349</td>\n",
              "      <td>0.054001</td>\n",
              "      <td>0.074864</td>\n",
              "      <td>0.113558</td>\n",
              "      <td>0.063550</td>\n",
              "      <td>0.058999</td>\n",
              "      <td>0.085891</td>\n",
              "      <td>0.034506</td>\n",
              "      <td>0.034943</td>\n",
              "      <td>0.169315</td>\n",
              "      <td>0.016242</td>\n",
              "      <td>0.061181</td>\n",
              "      <td>0.105342</td>\n",
              "      <td>0.172261</td>\n",
              "      <td>0.079941</td>\n",
              "      <td>0.036956</td>\n",
              "      <td>0.027303</td>\n",
              "      <td>0.065462</td>\n",
              "      <td>0.073666</td>\n",
              "      <td>0.068471</td>\n",
              "      <td>0.037458</td>\n",
              "      <td>0.038214</td>\n",
              "      <td>0.067724</td>\n",
              "      <td>0.048494</td>\n",
              "      <td>0.087444</td>\n",
              "      <td>0.059015</td>\n",
              "      <td>0.092298</td>\n",
              "      <td>0.070483</td>\n",
              "      <td>0.024879</td>\n",
              "      <td>0.099497</td>\n",
              "      <td>0.065782</td>\n",
              "      <td>0.044175</td>\n",
              "      <td>0.021294</td>\n",
              "      <td>0.331262</td>\n",
              "      <td>0.033906</td>\n",
              "    </tr>\n",
              "    <tr>\n",
              "      <th>2</th>\n",
              "      <td>0.020233</td>\n",
              "      <td>0.105942</td>\n",
              "      <td>1.000000</td>\n",
              "      <td>0.043213</td>\n",
              "      <td>0.038144</td>\n",
              "      <td>0.060766</td>\n",
              "      <td>0.033574</td>\n",
              "      <td>0.069034</td>\n",
              "      <td>0.124355</td>\n",
              "      <td>0.036682</td>\n",
              "      <td>0.036487</td>\n",
              "      <td>0.443047</td>\n",
              "      <td>0.013569</td>\n",
              "      <td>0.070275</td>\n",
              "      <td>0.020895</td>\n",
              "      <td>0.019352</td>\n",
              "      <td>0.045504</td>\n",
              "      <td>0.058869</td>\n",
              "      <td>0.041482</td>\n",
              "      <td>0.066098</td>\n",
              "      <td>0.119833</td>\n",
              "      <td>0.017515</td>\n",
              "      <td>0.039496</td>\n",
              "      <td>0.015518</td>\n",
              "      <td>0.133400</td>\n",
              "      <td>0.019251</td>\n",
              "      <td>0.040996</td>\n",
              "      <td>0.238901</td>\n",
              "      <td>0.023189</td>\n",
              "      <td>0.335889</td>\n",
              "      <td>0.028928</td>\n",
              "      <td>0.046188</td>\n",
              "      <td>0.039850</td>\n",
              "      <td>0.036229</td>\n",
              "      <td>0.044326</td>\n",
              "      <td>0.034995</td>\n",
              "      <td>0.015737</td>\n",
              "      <td>0.225925</td>\n",
              "      <td>0.101169</td>\n",
              "      <td>0.026561</td>\n",
              "      <td>...</td>\n",
              "      <td>0.037198</td>\n",
              "      <td>0.369229</td>\n",
              "      <td>0.039894</td>\n",
              "      <td>0.046048</td>\n",
              "      <td>0.077670</td>\n",
              "      <td>0.063938</td>\n",
              "      <td>0.025273</td>\n",
              "      <td>0.028144</td>\n",
              "      <td>0.046817</td>\n",
              "      <td>0.040288</td>\n",
              "      <td>0.124355</td>\n",
              "      <td>0.031358</td>\n",
              "      <td>0.030769</td>\n",
              "      <td>0.025626</td>\n",
              "      <td>0.137119</td>\n",
              "      <td>0.042611</td>\n",
              "      <td>0.156870</td>\n",
              "      <td>0.209891</td>\n",
              "      <td>0.224423</td>\n",
              "      <td>0.025296</td>\n",
              "      <td>0.045015</td>\n",
              "      <td>0.028412</td>\n",
              "      <td>0.091315</td>\n",
              "      <td>0.076652</td>\n",
              "      <td>0.042420</td>\n",
              "      <td>0.034581</td>\n",
              "      <td>0.038600</td>\n",
              "      <td>0.152606</td>\n",
              "      <td>0.100307</td>\n",
              "      <td>0.232830</td>\n",
              "      <td>0.028022</td>\n",
              "      <td>0.083163</td>\n",
              "      <td>0.031994</td>\n",
              "      <td>0.060102</td>\n",
              "      <td>0.075139</td>\n",
              "      <td>0.094437</td>\n",
              "      <td>0.067707</td>\n",
              "      <td>0.012441</td>\n",
              "      <td>0.109304</td>\n",
              "      <td>0.035012</td>\n",
              "    </tr>\n",
              "    <tr>\n",
              "      <th>3</th>\n",
              "      <td>0.306865</td>\n",
              "      <td>0.016471</td>\n",
              "      <td>0.043213</td>\n",
              "      <td>1.000000</td>\n",
              "      <td>0.041135</td>\n",
              "      <td>0.023005</td>\n",
              "      <td>0.152585</td>\n",
              "      <td>0.293241</td>\n",
              "      <td>0.035201</td>\n",
              "      <td>0.069605</td>\n",
              "      <td>0.032198</td>\n",
              "      <td>0.035333</td>\n",
              "      <td>0.020698</td>\n",
              "      <td>0.090355</td>\n",
              "      <td>0.023990</td>\n",
              "      <td>0.013712</td>\n",
              "      <td>0.063685</td>\n",
              "      <td>0.110644</td>\n",
              "      <td>0.096537</td>\n",
              "      <td>0.029584</td>\n",
              "      <td>0.067232</td>\n",
              "      <td>0.055047</td>\n",
              "      <td>0.088227</td>\n",
              "      <td>0.101597</td>\n",
              "      <td>0.043921</td>\n",
              "      <td>0.016834</td>\n",
              "      <td>0.074765</td>\n",
              "      <td>0.037133</td>\n",
              "      <td>0.017655</td>\n",
              "      <td>0.027656</td>\n",
              "      <td>0.025278</td>\n",
              "      <td>0.079927</td>\n",
              "      <td>0.101737</td>\n",
              "      <td>0.275125</td>\n",
              "      <td>0.015706</td>\n",
              "      <td>0.091252</td>\n",
              "      <td>0.113404</td>\n",
              "      <td>0.118616</td>\n",
              "      <td>0.133331</td>\n",
              "      <td>0.029054</td>\n",
              "      <td>...</td>\n",
              "      <td>0.032335</td>\n",
              "      <td>0.053083</td>\n",
              "      <td>0.048267</td>\n",
              "      <td>0.012512</td>\n",
              "      <td>0.118736</td>\n",
              "      <td>0.041776</td>\n",
              "      <td>0.110239</td>\n",
              "      <td>0.037762</td>\n",
              "      <td>0.081140</td>\n",
              "      <td>0.255172</td>\n",
              "      <td>0.035201</td>\n",
              "      <td>0.036010</td>\n",
              "      <td>0.096415</td>\n",
              "      <td>0.006656</td>\n",
              "      <td>0.070467</td>\n",
              "      <td>0.998094</td>\n",
              "      <td>0.052480</td>\n",
              "      <td>0.068235</td>\n",
              "      <td>0.009200</td>\n",
              "      <td>0.036149</td>\n",
              "      <td>0.141249</td>\n",
              "      <td>0.058734</td>\n",
              "      <td>0.056303</td>\n",
              "      <td>0.042888</td>\n",
              "      <td>0.315236</td>\n",
              "      <td>0.155555</td>\n",
              "      <td>0.032349</td>\n",
              "      <td>0.049150</td>\n",
              "      <td>0.005121</td>\n",
              "      <td>0.038399</td>\n",
              "      <td>0.084741</td>\n",
              "      <td>0.008434</td>\n",
              "      <td>0.210773</td>\n",
              "      <td>0.116514</td>\n",
              "      <td>0.070583</td>\n",
              "      <td>0.013519</td>\n",
              "      <td>0.057233</td>\n",
              "      <td>0.438308</td>\n",
              "      <td>0.048327</td>\n",
              "      <td>0.241189</td>\n",
              "    </tr>\n",
              "    <tr>\n",
              "      <th>4</th>\n",
              "      <td>0.088673</td>\n",
              "      <td>0.036776</td>\n",
              "      <td>0.038144</td>\n",
              "      <td>0.041135</td>\n",
              "      <td>1.000000</td>\n",
              "      <td>0.053506</td>\n",
              "      <td>0.065306</td>\n",
              "      <td>0.039911</td>\n",
              "      <td>0.038929</td>\n",
              "      <td>0.090580</td>\n",
              "      <td>0.046855</td>\n",
              "      <td>0.078775</td>\n",
              "      <td>0.037884</td>\n",
              "      <td>0.033199</td>\n",
              "      <td>0.047268</td>\n",
              "      <td>0.091733</td>\n",
              "      <td>0.045904</td>\n",
              "      <td>0.057823</td>\n",
              "      <td>0.055471</td>\n",
              "      <td>0.097167</td>\n",
              "      <td>0.062200</td>\n",
              "      <td>0.082059</td>\n",
              "      <td>0.042679</td>\n",
              "      <td>0.074685</td>\n",
              "      <td>0.049669</td>\n",
              "      <td>0.080639</td>\n",
              "      <td>0.077499</td>\n",
              "      <td>0.030109</td>\n",
              "      <td>0.056519</td>\n",
              "      <td>0.049766</td>\n",
              "      <td>0.042464</td>\n",
              "      <td>0.040441</td>\n",
              "      <td>0.126671</td>\n",
              "      <td>0.196035</td>\n",
              "      <td>0.084728</td>\n",
              "      <td>0.203081</td>\n",
              "      <td>0.036818</td>\n",
              "      <td>0.032118</td>\n",
              "      <td>0.066540</td>\n",
              "      <td>0.065913</td>\n",
              "      <td>...</td>\n",
              "      <td>0.036517</td>\n",
              "      <td>0.048079</td>\n",
              "      <td>0.038987</td>\n",
              "      <td>0.077873</td>\n",
              "      <td>0.056668</td>\n",
              "      <td>0.030394</td>\n",
              "      <td>0.058615</td>\n",
              "      <td>0.127539</td>\n",
              "      <td>0.099273</td>\n",
              "      <td>0.093218</td>\n",
              "      <td>0.038929</td>\n",
              "      <td>0.044077</td>\n",
              "      <td>0.049930</td>\n",
              "      <td>0.033330</td>\n",
              "      <td>0.088624</td>\n",
              "      <td>0.040562</td>\n",
              "      <td>0.067432</td>\n",
              "      <td>0.028277</td>\n",
              "      <td>0.028378</td>\n",
              "      <td>0.061179</td>\n",
              "      <td>0.175894</td>\n",
              "      <td>0.034274</td>\n",
              "      <td>0.062181</td>\n",
              "      <td>0.048611</td>\n",
              "      <td>0.110362</td>\n",
              "      <td>0.039468</td>\n",
              "      <td>0.020314</td>\n",
              "      <td>0.036301</td>\n",
              "      <td>0.021960</td>\n",
              "      <td>0.026772</td>\n",
              "      <td>0.034785</td>\n",
              "      <td>0.125758</td>\n",
              "      <td>0.076544</td>\n",
              "      <td>0.071766</td>\n",
              "      <td>0.137968</td>\n",
              "      <td>0.058693</td>\n",
              "      <td>0.030445</td>\n",
              "      <td>0.045750</td>\n",
              "      <td>0.062908</td>\n",
              "      <td>0.122753</td>\n",
              "    </tr>\n",
              "    <tr>\n",
              "      <th>5</th>\n",
              "      <td>0.045698</td>\n",
              "      <td>0.081417</td>\n",
              "      <td>0.060766</td>\n",
              "      <td>0.023005</td>\n",
              "      <td>0.053506</td>\n",
              "      <td>1.000000</td>\n",
              "      <td>0.136437</td>\n",
              "      <td>0.056947</td>\n",
              "      <td>0.072401</td>\n",
              "      <td>0.041658</td>\n",
              "      <td>0.094968</td>\n",
              "      <td>0.065525</td>\n",
              "      <td>0.053322</td>\n",
              "      <td>0.103512</td>\n",
              "      <td>0.083448</td>\n",
              "      <td>0.092695</td>\n",
              "      <td>0.086531</td>\n",
              "      <td>0.040962</td>\n",
              "      <td>0.056044</td>\n",
              "      <td>0.115901</td>\n",
              "      <td>0.105842</td>\n",
              "      <td>0.022766</td>\n",
              "      <td>0.188478</td>\n",
              "      <td>0.026698</td>\n",
              "      <td>0.048081</td>\n",
              "      <td>0.100188</td>\n",
              "      <td>0.089234</td>\n",
              "      <td>0.104114</td>\n",
              "      <td>0.008958</td>\n",
              "      <td>0.087143</td>\n",
              "      <td>0.062009</td>\n",
              "      <td>0.051140</td>\n",
              "      <td>0.052565</td>\n",
              "      <td>0.061741</td>\n",
              "      <td>0.321102</td>\n",
              "      <td>0.085517</td>\n",
              "      <td>0.024110</td>\n",
              "      <td>0.047364</td>\n",
              "      <td>0.119820</td>\n",
              "      <td>0.065567</td>\n",
              "      <td>...</td>\n",
              "      <td>0.106449</td>\n",
              "      <td>0.069948</td>\n",
              "      <td>0.037670</td>\n",
              "      <td>0.261895</td>\n",
              "      <td>0.052465</td>\n",
              "      <td>0.041725</td>\n",
              "      <td>0.142174</td>\n",
              "      <td>0.149994</td>\n",
              "      <td>0.137999</td>\n",
              "      <td>0.075110</td>\n",
              "      <td>0.072401</td>\n",
              "      <td>0.023429</td>\n",
              "      <td>0.023028</td>\n",
              "      <td>0.112620</td>\n",
              "      <td>0.125474</td>\n",
              "      <td>0.022684</td>\n",
              "      <td>0.138773</td>\n",
              "      <td>0.027560</td>\n",
              "      <td>0.031478</td>\n",
              "      <td>0.110372</td>\n",
              "      <td>0.107065</td>\n",
              "      <td>0.027879</td>\n",
              "      <td>0.071226</td>\n",
              "      <td>0.052548</td>\n",
              "      <td>0.066031</td>\n",
              "      <td>0.072965</td>\n",
              "      <td>0.095313</td>\n",
              "      <td>0.036997</td>\n",
              "      <td>0.092312</td>\n",
              "      <td>0.037596</td>\n",
              "      <td>0.045353</td>\n",
              "      <td>0.136527</td>\n",
              "      <td>0.070101</td>\n",
              "      <td>0.047021</td>\n",
              "      <td>0.191277</td>\n",
              "      <td>0.083754</td>\n",
              "      <td>0.054838</td>\n",
              "      <td>0.060309</td>\n",
              "      <td>0.122030</td>\n",
              "      <td>0.030326</td>\n",
              "    </tr>\n",
              "    <tr>\n",
              "      <th>6</th>\n",
              "      <td>0.099250</td>\n",
              "      <td>0.093182</td>\n",
              "      <td>0.033574</td>\n",
              "      <td>0.152585</td>\n",
              "      <td>0.065306</td>\n",
              "      <td>0.136437</td>\n",
              "      <td>1.000000</td>\n",
              "      <td>0.238437</td>\n",
              "      <td>0.064121</td>\n",
              "      <td>0.098788</td>\n",
              "      <td>0.091977</td>\n",
              "      <td>0.040104</td>\n",
              "      <td>0.054144</td>\n",
              "      <td>0.491818</td>\n",
              "      <td>0.060757</td>\n",
              "      <td>0.039300</td>\n",
              "      <td>0.166455</td>\n",
              "      <td>0.114358</td>\n",
              "      <td>0.060014</td>\n",
              "      <td>0.164979</td>\n",
              "      <td>0.154963</td>\n",
              "      <td>0.147681</td>\n",
              "      <td>0.162775</td>\n",
              "      <td>0.053952</td>\n",
              "      <td>0.092027</td>\n",
              "      <td>0.065484</td>\n",
              "      <td>0.263621</td>\n",
              "      <td>0.047289</td>\n",
              "      <td>0.061773</td>\n",
              "      <td>0.063655</td>\n",
              "      <td>0.197731</td>\n",
              "      <td>0.103897</td>\n",
              "      <td>0.091337</td>\n",
              "      <td>0.093904</td>\n",
              "      <td>0.240588</td>\n",
              "      <td>0.220704</td>\n",
              "      <td>0.061307</td>\n",
              "      <td>0.061157</td>\n",
              "      <td>0.170247</td>\n",
              "      <td>0.063468</td>\n",
              "      <td>...</td>\n",
              "      <td>0.093189</td>\n",
              "      <td>0.058638</td>\n",
              "      <td>0.044050</td>\n",
              "      <td>0.184280</td>\n",
              "      <td>0.058518</td>\n",
              "      <td>0.030143</td>\n",
              "      <td>0.160998</td>\n",
              "      <td>0.153577</td>\n",
              "      <td>0.122940</td>\n",
              "      <td>0.276724</td>\n",
              "      <td>0.064121</td>\n",
              "      <td>0.078984</td>\n",
              "      <td>0.060042</td>\n",
              "      <td>0.158734</td>\n",
              "      <td>0.127752</td>\n",
              "      <td>0.150460</td>\n",
              "      <td>0.278164</td>\n",
              "      <td>0.023401</td>\n",
              "      <td>0.018797</td>\n",
              "      <td>0.303661</td>\n",
              "      <td>0.245065</td>\n",
              "      <td>0.069660</td>\n",
              "      <td>0.091575</td>\n",
              "      <td>0.059987</td>\n",
              "      <td>0.210759</td>\n",
              "      <td>0.195010</td>\n",
              "      <td>0.073269</td>\n",
              "      <td>0.116486</td>\n",
              "      <td>0.042490</td>\n",
              "      <td>0.031583</td>\n",
              "      <td>0.260575</td>\n",
              "      <td>0.050943</td>\n",
              "      <td>0.232902</td>\n",
              "      <td>0.064745</td>\n",
              "      <td>0.111251</td>\n",
              "      <td>0.024924</td>\n",
              "      <td>0.060745</td>\n",
              "      <td>0.260873</td>\n",
              "      <td>0.065473</td>\n",
              "      <td>0.123082</td>\n",
              "    </tr>\n",
              "    <tr>\n",
              "      <th>7</th>\n",
              "      <td>0.109274</td>\n",
              "      <td>0.048319</td>\n",
              "      <td>0.069034</td>\n",
              "      <td>0.293241</td>\n",
              "      <td>0.039911</td>\n",
              "      <td>0.056947</td>\n",
              "      <td>0.238437</td>\n",
              "      <td>1.000000</td>\n",
              "      <td>0.045620</td>\n",
              "      <td>0.348548</td>\n",
              "      <td>0.052316</td>\n",
              "      <td>0.067315</td>\n",
              "      <td>0.052762</td>\n",
              "      <td>0.146299</td>\n",
              "      <td>0.013842</td>\n",
              "      <td>0.020676</td>\n",
              "      <td>0.134700</td>\n",
              "      <td>0.113549</td>\n",
              "      <td>0.009348</td>\n",
              "      <td>0.040226</td>\n",
              "      <td>0.074191</td>\n",
              "      <td>0.072940</td>\n",
              "      <td>0.060832</td>\n",
              "      <td>0.443860</td>\n",
              "      <td>0.033189</td>\n",
              "      <td>0.062708</td>\n",
              "      <td>0.132467</td>\n",
              "      <td>0.073094</td>\n",
              "      <td>0.068865</td>\n",
              "      <td>0.059991</td>\n",
              "      <td>0.089581</td>\n",
              "      <td>0.037406</td>\n",
              "      <td>0.083617</td>\n",
              "      <td>0.063159</td>\n",
              "      <td>0.078359</td>\n",
              "      <td>0.180438</td>\n",
              "      <td>0.152493</td>\n",
              "      <td>0.042737</td>\n",
              "      <td>0.104384</td>\n",
              "      <td>0.038111</td>\n",
              "      <td>...</td>\n",
              "      <td>0.026256</td>\n",
              "      <td>0.061902</td>\n",
              "      <td>0.150651</td>\n",
              "      <td>0.083543</td>\n",
              "      <td>0.100670</td>\n",
              "      <td>0.023310</td>\n",
              "      <td>0.172415</td>\n",
              "      <td>0.054788</td>\n",
              "      <td>0.041710</td>\n",
              "      <td>0.235456</td>\n",
              "      <td>0.045620</td>\n",
              "      <td>0.124473</td>\n",
              "      <td>0.143398</td>\n",
              "      <td>0.095532</td>\n",
              "      <td>0.068484</td>\n",
              "      <td>0.289157</td>\n",
              "      <td>0.156492</td>\n",
              "      <td>0.051807</td>\n",
              "      <td>0.065429</td>\n",
              "      <td>0.163112</td>\n",
              "      <td>0.171392</td>\n",
              "      <td>0.119414</td>\n",
              "      <td>0.047444</td>\n",
              "      <td>0.088963</td>\n",
              "      <td>0.174671</td>\n",
              "      <td>0.127506</td>\n",
              "      <td>0.028970</td>\n",
              "      <td>0.030145</td>\n",
              "      <td>0.034149</td>\n",
              "      <td>0.069232</td>\n",
              "      <td>0.112893</td>\n",
              "      <td>0.015388</td>\n",
              "      <td>0.174318</td>\n",
              "      <td>0.173354</td>\n",
              "      <td>0.024831</td>\n",
              "      <td>0.027796</td>\n",
              "      <td>0.061718</td>\n",
              "      <td>0.287419</td>\n",
              "      <td>0.029240</td>\n",
              "      <td>0.545087</td>\n",
              "    </tr>\n",
              "    <tr>\n",
              "      <th>8</th>\n",
              "      <td>0.034678</td>\n",
              "      <td>0.058999</td>\n",
              "      <td>0.124355</td>\n",
              "      <td>0.035201</td>\n",
              "      <td>0.038929</td>\n",
              "      <td>0.072401</td>\n",
              "      <td>0.064121</td>\n",
              "      <td>0.045620</td>\n",
              "      <td>1.000000</td>\n",
              "      <td>0.031231</td>\n",
              "      <td>0.050677</td>\n",
              "      <td>0.046893</td>\n",
              "      <td>0.023570</td>\n",
              "      <td>0.068678</td>\n",
              "      <td>0.034210</td>\n",
              "      <td>0.050646</td>\n",
              "      <td>0.011684</td>\n",
              "      <td>0.045136</td>\n",
              "      <td>0.034657</td>\n",
              "      <td>0.053657</td>\n",
              "      <td>0.344978</td>\n",
              "      <td>0.042704</td>\n",
              "      <td>0.043045</td>\n",
              "      <td>0.039504</td>\n",
              "      <td>0.296380</td>\n",
              "      <td>0.052900</td>\n",
              "      <td>0.023152</td>\n",
              "      <td>0.019560</td>\n",
              "      <td>0.019619</td>\n",
              "      <td>0.044417</td>\n",
              "      <td>0.036421</td>\n",
              "      <td>0.032502</td>\n",
              "      <td>0.028421</td>\n",
              "      <td>0.042244</td>\n",
              "      <td>0.057418</td>\n",
              "      <td>0.023962</td>\n",
              "      <td>0.035185</td>\n",
              "      <td>0.034335</td>\n",
              "      <td>0.198867</td>\n",
              "      <td>0.039799</td>\n",
              "      <td>...</td>\n",
              "      <td>0.030603</td>\n",
              "      <td>0.041772</td>\n",
              "      <td>0.109033</td>\n",
              "      <td>0.031585</td>\n",
              "      <td>0.022372</td>\n",
              "      <td>0.025622</td>\n",
              "      <td>0.144457</td>\n",
              "      <td>0.026739</td>\n",
              "      <td>0.044311</td>\n",
              "      <td>0.022156</td>\n",
              "      <td>1.000000</td>\n",
              "      <td>0.077812</td>\n",
              "      <td>0.027305</td>\n",
              "      <td>0.034884</td>\n",
              "      <td>0.037872</td>\n",
              "      <td>0.034711</td>\n",
              "      <td>0.062537</td>\n",
              "      <td>0.022992</td>\n",
              "      <td>0.017412</td>\n",
              "      <td>0.026309</td>\n",
              "      <td>0.069581</td>\n",
              "      <td>0.023458</td>\n",
              "      <td>0.031750</td>\n",
              "      <td>0.062288</td>\n",
              "      <td>0.047949</td>\n",
              "      <td>0.065688</td>\n",
              "      <td>0.026081</td>\n",
              "      <td>0.351213</td>\n",
              "      <td>0.023612</td>\n",
              "      <td>0.037607</td>\n",
              "      <td>0.050141</td>\n",
              "      <td>0.070332</td>\n",
              "      <td>0.041414</td>\n",
              "      <td>0.074504</td>\n",
              "      <td>0.093213</td>\n",
              "      <td>0.055223</td>\n",
              "      <td>0.061146</td>\n",
              "      <td>0.024411</td>\n",
              "      <td>0.102949</td>\n",
              "      <td>0.052138</td>\n",
              "    </tr>\n",
              "    <tr>\n",
              "      <th>9</th>\n",
              "      <td>0.100899</td>\n",
              "      <td>0.033640</td>\n",
              "      <td>0.036682</td>\n",
              "      <td>0.069605</td>\n",
              "      <td>0.090580</td>\n",
              "      <td>0.041658</td>\n",
              "      <td>0.098788</td>\n",
              "      <td>0.348548</td>\n",
              "      <td>0.031231</td>\n",
              "      <td>1.000000</td>\n",
              "      <td>0.109857</td>\n",
              "      <td>0.094248</td>\n",
              "      <td>0.069778</td>\n",
              "      <td>0.049547</td>\n",
              "      <td>0.040541</td>\n",
              "      <td>0.055142</td>\n",
              "      <td>0.024864</td>\n",
              "      <td>0.238009</td>\n",
              "      <td>0.034643</td>\n",
              "      <td>0.048244</td>\n",
              "      <td>0.073719</td>\n",
              "      <td>0.065124</td>\n",
              "      <td>0.050254</td>\n",
              "      <td>0.314125</td>\n",
              "      <td>0.059329</td>\n",
              "      <td>0.027751</td>\n",
              "      <td>0.044681</td>\n",
              "      <td>0.030582</td>\n",
              "      <td>0.229719</td>\n",
              "      <td>0.029184</td>\n",
              "      <td>0.033325</td>\n",
              "      <td>0.042380</td>\n",
              "      <td>0.096815</td>\n",
              "      <td>0.075600</td>\n",
              "      <td>0.082699</td>\n",
              "      <td>0.102857</td>\n",
              "      <td>0.229782</td>\n",
              "      <td>0.034738</td>\n",
              "      <td>0.081453</td>\n",
              "      <td>0.059400</td>\n",
              "      <td>...</td>\n",
              "      <td>0.041061</td>\n",
              "      <td>0.040138</td>\n",
              "      <td>0.370067</td>\n",
              "      <td>0.098754</td>\n",
              "      <td>0.174233</td>\n",
              "      <td>0.021533</td>\n",
              "      <td>0.065599</td>\n",
              "      <td>0.035009</td>\n",
              "      <td>0.051982</td>\n",
              "      <td>0.106359</td>\n",
              "      <td>0.031231</td>\n",
              "      <td>0.265741</td>\n",
              "      <td>0.338425</td>\n",
              "      <td>0.011239</td>\n",
              "      <td>0.056164</td>\n",
              "      <td>0.068635</td>\n",
              "      <td>0.045016</td>\n",
              "      <td>0.017806</td>\n",
              "      <td>0.009251</td>\n",
              "      <td>0.064903</td>\n",
              "      <td>0.040420</td>\n",
              "      <td>0.461241</td>\n",
              "      <td>0.036293</td>\n",
              "      <td>0.052547</td>\n",
              "      <td>0.109205</td>\n",
              "      <td>0.067616</td>\n",
              "      <td>0.050726</td>\n",
              "      <td>0.065761</td>\n",
              "      <td>0.022547</td>\n",
              "      <td>0.042701</td>\n",
              "      <td>0.056573</td>\n",
              "      <td>0.028759</td>\n",
              "      <td>0.123645</td>\n",
              "      <td>0.303798</td>\n",
              "      <td>0.045806</td>\n",
              "      <td>0.063113</td>\n",
              "      <td>0.091584</td>\n",
              "      <td>0.093290</td>\n",
              "      <td>0.039537</td>\n",
              "      <td>0.291404</td>\n",
              "    </tr>\n",
              "  </tbody>\n",
              "</table>\n",
              "<p>10 rows × 401 columns</p>\n",
              "</div>"
            ],
            "text/plain": [
              "        0         1         2    ...       398       399       400\n",
              "0  1.000000  0.019081  0.020233  ...  0.114178  0.043031  0.075299\n",
              "1  0.019081  1.000000  0.105942  ...  0.021294  0.331262  0.033906\n",
              "2  0.020233  0.105942  1.000000  ...  0.012441  0.109304  0.035012\n",
              "3  0.306865  0.016471  0.043213  ...  0.438308  0.048327  0.241189\n",
              "4  0.088673  0.036776  0.038144  ...  0.045750  0.062908  0.122753\n",
              "5  0.045698  0.081417  0.060766  ...  0.060309  0.122030  0.030326\n",
              "6  0.099250  0.093182  0.033574  ...  0.260873  0.065473  0.123082\n",
              "7  0.109274  0.048319  0.069034  ...  0.287419  0.029240  0.545087\n",
              "8  0.034678  0.058999  0.124355  ...  0.024411  0.102949  0.052138\n",
              "9  0.100899  0.033640  0.036682  ...  0.093290  0.039537  0.291404\n",
              "\n",
              "[10 rows x 401 columns]"
            ]
          },
          "metadata": {
            "tags": []
          },
          "execution_count": 44
        }
      ]
    },
    {
      "cell_type": "markdown",
      "metadata": {
        "id": "mcwHJSCZA8PX"
      },
      "source": [
        "30% similarity between articles 0 and 3"
      ]
    },
    {
      "cell_type": "code",
      "metadata": {
        "colab": {
          "base_uri": "https://localhost:8080/"
        },
        "id": "z_UivQvp_33d",
        "outputId": "61616454-8b58-4361-b59f-a786a55d81ba"
      },
      "source": [
        "df.shape"
      ],
      "execution_count": null,
      "outputs": [
        {
          "output_type": "execute_result",
          "data": {
            "text/plain": [
              "(401, 401)"
            ]
          },
          "metadata": {
            "tags": []
          },
          "execution_count": 40
        }
      ]
    },
    {
      "cell_type": "code",
      "metadata": {
        "colab": {
          "base_uri": "https://localhost:8080/"
        },
        "id": "_AJVmoOD_3M4",
        "outputId": "681d1d07-0c45-4435-b957-9386da32e402"
      },
      "source": [
        "data[0]"
      ],
      "execution_count": null,
      "outputs": [
        {
          "output_type": "execute_result",
          "data": {
            "text/plain": [
              "b'Millions buy MP3 players in US\\r\\n\\r\\nOne in 10 adult Americans - equivalent to 22 million people - owns an MP3 player, according to a survey.\\r\\n\\r\\nA study by the Pew Internet and American Life Project found that MP3 players are the gadget of choice among affluent young Americans. The survey did not interview teenagers but it is likely that millions of under-18s also have MP3 players. The American love affair with digital music players has been made possible as more and more homes get broadband.\\r\\n\\r\\nOf the 22 million Americans who own MP3 players, 59% are men compared to 41% of women. Those on high income - judged to be $75,000 (\\xc2\\xa339,000) or above - are four times more likely to have players than those earning less than $30, 000 ( \\xc2\\xa315,000). Broadband access plays a big part in ownership too. Almost a quarter of those with broadband at home have players, compared to 9% of those who have dial-up access. MP3 players are still the gadget of choice for younger adults. Almost one in five US citizens aged under 30 have one. This compares to 14% of those aged 30-39 and 14% of those aged 40-48. The influence of children also plays a part. Sixteen percent of parents living with children under 18 have digital players compared to 9% of those who don\\'t. The ease of use and growth of music available on the net are the main factors for the upsurge in ownership, the survey found. People are beginning to use them as instruments of social activity - sharing songs and taking part in podcasting - the survey found. \"IPods and MP3 players are becoming a mainstream technology for consumers\" said Lee Rainie, director of the Pew Internet and American Life Project. \"More growth in the market is inevitable as new devices become available, as new players enter the market, and as new social uses for iPods/MP3 players become popular,\" he added.\\r\\n'"
            ]
          },
          "metadata": {
            "tags": []
          },
          "execution_count": 41
        }
      ]
    },
    {
      "cell_type": "code",
      "metadata": {
        "colab": {
          "base_uri": "https://localhost:8080/"
        },
        "id": "QQKIwaGo_3F-",
        "outputId": "1519a538-bffe-4695-a264-344fb0617f55"
      },
      "source": [
        "data[3]"
      ],
      "execution_count": null,
      "outputs": [
        {
          "output_type": "execute_result",
          "data": {
            "text/plain": [
              "b'Gadget show heralds MP3 season\\r\\n\\r\\nPartners of those who love their hi-tech gear may want to get their presents in early as experts predict a gadget shortage this Christmas.\\r\\n\\r\\nWith Apple\\'s iPod topping wish lists again, there may not be enough iPod minis to go round, predicts Oliver Irish, editor of gadget magazine Stuff. \"The iPod mini is likely to be this year\\'s Tracey Island,\" said Mr Irish. Stuff has compiled a list of the top 10 gadgets for 2004 and the iPod is at number one.\\r\\n\\r\\nFor anyone bewildered by the choice of gadgets on the market, Stuff and What Hi-Fi? are hosting a best-of gadget show in London this weekend. Star of the show will be Sony\\'s Qrio Robot, an all-singing, all-dancing, football-playing man-machine who can even hold intelligent conversations.\\r\\n\\r\\nBut he is not for sale and Sony has no commercial plans for the robot. \"He will greet visitors and is flying in from Japan. He probably has his own airplane seat, that is how highly Sony prize him,\" said Mr Irish. Also on display will be a virtual keyboard which projects itself onto any flat surface. The event will play host to a large collection of digital music players, from companies such as Creative, Sony and Philips as well as the ubiquitously fashionable iPod from Apple. Suggestions that it could be a gaming or wireless Christmas are unlikely to come true as MP3 players remain the most popular stocking filler, said Mr Irish. \"Demand is huge and Apple has promised that it can supply enough but people might struggle to get their hands on iPod minis,\" said Mr Irish.\\r\\n\\r\\nFor those who like their gadgets to be multi-talented, the Gizmondo, a powerful gaming console with GPS and GPRS, that also doubles up as an MP3 player, movie player and camera, could be a must-have. \"What is impressive is how much it can do and how well it can do them,\" said Mr Irish. This Christmas, gadgets will not be an all-male preserve. \"Women will be getting gadgets from husbands and boyfriends as well as buying them for themselves,\" said Mr Irish. \"Gadgets nowadays are lifestyle products rather than just for geeks.\"\\r\\n'"
            ]
          },
          "metadata": {
            "tags": []
          },
          "execution_count": 42
        }
      ]
    },
    {
      "cell_type": "code",
      "metadata": {
        "colab": {
          "base_uri": "https://localhost:8080/"
        },
        "id": "YaWCVH1__3AY",
        "outputId": "2a6870ab-6478-4dca-ac92-93d1d26758bc"
      },
      "source": [
        "# Rank similarity scores for first article. Top 5\n",
        "df[df[0] < 1.0][0].sort_values(ascending=False)[:5]"
      ],
      "execution_count": null,
      "outputs": [
        {
          "output_type": "execute_result",
          "data": {
            "text/plain": [
              "3      0.306865\n",
              "376    0.302591\n",
              "118    0.285488\n",
              "385    0.285488\n",
              "244    0.260332\n",
              "Name: 0, dtype: float64"
            ]
          },
          "metadata": {
            "tags": []
          },
          "execution_count": 43
        }
      ]
    },
    {
      "cell_type": "code",
      "metadata": {
        "id": "i-94-xUO_27a"
      },
      "source": [
        ""
      ],
      "execution_count": null,
      "outputs": []
    },
    {
      "cell_type": "code",
      "metadata": {
        "id": "aa34aVgx_222"
      },
      "source": [
        ""
      ],
      "execution_count": null,
      "outputs": []
    },
    {
      "cell_type": "code",
      "metadata": {
        "id": "XJF4ShYf_2xP"
      },
      "source": [
        ""
      ],
      "execution_count": null,
      "outputs": []
    },
    {
      "cell_type": "code",
      "metadata": {
        "id": "Uyhagc7j_2r7"
      },
      "source": [
        ""
      ],
      "execution_count": null,
      "outputs": []
    },
    {
      "cell_type": "code",
      "metadata": {
        "id": "XJ8r-ZPnlhY9",
        "outputId": "bd8e9a28-1db8-417d-d70e-b3ce4d8720d2"
      },
      "source": [
        "# Our Similarity Matrix is ? size \n",
        "df.shape"
      ],
      "execution_count": null,
      "outputs": [
        {
          "output_type": "execute_result",
          "data": {
            "text/plain": [
              "(401, 401)"
            ]
          },
          "metadata": {
            "tags": []
          },
          "execution_count": 41
        }
      ]
    },
    {
      "cell_type": "code",
      "metadata": {
        "id": "lzwF7KETlhY9",
        "outputId": "68de3234-5933-49a2-bf58-100d356d22fc"
      },
      "source": [
        "data[0][:100]"
      ],
      "execution_count": null,
      "outputs": [
        {
          "output_type": "execute_result",
          "data": {
            "text/plain": [
              "b'Mobiles rack up 20 years of use\\n\\nMobile phones in the UK are celebrating their 20th anniversary this'"
            ]
          },
          "metadata": {
            "tags": []
          },
          "execution_count": 42
        }
      ]
    },
    {
      "cell_type": "code",
      "metadata": {
        "id": "v8kfXluulhY-",
        "outputId": "ac8f791f-7036-4745-c7d4-eeda0b548507"
      },
      "source": [
        "# Each row is the similarity of one document to all other documents (including itself)\n",
        "df[0][:5]"
      ],
      "execution_count": null,
      "outputs": [
        {
          "output_type": "execute_result",
          "data": {
            "text/plain": [
              "0    1.000000\n",
              "1    0.075861\n",
              "2    0.042398\n",
              "3    0.011078\n",
              "4    0.055294\n",
              "Name: 0, dtype: float64"
            ]
          },
          "metadata": {
            "tags": []
          },
          "execution_count": 43
        }
      ]
    },
    {
      "cell_type": "code",
      "metadata": {
        "id": "d3tz5xGflhY-",
        "outputId": "af9cfe46-3d63-43be-e3ef-7bcc7dcf5673"
      },
      "source": [
        "# Grab the row\n",
        "df[df[0] < 1][0].sort_values(ascending=False)[:5]"
      ],
      "execution_count": null,
      "outputs": [
        {
          "output_type": "execute_result",
          "data": {
            "text/plain": [
              "297    0.296352\n",
              "300    0.290672\n",
              "92     0.266468\n",
              "381    0.242043\n",
              "63     0.236623\n",
              "Name: 0, dtype: float64"
            ]
          },
          "metadata": {
            "tags": []
          },
          "execution_count": 48
        }
      ]
    },
    {
      "cell_type": "code",
      "metadata": {
        "id": "L_JgdwuIlhY-",
        "outputId": "161b1592-3a1b-4f3a-e6fb-b998f0729467"
      },
      "source": [
        "print(data[0][:150])"
      ],
      "execution_count": null,
      "outputs": [
        {
          "output_type": "stream",
          "text": [
            "b\"Mobiles rack up 20 years of use\\n\\nMobile phones in the UK are celebrating their 20th anniversary this weekend.\\n\\nBritain's first mobile phone call was m\"\n"
          ],
          "name": "stdout"
        }
      ]
    },
    {
      "cell_type": "code",
      "metadata": {
        "id": "t0FRKCb0lhY_",
        "outputId": "7fc0b712-84ce-4cd0-98bd-94cb63aec1be"
      },
      "source": [
        "print(data[297][:150])"
      ],
      "execution_count": null,
      "outputs": [
        {
          "output_type": "stream",
          "text": [
            "b\"'Friends fear' with lost mobiles\\n\\nPeople are becoming so dependent on their mobile phones that one in three are concerned that losing their phone woul\"\n"
          ],
          "name": "stdout"
        }
      ]
    },
    {
      "cell_type": "markdown",
      "metadata": {
        "id": "cZk3i6XelhY_"
      },
      "source": [
        "### NearestNeighbor (K-NN) \n",
        "\n",
        "To address the computational inefficiencies of the brute-force approach, a variety of tree-based data structures have been invented. In general, these structures attempt to reduce the required number of distance calculations by efficiently encoding aggregate distance information for the sample. The basic idea is that if point  is very distant from point , and point  is very close to point , then we know that points  and  are very distant, without having to explicitly calculate their distance. In this way, the computational cost of a nearest neighbors search can be reduced to  or better. This is a significant improvement over brute-force for large data.\n",
        "\n",
        "To address the inefficiencies of KD Trees in higher dimensions, the ball tree data structure was developed. Where KD trees partition data along Cartesian axes, ball trees partition data in a series of nesting hyper-spheres. This makes tree construction more costly than that of the KD tree, but results in a data structure which can be very efficient on highly structured data, even in very high dimensions.\n",
        "\n",
        "A ball tree recursively divides the data into nodes defined by a centroid  and radius , such that each point in the node lies within the hyper-sphere defined by  and . The number of candidate points for a neighbor search is reduced through use of the triangle inequality:\n",
        "\n",
        "With this setup, a single distance calculation between a test point and the centroid is sufficient to determine a lower and upper bound on the distance to all points within the node. Because of the spherical geometry of the ball tree nodes, it can out-perform a KD-tree in high dimensions, though the actual performance is highly dependent on the structure of the training data. In scikit-learn, ball-tree-based neighbors searches are specified using the keyword algorithm = 'ball_tree', and are computed using the class sklearn.neighbors.BallTree. Alternatively, the user can work with the BallTree class directly."
      ]
    },
    {
      "cell_type": "code",
      "metadata": {
        "id": "v6X-KRD_lhY_",
        "colab": {
          "base_uri": "https://localhost:8080/",
          "height": 263
        },
        "outputId": "621240cc-856e-426b-de0a-b84da7a5f087"
      },
      "source": [
        "dtm.head()"
      ],
      "execution_count": null,
      "outputs": [
        {
          "output_type": "execute_result",
          "data": {
            "text/html": [
              "<div>\n",
              "<style scoped>\n",
              "    .dataframe tbody tr th:only-of-type {\n",
              "        vertical-align: middle;\n",
              "    }\n",
              "\n",
              "    .dataframe tbody tr th {\n",
              "        vertical-align: top;\n",
              "    }\n",
              "\n",
              "    .dataframe thead th {\n",
              "        text-align: right;\n",
              "    }\n",
              "</style>\n",
              "<table border=\"1\" class=\"dataframe\">\n",
              "  <thead>\n",
              "    <tr style=\"text-align: right;\">\n",
              "      <th></th>\n",
              "      <th>accord</th>\n",
              "      <th>apple</th>\n",
              "      <th>company</th>\n",
              "      <th>computer</th>\n",
              "      <th>consumer</th>\n",
              "      <th>game</th>\n",
              "      <th>high</th>\n",
              "      <th>late</th>\n",
              "      <th>microsoft</th>\n",
              "      <th>mobile</th>\n",
              "      <th>mr</th>\n",
              "      <th>net</th>\n",
              "      <th>new</th>\n",
              "      <th>number</th>\n",
              "      <th>people</th>\n",
              "      <th>say</th>\n",
              "      <th>sony</th>\n",
              "      <th>study</th>\n",
              "      <th>technology</th>\n",
              "      <th>think</th>\n",
              "      <th>time</th>\n",
              "      <th>uk</th>\n",
              "      <th>year</th>\n",
              "      <th>$</th>\n",
              "      <th>1</th>\n",
              "      <th>1,000</th>\n",
              "      <th>1.3</th>\n",
              "      <th>10</th>\n",
              "      <th>100</th>\n",
              "      <th>100,000</th>\n",
              "      <th>11</th>\n",
              "      <th>12</th>\n",
              "      <th>12 month</th>\n",
              "      <th>120</th>\n",
              "      <th>13</th>\n",
              "      <th>14</th>\n",
              "      <th>15</th>\n",
              "      <th>150</th>\n",
              "      <th>16</th>\n",
              "      <th>17</th>\n",
              "      <th>...</th>\n",
              "      <th>whilst</th>\n",
              "      <th>wi</th>\n",
              "      <th>wi fi</th>\n",
              "      <th>wide</th>\n",
              "      <th>wide range</th>\n",
              "      <th>widely</th>\n",
              "      <th>win</th>\n",
              "      <th>window</th>\n",
              "      <th>windows</th>\n",
              "      <th>windows xp</th>\n",
              "      <th>winner</th>\n",
              "      <th>wireless</th>\n",
              "      <th>wish</th>\n",
              "      <th>woman</th>\n",
              "      <th>word</th>\n",
              "      <th>work</th>\n",
              "      <th>work</th>\n",
              "      <th>worker</th>\n",
              "      <th>world</th>\n",
              "      <th>world say</th>\n",
              "      <th>world service</th>\n",
              "      <th>worldwide</th>\n",
              "      <th>worm</th>\n",
              "      <th>worry</th>\n",
              "      <th>worth</th>\n",
              "      <th>write</th>\n",
              "      <th>writer</th>\n",
              "      <th>writing</th>\n",
              "      <th>wrong</th>\n",
              "      <th>xbox</th>\n",
              "      <th>xbox 2</th>\n",
              "      <th>xp</th>\n",
              "      <th>yahoo</th>\n",
              "      <th>year</th>\n",
              "      <th>year</th>\n",
              "      <th>year ago</th>\n",
              "      <th>year say</th>\n",
              "      <th>york</th>\n",
              "      <th>young</th>\n",
              "      <th>£</th>\n",
              "    </tr>\n",
              "  </thead>\n",
              "  <tbody>\n",
              "    <tr>\n",
              "      <th>0</th>\n",
              "      <td>0.0</td>\n",
              "      <td>0.000000</td>\n",
              "      <td>0.000000</td>\n",
              "      <td>0.0</td>\n",
              "      <td>0.0</td>\n",
              "      <td>0.0</td>\n",
              "      <td>0.0</td>\n",
              "      <td>0.0</td>\n",
              "      <td>0.0</td>\n",
              "      <td>0.0</td>\n",
              "      <td>0.0</td>\n",
              "      <td>0.0</td>\n",
              "      <td>0.0</td>\n",
              "      <td>0.000000</td>\n",
              "      <td>0.0</td>\n",
              "      <td>0.0</td>\n",
              "      <td>0.0</td>\n",
              "      <td>0.062152</td>\n",
              "      <td>0.0</td>\n",
              "      <td>0.0</td>\n",
              "      <td>0.0</td>\n",
              "      <td>0.0</td>\n",
              "      <td>0.0</td>\n",
              "      <td>0.075713</td>\n",
              "      <td>0.0</td>\n",
              "      <td>0.0</td>\n",
              "      <td>0.000000</td>\n",
              "      <td>0.034548</td>\n",
              "      <td>0.0</td>\n",
              "      <td>0.0</td>\n",
              "      <td>0.0</td>\n",
              "      <td>0.0</td>\n",
              "      <td>0.0</td>\n",
              "      <td>0.0</td>\n",
              "      <td>0.0</td>\n",
              "      <td>0.110229</td>\n",
              "      <td>0.0</td>\n",
              "      <td>0.000000</td>\n",
              "      <td>0.0</td>\n",
              "      <td>0.0</td>\n",
              "      <td>...</td>\n",
              "      <td>0.0</td>\n",
              "      <td>0.0</td>\n",
              "      <td>0.0</td>\n",
              "      <td>0.0</td>\n",
              "      <td>0.0</td>\n",
              "      <td>0.0</td>\n",
              "      <td>0.000000</td>\n",
              "      <td>0.0</td>\n",
              "      <td>0.0</td>\n",
              "      <td>0.0</td>\n",
              "      <td>0.0</td>\n",
              "      <td>0.00000</td>\n",
              "      <td>0.000000</td>\n",
              "      <td>0.053189</td>\n",
              "      <td>0.0</td>\n",
              "      <td>0.000000</td>\n",
              "      <td>0.0</td>\n",
              "      <td>0.0</td>\n",
              "      <td>0.000000</td>\n",
              "      <td>0.0</td>\n",
              "      <td>0.000000</td>\n",
              "      <td>0.000000</td>\n",
              "      <td>0.0</td>\n",
              "      <td>0.0</td>\n",
              "      <td>0.0</td>\n",
              "      <td>0.0</td>\n",
              "      <td>0.0</td>\n",
              "      <td>0.0</td>\n",
              "      <td>0.0</td>\n",
              "      <td>0.0</td>\n",
              "      <td>0.0</td>\n",
              "      <td>0.0</td>\n",
              "      <td>0.0</td>\n",
              "      <td>0.000000</td>\n",
              "      <td>0.0</td>\n",
              "      <td>0.0</td>\n",
              "      <td>0.0</td>\n",
              "      <td>0.0</td>\n",
              "      <td>0.105206</td>\n",
              "      <td>0.067010</td>\n",
              "    </tr>\n",
              "    <tr>\n",
              "      <th>1</th>\n",
              "      <td>0.0</td>\n",
              "      <td>0.000000</td>\n",
              "      <td>0.043466</td>\n",
              "      <td>0.0</td>\n",
              "      <td>0.0</td>\n",
              "      <td>0.0</td>\n",
              "      <td>0.0</td>\n",
              "      <td>0.0</td>\n",
              "      <td>0.0</td>\n",
              "      <td>0.0</td>\n",
              "      <td>0.0</td>\n",
              "      <td>0.0</td>\n",
              "      <td>0.0</td>\n",
              "      <td>0.000000</td>\n",
              "      <td>0.0</td>\n",
              "      <td>0.0</td>\n",
              "      <td>0.0</td>\n",
              "      <td>0.000000</td>\n",
              "      <td>0.0</td>\n",
              "      <td>0.0</td>\n",
              "      <td>0.0</td>\n",
              "      <td>0.0</td>\n",
              "      <td>0.0</td>\n",
              "      <td>0.000000</td>\n",
              "      <td>0.0</td>\n",
              "      <td>0.0</td>\n",
              "      <td>0.000000</td>\n",
              "      <td>0.000000</td>\n",
              "      <td>0.0</td>\n",
              "      <td>0.0</td>\n",
              "      <td>0.0</td>\n",
              "      <td>0.0</td>\n",
              "      <td>0.0</td>\n",
              "      <td>0.0</td>\n",
              "      <td>0.0</td>\n",
              "      <td>0.000000</td>\n",
              "      <td>0.0</td>\n",
              "      <td>0.000000</td>\n",
              "      <td>0.0</td>\n",
              "      <td>0.0</td>\n",
              "      <td>...</td>\n",
              "      <td>0.0</td>\n",
              "      <td>0.0</td>\n",
              "      <td>0.0</td>\n",
              "      <td>0.0</td>\n",
              "      <td>0.0</td>\n",
              "      <td>0.0</td>\n",
              "      <td>0.000000</td>\n",
              "      <td>0.0</td>\n",
              "      <td>0.0</td>\n",
              "      <td>0.0</td>\n",
              "      <td>0.0</td>\n",
              "      <td>0.00000</td>\n",
              "      <td>0.000000</td>\n",
              "      <td>0.000000</td>\n",
              "      <td>0.0</td>\n",
              "      <td>0.000000</td>\n",
              "      <td>0.0</td>\n",
              "      <td>0.0</td>\n",
              "      <td>0.018816</td>\n",
              "      <td>0.0</td>\n",
              "      <td>0.038545</td>\n",
              "      <td>0.000000</td>\n",
              "      <td>0.0</td>\n",
              "      <td>0.0</td>\n",
              "      <td>0.0</td>\n",
              "      <td>0.0</td>\n",
              "      <td>0.0</td>\n",
              "      <td>0.0</td>\n",
              "      <td>0.0</td>\n",
              "      <td>0.0</td>\n",
              "      <td>0.0</td>\n",
              "      <td>0.0</td>\n",
              "      <td>0.0</td>\n",
              "      <td>0.014807</td>\n",
              "      <td>0.0</td>\n",
              "      <td>0.0</td>\n",
              "      <td>0.0</td>\n",
              "      <td>0.0</td>\n",
              "      <td>0.000000</td>\n",
              "      <td>0.000000</td>\n",
              "    </tr>\n",
              "    <tr>\n",
              "      <th>2</th>\n",
              "      <td>0.0</td>\n",
              "      <td>0.000000</td>\n",
              "      <td>0.000000</td>\n",
              "      <td>0.0</td>\n",
              "      <td>0.0</td>\n",
              "      <td>0.0</td>\n",
              "      <td>0.0</td>\n",
              "      <td>0.0</td>\n",
              "      <td>0.0</td>\n",
              "      <td>0.0</td>\n",
              "      <td>0.0</td>\n",
              "      <td>0.0</td>\n",
              "      <td>0.0</td>\n",
              "      <td>0.000000</td>\n",
              "      <td>0.0</td>\n",
              "      <td>0.0</td>\n",
              "      <td>0.0</td>\n",
              "      <td>0.000000</td>\n",
              "      <td>0.0</td>\n",
              "      <td>0.0</td>\n",
              "      <td>0.0</td>\n",
              "      <td>0.0</td>\n",
              "      <td>0.0</td>\n",
              "      <td>0.000000</td>\n",
              "      <td>0.0</td>\n",
              "      <td>0.0</td>\n",
              "      <td>0.000000</td>\n",
              "      <td>0.000000</td>\n",
              "      <td>0.0</td>\n",
              "      <td>0.0</td>\n",
              "      <td>0.0</td>\n",
              "      <td>0.0</td>\n",
              "      <td>0.0</td>\n",
              "      <td>0.0</td>\n",
              "      <td>0.0</td>\n",
              "      <td>0.000000</td>\n",
              "      <td>0.0</td>\n",
              "      <td>0.000000</td>\n",
              "      <td>0.0</td>\n",
              "      <td>0.0</td>\n",
              "      <td>...</td>\n",
              "      <td>0.0</td>\n",
              "      <td>0.0</td>\n",
              "      <td>0.0</td>\n",
              "      <td>0.0</td>\n",
              "      <td>0.0</td>\n",
              "      <td>0.0</td>\n",
              "      <td>0.041194</td>\n",
              "      <td>0.0</td>\n",
              "      <td>0.0</td>\n",
              "      <td>0.0</td>\n",
              "      <td>0.0</td>\n",
              "      <td>0.00000</td>\n",
              "      <td>0.000000</td>\n",
              "      <td>0.000000</td>\n",
              "      <td>0.0</td>\n",
              "      <td>0.023129</td>\n",
              "      <td>0.0</td>\n",
              "      <td>0.0</td>\n",
              "      <td>0.051485</td>\n",
              "      <td>0.0</td>\n",
              "      <td>0.000000</td>\n",
              "      <td>0.000000</td>\n",
              "      <td>0.0</td>\n",
              "      <td>0.0</td>\n",
              "      <td>0.0</td>\n",
              "      <td>0.0</td>\n",
              "      <td>0.0</td>\n",
              "      <td>0.0</td>\n",
              "      <td>0.0</td>\n",
              "      <td>0.0</td>\n",
              "      <td>0.0</td>\n",
              "      <td>0.0</td>\n",
              "      <td>0.0</td>\n",
              "      <td>0.000000</td>\n",
              "      <td>0.0</td>\n",
              "      <td>0.0</td>\n",
              "      <td>0.0</td>\n",
              "      <td>0.0</td>\n",
              "      <td>0.000000</td>\n",
              "      <td>0.000000</td>\n",
              "    </tr>\n",
              "    <tr>\n",
              "      <th>3</th>\n",
              "      <td>0.0</td>\n",
              "      <td>0.066907</td>\n",
              "      <td>0.000000</td>\n",
              "      <td>0.0</td>\n",
              "      <td>0.0</td>\n",
              "      <td>0.0</td>\n",
              "      <td>0.0</td>\n",
              "      <td>0.0</td>\n",
              "      <td>0.0</td>\n",
              "      <td>0.0</td>\n",
              "      <td>0.0</td>\n",
              "      <td>0.0</td>\n",
              "      <td>0.0</td>\n",
              "      <td>0.000000</td>\n",
              "      <td>0.0</td>\n",
              "      <td>0.0</td>\n",
              "      <td>0.0</td>\n",
              "      <td>0.000000</td>\n",
              "      <td>0.0</td>\n",
              "      <td>0.0</td>\n",
              "      <td>0.0</td>\n",
              "      <td>0.0</td>\n",
              "      <td>0.0</td>\n",
              "      <td>0.000000</td>\n",
              "      <td>0.0</td>\n",
              "      <td>0.0</td>\n",
              "      <td>0.000000</td>\n",
              "      <td>0.041409</td>\n",
              "      <td>0.0</td>\n",
              "      <td>0.0</td>\n",
              "      <td>0.0</td>\n",
              "      <td>0.0</td>\n",
              "      <td>0.0</td>\n",
              "      <td>0.0</td>\n",
              "      <td>0.0</td>\n",
              "      <td>0.000000</td>\n",
              "      <td>0.0</td>\n",
              "      <td>0.000000</td>\n",
              "      <td>0.0</td>\n",
              "      <td>0.0</td>\n",
              "      <td>...</td>\n",
              "      <td>0.0</td>\n",
              "      <td>0.0</td>\n",
              "      <td>0.0</td>\n",
              "      <td>0.0</td>\n",
              "      <td>0.0</td>\n",
              "      <td>0.0</td>\n",
              "      <td>0.000000</td>\n",
              "      <td>0.0</td>\n",
              "      <td>0.0</td>\n",
              "      <td>0.0</td>\n",
              "      <td>0.0</td>\n",
              "      <td>0.04966</td>\n",
              "      <td>0.073173</td>\n",
              "      <td>0.063753</td>\n",
              "      <td>0.0</td>\n",
              "      <td>0.000000</td>\n",
              "      <td>0.0</td>\n",
              "      <td>0.0</td>\n",
              "      <td>0.000000</td>\n",
              "      <td>0.0</td>\n",
              "      <td>0.000000</td>\n",
              "      <td>0.000000</td>\n",
              "      <td>0.0</td>\n",
              "      <td>0.0</td>\n",
              "      <td>0.0</td>\n",
              "      <td>0.0</td>\n",
              "      <td>0.0</td>\n",
              "      <td>0.0</td>\n",
              "      <td>0.0</td>\n",
              "      <td>0.0</td>\n",
              "      <td>0.0</td>\n",
              "      <td>0.0</td>\n",
              "      <td>0.0</td>\n",
              "      <td>0.025377</td>\n",
              "      <td>0.0</td>\n",
              "      <td>0.0</td>\n",
              "      <td>0.0</td>\n",
              "      <td>0.0</td>\n",
              "      <td>0.000000</td>\n",
              "      <td>0.000000</td>\n",
              "    </tr>\n",
              "    <tr>\n",
              "      <th>4</th>\n",
              "      <td>0.0</td>\n",
              "      <td>0.000000</td>\n",
              "      <td>0.000000</td>\n",
              "      <td>0.0</td>\n",
              "      <td>0.0</td>\n",
              "      <td>0.0</td>\n",
              "      <td>0.0</td>\n",
              "      <td>0.0</td>\n",
              "      <td>0.0</td>\n",
              "      <td>0.0</td>\n",
              "      <td>0.0</td>\n",
              "      <td>0.0</td>\n",
              "      <td>0.0</td>\n",
              "      <td>0.089435</td>\n",
              "      <td>0.0</td>\n",
              "      <td>0.0</td>\n",
              "      <td>0.0</td>\n",
              "      <td>0.000000</td>\n",
              "      <td>0.0</td>\n",
              "      <td>0.0</td>\n",
              "      <td>0.0</td>\n",
              "      <td>0.0</td>\n",
              "      <td>0.0</td>\n",
              "      <td>0.053444</td>\n",
              "      <td>0.0</td>\n",
              "      <td>0.0</td>\n",
              "      <td>0.089435</td>\n",
              "      <td>0.000000</td>\n",
              "      <td>0.0</td>\n",
              "      <td>0.0</td>\n",
              "      <td>0.0</td>\n",
              "      <td>0.0</td>\n",
              "      <td>0.0</td>\n",
              "      <td>0.0</td>\n",
              "      <td>0.0</td>\n",
              "      <td>0.000000</td>\n",
              "      <td>0.0</td>\n",
              "      <td>0.089435</td>\n",
              "      <td>0.0</td>\n",
              "      <td>0.0</td>\n",
              "      <td>...</td>\n",
              "      <td>0.0</td>\n",
              "      <td>0.0</td>\n",
              "      <td>0.0</td>\n",
              "      <td>0.0</td>\n",
              "      <td>0.0</td>\n",
              "      <td>0.0</td>\n",
              "      <td>0.060782</td>\n",
              "      <td>0.0</td>\n",
              "      <td>0.0</td>\n",
              "      <td>0.0</td>\n",
              "      <td>0.0</td>\n",
              "      <td>0.00000</td>\n",
              "      <td>0.000000</td>\n",
              "      <td>0.000000</td>\n",
              "      <td>0.0</td>\n",
              "      <td>0.000000</td>\n",
              "      <td>0.0</td>\n",
              "      <td>0.0</td>\n",
              "      <td>0.037984</td>\n",
              "      <td>0.0</td>\n",
              "      <td>0.000000</td>\n",
              "      <td>0.072706</td>\n",
              "      <td>0.0</td>\n",
              "      <td>0.0</td>\n",
              "      <td>0.0</td>\n",
              "      <td>0.0</td>\n",
              "      <td>0.0</td>\n",
              "      <td>0.0</td>\n",
              "      <td>0.0</td>\n",
              "      <td>0.0</td>\n",
              "      <td>0.0</td>\n",
              "      <td>0.0</td>\n",
              "      <td>0.0</td>\n",
              "      <td>0.000000</td>\n",
              "      <td>0.0</td>\n",
              "      <td>0.0</td>\n",
              "      <td>0.0</td>\n",
              "      <td>0.0</td>\n",
              "      <td>0.000000</td>\n",
              "      <td>0.047301</td>\n",
              "    </tr>\n",
              "  </tbody>\n",
              "</table>\n",
              "<p>5 rows × 1710 columns</p>\n",
              "</div>"
            ],
            "text/plain": [
              "    accord     apple   company   computer  ...  year say  york     young         £\n",
              "0      0.0  0.000000  0.000000        0.0  ...       0.0   0.0  0.105206  0.067010\n",
              "1      0.0  0.000000  0.043466        0.0  ...       0.0   0.0  0.000000  0.000000\n",
              "2      0.0  0.000000  0.000000        0.0  ...       0.0   0.0  0.000000  0.000000\n",
              "3      0.0  0.066907  0.000000        0.0  ...       0.0   0.0  0.000000  0.000000\n",
              "4      0.0  0.000000  0.000000        0.0  ...       0.0   0.0  0.000000  0.047301\n",
              "\n",
              "[5 rows x 1710 columns]"
            ]
          },
          "metadata": {
            "tags": []
          },
          "execution_count": 45
        }
      ]
    },
    {
      "cell_type": "code",
      "metadata": {
        "id": "29V_pyv1lhZA",
        "colab": {
          "base_uri": "https://localhost:8080/"
        },
        "outputId": "0bdfea42-6716-44e5-c5e6-aef632aa1165"
      },
      "source": [
        "from sklearn.neighbors import NearestNeighbors\n",
        "\n",
        "# Fit on DTM\n",
        "nn = NearestNeighbors(n_neighbors=5, algorithm='kd_tree') # 5 nearest\n",
        "nn.fit(dtm)"
      ],
      "execution_count": null,
      "outputs": [
        {
          "output_type": "execute_result",
          "data": {
            "text/plain": [
              "NearestNeighbors(algorithm='kd_tree', leaf_size=30, metric='minkowski',\n",
              "                 metric_params=None, n_jobs=None, n_neighbors=5, p=2,\n",
              "                 radius=1.0)"
            ]
          },
          "metadata": {
            "tags": []
          },
          "execution_count": 46
        }
      ]
    },
    {
      "cell_type": "code",
      "metadata": {
        "colab": {
          "base_uri": "https://localhost:8080/"
        },
        "id": "zQR7yK9pdLMA",
        "outputId": "f15ab370-6f9f-4913-f4f3-da4af1905d4c"
      },
      "source": [
        "# Look at random article 265\n",
        "doc_vector = dtm.iloc[265].values\n",
        "doc_vector"
      ],
      "execution_count": null,
      "outputs": [
        {
          "output_type": "execute_result",
          "data": {
            "text/plain": [
              "array([0., 0., 0., ..., 0., 0., 0.])"
            ]
          },
          "metadata": {
            "tags": []
          },
          "execution_count": 48
        }
      ]
    },
    {
      "cell_type": "code",
      "metadata": {
        "id": "Wvqqznu8dLRX"
      },
      "source": [
        "# Query using kneighbors\n",
        "doc_j = [doc_vector]"
      ],
      "execution_count": null,
      "outputs": []
    },
    {
      "cell_type": "code",
      "metadata": {
        "colab": {
          "base_uri": "https://localhost:8080/"
        },
        "id": "qxBcHMwvdLFX",
        "outputId": "46a7f828-2c4b-418c-ff3e-492a21c0cc67"
      },
      "source": [
        "doc_j"
      ],
      "execution_count": null,
      "outputs": [
        {
          "output_type": "execute_result",
          "data": {
            "text/plain": [
              "[array([0., 0., 0., ..., 0., 0., 0.])]"
            ]
          },
          "metadata": {
            "tags": []
          },
          "execution_count": 50
        }
      ]
    },
    {
      "cell_type": "code",
      "metadata": {
        "id": "AmXsPQ44dK7t"
      },
      "source": [
        "n_dist, n_indices = nn.kneighbors(doc_j)"
      ],
      "execution_count": null,
      "outputs": []
    },
    {
      "cell_type": "code",
      "metadata": {
        "colab": {
          "base_uri": "https://localhost:8080/"
        },
        "id": "D4lY8Ucxrc3d",
        "outputId": "ec3904f0-730f-437d-b72e-8d982475f9d0"
      },
      "source": [
        "# Shows distances and corresponding articles with indices\n",
        "n_dist"
      ],
      "execution_count": null,
      "outputs": [
        {
          "output_type": "execute_result",
          "data": {
            "text/plain": [
              "array([[0.        , 0.        , 0.99676403, 0.99676403, 1.02428168]])"
            ]
          },
          "metadata": {
            "tags": []
          },
          "execution_count": 52
        }
      ]
    },
    {
      "cell_type": "code",
      "metadata": {
        "colab": {
          "base_uri": "https://localhost:8080/"
        },
        "id": "mUMDX2MLrcuO",
        "outputId": "ad113f83-958b-4df5-8b19-93a8a9772aca"
      },
      "source": [
        "n_indices"
      ],
      "execution_count": null,
      "outputs": [
        {
          "output_type": "execute_result",
          "data": {
            "text/plain": [
              "array([[143, 265,  49, 306, 128]])"
            ]
          },
          "metadata": {
            "tags": []
          },
          "execution_count": 53
        }
      ]
    },
    {
      "cell_type": "code",
      "metadata": {
        "colab": {
          "base_uri": "https://localhost:8080/"
        },
        "id": "YADPBnrurcmD",
        "outputId": "9d282d90-d095-476d-b2ff-2a5da8eb8649"
      },
      "source": [
        "data[265]"
      ],
      "execution_count": null,
      "outputs": [
        {
          "output_type": "execute_result",
          "data": {
            "text/plain": [
              "b'Microsoft makes anti-piracy move\\r\\n\\r\\nMicrosoft says it is clamping down on people running pirated versions of its Windows operating system by restricting their access to security features.\\r\\n\\r\\nThe Windows Genuine Advantage scheme means people will have to prove their software is genuine from mid-2005. It will still allow those with unauthorised copies to get some crucial security fixes via automatic updates, but their options would be \"limited\". Microsoft releases regular security updates to its software to protect PCs. Either PCs detect updates automatically or users manually download fixes through Microsoft\\'s site. Those running pirated Windows programs would not have access to other downloads and \"add-ons\" that the software giant offers.\\r\\n\\r\\nPeople who try to manually download security patches will have to let Microsoft run an automated checking procedure on their computer or give an identification number.\\r\\n\\r\\nMicrosoft\\'s regular patches which it releases for newly-found security flaws are important because they stop worms, viruses and other threats penetrating PCs. Some security experts are concerned that restricting access to such patches could mean a rise in such attacks and threats, with more PCs left unprotected. But Graham Cluley, senior consultant at security firm Sophos, told the BBC News website that it was a positive decision. \"It sounds like their decision to allow critical security patches to remain available to both legitimate and illegitimate users of Windows is good news for everyone who uses the net,\" he said. Windows Genuine Advantage was first introduced as a pilot scheme in September 2004 for English-language versions of Windows.\\r\\n\\r\\nMicrosoft\\'s Windows operating system is heavily exploited by virus writers because it is so widespread and they are constantly seeking out new security loopholes to take advantage of. The company is trying to tackle security threats whilst cracking down on pirated software at the same time. Software piracy has cost the company billions, it says. The company announced earlier in January that it was releasing security tools to clean up PCs harbouring viruses and spyware, which 90% of PCs are infected with. The virus-fighting program, updated monthly, is a precursor to Microsoft\\'s dedicated anti-virus software. Last year it introduced the Windows XP Counterfeit Project, a UK-based pilot scheme, which ran from November to December. The scheme meant that anyone with pre-installed copies of the operating system in PCs bought before November could replace counterfeit versions of Windows XP with legal ones for free. It is also increasing efforts to squash software piracy in China, Norway and the Czech Republic, where pirated software is a huge problem, by offering discounts on legitimate software to users of pirated copies Windows. \"China in particular is a problem, with piracy estimated at 92%,\" said Mr Cluley.\\r\\n'"
            ]
          },
          "metadata": {
            "tags": []
          },
          "execution_count": 54
        }
      ]
    },
    {
      "cell_type": "code",
      "metadata": {
        "colab": {
          "base_uri": "https://localhost:8080/"
        },
        "id": "Yy4ogncurssA",
        "outputId": "88a0b836-864b-4391-d2ea-b85332ca653b"
      },
      "source": [
        "data[143]"
      ],
      "execution_count": null,
      "outputs": [
        {
          "output_type": "execute_result",
          "data": {
            "text/plain": [
              "b'Microsoft makes anti-piracy move\\r\\n\\r\\nMicrosoft says it is clamping down on people running pirated versions of its Windows operating system by restricting their access to security features.\\r\\n\\r\\nThe Windows Genuine Advantage scheme means people will have to prove their software is genuine from mid-2005. It will still allow those with unauthorised copies to get some crucial security fixes via automatic updates, but their options would be \"limited\". Microsoft releases regular security updates to its software to protect PCs. Either PCs detect updates automatically or users manually download fixes through Microsoft\\'s site. Those running pirated Windows programs would not have access to other downloads and \"add-ons\" that the software giant offers.\\r\\n\\r\\nPeople who try to manually download security patches will have to let Microsoft run an automated checking procedure on their computer or give an identification number.\\r\\n\\r\\nMicrosoft\\'s regular patches which it releases for newly-found security flaws are important because they stop worms, viruses and other threats penetrating PCs. Some security experts are concerned that restricting access to such patches could mean a rise in such attacks and threats, with more PCs left unprotected. But Graham Cluley, senior consultant at security firm Sophos, told the BBC News website that it was a positive decision. \"It sounds like their decision to allow critical security patches to remain available to both legitimate and illegitimate users of Windows is good news for everyone who uses the net,\" he said. Windows Genuine Advantage was first introduced as a pilot scheme in September 2004 for English-language versions of Windows.\\r\\n\\r\\nMicrosoft\\'s Windows operating system is heavily exploited by virus writers because it is so widespread and they are constantly seeking out new security loopholes to take advantage of. The company is trying to tackle security threats whilst cracking down on pirated software at the same time. Software piracy has cost the company billions, it says. The company announced earlier in January that it was releasing security tools to clean up PCs harbouring viruses and spyware, which 90% of PCs are infected with. The virus-fighting program, updated monthly, is a precursor to Microsoft\\'s dedicated anti-virus software. Last year it introduced the Windows XP Counterfeit Project, a UK-based pilot scheme, which ran from November to December. The scheme meant that anyone with pre-installed copies of the operating system in PCs bought before November could replace counterfeit versions of Windows XP with legal ones for free. It is also increasing efforts to squash software piracy in China, Norway and the Czech Republic, where pirated software is a huge problem, by offering discounts on legitimate software to users of pirated copies Windows. \"China in particular is a problem, with piracy estimated at 92%,\" said Mr Cluley.\\r\\n'"
            ]
          },
          "metadata": {
            "tags": []
          },
          "execution_count": 55
        }
      ]
    },
    {
      "cell_type": "code",
      "metadata": {
        "colab": {
          "base_uri": "https://localhost:8080/"
        },
        "id": "GhlJRhAXr0Gs",
        "outputId": "0a4b6283-e20d-464d-d6a1-923d608713fe"
      },
      "source": [
        "data[49]"
      ],
      "execution_count": null,
      "outputs": [
        {
          "output_type": "execute_result",
          "data": {
            "text/plain": [
              "b'Microsoft releases bumper patches\\r\\n\\r\\nMicrosoft has warned PC users to update their systems with the latest security fixes for flaws in Windows programs.\\r\\n\\r\\nIn its monthly security bulletin, it flagged up eight \"critical\" security holes which could leave PCs open to attack if left unpatched. The number of holes considered \"critical\" is more than usual. They affect Windows programs, including Internet Explorer (IE), media player and instant messaging. Four other important fixes were also released. These were considered to be less critical, however. If not updated, either automatically or manually, PC users running the programs could be vulnerable to viruses or other malicious attacks designed to exploit the holes. Many of the flaws could be used by virus writers to take over computers remotely, install programs, change, and delete or see data.\\r\\n\\r\\nOne of the critical patches Microsoft has made available is an important one that fixes some IE flaws. Stephen Toulouse, a Microsoft security manager, said the flaws were known about, and although the firm had not seen any attacks exploiting the flaw, he did not rule them out. Often, when a critical flaw is announced, spates of viruses follow because home users and businesses leave the flaw unpatched. A further patch fixes a hole in Media Player, Windows Messenger and MSN Messenger which an attacker could use to take control of unprotected machines through .png files. Microsoft announces any vulnerabilities in its software every month. The most important ones are those which are classed as \"critical\". Its latest releases came the week that the company announced it was to buy security software maker Sybari Software as part of Microsoft\\'s plans to make its own security programs.\\r\\n'"
            ]
          },
          "metadata": {
            "tags": []
          },
          "execution_count": 58
        }
      ]
    },
    {
      "cell_type": "markdown",
      "metadata": {
        "id": "55YX9NE1sWQg"
      },
      "source": [
        "NOTE THAT NO LEARNING IS HAPPENING. Instance based?"
      ]
    },
    {
      "cell_type": "code",
      "metadata": {
        "id": "qini9hLMr0A4"
      },
      "source": [
        ""
      ],
      "execution_count": null,
      "outputs": []
    },
    {
      "cell_type": "code",
      "metadata": {
        "id": "BzpGgKnxlhZA",
        "outputId": "1a1750af-e10e-4472-d2bc-bf51d88fa4c9"
      },
      "source": [
        "nn.kneighbors([dtm.iloc[0].values])"
      ],
      "execution_count": null,
      "outputs": [
        {
          "output_type": "execute_result",
          "data": {
            "text/plain": [
              "(array([[0.        , 0.        , 1.18629524, 1.19107356, 1.21122457]]),\n",
              " array([[  0,  62, 297, 300,  92]]))"
            ]
          },
          "metadata": {
            "tags": []
          },
          "execution_count": 51
        }
      ]
    },
    {
      "cell_type": "code",
      "metadata": {
        "id": "7FL_lAUSlhZB",
        "outputId": "ce09012c-a2f8-4dec-d4da-25edac9c1919"
      },
      "source": [
        "# Query Using kneighbors \n",
        "nn.kneighbors([dtm.iloc[256]])"
      ],
      "execution_count": null,
      "outputs": [
        {
          "output_type": "execute_result",
          "data": {
            "text/plain": [
              "(array([[0.        , 0.        , 0.84251433, 0.98845232, 1.03646417]]),\n",
              " array([[256,  12, 121, 155, 351]]))"
            ]
          },
          "metadata": {
            "tags": []
          },
          "execution_count": 53
        }
      ]
    },
    {
      "cell_type": "code",
      "metadata": {
        "id": "u4_lgiiylhZB",
        "outputId": "d0263164-b3eb-46ae-efe6-8bd0de098bdd"
      },
      "source": [
        "data[256][:200]"
      ],
      "execution_count": null,
      "outputs": [
        {
          "output_type": "execute_result",
          "data": {
            "text/plain": [
              "b\"Sony PSP console hits US in March\\n\\nUS gamers will be able to buy Sony's PlayStation Portable from 24 March, but there is no news of a Europe debut.\\n\\nThe handheld console will go on sale for $250 (\\xc2\\xa313\""
            ]
          },
          "metadata": {
            "tags": []
          },
          "execution_count": 54
        }
      ]
    },
    {
      "cell_type": "code",
      "metadata": {
        "id": "8_lUsac4lhZB",
        "outputId": "3305785d-e433-41fa-e88e-a156555a81cc"
      },
      "source": [
        "data[121][:200]"
      ],
      "execution_count": null,
      "outputs": [
        {
          "output_type": "execute_result",
          "data": {
            "text/plain": [
              "b\"Sony PSP handheld console hits US\\n\\nThe latest handheld gaming gadget, Sony's PlayStation Portable, goes on sale in the US on Thursday.\\n\\nThe entertainment device, which also stores images, music and vi\""
            ]
          },
          "metadata": {
            "tags": []
          },
          "execution_count": 55
        }
      ]
    },
    {
      "cell_type": "code",
      "metadata": {
        "id": "6wYR9qJHlhZC"
      },
      "source": [
        "rndm_tech_article = [ \"\"\"\n",
        "Final Fantasy VII Remake and Marvel’s Avengers, two of this year’s major releases, have both been postponed. Square Enix, the publisher behind the titles, announced the news Tuesday morning.\n",
        "\n",
        "Avengers is being pushed back four months, with its new release date set for September 4. The arrival of Final Fantasy VII Remake has been bumped by one month, moving from March 3 to April 10.\n",
        "\n",
        "Delays for massive blockbuster games are common around this time of year. With the industry preparing for big, anticipated releases slated for spring, summer and the holidays, the news from Square Enix isn’t all that surprising. Early builds for Marvel’s Avengers received a mixed reception at E3 2019 and subsequent, similar events. Final Fantasy VII fans will likely have a critical eye when revisiting the classic, setting a high bar for developers to clear.\n",
        "\n",
        "Final Fantasy VII Remake is among The Washington Post's most anticipated games of 2020.\n",
        "\n",
        "“We are making this tough decision in order to give ourselves a few extra weeks to apply final polish to the game and to deliver you with the best possible experience,” wrote Final Fantasy VII Remake producer Yoshinori Kitase in a statement. “I, on behalf of the whole team, want to apologize to everyone, as I know this means waiting for the game just a little bit longer.”\n",
        "\n",
        "Marvel’s Avengers’s developer Crystal Dynamics released a similar statement, with studio co-heads Scot Amos and Ron Rosenberg citing “fine tuning and polishing” as the reason for the delay. “We will spend this additional development time focusing on fine tuning and polishing the game to the high standards our fans expect and deserve.”\n",
        "\n",
        "\"\"\"]\n"
      ],
      "execution_count": null,
      "outputs": []
    },
    {
      "cell_type": "code",
      "metadata": {
        "id": "JV6TYbBllhZC"
      },
      "source": [
        "# Query for Sim of Random doc to BBC\n",
        "new = tfidf.transform(rndm_tech_article)"
      ],
      "execution_count": null,
      "outputs": []
    },
    {
      "cell_type": "code",
      "metadata": {
        "id": "DaFjHFYclhZC",
        "outputId": "0f09cc3b-c4df-4157-8602-a05355ba3e66"
      },
      "source": [
        "new"
      ],
      "execution_count": null,
      "outputs": [
        {
          "output_type": "execute_result",
          "data": {
            "text/plain": [
              "<1x5000 sparse matrix of type '<class 'numpy.float64'>'\n",
              "\twith 97 stored elements in Compressed Sparse Row format>"
            ]
          },
          "metadata": {
            "tags": []
          },
          "execution_count": 58
        }
      ]
    },
    {
      "cell_type": "code",
      "metadata": {
        "id": "gba6q8yMlhZD",
        "outputId": "1a42803f-7d8e-4c45-cd8b-93f3cd69b896"
      },
      "source": [
        "nn.kneighbors(new.todense())"
      ],
      "execution_count": null,
      "outputs": [
        {
          "output_type": "execute_result",
          "data": {
            "text/plain": [
              "(array([[1.31649449, 1.32114904, 1.32573222, 1.32726235, 1.33311102]]),\n",
              " array([[140, 241, 322,  55, 368]]))"
            ]
          },
          "metadata": {
            "tags": []
          },
          "execution_count": 59
        }
      ]
    },
    {
      "cell_type": "code",
      "metadata": {
        "id": "b8bxeF0WlhZD",
        "outputId": "83f07f1e-838c-4af4-b25a-5522af787d9a"
      },
      "source": [
        "# Inspect Most relevant result\n",
        "data[140]"
      ],
      "execution_count": null,
      "outputs": [
        {
          "output_type": "execute_result",
          "data": {
            "text/plain": [
              "b'Losing yourself in online gaming\\n\\nOnline role playing games are time-consuming, but enthralling flights from reality. But are some people taking their fantasy lives too seriously?\\n\\nWhen video game World of Warcraft hit the shops in Europe last week fans wrote in to the BBC website to express their delight - and to offer a warning. \"An addiction to a game like this is far more costly in time than any substance could impair - keep track of time,\" wrote Travis Anderson, in Texas. Some of the comments were humorous: \"This game is so good I\\'m not going to get it, there\\'s no way I could limit the hours I\\'d spend playing it,\" wrote Charles MacIntyre, from England.\\n\\nBut some struck a more worrying tone about the Massively Multiplayer Online Role Playing Game (MMORPG): \"\\'You need to get out more\\' could be the motto of any MMORPG. Shame they are getting more popular, as you know this problem is just going to mushroom,\" wrote Stuart Stanton-Davies, in Huddersfield. Scare-mongering articles about \"addictive video games\" have existed since the days the first game of Pong stopped everyone from working at the Atari offices.\\n\\nGaming is like any other pastime - it can quickly become an unhealthy obsession, whether it is spending too much time in the gym, in front of the television, or reading poetry.\\n\\nUnfortunately, gaming and addiction is a far too easy association to make. However, stories about gamers spending 10 to 15 hours a day in front of some video games are becoming more frequent. And the impact that is having on their families is quite distressing for some.\\n\\nMassively multiplayer online role playing games - MMORPGs - allow thousands of gamers to share a common experience of sharing fantasy or science fiction worlds. The scope of these games - like Warcraft, EverQuest, Ultima among others - is epic, and exploration and adventure is almost infinite. Part of the \"problem\" is grinding - by which gamers have to perform long-winded, mindless tasks, to bring up their levels and gain access to more adventure. Such open-endedness brings with it a desire to keep playing; not for no reason is EverQuest (EQ) nicknamed EverCrack. E Hayot, writing in the culture blogzine Print Culture, said recently: \"I used to play the online role-playing game EverQuest a lot. \"By \\'a lot\\', I mean probably 15 to 20 hours a week on average, and on weeks where I didn\\'t have to work, as many as 30 or 40 hours.\"\\n\\nHe says that in the world of online gaming such behaviour \"wasn\\'t that unusual; lots of people I knew in the game played EQ that much\". \"You lie; you don\\'t go into work because you \"had stuff to do at home\"; you cancel or refuse invitations to dinner, you spend much less time watching TV (a good thing, presumably),\" he wrote, explaining how EverQuest took over his time. He quit the game, he says, because he realised life was more fun than EverQuest.\\n\\nLet us be clear - such obsession is rare. But the huge growth in online gaming means a growth in the numbers of people who take their passion for a hobby too far. Almost 400,000 people bought a copy of World of Warcraft in the first two days on sale earlier this month. Only a fraction will descend into obsessives. The thoughts of families and friends of gamers who have been affected by EverQuest can be found on one blog EverQuest Daily Grind. Jane, who runs the website, compiles a chronicle of heart-rending stories. \"I am actually convinced at this point that there are more than \\'some\\' people who spend more times in MMOPRGs than in reality,\" she said. One unnamed correspondent - all are anonymous - wrote: \"On the rare nights when my husband does come to bed at the same time as I do, I find that I am so used to sleeping by myself that it is difficult to get to sleep with another body laying next to me.\\n\\n\"I can\\'t talk to him while he is playing. There is absolutely no point as he doesn\\'t hear me or is so distracted that I get a \\'ummm... ya\\' a few minutes after I ask him a question.\"\\n\\n\"Gaming widows\" has become a comedic term for women who have been shut out by male gamers. But for some it is not in the least funny. Another correspondent wrote: \"I believe that he is addicted to the online gaming, and that is the cause of his depression and restlessness.\" And some of them are even sadder: \"Today our son was five days old. \"The sad truth is my husband spent 11 hours today playing his Warcraft game. He did not interact with our sweet tiny baby because there were important quests waiting online.\" Video game fans often complain that their hobby is misunderstood or marginalised. But as gaming becomes ever more mainstream, and games ever more immersive, there will be no hiding place for social problems.\\n\\n\\n\\nI wish 30-40 hours a week was unusual but I think it probably isn\\'t. An 11 hour stretch isn\\'t that surprising - I\\'ve known people to play 15+ hours at a stretch. I know of people who are spending their week\\'s holiday from work playing Warcraft. I know of people who would play Ever[Crack] in shifts...waking at 3am to take over from their friends and resume waiting for an item they \\'needed\\' to appear. I understand that the key sign of an addiction is if you alter your life around it rather than fit it into your life. By all standards many of us are addicts. So is the solution to force ourselves to stop playing..or do we just need to make real life a bit more interesting?\\n\\nSadly with all the talk of people becoming obsessed with gaming, I find myself longing to have the time to join them. I have been in a long term relationship for over 4 years - since that began, games have become more and more complex. And more and more so I find I have less and less time to play them, with and marriage and work being the main drag on my time.\\n\\nI think the line between playing a game a lot and a gaming addiction is really quite distinct. I play games a lot, definately over 20 hours a week, but I don\\'t go missing work or other commitments in order to play games.\\n\\nI have, about a year ago, deleted every game on my computer. RPGs are the worst - the real world fades and all your worries sorround a new magic staff or mighty sword. Unlike books, or perhaps even TV, you gain absolutely nothing. When you stop playing you\\'re at the same point as when you started; all the achievements of your 10 hour session are irretrievably locked in the game and, since you\\'ve gained nothing in the real world, you may as well pile on more achievement in the fake one.\\n\\nDespite having little monetary value, the \"rewards\" and encouragement offered by these MMORPGs is enough to hook games for hours daily. If only business could learn to leverage that very simply human need for easily measurable progress and recognition. Perhaps the unhealthily obsessed simply need more recognition for their achievements in reality?\\n\\nMy advice to gaming widows is \"if you can\\'t beat \\'em, join \\'em\". That is, try playing it yourself. If he wants to play as well, well at least you\\'ll be together somewhere...\\n\\nI was an addict and it cost me my relationship. I still play now, but without the guilt , hehe, How long have i played in one sitting? From morning till the early hours of the next day, the birds were singing out side and i had to hobble to the bath room cos my bladder was so full i was in pain, i would hardly eat, perhaps some toast, smoke endlessly and drink. Now, thankfully the fascination has worn off and I have a girlfriend but still no job. For the most part online gaming give me an adiction to illusory achievement, and as there is no end in sight you keep going for the mirage of the ultimate.\\n\\nObsessive behaviour is, of course, always cause for concern, but it always bothers me when articles about gaming talk in terms of \"reality\". Obviously, somebody who spends thirty hours a week playing EverQuest has a problem. This problem, however, has nothing to do with a dysfunctional sense of reality. An obsessive EQ player does not consider the game to be \"real\" any more than - for example - an obsessive automotive tinkerer considers their car to be human. If MMORPGs have a unique danger, in terms of encouraging obsessive behaviour, it is not that they create an absorbing virtual world, but rather that they can be easily accessed 24/7. The problem here does not lie with the nature of gaming, but with the nature of modern 24 hour culture.\\n\\nThe problem with these so called MMORPGS is that you can never really complete them, there\\'s always another quest to do. A few of my friends have only had about 10 hours sleep since it was released friday...\\n\\nChampionship Manager consumed my life for years. One particular session started at about 2pm on a Sunday, paused for a brief sleep at 5am on the Monday and after visit to University for classes restarted at about midday for another 10 hour session. The people who tend to hark on about about the problems of \"hardcore gaming\" seem to be those who have rarely allowed themselves to become immersed in a game. I would expect their perspective to change if they were to do that.\\n\\nI used to be an EverQuest addict while I was in college. It came to the point where the gaming world felt more real than the real one. I failed alot of my courses and was able to barely graduate. I was lucky that I came to my senses when I did, others were less fortunate and dropped out of college. Now that I am holding a job, I avoid online RPGS like the plague.\\n\\nWhen I was made redundant I told my partner I had a new job for three months whilst every day I played EverQuest from 7:30am till 5:pm. When She came home I pretended I had just got in as well, hence justifying playing it all evening. I have since quit playing MMORPG and have a good job.\\n\\nWhen I got to the point where I was eating my dinner in front of the PC I realised things were getting silly so I\\'m trying not to spend so much time on there. It\\'s not easy. I feel as if I\\'ve got a real addiction going on here.\\n\\nFor me the problem is that I love to complete a goal. Once it is completed that is it, I am finished, time to move on. I become obsessed to complete the goal, so from that standpoint it is an addiction. In a game where you will never complete an \"ultimate\" goal, well it would be like falling into a black pit. It is easier to escape into a controlled fantasy world than face reality at times - in other words the goal offered in the PC game are \"easier\" and more fun than the real world. Pretty scary implications if you think about it.\\n\\nI can\\'t buy World of Warcraft as it would destroy my marrage, I just know it!!\\n\\nI played Star Wars Galaxies for about a year and can attest to the addictiveness of these games. They are all engineered in such a way that early on in the game you progress quickly, but this progress becomes exponentially slower, requiring more and more time to reach the next level. I\\'m sad to say that at the peak of my addiction I was spending entire weekends in front of my monitor, slowly building up my character, stopping only for food and toilet breaks. Thankfully I made a clean break, and actually managed to sell my Jedi account for \\xc2\\xa3800 - which is my only sanity check in an otherwise completely unproductive time vacuum.\\n\\nSeven years ago, I began playing Ultima Online. This game dominated 2 years of my life. They were 2 wonderful years and I still have vivid memories of the experiences and friends I had. Online gaming can be a world of escapism where you can be yourself without fear of the thoughts of others. Something that cannot always be achieved in the day to day running of a normal life. Whilst I would warn against people giving to much of there life to these games, I believe they are a better way to spend your time than say watching TV.\\n\\nGaming is addictive and should be made a recognised addiction. When I was single I used to play upto eight hours a night after work every night for about a year, building up my stats, completing evermore quests and battling ogres. But somehow I found time to get out, even met someone and got married! Has my life changed? Hell no! I still cast spells and battle till the early hours of the morning. On with the fun!\\n\\nOnline gaming should be enjoyed just as much as you would enjoy watching television, or going to the cinema or the pub with your mates.\\n\\nMany people use recreational drugs on an occasional basis and are able to lead succesfull lives with families, relationships and good careers. A minority allow drugs to take over and destroy their lives and become addicted. According to this article the same is true of MMORPGs. The message to the government is clear, either legalise drugs, or outlaw online gaming!!\\n\\nSounds like there are some sad stories here - and I can believe them all. I play alot of Warcraft myself, and know full well how addictive it is. I am resolute that it will not take over my life. It certainly gets in the way though. I think that some people simply do not know how to draw this line, or lack the willpower to stop themselves stepping over it.\\n\\nI think I\\'m obsessed with gaming in general, I spend far too much time playing games like Everquest 2 and Football Manager rather than going out and interacting with real people and when I do try to, I\\'m always thinking in the back if my mind that I\\'d rather be in front of the computer winning the league with Cambridge United.\\n\\nI am obsessed with online role playing games. It\\'s not so much quests but it has the adrenaline of a real life situation - goals to achieve etc. I spend about five hours per day online playing it and I rarely get more than four to five hours sleep before getting up for work the next morning...\\n\\nAs many of the players spend their time in MMORPGs rather than in front of the TV I fail to see how it will affect players social lives negatively. Furthermore these types of games contain a huge social aspect, whereas other games and some other pursuits (such as being a couch potato) the players could be indulging in are solitary by nature.\\n\\nThese games are like most things -- too much of anything is a bad thing, but as long as you can walk away from the computer to do other things too, they can be great fun.\\n\\nLiving in Korea at the moment, they have lots PC Bangs (Internet Cafes). Nearly most of South Koreans are addicted to online games, and one Korean died because of the lack of food and water he had through playing online games.\\n\\nI play xbox live every day. I find my self lying and rescheduling everything around my gaming fix. The longest I played was a 24 hour straight session. I know I play for to long but it\\'s an obsession that I can\\'t control. Can you reccomend a counsellor - this is not a wind up... but something I\\'m increasingly concerned with...\\n\\nMe and my mate play online for an hour or two a day, we\\'re both aware of how much time can disappear by sitting in front of a TV, trying to \\'frag\\' some individual. It\\'s getting the balance between getting home and relasing the stress of a day by an hour or so gaming, and enjoying \\'real\\' life...\\n\\nI bought the US version of World of Warcraft when it came out. The longest period I played was 23 hrs straight. I gave up the game after a month because it was so addictive, but have subsequently just bought the European version (couldn\\'t help myself). In future, I\\'m going to regulate my time far more strictly. Great game!\\n\\nHaving played MMORPG games for some years I agree that these type of games can be life sucking. But my concern is for the younger generation of gamers that play for hours on end in an adult enviroment. Most MMORPG games you need a credit card to play but I dont think parents know just what they are letting there children into.\\n\\nUnless there is undeniable medical proof that staring at a computer screens for hours at a time can damage a person&#191;s health, you can expect this not to decline but to get worse.\\n\\nThese people are pathetic. They need to get off their machines and notice that our world is being swiftly overcome by issues and troubles that make the trifling worries of and \"online universe\" absolutely meaningless.\\n\\n24hours, when i was a kid at school and i was on half term, Ultima Online was the game, ahhhh them was the days ! LOL\\n'"
            ]
          },
          "metadata": {
            "tags": []
          },
          "execution_count": 60
        }
      ]
    },
    {
      "cell_type": "markdown",
      "metadata": {
        "id": "O6YvMEB1lhZE"
      },
      "source": [
        "## Challenge\n",
        "\n",
        "In the module project assignment, you will apply one of these search techniques to retrieve documents related to a query document. "
      ]
    },
    {
      "cell_type": "markdown",
      "metadata": {
        "id": "aZK8wtOhlhZE"
      },
      "source": [
        "# Apply word embedding models to create document vectors (Learn)\n",
        "<a id=\"p3\"></a>"
      ]
    },
    {
      "cell_type": "markdown",
      "metadata": {
        "id": "gro3YlZLlhZE"
      },
      "source": [
        "## Overview\n",
        "### BoW discards textual context\n",
        "\n",
        "One of the limitations of Bag-of-Words approaches is that any information about the textual context surrounding that word is lost. This also means that with bag-of-words approaches often the only tools that we have for identifying words with similar usage or meaning and subsequently consolidating them into a single vector is through the processes of stemming and lemmatization which tend to be quite limited at consolidating words unless the two words are very close in their spelling or in their root parts-of-speech.\n",
        "\n",
        "### Embedding approaches preserve more textual context\n",
        "Word2Vec is an increasingly popular word embedding technique. Like Bag-of-words it learns a real-value vector representation for a predefined fixed-size vocabulary that is generated from a corpus of text. However, in contrast to BoW, Word2Vec approaches are much more capable of accounting for textual context, and are better at discovering words with similar meanings or usages (semantic or syntactic similarity).\n",
        "\n",
        "### Word2Vec Intuition\n",
        "### The Distribution Hypothesis\n",
        "\n",
        "In order to understand how Word2Vec preserves textual context we have to understand what's called the Distribution Hypothesis (Reference: Distribution Hypothesis Theory  -https://en.wikipedia.org/wiki/Distributional_semantics. The Distribution Hypothesis operates under the assumption that words that have similar contexts will have similar meanings. Practically speaking, this means that if two words are found to have similar words both to the right and to the left of them throughout the corpora then those words have the same context and are assumed to have the same meaning. \n",
        "\n",
        "> \"You shall know a word by the company it keeps\" - John Firth\n",
        "\n",
        "This means that we let the usage of a word define its meaning and its \"similarity\" to other words. In the following example, which words would you say have a similar meaning? \n",
        "\n",
        "**Sentence 1**: Traffic was light today\n",
        "\n",
        "**Sentence 2**: Traffic was heavy yesterday\n",
        "\n",
        "**Sentence 3**: Prediction is that traffic will be smooth-flowing tomorrow since it is a national holiday\n",
        "\n",
        "What words in the above sentences seem to have a similar meaning if all you knew about them was the context in which they appeared above? \n",
        "\n",
        "Lets take a look at how this might work in action, the following example is simplified, but will give you an idea of the intuition for how this works.\n",
        "\n",
        "#### Corpora:\n",
        "\n",
        "1) \"It was the sunniest of days.\"\n",
        "\n",
        "2) \"It was the raniest of days.\"\n",
        "\n",
        "#### Vocabulary:\n",
        "\n",
        "{\"it\": 1, \"was\": 2, \"the\": 3, \"of\": 4, \"days\": 5, \"sunniest\": 6, \"raniest\": 7}\n",
        "\n",
        "### Vectorization\n",
        "\n",
        "|       doc   | START_was | it_the | was_sunniest | the_of | sunniest_days | of_it | days_was | it_the | was_raniest | raniest_days | of_END |\n",
        "|----------|-----------|--------|--------------|--------|---------------|-------|----------|--------|-------------|--------------|--------|\n",
        "| it       | 1         | 0      | 0            | 0      | 0             | 0     | 1        | 0      | 0           | 0            | 0      |\n",
        "| was      | 0         | 1      | 0            | 0      | 0             | 0     | 0        | 1      | 0           | 0            | 0      |\n",
        "| the      | 0         | 0      | 1            | 0      | 0             | 0     | 0        | 0      | 1           | 0            | 0      |\n",
        "| sunniest | 0         | 0      | 0            | 1      | 0             | 0     | 0        | 0      | 0           | 0            | 0      |\n",
        "| of       | 0         | 0      | 0            | 0      | 1             | 0     | 0        | 0      | 0           | 1            | 0      |\n",
        "| days     | 0         | 0      | 0            | 0      | 0             | 0     | 0        | 0      | 0           | 0            | 1      |\n",
        "| raniest  | 0         | 0      | 0            | 1      | 0             | 0     | 0        | 0      | 0           | 0            | 0      |\n",
        "\n",
        "Each column vector represents the word's context -in this case defined by the words to the left and right of the center word. How far we look to the left and right of a given word is referred to as our \"window of context.\" Each row vector represents the the different usages of a given word. Word2Vec can consider a larger context than only words that are immediately to the left and right of a given word, but we're going to keep our window of context small for this example. What's most important is that this vectorization has translated our documents from a text representation to a numeric one in a way that preserves information about the underlying context. \n",
        "\n",
        "We can see that words that have a similar context will have similar row-vector representations, but before looking that more in-depth, lets simplify our vectorization slightly. You'll notice that we're repeating the column-vector \"it_the\" twice. Lets combine those into a single vector by adding them element-wise. \n",
        "\n",
        "|       *   | START_was | it_the | was_sunniest | the_of | sunniest_days | of_it | days_was | was_raniest | raniest_days | of_END |\n",
        "|----------|-----------|--------|--------------|--------|---------------|-------|----------|-------------|--------------|--------|\n",
        "| it       | 1         | 0      | 0            | 0      | 0             | 0     | 1        | 0           | 0            | 0      |\n",
        "| was      | 0         | 2      | 0            | 0      | 0             | 0     | 0        | 0           | 0            | 0      |\n",
        "| the      | 0         | 0      | 1            | 0      | 0             | 0     | 0        | 1           | 0            | 0      |\n",
        "| sunniest | 0         | 0      | 0            | 1      | 0             | 0     | 0        | 0           | 0            | 0      |\n",
        "| of       | 0         | 0      | 0            | 0      | 1             | 0     | 0        | 0           | 1            | 0      |\n",
        "| days     | 0         | 0      | 0            | 0      | 0             | 0     | 0        | 0           | 0            | 1      |\n",
        "| raniest  | 0         | 0      | 0            | 1      | 0             | 0     | 0        | 0           | 0            | 0      |\n",
        "\n",
        "Now, can you spot which words have a similar row-vector representation? Hint: Look for values that are repeated in a given column. Each column represents the context that word was found in. If there are multiple words that share a context then those words are understood to have a closer meaning with each other than with other words in the text.\n",
        "\n",
        "Lets look specifically at the words sunniest and raniest. You'll notice that these two words have exactly the same 10-dimensional vector representation. Based on this very small corpora of text we would conclude that these two words have the same meaning because they share the same usage. Is this a good assumption? Well, they are both referring to the weather outside so that's better than nothing. You could imagine that as our corpora grows larger we will be exposed a greater number of contexts and the Distribution Hypothesis assumption will improve. \n",
        "\n",
        "### Word2Vec Variants\n",
        "\n",
        "#### Skip-Gram\n",
        "\n",
        "The Skip-Gram method predicts the neighbors’ of a word given a center word. In the skip-gram model, we take a center word and a window of context (neighbors) words to train the model and then predict context words out to some window size for each center word.\n",
        "\n",
        "This notion of “context” or “neighboring” words is best described by considering a center word and a window of words around it. \n",
        "\n",
        "For example, if we consider the sentence **“The speedy Porsche drove past the elegant Rolls-Royce”** and a window size of 2, we’d have the following pairs for the skip-gram model:\n",
        "\n",
        "**Text:**\n",
        "**The**\tspeedy\tPorsche\tdrove\tpast\tthe\telegant\tRolls-Royce\n",
        "\n",
        "*Training Sample with window of 2*: (the, speedy), (the, Porsche)\n",
        "\n",
        "**Text:**\n",
        "The\t**speedy**\tPorsche\tdrove\tpast\tthe\telegant\tRolls-Royce\n",
        "\n",
        "*Training Sample with window of 2*: (speedy, the), (speedy, Porsche), (speedy, drove)\n",
        "\n",
        "**Text:**\n",
        "The\tspeedy\t**Porsche**\tdrove\tpast\tthe\telegant\tRolls-Royce\n",
        "\n",
        "*Training Sample with window of 2*: (Porsche, the), (Porsche, speedy), (Porsche, drove), (Porsche, past)\n",
        "\n",
        "**Text:**\n",
        "The\tspeedy\tPorsche\t**drove**\tpast\tthe\telegant\tRolls-Royce\n",
        "\n",
        "*Training Sample with window of 2*: (drove, speedy), (drove, Porsche), (drove, past), (drove, the)\n",
        "\n",
        "The **Skip-gram model** is going to output a probability distribution i.e. the probability of a word appearing in context given a center word and we are going to select the vector representation that maximizes the probability.\n",
        "\n",
        "With CountVectorizer and TF-IDF the best we could do for context was to look at common bi-grams and tri-grams (n-grams). Well, skip-grams go far beyond that and give our model much stronger contextual information.\n",
        "\n",
        "![alt text](https://www.dropbox.com/s/c7mwy6dk9k99bgh/Image%202%20-%20SkipGrams.jpg?raw=1)\n",
        "\n",
        "## Continuous Bag of Words\n",
        "\n",
        "This model takes thes opposite approach from the skip-gram model in that it tries to predict a center word based on the neighboring words. In the case of the CBOW model, we input the context words within the window (such as “the”, “Proshe”, “drove”) and aim to predict the target or center word “speedy” (the input to the prediction pipeline is reversed as compared to the SkipGram model).\n",
        "\n",
        "A graphical depiction of the input to output prediction pipeline for both variants of the Word2vec model is attached. The graphical depiction will help crystallize the difference between SkipGrams and Continuous Bag of Words.\n",
        "\n",
        "![alt text](https://www.dropbox.com/s/k3ddmbtd52wq2li/Image%203%20-%20CBOW%20Model.jpg?raw=1)\n",
        "\n",
        "## Notable Differences between Word Embedding methods:\n",
        "\n",
        "1) W2V focuses less document topic-modeling. You'll notice that the vectorizations don't really retain much information about the original document that the information came from. At least not in our examples.\n",
        "\n",
        "2) W2V can result in really large and complex vectorizations. In fact, you need Deep Neural Networks to train your Word2Vec models from scratch, but we can use helpful pretrained embeddings (thank you Google) to do really cool things!\n",
        "\n",
        "*^ All that noise....AND Spacy has pretrained a Word2Vec model you can just use? WTF JC?*\n",
        "\n",
        "Let's take a look at how to do it. "
      ]
    },
    {
      "cell_type": "code",
      "metadata": {
        "id": "DmaFJPLxlhZE",
        "colab": {
          "base_uri": "https://localhost:8080/"
        },
        "outputId": "301d04de-9dde-47a2-d3b0-d58510c6cd15"
      },
      "source": [
        "# Process a text\n",
        "nlp = spacy.load('en_core_web_lg')\n",
        "\n",
        "doc = nlp(\"Two bananas in pyjamas\")\n",
        "\n",
        "# Get the vector for the token \"bananas\"\n",
        "bananas_vector = doc.vector\n",
        "print(bananas_vector)"
      ],
      "execution_count": null,
      "outputs": [
        {
          "output_type": "stream",
          "text": [
            "[ 2.07984239e-01 -2.60890484e-01 -1.15457252e-01 -1.96443751e-01\n",
            " -2.83249468e-03  3.55849974e-02 -2.05170006e-01 -2.27374747e-01\n",
            "  8.56052488e-02  1.36894751e+00 -5.74124977e-02  8.06210041e-02\n",
            "  2.37275064e-02  1.17454052e-01 -6.53099641e-03 -1.24400005e-01\n",
            "  1.99086756e-01  6.37722552e-01  1.52916998e-01 -2.33504996e-01\n",
            " -2.40909994e-01 -7.11500049e-02 -9.10753161e-02  7.16734976e-02\n",
            "  1.16262749e-01 -3.91372502e-01  1.13048747e-01 -2.11327493e-01\n",
            "  1.09019078e-01 -2.44885415e-01  3.00577488e-02  4.77855802e-02\n",
            "  7.37800002e-02  2.57142037e-01  2.62586236e-01 -1.66897491e-01\n",
            "  1.87596500e-01 -1.23680010e-02 -1.76299751e-01  1.11685000e-01\n",
            "  1.82024967e-02  9.86500084e-03 -3.58770013e-01 -2.23265499e-01\n",
            " -4.37720008e-02  3.63999486e-01  7.42954984e-02  1.21225506e-01\n",
            "  1.37013003e-01 -5.50666526e-02  2.66017504e-02  8.87180045e-02\n",
            " -1.14092499e-01 -2.02865750e-01  3.63092512e-01 -3.08394760e-01\n",
            "  1.13859497e-01  3.13650146e-02  2.62076259e-01  1.90399922e-02\n",
            "  7.24634901e-02  2.79004984e-02  8.65525007e-02  6.92452565e-02\n",
            " -9.77424979e-02 -1.47966757e-01  2.32025003e-03  1.62278250e-01\n",
            "  1.59857497e-02  3.52048993e-01 -5.51802553e-02  2.13179991e-01\n",
            "  3.63152504e-01  1.01501703e-01  1.73463732e-01  9.20909941e-02\n",
            "  1.27134249e-01  1.00527555e-02  2.44570002e-01 -6.89124968e-03\n",
            "  6.30075037e-02  1.31706819e-01 -1.36811763e-01 -3.73892523e-02\n",
            " -1.71941705e-02 -1.47585243e-01  2.69147515e-01  1.97296605e-01\n",
            " -1.14209257e-01  7.49210045e-02  1.12407543e-02  6.53382465e-02\n",
            "  7.39065409e-02 -1.47568747e-01 -9.98437554e-02  2.56100774e-01\n",
            "  3.41899954e-02 -1.95817441e-01  1.52259752e-01 -2.98299998e-01\n",
            "  3.71480025e-02  1.38142243e-01 -3.84989977e-02 -2.02540010e-02\n",
            "  2.38000415e-03 -8.94232512e-01  1.20125249e-01 -1.48699433e-03\n",
            "  3.07812482e-01  1.31904989e-01  2.28665009e-01 -4.28467512e-01\n",
            " -1.50100499e-01 -3.99947166e-05  7.09750131e-03 -9.08460468e-02\n",
            "  1.15139998e-01  2.73323029e-01  6.97097555e-02  1.37960017e-01\n",
            " -7.76264742e-02 -3.58945057e-02  1.47073746e-01 -2.70538747e-01\n",
            " -4.16769907e-02 -2.20907256e-01  1.29162997e-01  5.66806756e-02\n",
            " -2.10923001e-01 -1.12912245e-01 -1.24349967e-02  2.90902629e-02\n",
            " -9.14399922e-02  1.48545001e-02  1.73015013e-01  2.45295018e-01\n",
            "  2.36412495e-01  1.51691005e-01 -6.30199909e-02  2.67812014e-01\n",
            " -1.31286001e+00 -7.58474991e-02  1.29823506e-01 -1.51231751e-01\n",
            " -8.19625035e-02  1.39788002e-01 -1.48047015e-01  6.38692454e-02\n",
            "  2.33854756e-01 -9.88075137e-03  1.93658501e-01  2.27525085e-03\n",
            "  4.02045511e-02 -4.90897447e-02 -3.33292484e-01 -2.25562245e-01\n",
            " -2.13249400e-03 -1.25110000e-01 -2.07584769e-01 -8.20675045e-02\n",
            " -3.08577478e-01  2.42340490e-01  1.01082012e-01  1.69142485e-02\n",
            " -2.96225518e-01 -2.39765748e-01 -2.06788242e-01 -2.19947502e-01\n",
            "  1.32491991e-01  2.83937510e-02 -2.12792531e-02  2.11183250e-01\n",
            "  7.47520030e-02  5.15667535e-02 -2.79584527e-01  5.96700013e-02\n",
            " -1.40897244e-01 -7.72149861e-03  9.76998210e-02 -2.29924992e-01\n",
            " -3.91512439e-02 -2.62144983e-01 -9.46324915e-02 -1.49488509e-01\n",
            " -4.47402522e-02  4.87175062e-02 -1.00491997e-02 -1.57508999e-01\n",
            "  1.83425248e-01 -7.38234967e-02 -5.53542078e-02  3.62554997e-01\n",
            "  6.00774996e-02 -3.51069048e-02 -2.12482512e-02 -5.44437282e-02\n",
            "  5.77000529e-03 -4.17417213e-02 -2.30720505e-01  3.05450335e-03\n",
            " -2.60736495e-01  9.90725309e-03  1.44257501e-01  1.58988327e-01\n",
            "  3.12480003e-01 -4.21992540e-02  1.47941500e-01 -2.60480493e-03\n",
            " -1.18254803e-01  3.76944989e-02  8.56549889e-02  2.98762500e-01\n",
            " -1.82907507e-01 -5.01237512e-01 -3.22812736e-01 -1.04721501e-01\n",
            " -2.11069018e-01 -1.58998221e-01 -1.63172990e-01 -1.53411508e-01\n",
            " -4.72389996e-01 -2.52688266e-02  6.80677444e-02 -3.47925007e-01\n",
            "  1.00139998e-01  3.17759998e-02 -2.02882513e-02  2.72649899e-02\n",
            "  2.80047543e-02  6.36423454e-02 -2.32529998e-01  1.78696245e-01\n",
            " -4.16299030e-02 -6.78092465e-02 -1.87866479e-01 -3.47625017e-01\n",
            "  5.43992445e-02 -1.05034754e-01  3.68332490e-02  2.01451257e-01\n",
            " -2.68060744e-01 -7.03077465e-02 -3.46807480e-01  1.18331507e-01\n",
            "  3.82332467e-02 -1.15444995e-01 -9.92614999e-02 -4.42850590e-03\n",
            " -3.42225015e-01  3.17104995e-01 -1.48628756e-01 -6.13242462e-02\n",
            " -8.43070000e-02  1.16139993e-01  1.61483496e-01  1.70949996e-01\n",
            "  1.95979327e-01  2.56112486e-01 -2.15889998e-02 -2.78974995e-02\n",
            "  2.59169757e-01  1.79182500e-01 -2.46662006e-01  1.68815508e-01\n",
            " -3.45774740e-03  2.30412483e-01 -1.22785002e-01  2.36632437e-01\n",
            " -4.52876002e-01 -3.92082512e-01 -2.01881751e-01 -1.27992496e-01\n",
            "  2.75517516e-02  5.54060042e-02 -3.12609941e-01  1.01338752e-01\n",
            "  1.83728248e-01  4.08405006e-01  1.23905048e-01  4.37955022e-01\n",
            "  2.54640013e-01 -6.01055101e-02 -2.90097505e-01  7.99837485e-02\n",
            "  6.81065023e-02  6.80774972e-02  1.45408496e-01 -1.65033251e-01\n",
            " -6.48526996e-02 -1.71237499e-01 -5.75472489e-02 -4.43175063e-03\n",
            "  2.72267759e-01 -2.11504504e-01 -2.87027508e-01  3.25110495e-01\n",
            " -4.72727492e-02 -3.86672527e-01  2.08224997e-01  1.24032997e-01]\n"
          ],
          "name": "stdout"
        }
      ]
    },
    {
      "cell_type": "code",
      "metadata": {
        "id": "m4kwXfRTlhZG",
        "colab": {
          "base_uri": "https://localhost:8080/"
        },
        "outputId": "6de25248-1618-42b6-c28d-5e834b630631"
      },
      "source": [
        "len(bananas_vector)"
      ],
      "execution_count": null,
      "outputs": [
        {
          "output_type": "execute_result",
          "data": {
            "text/plain": [
              "300"
            ]
          },
          "metadata": {
            "tags": []
          },
          "execution_count": 60
        }
      ]
    },
    {
      "cell_type": "code",
      "metadata": {
        "colab": {
          "base_uri": "https://localhost:8080/"
        },
        "id": "wBt3jhe_JROc",
        "outputId": "352aaeeb-ef66-4aa2-b083-3c48054adc6d"
      },
      "source": [
        "bananas_vector.shape"
      ],
      "execution_count": null,
      "outputs": [
        {
          "output_type": "execute_result",
          "data": {
            "text/plain": [
              "(300,)"
            ]
          },
          "metadata": {
            "tags": []
          },
          "execution_count": 61
        }
      ]
    },
    {
      "cell_type": "code",
      "metadata": {
        "id": "-czaKTC1lhZG"
      },
      "source": [
        "doc1 = nlp(\"It's a warm summer day\")\n",
        "doc2 = nlp(\"I hate dogs.\")\n"
      ],
      "execution_count": null,
      "outputs": []
    },
    {
      "cell_type": "code",
      "metadata": {
        "colab": {
          "base_uri": "https://localhost:8080/"
        },
        "id": "mLkH-thhJVyA",
        "outputId": "fcd26b0e-f9b7-4aed-d6ce-d67b73dd885a"
      },
      "source": [
        "# Calculate similarity between both docs\n",
        "doc1.similarity(doc2)"
      ],
      "execution_count": null,
      "outputs": [
        {
          "output_type": "execute_result",
          "data": {
            "text/plain": [
              "0.5842364134093874"
            ]
          },
          "metadata": {
            "tags": []
          },
          "execution_count": 65
        }
      ]
    },
    {
      "cell_type": "code",
      "metadata": {
        "colab": {
          "base_uri": "https://localhost:8080/"
        },
        "id": "-BYO1eYCJfT1",
        "outputId": "c3cae8b9-936d-4dae-d333-0733731bfdd4"
      },
      "source": [
        "doc2 = nlp(\"I hate walking a dog on warm days in the park...\")\n",
        "doc1.similarity(doc2)"
      ],
      "execution_count": null,
      "outputs": [
        {
          "output_type": "execute_result",
          "data": {
            "text/plain": [
              "0.8563711332175615"
            ]
          },
          "metadata": {
            "tags": []
          },
          "execution_count": 67
        }
      ]
    },
    {
      "cell_type": "code",
      "metadata": {
        "colab": {
          "base_uri": "https://localhost:8080/"
        },
        "id": "9dL-mQ9dLjms",
        "outputId": "45da163b-8947-4042-cd20-b6a9cb43cf8a"
      },
      "source": [
        "doc1.vector"
      ],
      "execution_count": null,
      "outputs": [
        {
          "output_type": "execute_result",
          "data": {
            "text/plain": [
              "array([ 1.92744672e-01,  2.46878192e-01,  6.58435002e-02,  8.51958394e-02,\n",
              "        5.43755330e-02, -8.68267287e-03, -2.58049313e-02, -1.35098726e-01,\n",
              "        1.79639999e-02,  2.41096663e+00, -1.48898825e-01, -2.03088835e-01,\n",
              "       -9.89535227e-02, -1.03275120e-01, -1.78346500e-01, -9.25900713e-02,\n",
              "       -1.00365840e-01,  1.13418341e+00,  1.02856681e-02, -1.80712819e-01,\n",
              "       -1.41739175e-01, -1.69359490e-01, -2.21541658e-01,  1.31741673e-01,\n",
              "       -6.30383343e-02,  1.39729967e-02, -1.04047127e-01,  3.33440006e-02,\n",
              "        1.54353335e-01, -5.61148413e-02, -7.93390349e-02, -9.00483355e-02,\n",
              "       -3.21440510e-02, -1.21463664e-01,  1.72498509e-01, -2.07116697e-02,\n",
              "        2.14606687e-01, -4.91766632e-02,  9.13834944e-02, -1.53652832e-01,\n",
              "        1.37981670e-02,  1.49225995e-01,  1.03531994e-01, -7.70686567e-02,\n",
              "        1.73393860e-01,  2.47923151e-01, -2.40127400e-01,  7.11250305e-03,\n",
              "       -3.17283976e-03, -7.78269991e-02, -1.06969662e-01,  1.60523340e-01,\n",
              "        8.40356722e-02,  6.71955049e-02,  2.07196489e-01, -5.45569956e-02,\n",
              "       -1.59541685e-02,  7.99636766e-02,  1.20989822e-01, -1.62120983e-01,\n",
              "        1.14864334e-02, -2.61365548e-02,  8.23741630e-02,  1.72635436e-01,\n",
              "        4.29473408e-02, -1.51841208e-01, -2.52872348e-01,  2.12813497e-01,\n",
              "       -8.98983255e-02,  2.26794004e-01,  1.08630158e-01,  1.88747242e-01,\n",
              "        2.69433260e-02, -1.14456661e-01, -4.72996123e-02,  1.53424010e-01,\n",
              "        1.07727669e-01,  1.58357337e-01, -3.16019595e-01,  2.61900034e-02,\n",
              "        7.64368325e-02,  9.90861654e-02, -1.21254176e-02,  1.01014733e-01,\n",
              "        2.05038004e-02, -3.02913427e-01, -1.54393345e-01,  1.09431513e-01,\n",
              "        4.01701659e-01,  1.88209489e-01,  4.37768400e-02,  1.09959662e-01,\n",
              "        1.06313033e-02,  1.11046629e-02, -4.18423414e-02,  8.65053311e-02,\n",
              "       -5.38199991e-02, -1.23407163e-01,  2.37256512e-01,  1.62886828e-01,\n",
              "        1.12900674e-01,  9.67989638e-02, -1.53593823e-01, -6.36531636e-02,\n",
              "       -9.16566625e-02, -4.69856650e-01,  4.19066668e-01, -3.05993557e-02,\n",
              "       -5.78560047e-02, -2.32481182e-01,  2.60330528e-01, -2.45894983e-01,\n",
              "        8.19050055e-03,  1.62492514e-01, -3.46733369e-02, -4.18365002e-02,\n",
              "        1.13918856e-02,  1.54284164e-01,  1.83876678e-02,  3.73003371e-02,\n",
              "        1.42785668e-01, -1.68701008e-01, -2.80841053e-01, -1.46688335e-02,\n",
              "       -1.39633745e-01,  1.45774662e-01, -2.37783436e-02, -1.09238334e-01,\n",
              "        9.55235884e-02, -1.29320011e-01, -2.85638366e-02, -2.79853314e-01,\n",
              "        6.81253374e-02,  1.49308324e-01,  6.04210198e-02,  2.90584210e-02,\n",
              "        1.09850019e-02,  9.13711563e-02, -8.02044868e-02, -5.48119992e-02,\n",
              "       -1.68650007e+00,  8.27276632e-02,  2.93900013e-01,  1.55264184e-01,\n",
              "       -2.05041673e-02, -5.83691746e-02, -2.36590669e-01,  1.32606834e-01,\n",
              "        9.02941599e-02, -9.17764977e-02, -7.71487504e-02,  2.22311839e-01,\n",
              "        1.04599990e-01,  7.43553266e-02, -1.79509565e-01, -1.23775661e-01,\n",
              "       -2.07229838e-01, -1.05829975e-02, -5.81238382e-02, -2.71695167e-01,\n",
              "       -1.62469476e-01,  1.10049665e-01,  5.80873229e-02, -2.70499545e-03,\n",
              "       -2.83733383e-02, -1.35829017e-01,  9.33175012e-02, -6.01531602e-02,\n",
              "        2.73395002e-01, -4.12076600e-02,  5.73481619e-02, -4.67111655e-02,\n",
              "        1.29704162e-01, -2.62144327e-01, -2.41328359e-01,  1.00404166e-01,\n",
              "        1.60374671e-01, -3.50584507e-01, -3.47111635e-02,  1.26570165e-01,\n",
              "       -5.18308319e-02, -2.00363502e-01, -6.72886670e-02, -2.18872237e-03,\n",
              "        1.24383502e-01, -4.19902690e-02, -1.37408838e-01,  6.43313304e-02,\n",
              "        1.09100670e-01, -2.32982993e-01, -1.00292176e-01,  1.51504338e-01,\n",
              "       -2.33263507e-01,  1.96006671e-02,  1.56016171e-01,  2.33418345e-01,\n",
              "        9.35331658e-02, -2.07835004e-01,  1.67496670e-02,  2.30595022e-02,\n",
              "       -1.90467671e-01,  8.90365019e-02, -2.33427342e-02,  1.44793326e-02,\n",
              "        2.81082332e-01,  3.65478359e-02,  6.53750217e-03, -4.01954986e-02,\n",
              "        7.09739998e-02, -3.46421637e-02, -2.03066692e-01, -1.65799931e-02,\n",
              "        1.19719572e-01, -4.04080003e-01,  1.38318643e-01,  3.81131679e-01,\n",
              "        1.01045825e-01, -1.69475988e-01, -1.99143812e-01, -3.72564942e-02,\n",
              "       -6.19709939e-02, -4.55386676e-02, -5.05686700e-02,  1.62820015e-02,\n",
              "       -8.89828522e-03, -8.72603282e-02,  3.87313329e-02,  1.02086164e-01,\n",
              "       -2.92108357e-02,  1.34407833e-01, -2.07199994e-02,  1.81052327e-01,\n",
              "       -5.02641685e-02,  1.83315992e-01, -2.64740009e-02, -2.30692998e-01,\n",
              "       -3.02976668e-02, -3.53965670e-01, -1.93941161e-01,  5.10510020e-02,\n",
              "       -7.96454996e-02,  7.94941708e-02, -6.89130798e-02,  2.40573168e-01,\n",
              "        7.51268193e-02,  1.39525339e-01, -7.86924288e-02, -1.31166652e-01,\n",
              "        2.41483259e-03, -3.19783315e-02, -2.25055337e-01, -2.21336842e-01,\n",
              "       -8.87117069e-03,  4.22251634e-02, -1.11230165e-01,  4.70888346e-01,\n",
              "        1.11453682e-01, -1.79582000e-01, -2.74371821e-02,  1.61540329e-01,\n",
              "        1.56751662e-01,  2.75404006e-01,  3.53844948e-02,  4.53660004e-02,\n",
              "        1.30728170e-01, -8.34079981e-02, -1.52660161e-01,  9.09624323e-02,\n",
              "       -1.11066669e-01,  9.96199995e-03,  1.83417499e-01, -5.76223247e-02,\n",
              "       -3.19460005e-01, -2.70391494e-01, -1.40720174e-01,  1.15180828e-01,\n",
              "       -3.72629650e-02, -4.37540002e-02,  2.28140041e-01,  3.52438331e-01,\n",
              "        3.04009527e-01, -1.49279997e-01, -2.52950162e-01,  1.56335667e-01,\n",
              "       -9.88116786e-02, -2.40333360e-02,  2.35665008e-01, -4.10191678e-02,\n",
              "        1.23786159e-01, -5.88955097e-02,  4.12623324e-02,  1.53474882e-01,\n",
              "        1.65203333e-01, -2.88430989e-01,  3.86596508e-02, -1.73592672e-01,\n",
              "       -8.53618458e-02, -9.42378342e-02, -8.52018371e-02,  2.52048317e-02],\n",
              "      dtype=float32)"
            ]
          },
          "metadata": {
            "tags": []
          },
          "execution_count": 69
        }
      ]
    },
    {
      "cell_type": "code",
      "metadata": {
        "colab": {
          "base_uri": "https://localhost:8080/"
        },
        "id": "4qLNN7GBLrit",
        "outputId": "b757071c-6e0c-40c5-be6e-044aa6c2772d"
      },
      "source": [
        "doc1.vector.shape"
      ],
      "execution_count": null,
      "outputs": [
        {
          "output_type": "execute_result",
          "data": {
            "text/plain": [
              "(300,)"
            ]
          },
          "metadata": {
            "tags": []
          },
          "execution_count": 70
        }
      ]
    },
    {
      "cell_type": "code",
      "metadata": {
        "id": "VtwhdEcHlhZH",
        "colab": {
          "base_uri": "https://localhost:8080/"
        },
        "outputId": "b8e295d4-61d9-44f3-f95b-3853ceaf24a9"
      },
      "source": [
        "# import the PCA module from sklearn\n",
        "from sklearn.decomposition import PCA\n",
        "\n",
        "def get_word_vectors(words):\n",
        "    # converts a list of words into their word vectors\n",
        "    return [nlp(word).vector for word in words]\n",
        "\n",
        "words = ['car', 'truck', 'suv', 'race', 'elves', 'dragon', 'sword', 'king', 'queen', 'prince', 'horse', 'fish' , 'lion', 'tiger', 'lynx', 'potato']\n",
        "\n",
        "# intialise pca model and tell it to project data down onto 2 dimensions\n",
        "pca = PCA(n_components=2)\n",
        "\n",
        "# fit the pca model to our 300D data, this will work out which is the best \n",
        "# way to project the data down that will best maintain the relative distances \n",
        "# between data points. It will store these intructioons on how to transform the data.\n",
        "pca.fit(get_word_vectors(words))\n",
        "\n",
        "# Tell our (fitted) pca model to transform our 300D data down onto 2D using the \n",
        "# instructions it learnt during the fit phase.\n",
        "word_vecs_2d = pca.transform(get_word_vectors(words))\n",
        "\n",
        "# let's look at our new 2D word vectors\n",
        "word_vecs_2d"
      ],
      "execution_count": null,
      "outputs": [
        {
          "output_type": "execute_result",
          "data": {
            "text/plain": [
              "array([[ 5.15021219, -1.02589405],\n",
              "       [ 4.68847306, -0.32752874],\n",
              "       [ 4.18183622, -1.25490821],\n",
              "       [ 2.3045236 , -0.62841121],\n",
              "       [-1.6975279 , -1.26790577],\n",
              "       [-2.19008419,  0.0674359 ],\n",
              "       [-2.41987038, -1.23168885],\n",
              "       [-2.4303113 , -2.84156896],\n",
              "       [-1.9405539 , -2.55571106],\n",
              "       [-2.16312982, -2.6337209 ],\n",
              "       [ 0.66759362,  0.42236702],\n",
              "       [-0.36687779,  4.15296085],\n",
              "       [-1.89448123,  1.39241361],\n",
              "       [-1.44081158,  2.52885279],\n",
              "       [-0.87134078,  2.86535252],\n",
              "       [ 0.42235018,  2.33795505]])"
            ]
          },
          "metadata": {
            "tags": []
          },
          "execution_count": 68
        }
      ]
    },
    {
      "cell_type": "code",
      "metadata": {
        "colab": {
          "base_uri": "https://localhost:8080/"
        },
        "id": "zGIsGFbfL7M2",
        "outputId": "321bd8c7-732f-42ff-f3db-05ca209a77ab"
      },
      "source": [
        "len(words)"
      ],
      "execution_count": null,
      "outputs": [
        {
          "output_type": "execute_result",
          "data": {
            "text/plain": [
              "16"
            ]
          },
          "metadata": {
            "tags": []
          },
          "execution_count": 73
        }
      ]
    },
    {
      "cell_type": "code",
      "metadata": {
        "colab": {
          "base_uri": "https://localhost:8080/"
        },
        "id": "ONCel8jPLeyj",
        "outputId": "cd313b4e-acfe-4626-c11b-3109ded5d51e"
      },
      "source": [
        "word_vecs_2d.shape"
      ],
      "execution_count": null,
      "outputs": [
        {
          "output_type": "execute_result",
          "data": {
            "text/plain": [
              "(16, 2)"
            ]
          },
          "metadata": {
            "tags": []
          },
          "execution_count": 71
        }
      ]
    },
    {
      "cell_type": "code",
      "metadata": {
        "id": "KWJE17E8lhZH",
        "colab": {
          "base_uri": "https://localhost:8080/",
          "height": 863
        },
        "outputId": "6ff282a3-ba02-4477-94dc-3ecdf70635d0"
      },
      "source": [
        "# create a nice big plot \n",
        "plt.figure(figsize=(20,15))\n",
        "\n",
        "# plot the scatter plot of where the words will be\n",
        "plt.scatter(word_vecs_2d[:,0], word_vecs_2d[:,1])\n",
        "\n",
        "# for each word and coordinate pair: draw the text on the plot\n",
        "for word, coord in zip(words, word_vecs_2d):\n",
        "    x, y = coord\n",
        "    plt.text(x, y, word, size= 15)\n",
        "\n",
        "# show the plot\n",
        "plt.show()"
      ],
      "execution_count": null,
      "outputs": [
        {
          "output_type": "display_data",
          "data": {
            "image/png": "[encoded data removed]",
            "text/plain": [
              "<Figure size 1440x1080 with 1 Axes>"
            ]
          },
          "metadata": {
            "tags": [],
            "needs_background": "light"
          }
        }
      ]
    },
    {
      "cell_type": "markdown",
      "metadata": {
        "id": "PgrgFzlilhZI"
      },
      "source": [
        "## Follow Along\n",
        "### Extract Document Vectors\n",
        "\n",
        "Let's see how much the quality of our query will work when we try a new embedding model.\n",
        "\n",
        "Steps:\n",
        "* Extract Vectors from Each Document\n",
        "* Search using KNN\n"
      ]
    },
    {
      "cell_type": "code",
      "metadata": {
        "id": "7AGxr7w1lhZJ"
      },
      "source": [
        "X = [nlp(str(d)).vector for d in data]"
      ],
      "execution_count": null,
      "outputs": []
    },
    {
      "cell_type": "code",
      "metadata": {
        "id": "AA0CHAchlhZJ",
        "outputId": "44929bc2-a1ab-4311-8cc4-6e08ba75ae89"
      },
      "source": [
        "pd.DataFrame(X).shape"
      ],
      "execution_count": null,
      "outputs": [
        {
          "output_type": "execute_result",
          "data": {
            "text/plain": [
              "(401, 300)"
            ]
          },
          "metadata": {
            "tags": []
          },
          "execution_count": 72
        }
      ]
    },
    {
      "cell_type": "markdown",
      "metadata": {
        "id": "SWoV02qblhZJ"
      },
      "source": [
        "## Challenge\n",
        "\n",
        "You will extract word embeddings from documents using Spacy's pre-trained model in the upcoming module project. "
      ]
    },
    {
      "cell_type": "markdown",
      "metadata": {
        "id": "Bw3O-Ra3lhZJ"
      },
      "source": [
        "# Review\n",
        "For your module project assignment you will create vector representations of indeed.com Data Science job listings. You will then estimate a similarity model to perform searches for job descriptions. Get started with your [module project here](./LS_DS_412_Vector_Representations_Assignment.ipynb)"
      ]
    },
    {
      "cell_type": "markdown",
      "metadata": {
        "id": "rOhYUkinlhZJ"
      },
      "source": [
        "# Sources\n",
        "\n",
        "* Spacy 101 - https://course.spacy.io\n",
        "* NLTK Book - https://www.nltk.org/book/\n",
        "* An Introduction to Information Retrieval - https://nlp.stanford.edu/IR-book/pdf/irbookonlinereading.pdf"
      ]
    }
  ]
}