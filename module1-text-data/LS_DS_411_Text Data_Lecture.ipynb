{
  "nbformat": 4,
  "nbformat_minor": 0,
  "metadata": {
    "kernelspec": {
      "display_name": "U4-S1-NLP-DS11",
      "language": "python",
      "name": "u4-s1-nlp-ds11"
    },
    "language_info": {
      "codemirror_mode": {
        "name": "ipython",
        "version": 3
      },
      "file_extension": ".py",
      "mimetype": "text/x-python",
      "name": "python",
      "nbconvert_exporter": "python",
      "pygments_lexer": "ipython3",
      "version": "3.7.0"
    },
    "toc-autonumbering": false,
    "toc-showcode": false,
    "toc-showmarkdowntxt": false,
    "colab": {
      "name": "Ik_LS_DS_411_Text Data_Lecture.ipynb",
      "provenance": [],
      "include_colab_link": true
    }
  },
  "cells": [
    {
      "cell_type": "markdown",
      "metadata": {
        "id": "view-in-github",
        "colab_type": "text"
      },
      "source": [
        "<a href=\"https://colab.research.google.com/github/ik-okoro/DS-Unit-4-Sprint-1-NLP/blob/main/module1-text-data/LS_DS_411_Text%20Data_Lecture.ipynb\" target=\"_parent\"><img src=\"https://colab.research.google.com/assets/colab-badge.svg\" alt=\"Open In Colab\"/></a>"
      ]
    },
    {
      "cell_type": "markdown",
      "metadata": {
        "toc-hr-collapsed": false,
        "id": "yIAEMUK1Rftb"
      },
      "source": [
        "Lambda School Data Science\n",
        "\n",
        "*Unit 4, Sprint 1, Module 1*\n",
        "\n",
        "---\n",
        "<h1 id=\"moduleTitle\"> Natural Language Processing Introduction (Prepare)</h1>\n",
        "\n",
        "\"Natural\" meaning - not computer languages but spoken/written human languages. The hard thing about NLP is that human languages are far less structured or consistent than computer languages. This is perhaps the largest source of difficulty when trying to get computers to \"understand\" human languages. How do you get a machine to understand sarcasm, and irony, and synonyms, connotation, denotation, nuance, and tone of voice --all without it having lived a lifetime of experience for context? If you think about it, our human brains have been exposed to quite a lot of training data to help us interpret languages, and even then we misunderstand each other pretty frequently. \n",
        "    \n",
        "\n",
        "<h2 id='moduleObjectives'>Learning Objectives</h2>\n",
        "\n",
        "By the end of end of this module, a student should be able to:\n",
        "* <a href=\"#p1\">Objective 1</a>: Tokenize text\n",
        "* <a href=\"#p1\">Objective 2</a>: Remove stop words from text\n",
        "* <a href=\"#p3\">Objective 3</a>: Perform stemming and lemmatization on tokens\n",
        "\n",
        "## Conda Environments\n",
        "\n",
        "You will be completing each module this sprint on your machine. We will be using conda environments to manage the packages and their dependencies for this sprint's content. In a classroom setting, instructors typically abstract away environment for you. However, environment management is an important professional data science skill. We showed you how to manage environments using pipvirtual env during Unit 3, but in this sprint, we will introduce an environment management tool common in the data science community: \n",
        "\n",
        "> __conda__: Package, dependency and environment management for any language—Python, R, Ruby, Lua, Scala, Java, JavaScript, C/ C++, FORTRAN, and more.\n",
        "\n",
        "The easiest way to install conda on your machine is via the [Anaconda Distribution](https://www.anaconda.com/distribution/) of Python & R. Once you have conda installed, read [\"A Guide to Conda Environments\"](https://towardsdatascience.com/a-guide-to-conda-environments-bc6180fc533). This article will provide an introduce into some of the conda basics. If you need some additional help getting started, the official [\"Setting started with conda\"](https://conda.io/projects/conda/en/latest/user-guide/getting-started.html) guide will point you in the right direction. \n",
        "\n",
        ":snake: \n",
        "\n",
        "To get the sprint environment setup: \n",
        "\n",
        "1. Open your command line tool (Terminal for MacOS, Anaconda Prompt for Windows)\n",
        "2. Navigate to the folder with this sprint's content. There should be a `requirements.txt`\n",
        "3. Run `conda create -n U4-S1-NLP python==3.7` => You can also rename the environment if you would like. Once the command completes, your conda environment should be ready.\n",
        "4. Now, we are going to add in the require python packages for this sprint. You will need to 'activate' the conda environment: `source activate U4-S1-NLP` on Terminal or `conda activate U4-S1-NLP` on Anaconda Prompt. Once your environment is activate, run `pip install -r requirements.txt` which will install the required packages into your environment.\n",
        "5. We are going to also add an Ipython Kernel reference to your conda environment, so we can use it from JupyterLab. \n",
        "6. Next run `python -m ipykernel install --user --name U4-S1-NLP --display-name \"U4-S1-NLP (Python3)\"` => This will add a json object to an ipython file, so JupterLab will know that it can use this isolated instance of Python. :) \n",
        "7. Last step, we need to install the models for Spacy. Run these commands `python -m spacy download en_core_web_md` and `python -m spacy download en_core_web_lg`\n",
        "8. Deactivate your conda environment and launch JupyterLab. You should know see \"U4-S1-NLP (Python3)\" in the list of available kernels on launch screen. "
      ]
    },
    {
      "cell_type": "markdown",
      "metadata": {
        "toc-hr-collapsed": false,
        "id": "9jBGE1efRftc"
      },
      "source": [
        "# Tokenze Text (Learn)\n",
        "<a id=\"p1\"></a>"
      ]
    },
    {
      "cell_type": "markdown",
      "metadata": {
        "toc-hr-collapsed": true,
        "id": "wsGbc-x3Rftd"
      },
      "source": [
        "## Overview\n",
        "\n",
        "> **token**: an instance of a sequence of characters in some particular document that are grouped together as a useful semantic unit for processing\n",
        "\n",
        "> [_*Introduction to Information Retrival*_](https://nlp.stanford.edu/IR-book/)\n",
        "\n",
        "\n",
        "### The attributes of good tokens\n",
        "\n",
        "* Should be stored in an iterable data structure\n",
        "  - Allows analysis of the \"semantic unit\"\n",
        "* Should be all the same case\n",
        "  - Reduces the complexity of our data\n",
        "* Should be free of non-alphanumeric characters (ie punctuation, whitespace)\n",
        "  - Removes information that is probably not relevant to the analysis"
      ]
    },
    {
      "cell_type": "markdown",
      "metadata": {
        "id": "gybwpsCGRftd"
      },
      "source": [
        "Let's pretend we are trying analyze the random sequence here. Question: what is the most common character in this sequence?"
      ]
    },
    {
      "cell_type": "code",
      "metadata": {
        "colab": {
          "base_uri": "https://localhost:8080/",
          "height": 1000
        },
        "id": "OFYO_yIHSn55",
        "outputId": "cd651125-b6b0-44ff-8927-9439f2ed724a"
      },
      "source": [
        "!wget https://raw.githubusercontent.com/LambdaSchool/DS-Unit-4-Sprint-1-NLP/main/requirements.txt\n",
        "!pip install -r requirements.txt"
      ],
      "execution_count": null,
      "outputs": [
        {
          "output_type": "stream",
          "text": [
            "--2020-12-02 01:26:16--  https://raw.githubusercontent.com/LambdaSchool/DS-Unit-4-Sprint-1-NLP/main/requirements.txt\n",
            "Resolving raw.githubusercontent.com (raw.githubusercontent.com)... 151.101.0.133, 151.101.64.133, 151.101.128.133, ...\n",
            "Connecting to raw.githubusercontent.com (raw.githubusercontent.com)|151.101.0.133|:443... connected.\n",
            "HTTP request sent, awaiting response... 200 OK\n",
            "Length: 137 [text/plain]\n",
            "Saving to: ‘requirements.txt’\n",
            "\n",
            "requirements.txt    100%[===================>]     137  --.-KB/s    in 0s      \n",
            "\n",
            "2020-12-02 01:26:16 (5.89 MB/s) - ‘requirements.txt’ saved [137/137]\n",
            "\n",
            "Collecting gensim==3.8.1\n",
            "\u001b[?25l  Downloading https://files.pythonhosted.org/packages/d1/dd/112bd4258cee11e0baaaba064060eb156475a42362e59e3ff28e7ca2d29d/gensim-3.8.1-cp36-cp36m-manylinux1_x86_64.whl (24.2MB)\n",
            "\u001b[K     |████████████████████████████████| 24.2MB 4.7MB/s \n",
            "\u001b[?25hCollecting pyLDAvis==2.1.2\n",
            "\u001b[?25l  Downloading https://files.pythonhosted.org/packages/a5/3a/af82e070a8a96e13217c8f362f9a73e82d61ac8fff3a2561946a97f96266/pyLDAvis-2.1.2.tar.gz (1.6MB)\n",
            "\u001b[K     |████████████████████████████████| 1.6MB 43.8MB/s \n",
            "\u001b[?25hCollecting spacy==2.2.3\n",
            "\u001b[?25l  Downloading https://files.pythonhosted.org/packages/47/13/80ad28ef7a16e2a86d16d73e28588be5f1085afd3e85e4b9b912bd700e8a/spacy-2.2.3-cp36-cp36m-manylinux1_x86_64.whl (10.4MB)\n",
            "\u001b[K     |████████████████████████████████| 10.4MB 23.3MB/s \n",
            "\u001b[?25hCollecting scikit-learn==0.22.2\n",
            "\u001b[?25l  Downloading https://files.pythonhosted.org/packages/e1/7f/366dcba1ba076a88a50bea732dbc033c0c5bbf7876010e6edc67948579d5/scikit_learn-0.22.2-cp36-cp36m-manylinux1_x86_64.whl (7.1MB)\n",
            "\u001b[K     |████████████████████████████████| 7.1MB 20.6MB/s \n",
            "\u001b[?25hCollecting seaborn==0.9.0\n",
            "\u001b[?25l  Downloading https://files.pythonhosted.org/packages/a8/76/220ba4420459d9c4c9c9587c6ce607bf56c25b3d3d2de62056efe482dadc/seaborn-0.9.0-py3-none-any.whl (208kB)\n",
            "\u001b[K     |████████████████████████████████| 215kB 44.2MB/s \n",
            "\u001b[?25hCollecting squarify==0.4.3\n",
            "  Downloading https://files.pythonhosted.org/packages/0b/2b/2e77c35326efec19819cd1d729540d4d235e6c2a3f37658288a363a67da5/squarify-0.4.3-py3-none-any.whl\n",
            "Requirement already satisfied: ipykernel in /usr/local/lib/python3.6/dist-packages (from -r requirements.txt (line 7)) (4.10.1)\n",
            "Requirement already satisfied: nltk in /usr/local/lib/python3.6/dist-packages (from -r requirements.txt (line 8)) (3.2.5)\n",
            "Requirement already satisfied: pandas in /usr/local/lib/python3.6/dist-packages (from -r requirements.txt (line 9)) (1.1.4)\n",
            "Requirement already satisfied: scipy in /usr/local/lib/python3.6/dist-packages (from -r requirements.txt (line 10)) (1.4.1)\n",
            "Requirement already satisfied: beautifulsoup4 in /usr/local/lib/python3.6/dist-packages (from -r requirements.txt (line 11)) (4.6.3)\n",
            "Requirement already satisfied: smart-open>=1.8.1 in /usr/local/lib/python3.6/dist-packages (from gensim==3.8.1->-r requirements.txt (line 1)) (3.0.0)\n",
            "Requirement already satisfied: numpy>=1.11.3 in /usr/local/lib/python3.6/dist-packages (from gensim==3.8.1->-r requirements.txt (line 1)) (1.18.5)\n",
            "Requirement already satisfied: six>=1.5.0 in /usr/local/lib/python3.6/dist-packages (from gensim==3.8.1->-r requirements.txt (line 1)) (1.15.0)\n",
            "Requirement already satisfied: wheel>=0.23.0 in /usr/local/lib/python3.6/dist-packages (from pyLDAvis==2.1.2->-r requirements.txt (line 2)) (0.35.1)\n",
            "Requirement already satisfied: joblib>=0.8.4 in /usr/local/lib/python3.6/dist-packages (from pyLDAvis==2.1.2->-r requirements.txt (line 2)) (0.17.0)\n",
            "Requirement already satisfied: jinja2>=2.7.2 in /usr/local/lib/python3.6/dist-packages (from pyLDAvis==2.1.2->-r requirements.txt (line 2)) (2.11.2)\n",
            "Requirement already satisfied: numexpr in /usr/local/lib/python3.6/dist-packages (from pyLDAvis==2.1.2->-r requirements.txt (line 2)) (2.7.1)\n",
            "Requirement already satisfied: pytest in /usr/local/lib/python3.6/dist-packages (from pyLDAvis==2.1.2->-r requirements.txt (line 2)) (3.6.4)\n",
            "Requirement already satisfied: future in /usr/local/lib/python3.6/dist-packages (from pyLDAvis==2.1.2->-r requirements.txt (line 2)) (0.16.0)\n",
            "Collecting funcy\n",
            "  Downloading https://files.pythonhosted.org/packages/66/89/479de0afbbfb98d1c4b887936808764627300208bb771fcd823403645a36/funcy-1.15-py2.py3-none-any.whl\n",
            "Requirement already satisfied: requests<3.0.0,>=2.13.0 in /usr/local/lib/python3.6/dist-packages (from spacy==2.2.3->-r requirements.txt (line 3)) (2.23.0)\n",
            "Requirement already satisfied: murmurhash<1.1.0,>=0.28.0 in /usr/local/lib/python3.6/dist-packages (from spacy==2.2.3->-r requirements.txt (line 3)) (1.0.4)\n",
            "Requirement already satisfied: blis<0.5.0,>=0.4.0 in /usr/local/lib/python3.6/dist-packages (from spacy==2.2.3->-r requirements.txt (line 3)) (0.4.1)\n",
            "Requirement already satisfied: catalogue<1.1.0,>=0.0.7 in /usr/local/lib/python3.6/dist-packages (from spacy==2.2.3->-r requirements.txt (line 3)) (1.0.0)\n",
            "Requirement already satisfied: preshed<3.1.0,>=3.0.2 in /usr/local/lib/python3.6/dist-packages (from spacy==2.2.3->-r requirements.txt (line 3)) (3.0.4)\n",
            "Requirement already satisfied: wasabi<1.1.0,>=0.4.0 in /usr/local/lib/python3.6/dist-packages (from spacy==2.2.3->-r requirements.txt (line 3)) (0.8.0)\n",
            "Requirement already satisfied: setuptools in /usr/local/lib/python3.6/dist-packages (from spacy==2.2.3->-r requirements.txt (line 3)) (50.3.2)\n",
            "Requirement already satisfied: cymem<2.1.0,>=2.0.2 in /usr/local/lib/python3.6/dist-packages (from spacy==2.2.3->-r requirements.txt (line 3)) (2.0.4)\n",
            "Requirement already satisfied: plac<1.2.0,>=0.9.6 in /usr/local/lib/python3.6/dist-packages (from spacy==2.2.3->-r requirements.txt (line 3)) (1.1.3)\n",
            "Collecting thinc<7.4.0,>=7.3.0\n",
            "\u001b[?25l  Downloading https://files.pythonhosted.org/packages/07/59/6bb553bc9a5f072d3cd479fc939fea0f6f682892f1f5cff98de5c9b615bb/thinc-7.3.1-cp36-cp36m-manylinux1_x86_64.whl (2.2MB)\n",
            "\u001b[K     |████████████████████████████████| 2.2MB 30.0MB/s \n",
            "\u001b[?25hRequirement already satisfied: srsly<1.1.0,>=0.1.0 in /usr/local/lib/python3.6/dist-packages (from spacy==2.2.3->-r requirements.txt (line 3)) (1.0.4)\n",
            "Requirement already satisfied: matplotlib>=1.4.3 in /usr/local/lib/python3.6/dist-packages (from seaborn==0.9.0->-r requirements.txt (line 5)) (3.2.2)\n",
            "Requirement already satisfied: traitlets>=4.1.0 in /usr/local/lib/python3.6/dist-packages (from ipykernel->-r requirements.txt (line 7)) (4.3.3)\n",
            "Requirement already satisfied: ipython>=4.0.0 in /usr/local/lib/python3.6/dist-packages (from ipykernel->-r requirements.txt (line 7)) (5.5.0)\n",
            "Requirement already satisfied: tornado>=4.0 in /usr/local/lib/python3.6/dist-packages (from ipykernel->-r requirements.txt (line 7)) (5.1.1)\n",
            "Requirement already satisfied: jupyter-client in /usr/local/lib/python3.6/dist-packages (from ipykernel->-r requirements.txt (line 7)) (5.3.5)\n",
            "Requirement already satisfied: pytz>=2017.2 in /usr/local/lib/python3.6/dist-packages (from pandas->-r requirements.txt (line 9)) (2018.9)\n",
            "Requirement already satisfied: python-dateutil>=2.7.3 in /usr/local/lib/python3.6/dist-packages (from pandas->-r requirements.txt (line 9)) (2.8.1)\n",
            "Requirement already satisfied: MarkupSafe>=0.23 in /usr/local/lib/python3.6/dist-packages (from jinja2>=2.7.2->pyLDAvis==2.1.2->-r requirements.txt (line 2)) (1.1.1)\n",
            "Requirement already satisfied: pluggy<0.8,>=0.5 in /usr/local/lib/python3.6/dist-packages (from pytest->pyLDAvis==2.1.2->-r requirements.txt (line 2)) (0.7.1)\n",
            "Requirement already satisfied: attrs>=17.4.0 in /usr/local/lib/python3.6/dist-packages (from pytest->pyLDAvis==2.1.2->-r requirements.txt (line 2)) (20.3.0)\n",
            "Requirement already satisfied: py>=1.5.0 in /usr/local/lib/python3.6/dist-packages (from pytest->pyLDAvis==2.1.2->-r requirements.txt (line 2)) (1.9.0)\n",
            "Requirement already satisfied: atomicwrites>=1.0 in /usr/local/lib/python3.6/dist-packages (from pytest->pyLDAvis==2.1.2->-r requirements.txt (line 2)) (1.4.0)\n",
            "Requirement already satisfied: more-itertools>=4.0.0 in /usr/local/lib/python3.6/dist-packages (from pytest->pyLDAvis==2.1.2->-r requirements.txt (line 2)) (8.6.0)\n",
            "Requirement already satisfied: urllib3!=1.25.0,!=1.25.1,<1.26,>=1.21.1 in /usr/local/lib/python3.6/dist-packages (from requests<3.0.0,>=2.13.0->spacy==2.2.3->-r requirements.txt (line 3)) (1.24.3)\n",
            "Requirement already satisfied: certifi>=2017.4.17 in /usr/local/lib/python3.6/dist-packages (from requests<3.0.0,>=2.13.0->spacy==2.2.3->-r requirements.txt (line 3)) (2020.11.8)\n",
            "Requirement already satisfied: idna<3,>=2.5 in /usr/local/lib/python3.6/dist-packages (from requests<3.0.0,>=2.13.0->spacy==2.2.3->-r requirements.txt (line 3)) (2.10)\n",
            "Requirement already satisfied: chardet<4,>=3.0.2 in /usr/local/lib/python3.6/dist-packages (from requests<3.0.0,>=2.13.0->spacy==2.2.3->-r requirements.txt (line 3)) (3.0.4)\n",
            "Requirement already satisfied: importlib-metadata>=0.20; python_version < \"3.8\" in /usr/local/lib/python3.6/dist-packages (from catalogue<1.1.0,>=0.0.7->spacy==2.2.3->-r requirements.txt (line 3)) (2.0.0)\n",
            "Requirement already satisfied: tqdm<5.0.0,>=4.10.0 in /usr/local/lib/python3.6/dist-packages (from thinc<7.4.0,>=7.3.0->spacy==2.2.3->-r requirements.txt (line 3)) (4.41.1)\n",
            "Requirement already satisfied: pyparsing!=2.0.4,!=2.1.2,!=2.1.6,>=2.0.1 in /usr/local/lib/python3.6/dist-packages (from matplotlib>=1.4.3->seaborn==0.9.0->-r requirements.txt (line 5)) (2.4.7)\n",
            "Requirement already satisfied: cycler>=0.10 in /usr/local/lib/python3.6/dist-packages (from matplotlib>=1.4.3->seaborn==0.9.0->-r requirements.txt (line 5)) (0.10.0)\n",
            "Requirement already satisfied: kiwisolver>=1.0.1 in /usr/local/lib/python3.6/dist-packages (from matplotlib>=1.4.3->seaborn==0.9.0->-r requirements.txt (line 5)) (1.3.1)\n",
            "Requirement already satisfied: ipython-genutils in /usr/local/lib/python3.6/dist-packages (from traitlets>=4.1.0->ipykernel->-r requirements.txt (line 7)) (0.2.0)\n",
            "Requirement already satisfied: decorator in /usr/local/lib/python3.6/dist-packages (from traitlets>=4.1.0->ipykernel->-r requirements.txt (line 7)) (4.4.2)\n",
            "Requirement already satisfied: simplegeneric>0.8 in /usr/local/lib/python3.6/dist-packages (from ipython>=4.0.0->ipykernel->-r requirements.txt (line 7)) (0.8.1)\n",
            "Requirement already satisfied: pexpect; sys_platform != \"win32\" in /usr/local/lib/python3.6/dist-packages (from ipython>=4.0.0->ipykernel->-r requirements.txt (line 7)) (4.8.0)\n",
            "Requirement already satisfied: pygments in /usr/local/lib/python3.6/dist-packages (from ipython>=4.0.0->ipykernel->-r requirements.txt (line 7)) (2.6.1)\n",
            "Requirement already satisfied: prompt-toolkit<2.0.0,>=1.0.4 in /usr/local/lib/python3.6/dist-packages (from ipython>=4.0.0->ipykernel->-r requirements.txt (line 7)) (1.0.18)\n",
            "Requirement already satisfied: pickleshare in /usr/local/lib/python3.6/dist-packages (from ipython>=4.0.0->ipykernel->-r requirements.txt (line 7)) (0.7.5)\n",
            "Requirement already satisfied: pyzmq>=13 in /usr/local/lib/python3.6/dist-packages (from jupyter-client->ipykernel->-r requirements.txt (line 7)) (20.0.0)\n",
            "Requirement already satisfied: jupyter-core>=4.6.0 in /usr/local/lib/python3.6/dist-packages (from jupyter-client->ipykernel->-r requirements.txt (line 7)) (4.7.0)\n",
            "Requirement already satisfied: zipp>=0.5 in /usr/local/lib/python3.6/dist-packages (from importlib-metadata>=0.20; python_version < \"3.8\"->catalogue<1.1.0,>=0.0.7->spacy==2.2.3->-r requirements.txt (line 3)) (3.4.0)\n",
            "Requirement already satisfied: ptyprocess>=0.5 in /usr/local/lib/python3.6/dist-packages (from pexpect; sys_platform != \"win32\"->ipython>=4.0.0->ipykernel->-r requirements.txt (line 7)) (0.6.0)\n",
            "Requirement already satisfied: wcwidth in /usr/local/lib/python3.6/dist-packages (from prompt-toolkit<2.0.0,>=1.0.4->ipython>=4.0.0->ipykernel->-r requirements.txt (line 7)) (0.2.5)\n",
            "Building wheels for collected packages: pyLDAvis\n",
            "  Building wheel for pyLDAvis (setup.py) ... \u001b[?25l\u001b[?25hdone\n",
            "  Created wheel for pyLDAvis: filename=pyLDAvis-2.1.2-py2.py3-none-any.whl size=97712 sha256=d05f26c67f8eabbfdd6e328a75e1258bcf62a2b0cc5913459f6cbbaeb09d1b2e\n",
            "  Stored in directory: /root/.cache/pip/wheels/98/71/24/513a99e58bb6b8465bae4d2d5e9dba8f0bef8179e3051ac414\n",
            "Successfully built pyLDAvis\n",
            "Installing collected packages: gensim, funcy, pyLDAvis, thinc, spacy, scikit-learn, seaborn, squarify\n",
            "  Found existing installation: gensim 3.6.0\n",
            "    Uninstalling gensim-3.6.0:\n",
            "      Successfully uninstalled gensim-3.6.0\n",
            "  Found existing installation: thinc 7.4.0\n",
            "    Uninstalling thinc-7.4.0:\n",
            "      Successfully uninstalled thinc-7.4.0\n",
            "  Found existing installation: spacy 2.2.4\n",
            "    Uninstalling spacy-2.2.4:\n",
            "      Successfully uninstalled spacy-2.2.4\n",
            "  Found existing installation: scikit-learn 0.22.2.post1\n",
            "    Uninstalling scikit-learn-0.22.2.post1:\n",
            "      Successfully uninstalled scikit-learn-0.22.2.post1\n",
            "  Found existing installation: seaborn 0.11.0\n",
            "    Uninstalling seaborn-0.11.0:\n",
            "      Successfully uninstalled seaborn-0.11.0\n",
            "Successfully installed funcy-1.15 gensim-3.8.1 pyLDAvis-2.1.2 scikit-learn-0.22.2 seaborn-0.9.0 spacy-2.2.3 squarify-0.4.3 thinc-7.3.1\n"
          ],
          "name": "stdout"
        },
        {
          "output_type": "display_data",
          "data": {
            "application/vnd.colab-display-data+json": {
              "pip_warning": {
                "packages": [
                  "seaborn"
                ]
              }
            }
          },
          "metadata": {
            "tags": []
          }
        }
      ]
    },
    {
      "cell_type": "code",
      "metadata": {
        "colab": {
          "base_uri": "https://localhost:8080/"
        },
        "id": "CPlAGZYbSnql",
        "outputId": "97c2157c-1b00-45f6-910a-e0b3fec7a836"
      },
      "source": [
        "# Can do web_md or sm for medium/small. Takes less time. Trained on less data and takes less memory\n",
        "!python -m spacy download en_core_web_lg"
      ],
      "execution_count": null,
      "outputs": [
        {
          "output_type": "stream",
          "text": [
            "Collecting en_core_web_lg==2.2.5\n",
            "\u001b[?25l  Downloading https://github.com/explosion/spacy-models/releases/download/en_core_web_lg-2.2.5/en_core_web_lg-2.2.5.tar.gz (827.9MB)\n",
            "\u001b[K     |████████████████████████████████| 827.9MB 3.3MB/s \n",
            "\u001b[?25hRequirement already satisfied: spacy>=2.2.2 in /usr/local/lib/python3.6/dist-packages (from en_core_web_lg==2.2.5) (2.2.4)\n",
            "Requirement already satisfied: srsly<1.1.0,>=1.0.2 in /usr/local/lib/python3.6/dist-packages (from spacy>=2.2.2->en_core_web_lg==2.2.5) (1.0.4)\n",
            "Requirement already satisfied: setuptools in /usr/local/lib/python3.6/dist-packages (from spacy>=2.2.2->en_core_web_lg==2.2.5) (50.3.2)\n",
            "Requirement already satisfied: plac<1.2.0,>=0.9.6 in /usr/local/lib/python3.6/dist-packages (from spacy>=2.2.2->en_core_web_lg==2.2.5) (1.1.3)\n",
            "Requirement already satisfied: catalogue<1.1.0,>=0.0.7 in /usr/local/lib/python3.6/dist-packages (from spacy>=2.2.2->en_core_web_lg==2.2.5) (1.0.0)\n",
            "Requirement already satisfied: numpy>=1.15.0 in /usr/local/lib/python3.6/dist-packages (from spacy>=2.2.2->en_core_web_lg==2.2.5) (1.18.5)\n",
            "Requirement already satisfied: preshed<3.1.0,>=3.0.2 in /usr/local/lib/python3.6/dist-packages (from spacy>=2.2.2->en_core_web_lg==2.2.5) (3.0.4)\n",
            "Requirement already satisfied: thinc==7.4.0 in /usr/local/lib/python3.6/dist-packages (from spacy>=2.2.2->en_core_web_lg==2.2.5) (7.4.0)\n",
            "Requirement already satisfied: blis<0.5.0,>=0.4.0 in /usr/local/lib/python3.6/dist-packages (from spacy>=2.2.2->en_core_web_lg==2.2.5) (0.4.1)\n",
            "Requirement already satisfied: requests<3.0.0,>=2.13.0 in /usr/local/lib/python3.6/dist-packages (from spacy>=2.2.2->en_core_web_lg==2.2.5) (2.23.0)\n",
            "Requirement already satisfied: murmurhash<1.1.0,>=0.28.0 in /usr/local/lib/python3.6/dist-packages (from spacy>=2.2.2->en_core_web_lg==2.2.5) (1.0.4)\n",
            "Requirement already satisfied: cymem<2.1.0,>=2.0.2 in /usr/local/lib/python3.6/dist-packages (from spacy>=2.2.2->en_core_web_lg==2.2.5) (2.0.4)\n",
            "Requirement already satisfied: wasabi<1.1.0,>=0.4.0 in /usr/local/lib/python3.6/dist-packages (from spacy>=2.2.2->en_core_web_lg==2.2.5) (0.8.0)\n",
            "Requirement already satisfied: tqdm<5.0.0,>=4.38.0 in /usr/local/lib/python3.6/dist-packages (from spacy>=2.2.2->en_core_web_lg==2.2.5) (4.41.1)\n",
            "Requirement already satisfied: importlib-metadata>=0.20; python_version < \"3.8\" in /usr/local/lib/python3.6/dist-packages (from catalogue<1.1.0,>=0.0.7->spacy>=2.2.2->en_core_web_lg==2.2.5) (2.0.0)\n",
            "Requirement already satisfied: certifi>=2017.4.17 in /usr/local/lib/python3.6/dist-packages (from requests<3.0.0,>=2.13.0->spacy>=2.2.2->en_core_web_lg==2.2.5) (2020.11.8)\n",
            "Requirement already satisfied: idna<3,>=2.5 in /usr/local/lib/python3.6/dist-packages (from requests<3.0.0,>=2.13.0->spacy>=2.2.2->en_core_web_lg==2.2.5) (2.10)\n",
            "Requirement already satisfied: chardet<4,>=3.0.2 in /usr/local/lib/python3.6/dist-packages (from requests<3.0.0,>=2.13.0->spacy>=2.2.2->en_core_web_lg==2.2.5) (3.0.4)\n",
            "Requirement already satisfied: urllib3!=1.25.0,!=1.25.1,<1.26,>=1.21.1 in /usr/local/lib/python3.6/dist-packages (from requests<3.0.0,>=2.13.0->spacy>=2.2.2->en_core_web_lg==2.2.5) (1.24.3)\n",
            "Requirement already satisfied: zipp>=0.5 in /usr/local/lib/python3.6/dist-packages (from importlib-metadata>=0.20; python_version < \"3.8\"->catalogue<1.1.0,>=0.0.7->spacy>=2.2.2->en_core_web_lg==2.2.5) (3.4.0)\n",
            "Building wheels for collected packages: en-core-web-lg\n",
            "  Building wheel for en-core-web-lg (setup.py) ... \u001b[?25l\u001b[?25hdone\n",
            "  Created wheel for en-core-web-lg: filename=en_core_web_lg-2.2.5-cp36-none-any.whl size=829180944 sha256=7363a61efe324fad4b65c6503e426a0310f58f3dd6e03cd6bc7d7d26025e050f\n",
            "  Stored in directory: /tmp/pip-ephem-wheel-cache-ri58b82c/wheels/2a/c1/a6/fc7a877b1efca9bc6a089d6f506f16d3868408f9ff89f8dbfc\n",
            "Successfully built en-core-web-lg\n",
            "Installing collected packages: en-core-web-lg\n",
            "Successfully installed en-core-web-lg-2.2.5\n",
            "\u001b[38;5;2m✔ Download and installation successful\u001b[0m\n",
            "You can now load the model via spacy.load('en_core_web_lg')\n"
          ],
          "name": "stdout"
        }
      ]
    },
    {
      "cell_type": "code",
      "metadata": {
        "id": "V_1jOEF4Rftd"
      },
      "source": [
        "random_seq = \"AABAAFBBBBCGCDDEEEFCFFDFFAFFZFGGGGHEAFJAAZBBFCZ\""
      ],
      "execution_count": null,
      "outputs": []
    },
    {
      "cell_type": "markdown",
      "metadata": {
        "id": "ggf4zU28Rfte"
      },
      "source": [
        "A useful unit of analysis for us is going to be a letter or character"
      ]
    },
    {
      "cell_type": "code",
      "metadata": {
        "id": "aBNLBd8xRftf",
        "colab": {
          "base_uri": "https://localhost:8080/"
        },
        "outputId": "f8b40ad4-d7ca-40fb-e01f-d6d23b8e3208"
      },
      "source": [
        "tokens = list(random_seq)\n",
        "print(tokens)"
      ],
      "execution_count": null,
      "outputs": [
        {
          "output_type": "stream",
          "text": [
            "['A', 'A', 'B', 'A', 'A', 'F', 'B', 'B', 'B', 'B', 'C', 'G', 'C', 'D', 'D', 'E', 'E', 'E', 'F', 'C', 'F', 'F', 'D', 'F', 'F', 'A', 'F', 'F', 'Z', 'F', 'G', 'G', 'G', 'G', 'H', 'E', 'A', 'F', 'J', 'A', 'A', 'Z', 'B', 'B', 'F', 'C', 'Z']\n"
          ],
          "name": "stdout"
        }
      ]
    },
    {
      "cell_type": "markdown",
      "metadata": {
        "id": "un-ThhLrRftf"
      },
      "source": [
        "Our tokens are already \"good\": in an iterable datastructure, all the same case, and free of noise characters (punctuation, whitespace), so we can jump straight into analysis."
      ]
    },
    {
      "cell_type": "code",
      "metadata": {
        "id": "Gi26g7PNRftf",
        "colab": {
          "base_uri": "https://localhost:8080/",
          "height": 320
        },
        "outputId": "a0e2e452-2a76-413a-925d-4c7afa084126"
      },
      "source": [
        "import seaborn as sns\n",
        "\n",
        "sns.countplot(tokens);"
      ],
      "execution_count": null,
      "outputs": [
        {
          "output_type": "stream",
          "text": [
            "/usr/local/lib/python3.6/dist-packages/seaborn/_decorators.py:43: FutureWarning: Pass the following variable as a keyword arg: x. From version 0.12, the only valid positional argument will be `data`, and passing other arguments without an explicit keyword will result in an error or misinterpretation.\n",
            "  FutureWarning\n"
          ],
          "name": "stderr"
        },
        {
          "output_type": "display_data",
          "data": {
            "image/png": "[encoded data removed]",
            "text/plain": [
              "<Figure size 432x288 with 1 Axes>"
            ]
          },
          "metadata": {
            "tags": [],
            "needs_background": "light"
          }
        }
      ]
    },
    {
      "cell_type": "markdown",
      "metadata": {
        "id": "aAr2mYVJRftf"
      },
      "source": [
        "The most common character in our sequence is  \"F\". We can't just glance at the the sequence to know which character is the most common. We (humans) struggle to subitize complex data (like random text sequences).\n",
        "\n",
        "> __Subitize__ is the ability to tell the number of objects in a set, quickly, without counting.  \n",
        "\n",
        "We need to chunk the data into countable pieces \"tokens\" for us to analyze them. This inability subitize text data is the motivation for our discussion today."
      ]
    },
    {
      "cell_type": "markdown",
      "metadata": {
        "toc-hr-collapsed": true,
        "id": "7b0_DELYRftj"
      },
      "source": [
        "### Tokenizing with Pure Python"
      ]
    },
    {
      "cell_type": "code",
      "metadata": {
        "id": "RZaxZamqRftj"
      },
      "source": [
        "sample = \"Friends, Romans, countrymen, lend me your ears;\""
      ],
      "execution_count": null,
      "outputs": []
    },
    {
      "cell_type": "code",
      "metadata": {
        "colab": {
          "base_uri": "https://localhost:8080/",
          "height": 35
        },
        "id": "afT3CKVlvbMe",
        "outputId": "d716a928-761f-45cb-dde2-3f7ca3728fb2"
      },
      "source": [
        "sample"
      ],
      "execution_count": null,
      "outputs": [
        {
          "output_type": "execute_result",
          "data": {
            "application/vnd.google.colaboratory.intrinsic+json": {
              "type": "string"
            },
            "text/plain": [
              "'Friends, Romans, countrymen, lend me your ears;'"
            ]
          },
          "metadata": {
            "tags": []
          },
          "execution_count": 4
        }
      ]
    },
    {
      "cell_type": "markdown",
      "metadata": {
        "id": "2gZqxs6iRftk"
      },
      "source": [
        "##### Iterable Tokens\n",
        "\n",
        "A string object in Python is already iterable. However, the item you iterate over is a character not a token:\n",
        "\n",
        "```\n",
        "from time import sleep\n",
        "for num, character in enumerate(sample):\n",
        "    sleep(.5)\n",
        "    print(f\"Char {num} - {character}\", end=\"\\r\")\n",
        "```\n",
        "\n",
        "If we instead care about the words in our sample (our semantic unit), we can use the string method `.split()` to separate the whitespace and create iterable units. :)"
      ]
    },
    {
      "cell_type": "code",
      "metadata": {
        "id": "ed9NnAJfRftk",
        "colab": {
          "base_uri": "https://localhost:8080/"
        },
        "outputId": "4b493198-b46f-4a05-c461-7bf302e51a7d"
      },
      "source": [
        "sample.split(\" \")"
      ],
      "execution_count": null,
      "outputs": [
        {
          "output_type": "execute_result",
          "data": {
            "text/plain": [
              "['Friends,', 'Romans,', 'countrymen,', 'lend', 'me', 'your', 'ears;']"
            ]
          },
          "metadata": {
            "tags": []
          },
          "execution_count": 8
        }
      ]
    },
    {
      "cell_type": "markdown",
      "metadata": {
        "id": "q2OQAe1jRftk"
      },
      "source": [
        "##### Case Normalization\n",
        "A common data cleaning data cleaning task with token is to standardize or normalize the case. Normalizing case reduces the chance that you have duplicate records for things which have practically the same semantic meaning. You can use either the `.lower()` or `.upper()` string methods to normalize case.\n",
        "\n",
        "Consider the following example: "
      ]
    },
    {
      "cell_type": "code",
      "metadata": {
        "colab": {
          "base_uri": "https://localhost:8080/"
        },
        "id": "QCT8bppgw28U",
        "outputId": "fdeb97a3-6346-47ec-cd98-e38364f9046b"
      },
      "source": [
        "!wget https://github.com/LambdaSchool/DS-Unit-4-Sprint-1-NLP/blob/main/module1-text-data/data/Datafiniti_Amazon_Consumer_Reviews_of_Amazon_Products_May19.csv.zip?raw=true -O datafiniti.zip\n",
        "!unzip datafiniti.zip"
      ],
      "execution_count": null,
      "outputs": [
        {
          "output_type": "stream",
          "text": [
            "--2020-12-02 00:04:13--  https://github.com/LambdaSchool/DS-Unit-4-Sprint-1-NLP/blob/main/module1-text-data/data/Datafiniti_Amazon_Consumer_Reviews_of_Amazon_Products_May19.csv.zip?raw=true\n",
            "Resolving github.com (github.com)... 13.114.40.48\n",
            "Connecting to github.com (github.com)|13.114.40.48|:443... connected.\n",
            "HTTP request sent, awaiting response... 302 Found\n",
            "Location: https://github.com/LambdaSchool/DS-Unit-4-Sprint-1-NLP/raw/main/module1-text-data/data/Datafiniti_Amazon_Consumer_Reviews_of_Amazon_Products_May19.csv.zip [following]\n",
            "--2020-12-02 00:04:14--  https://github.com/LambdaSchool/DS-Unit-4-Sprint-1-NLP/raw/main/module1-text-data/data/Datafiniti_Amazon_Consumer_Reviews_of_Amazon_Products_May19.csv.zip\n",
            "Reusing existing connection to github.com:443.\n",
            "HTTP request sent, awaiting response... 302 Found\n",
            "Location: https://raw.githubusercontent.com/LambdaSchool/DS-Unit-4-Sprint-1-NLP/main/module1-text-data/data/Datafiniti_Amazon_Consumer_Reviews_of_Amazon_Products_May19.csv.zip [following]\n",
            "--2020-12-02 00:04:14--  https://raw.githubusercontent.com/LambdaSchool/DS-Unit-4-Sprint-1-NLP/main/module1-text-data/data/Datafiniti_Amazon_Consumer_Reviews_of_Amazon_Products_May19.csv.zip\n",
            "Resolving raw.githubusercontent.com (raw.githubusercontent.com)... 151.101.0.133, 151.101.64.133, 151.101.128.133, ...\n",
            "Connecting to raw.githubusercontent.com (raw.githubusercontent.com)|151.101.0.133|:443... connected.\n",
            "HTTP request sent, awaiting response... 200 OK\n",
            "Length: 8600979 (8.2M) [application/zip]\n",
            "Saving to: ‘datafiniti.zip’\n",
            "\n",
            "datafiniti.zip      100%[===================>]   8.20M  29.5MB/s    in 0.3s    \n",
            "\n",
            "2020-12-02 00:04:16 (29.5 MB/s) - ‘datafiniti.zip’ saved [8600979/8600979]\n",
            "\n",
            "Archive:  datafiniti.zip\n",
            "  inflating: Datafiniti_Amazon_Consumer_Reviews_of_Amazon_Products_May19.csv  \n",
            "   creating: __MACOSX/\n",
            "  inflating: __MACOSX/._Datafiniti_Amazon_Consumer_Reviews_of_Amazon_Products_May19.csv  \n"
          ],
          "name": "stdout"
        }
      ]
    },
    {
      "cell_type": "code",
      "metadata": {
        "id": "yMzsW2ESRftk"
      },
      "source": [
        "import pandas as pd\n",
        "df = pd.read_csv('Datafiniti_Amazon_Consumer_Reviews_of_Amazon_Products_May19.csv')"
      ],
      "execution_count": null,
      "outputs": []
    },
    {
      "cell_type": "code",
      "metadata": {
        "colab": {
          "base_uri": "https://localhost:8080/",
          "height": 357
        },
        "id": "Yap_lH3CxKOB",
        "outputId": "f4906d65-b239-4c40-8f32-21989a09e50a"
      },
      "source": [
        "df.head(3)"
      ],
      "execution_count": null,
      "outputs": [
        {
          "output_type": "execute_result",
          "data": {
            "text/html": [
              "<div>\n",
              "<style scoped>\n",
              "    .dataframe tbody tr th:only-of-type {\n",
              "        vertical-align: middle;\n",
              "    }\n",
              "\n",
              "    .dataframe tbody tr th {\n",
              "        vertical-align: top;\n",
              "    }\n",
              "\n",
              "    .dataframe thead th {\n",
              "        text-align: right;\n",
              "    }\n",
              "</style>\n",
              "<table border=\"1\" class=\"dataframe\">\n",
              "  <thead>\n",
              "    <tr style=\"text-align: right;\">\n",
              "      <th></th>\n",
              "      <th>id</th>\n",
              "      <th>dateAdded</th>\n",
              "      <th>dateUpdated</th>\n",
              "      <th>name</th>\n",
              "      <th>asins</th>\n",
              "      <th>brand</th>\n",
              "      <th>categories</th>\n",
              "      <th>primaryCategories</th>\n",
              "      <th>imageURLs</th>\n",
              "      <th>keys</th>\n",
              "      <th>manufacturer</th>\n",
              "      <th>manufacturerNumber</th>\n",
              "      <th>reviews.date</th>\n",
              "      <th>reviews.dateSeen</th>\n",
              "      <th>reviews.didPurchase</th>\n",
              "      <th>reviews.doRecommend</th>\n",
              "      <th>reviews.id</th>\n",
              "      <th>reviews.numHelpful</th>\n",
              "      <th>reviews.rating</th>\n",
              "      <th>reviews.sourceURLs</th>\n",
              "      <th>reviews.text</th>\n",
              "      <th>reviews.title</th>\n",
              "      <th>reviews.username</th>\n",
              "      <th>sourceURLs</th>\n",
              "    </tr>\n",
              "  </thead>\n",
              "  <tbody>\n",
              "    <tr>\n",
              "      <th>0</th>\n",
              "      <td>AVpgNzjwLJeJML43Kpxn</td>\n",
              "      <td>2015-10-30T08:59:32Z</td>\n",
              "      <td>2019-04-25T09:08:16Z</td>\n",
              "      <td>AmazonBasics AAA Performance Alkaline Batterie...</td>\n",
              "      <td>B00QWO9P0O,B00LH3DMUO</td>\n",
              "      <td>Amazonbasics</td>\n",
              "      <td>AA,AAA,Health,Electronics,Health &amp; Household,C...</td>\n",
              "      <td>Health &amp; Beauty</td>\n",
              "      <td>https://images-na.ssl-images-amazon.com/images...</td>\n",
              "      <td>amazonbasics/hl002619,amazonbasicsaaaperforman...</td>\n",
              "      <td>AmazonBasics</td>\n",
              "      <td>HL-002619</td>\n",
              "      <td>2017-03-02T00:00:00.000Z</td>\n",
              "      <td>2017-08-28T00:00:00Z</td>\n",
              "      <td>NaN</td>\n",
              "      <td>NaN</td>\n",
              "      <td>NaN</td>\n",
              "      <td>NaN</td>\n",
              "      <td>3</td>\n",
              "      <td>https://www.amazon.com/product-reviews/B00QWO9...</td>\n",
              "      <td>I order 3 of them and one of the item is bad q...</td>\n",
              "      <td>... 3 of them and one of the item is bad quali...</td>\n",
              "      <td>Byger yang</td>\n",
              "      <td>https://www.barcodable.com/upc/841710106442,ht...</td>\n",
              "    </tr>\n",
              "    <tr>\n",
              "      <th>1</th>\n",
              "      <td>AVpgNzjwLJeJML43Kpxn</td>\n",
              "      <td>2015-10-30T08:59:32Z</td>\n",
              "      <td>2019-04-25T09:08:16Z</td>\n",
              "      <td>AmazonBasics AAA Performance Alkaline Batterie...</td>\n",
              "      <td>B00QWO9P0O,B00LH3DMUO</td>\n",
              "      <td>Amazonbasics</td>\n",
              "      <td>AA,AAA,Health,Electronics,Health &amp; Household,C...</td>\n",
              "      <td>Health &amp; Beauty</td>\n",
              "      <td>https://images-na.ssl-images-amazon.com/images...</td>\n",
              "      <td>amazonbasics/hl002619,amazonbasicsaaaperforman...</td>\n",
              "      <td>AmazonBasics</td>\n",
              "      <td>HL-002619</td>\n",
              "      <td>2016-08-31T00:00:00.000Z</td>\n",
              "      <td>2017-08-28T00:00:00Z</td>\n",
              "      <td>NaN</td>\n",
              "      <td>NaN</td>\n",
              "      <td>NaN</td>\n",
              "      <td>NaN</td>\n",
              "      <td>4</td>\n",
              "      <td>https://www.amazon.com/product-reviews/B00QWO9...</td>\n",
              "      <td>Bulk is always the less expensive way to go fo...</td>\n",
              "      <td>... always the less expensive way to go for pr...</td>\n",
              "      <td>ByMG</td>\n",
              "      <td>https://www.barcodable.com/upc/841710106442,ht...</td>\n",
              "    </tr>\n",
              "    <tr>\n",
              "      <th>2</th>\n",
              "      <td>AVpgNzjwLJeJML43Kpxn</td>\n",
              "      <td>2015-10-30T08:59:32Z</td>\n",
              "      <td>2019-04-25T09:08:16Z</td>\n",
              "      <td>AmazonBasics AAA Performance Alkaline Batterie...</td>\n",
              "      <td>B00QWO9P0O,B00LH3DMUO</td>\n",
              "      <td>Amazonbasics</td>\n",
              "      <td>AA,AAA,Health,Electronics,Health &amp; Household,C...</td>\n",
              "      <td>Health &amp; Beauty</td>\n",
              "      <td>https://images-na.ssl-images-amazon.com/images...</td>\n",
              "      <td>amazonbasics/hl002619,amazonbasicsaaaperforman...</td>\n",
              "      <td>AmazonBasics</td>\n",
              "      <td>HL-002619</td>\n",
              "      <td>2016-12-06T00:00:00.000Z</td>\n",
              "      <td>2017-08-28T00:00:00Z</td>\n",
              "      <td>NaN</td>\n",
              "      <td>NaN</td>\n",
              "      <td>NaN</td>\n",
              "      <td>NaN</td>\n",
              "      <td>5</td>\n",
              "      <td>https://www.amazon.com/product-reviews/B00QWO9...</td>\n",
              "      <td>Well they are not Duracell but for the price i...</td>\n",
              "      <td>... are not Duracell but for the price i am ha...</td>\n",
              "      <td>BySharon Lambert</td>\n",
              "      <td>https://www.barcodable.com/upc/841710106442,ht...</td>\n",
              "    </tr>\n",
              "  </tbody>\n",
              "</table>\n",
              "</div>"
            ],
            "text/plain": [
              "                     id  ...                                         sourceURLs\n",
              "0  AVpgNzjwLJeJML43Kpxn  ...  https://www.barcodable.com/upc/841710106442,ht...\n",
              "1  AVpgNzjwLJeJML43Kpxn  ...  https://www.barcodable.com/upc/841710106442,ht...\n",
              "2  AVpgNzjwLJeJML43Kpxn  ...  https://www.barcodable.com/upc/841710106442,ht...\n",
              "\n",
              "[3 rows x 24 columns]"
            ]
          },
          "metadata": {
            "tags": []
          },
          "execution_count": 6
        }
      ]
    },
    {
      "cell_type": "code",
      "metadata": {
        "colab": {
          "base_uri": "https://localhost:8080/"
        },
        "id": "rAi3PBQnxYYW",
        "outputId": "f4da31d1-5037-4acb-8d00-556be2c987e4"
      },
      "source": [
        "df[\"reviews.text\"]"
      ],
      "execution_count": null,
      "outputs": [
        {
          "output_type": "execute_result",
          "data": {
            "text/plain": [
              "0        I order 3 of them and one of the item is bad q...\n",
              "1        Bulk is always the less expensive way to go fo...\n",
              "2        Well they are not Duracell but for the price i...\n",
              "3        Seem to work as well as name brand batteries a...\n",
              "4        These batteries are very long lasting the pric...\n",
              "                               ...                        \n",
              "28327    I got 2 of these for my 8 yr old twins. My 11 ...\n",
              "28328    I bought this for my niece for a Christmas gif...\n",
              "28329    Very nice for light internet browsing, keeping...\n",
              "28330    This Tablet does absolutely everything I want!...\n",
              "28331    At ninety dollars, the expectionations are low...\n",
              "Name: reviews.text, Length: 28332, dtype: object"
            ]
          },
          "metadata": {
            "tags": []
          },
          "execution_count": 15
        }
      ]
    },
    {
      "cell_type": "code",
      "metadata": {
        "colab": {
          "base_uri": "https://localhost:8080/",
          "height": 35
        },
        "id": "qUuLilxexb6l",
        "outputId": "8b6949d7-f274-4e0f-c278-6d689bc56a9b"
      },
      "source": [
        "df[\"reviews.text\"][0]"
      ],
      "execution_count": null,
      "outputs": [
        {
          "output_type": "execute_result",
          "data": {
            "application/vnd.google.colaboratory.intrinsic+json": {
              "type": "string"
            },
            "text/plain": [
              "'I order 3 of them and one of the item is bad quality. Is missing backup spring so I have to put a pcs of aluminum to make the battery work.'"
            ]
          },
          "metadata": {
            "tags": []
          },
          "execution_count": 16
        }
      ]
    },
    {
      "cell_type": "code",
      "metadata": {
        "id": "h-Zr6BUzRftl",
        "colab": {
          "base_uri": "https://localhost:8080/"
        },
        "outputId": "8715ab46-6578-4d6c-fc2a-4444994027c4"
      },
      "source": [
        "# Notice anything odd here? \n",
        "df['brand'].value_counts()"
      ],
      "execution_count": null,
      "outputs": [
        {
          "output_type": "execute_result",
          "data": {
            "text/plain": [
              "Amazon          16153\n",
              "Amazonbasics    12169\n",
              "AmazonBasics       10\n",
              "Name: brand, dtype: int64"
            ]
          },
          "metadata": {
            "tags": []
          },
          "execution_count": 17
        }
      ]
    },
    {
      "cell_type": "code",
      "metadata": {
        "id": "jJ0Ki4ZhRftl",
        "colab": {
          "base_uri": "https://localhost:8080/"
        },
        "outputId": "451b718e-9b59-47e4-b7bc-b44b3d498fa5"
      },
      "source": [
        "# Much cleaner\n",
        "df['brand'] = df['brand'].apply(lambda x: x.lower())\n",
        "df['brand'].value_counts()"
      ],
      "execution_count": null,
      "outputs": [
        {
          "output_type": "execute_result",
          "data": {
            "text/plain": [
              "amazon          16153\n",
              "amazonbasics    12179\n",
              "Name: brand, dtype: int64"
            ]
          },
          "metadata": {
            "tags": []
          },
          "execution_count": 18
        }
      ]
    },
    {
      "cell_type": "markdown",
      "metadata": {
        "id": "eiDOdZIcRftl"
      },
      "source": [
        "##### Keep Only Alphanumeric Characters\n",
        "Yes, we only want letters and numbers. Everything else is probably noise: punctuation, whitespace, and other notation. This one is little bit more complicated than our previous example. Here we will have to import the base package `re` (regular expressions). \n",
        "\n",
        "The only regex expression pattern you need for this is `'[^a-zA-Z 0-9]'` which keeps lower case letters, upper case letters, spaces, and numbers."
      ]
    },
    {
      "cell_type": "code",
      "metadata": {
        "id": "LkpSiJelRftl",
        "colab": {
          "base_uri": "https://localhost:8080/"
        },
        "outputId": "e647eb95-778b-44f0-82e2-d4d3a63b594d"
      },
      "source": [
        "sample = sample+\" 911\"\n",
        "print(sample)"
      ],
      "execution_count": null,
      "outputs": [
        {
          "output_type": "stream",
          "text": [
            "Friends, Romans, countrymen, lend me your ears; 911\n"
          ],
          "name": "stdout"
        }
      ]
    },
    {
      "cell_type": "code",
      "metadata": {
        "id": "soH6gCfPRftm",
        "colab": {
          "base_uri": "https://localhost:8080/",
          "height": 35
        },
        "outputId": "d41baf0f-c5e3-4464-8760-b08585a81534"
      },
      "source": [
        "import re\n",
        "\n",
        "re.sub(\"[^a-zA-Z 0-9]\", \"\", sample)"
      ],
      "execution_count": null,
      "outputs": [
        {
          "output_type": "execute_result",
          "data": {
            "application/vnd.google.colaboratory.intrinsic+json": {
              "type": "string"
            },
            "text/plain": [
              "'Friends Romans countrymen lend me your ears 911'"
            ]
          },
          "metadata": {
            "tags": []
          },
          "execution_count": 24
        }
      ]
    },
    {
      "cell_type": "markdown",
      "metadata": {
        "id": "6Jx6OwwIRftn"
      },
      "source": [
        "#### Two Minute Challenge \n",
        "- Complete the function `tokenize` below\n",
        "- Combine the methods which we discussed above to clean text before we analyze it\n",
        "- You can put the methods in any order you want"
      ]
    },
    {
      "cell_type": "code",
      "metadata": {
        "id": "qdfj5M7CRfto"
      },
      "source": [
        "def tokenize(text):\n",
        "    \"\"\"Parses a string into a list of semantic units (words)\n",
        "\n",
        "    Args:\n",
        "        text (str): The string that the function will tokenize.\n",
        "\n",
        "    Returns:\n",
        "        list: tokens parsed out by the mechanics of your choice\n",
        "    \"\"\"\n",
        "    \n",
        "    tokens = re.sub(\"[^a-zA-Z 0-9]\", \"\", text)\n",
        "    tokens = tokens.lower().split()\n",
        "    \n",
        "    return tokens"
      ],
      "execution_count": null,
      "outputs": []
    },
    {
      "cell_type": "code",
      "metadata": {
        "id": "mGU5v7e_Rfto",
        "colab": {
          "base_uri": "https://localhost:8080/"
        },
        "outputId": "642ce675-517e-40e2-90cd-7b426bdaf22b"
      },
      "source": [
        "tokenize(sample)"
      ],
      "execution_count": null,
      "outputs": [
        {
          "output_type": "execute_result",
          "data": {
            "text/plain": [
              "['friends', 'romans', 'countrymen', 'lend', 'me', 'your', 'ears', '911']"
            ]
          },
          "metadata": {
            "tags": []
          },
          "execution_count": 30
        }
      ]
    },
    {
      "cell_type": "markdown",
      "metadata": {
        "toc-hr-collapsed": true,
        "id": "RnEgxLiRRfto"
      },
      "source": [
        "## Follow Along\n",
        "\n",
        "Our inability to analyze text data becomes quickly amplified in a business context. Consider the following: \n",
        "\n",
        "A business which sells widgets also collects customer reviews of those widgets. When the business first started out, they had a human read the reviews to look for patterns. Now, the business sells thousands of widgets a month. The human readers can't keep up with the pace of reviews to synthesize an accurate analysis. They need some science to help them analyze their data.\n",
        "\n",
        "Now, let's pretend that business is Amazon, and the widgets are Amazon products such as the Alexa, Echo, or other AmazonBasics products. Let's analyze their reviews with some counts. This dataset is available on [Kaggle](https://www.kaggle.com/datafiniti/consumer-reviews-of-amazon-products/)."
      ]
    },
    {
      "cell_type": "code",
      "metadata": {
        "id": "bXgn7fpXRfto",
        "colab": {
          "base_uri": "https://localhost:8080/"
        },
        "outputId": "217f6bc5-6979-4018-d7c9-3574817b2471"
      },
      "source": [
        "\"\"\"\n",
        "Import Statements\n",
        "\"\"\"\n",
        "\n",
        "# Base\n",
        "from collections import Counter\n",
        "import re\n",
        " \n",
        "import pandas as pd\n",
        "\n",
        "# Plotting\n",
        "import squarify\n",
        "import matplotlib.pyplot as plt\n",
        "import seaborn as sns\n",
        "\n",
        "# NLP Libraries\n",
        "import spacy\n",
        "from spacy.tokenizer import Tokenizer\n",
        "from nltk.stem import PorterStemmer\n",
        "\n",
        "nlp = spacy.load(\"en_core_web_lg\")"
      ],
      "execution_count": null,
      "outputs": [
        {
          "output_type": "stream",
          "text": [
            "/usr/local/lib/python3.6/dist-packages/statsmodels/tools/_testing.py:19: FutureWarning: pandas.util.testing is deprecated. Use the functions in the public API at pandas.testing instead.\n",
            "  import pandas.util.testing as tm\n"
          ],
          "name": "stderr"
        }
      ]
    },
    {
      "cell_type": "code",
      "metadata": {
        "id": "9xEIul2XRfto",
        "colab": {
          "base_uri": "https://localhost:8080/",
          "height": 261
        },
        "outputId": "6bc97800-827f-40b3-a363-3a58063c4cd0"
      },
      "source": [
        "df.head(2)"
      ],
      "execution_count": null,
      "outputs": [
        {
          "output_type": "execute_result",
          "data": {
            "text/html": [
              "<div>\n",
              "<style scoped>\n",
              "    .dataframe tbody tr th:only-of-type {\n",
              "        vertical-align: middle;\n",
              "    }\n",
              "\n",
              "    .dataframe tbody tr th {\n",
              "        vertical-align: top;\n",
              "    }\n",
              "\n",
              "    .dataframe thead th {\n",
              "        text-align: right;\n",
              "    }\n",
              "</style>\n",
              "<table border=\"1\" class=\"dataframe\">\n",
              "  <thead>\n",
              "    <tr style=\"text-align: right;\">\n",
              "      <th></th>\n",
              "      <th>id</th>\n",
              "      <th>dateAdded</th>\n",
              "      <th>dateUpdated</th>\n",
              "      <th>name</th>\n",
              "      <th>asins</th>\n",
              "      <th>brand</th>\n",
              "      <th>categories</th>\n",
              "      <th>primaryCategories</th>\n",
              "      <th>imageURLs</th>\n",
              "      <th>keys</th>\n",
              "      <th>manufacturer</th>\n",
              "      <th>manufacturerNumber</th>\n",
              "      <th>reviews.date</th>\n",
              "      <th>reviews.dateSeen</th>\n",
              "      <th>reviews.didPurchase</th>\n",
              "      <th>reviews.doRecommend</th>\n",
              "      <th>reviews.id</th>\n",
              "      <th>reviews.numHelpful</th>\n",
              "      <th>reviews.rating</th>\n",
              "      <th>reviews.sourceURLs</th>\n",
              "      <th>reviews.text</th>\n",
              "      <th>reviews.title</th>\n",
              "      <th>reviews.username</th>\n",
              "      <th>sourceURLs</th>\n",
              "    </tr>\n",
              "  </thead>\n",
              "  <tbody>\n",
              "    <tr>\n",
              "      <th>0</th>\n",
              "      <td>AVpgNzjwLJeJML43Kpxn</td>\n",
              "      <td>2015-10-30T08:59:32Z</td>\n",
              "      <td>2019-04-25T09:08:16Z</td>\n",
              "      <td>AmazonBasics AAA Performance Alkaline Batterie...</td>\n",
              "      <td>B00QWO9P0O,B00LH3DMUO</td>\n",
              "      <td>Amazonbasics</td>\n",
              "      <td>AA,AAA,Health,Electronics,Health &amp; Household,C...</td>\n",
              "      <td>Health &amp; Beauty</td>\n",
              "      <td>https://images-na.ssl-images-amazon.com/images...</td>\n",
              "      <td>amazonbasics/hl002619,amazonbasicsaaaperforman...</td>\n",
              "      <td>AmazonBasics</td>\n",
              "      <td>HL-002619</td>\n",
              "      <td>2017-03-02T00:00:00.000Z</td>\n",
              "      <td>2017-08-28T00:00:00Z</td>\n",
              "      <td>NaN</td>\n",
              "      <td>NaN</td>\n",
              "      <td>NaN</td>\n",
              "      <td>NaN</td>\n",
              "      <td>3</td>\n",
              "      <td>https://www.amazon.com/product-reviews/B00QWO9...</td>\n",
              "      <td>I order 3 of them and one of the item is bad q...</td>\n",
              "      <td>... 3 of them and one of the item is bad quali...</td>\n",
              "      <td>Byger yang</td>\n",
              "      <td>https://www.barcodable.com/upc/841710106442,ht...</td>\n",
              "    </tr>\n",
              "    <tr>\n",
              "      <th>1</th>\n",
              "      <td>AVpgNzjwLJeJML43Kpxn</td>\n",
              "      <td>2015-10-30T08:59:32Z</td>\n",
              "      <td>2019-04-25T09:08:16Z</td>\n",
              "      <td>AmazonBasics AAA Performance Alkaline Batterie...</td>\n",
              "      <td>B00QWO9P0O,B00LH3DMUO</td>\n",
              "      <td>Amazonbasics</td>\n",
              "      <td>AA,AAA,Health,Electronics,Health &amp; Household,C...</td>\n",
              "      <td>Health &amp; Beauty</td>\n",
              "      <td>https://images-na.ssl-images-amazon.com/images...</td>\n",
              "      <td>amazonbasics/hl002619,amazonbasicsaaaperforman...</td>\n",
              "      <td>AmazonBasics</td>\n",
              "      <td>HL-002619</td>\n",
              "      <td>2016-08-31T00:00:00.000Z</td>\n",
              "      <td>2017-08-28T00:00:00Z</td>\n",
              "      <td>NaN</td>\n",
              "      <td>NaN</td>\n",
              "      <td>NaN</td>\n",
              "      <td>NaN</td>\n",
              "      <td>4</td>\n",
              "      <td>https://www.amazon.com/product-reviews/B00QWO9...</td>\n",
              "      <td>Bulk is always the less expensive way to go fo...</td>\n",
              "      <td>... always the less expensive way to go for pr...</td>\n",
              "      <td>ByMG</td>\n",
              "      <td>https://www.barcodable.com/upc/841710106442,ht...</td>\n",
              "    </tr>\n",
              "  </tbody>\n",
              "</table>\n",
              "</div>"
            ],
            "text/plain": [
              "                     id  ...                                         sourceURLs\n",
              "0  AVpgNzjwLJeJML43Kpxn  ...  https://www.barcodable.com/upc/841710106442,ht...\n",
              "1  AVpgNzjwLJeJML43Kpxn  ...  https://www.barcodable.com/upc/841710106442,ht...\n",
              "\n",
              "[2 rows x 24 columns]"
            ]
          },
          "metadata": {
            "tags": []
          },
          "execution_count": 9
        }
      ]
    },
    {
      "cell_type": "code",
      "metadata": {
        "id": "tAiKu_q3Rfto",
        "colab": {
          "base_uri": "https://localhost:8080/"
        },
        "outputId": "a7fb0807-4c83-4e94-f7cf-a703247ff485"
      },
      "source": [
        "df.shape"
      ],
      "execution_count": null,
      "outputs": [
        {
          "output_type": "execute_result",
          "data": {
            "text/plain": [
              "(28332, 24)"
            ]
          },
          "metadata": {
            "tags": []
          },
          "execution_count": 10
        }
      ]
    },
    {
      "cell_type": "code",
      "metadata": {
        "id": "jNb1k72iRfto",
        "colab": {
          "base_uri": "https://localhost:8080/"
        },
        "outputId": "f5d59a86-ff52-4479-c420-ba104ca98a82"
      },
      "source": [
        "# How can we count the raw text?\n",
        "df['reviews.text'].value_counts(normalize=True)[:50]"
      ],
      "execution_count": null,
      "outputs": [
        {
          "output_type": "execute_result",
          "data": {
            "text/plain": [
              "good                0.002118\n",
              "great               0.001729\n",
              "Good                0.001482\n",
              "Great               0.001341\n",
              "ok                  0.001165\n",
              "Great price         0.001059\n",
              "Excellent           0.000988\n",
              "great price         0.000988\n",
              "Great value         0.000953\n",
              "good price          0.000812\n",
              "great value         0.000777\n",
              "Great price!        0.000635\n",
              "good value          0.000600\n",
              "Great value.        0.000565\n",
              "good deal           0.000565\n",
              "Good deal           0.000529\n",
              "Great product       0.000529\n",
              "As expected         0.000529\n",
              "OK                  0.000529\n",
              "Great deal          0.000529\n",
              "Good batteries      0.000494\n",
              "Good value          0.000494\n",
              "Great batteries.    0.000459\n",
              "So far so good      0.000459\n",
              "Good price          0.000459\n",
              "Great value!        0.000459\n",
              "great deal          0.000459\n",
              "Work great          0.000424\n",
              "Good buy            0.000424\n",
              "Great price.        0.000388\n",
              "Great buy           0.000388\n",
              "As described        0.000388\n",
              "Good value.         0.000388\n",
              "excellent           0.000388\n",
              "very good           0.000388\n",
              "as expected         0.000388\n",
              "Great batteries     0.000388\n",
              "Great!              0.000388\n",
              "good batteries      0.000388\n",
              "Great deal!         0.000388\n",
              "Perfect!            0.000353\n",
              "great batteries     0.000353\n",
              "Work great.         0.000353\n",
              "Nice                0.000353\n",
              "good product        0.000353\n",
              "Ok                  0.000353\n",
              "Great product.      0.000318\n",
              "Long lasting        0.000318\n",
              "Great buy!          0.000318\n",
              "So far so good.     0.000318\n",
              "Name: reviews.text, dtype: float64"
            ]
          },
          "metadata": {
            "tags": []
          },
          "execution_count": 11
        }
      ]
    },
    {
      "cell_type": "code",
      "metadata": {
        "colab": {
          "base_uri": "https://localhost:8080/"
        },
        "id": "N_NhU_r4GqRz",
        "outputId": "9358767e-8ac5-42a4-cf3b-34317312d4d6"
      },
      "source": [
        "df['reviews.text'].value_counts()[:50]"
      ],
      "execution_count": null,
      "outputs": [
        {
          "output_type": "execute_result",
          "data": {
            "text/plain": [
              "good                60\n",
              "great               49\n",
              "Good                42\n",
              "Great               38\n",
              "ok                  33\n",
              "Great price         30\n",
              "Excellent           28\n",
              "great price         28\n",
              "Great value         27\n",
              "good price          23\n",
              "great value         22\n",
              "Great price!        18\n",
              "good value          17\n",
              "Great value.        16\n",
              "good deal           16\n",
              "Good deal           15\n",
              "Great product       15\n",
              "As expected         15\n",
              "OK                  15\n",
              "Great deal          15\n",
              "Good batteries      14\n",
              "Good value          14\n",
              "Great batteries.    13\n",
              "So far so good      13\n",
              "Good price          13\n",
              "Great value!        13\n",
              "great deal          13\n",
              "Work great          12\n",
              "Good buy            12\n",
              "Great price.        11\n",
              "Great buy           11\n",
              "As described        11\n",
              "Good value.         11\n",
              "excellent           11\n",
              "very good           11\n",
              "as expected         11\n",
              "Great batteries     11\n",
              "Great!              11\n",
              "good batteries      11\n",
              "Great deal!         11\n",
              "Perfect!            10\n",
              "great batteries     10\n",
              "Work great.         10\n",
              "Nice                10\n",
              "good product        10\n",
              "Ok                  10\n",
              "Great product.       9\n",
              "Long lasting         9\n",
              "Great buy!           9\n",
              "So far so good.      9\n",
              "Name: reviews.text, dtype: int64"
            ]
          },
          "metadata": {
            "tags": []
          },
          "execution_count": 13
        }
      ]
    },
    {
      "cell_type": "code",
      "metadata": {
        "id": "HgZl1WS9Rfto"
      },
      "source": [
        "df['tokens'] = df['reviews.text'].apply(tokenize)"
      ],
      "execution_count": null,
      "outputs": []
    },
    {
      "cell_type": "code",
      "metadata": {
        "id": "PNhq1xZHRfto",
        "colab": {
          "base_uri": "https://localhost:8080/"
        },
        "outputId": "8d0136f4-fdde-43b3-ab8e-ab9ab1337c20"
      },
      "source": [
        "df['tokens'].head()"
      ],
      "execution_count": null,
      "outputs": [
        {
          "output_type": "execute_result",
          "data": {
            "text/plain": [
              "0    [i, order, 3, of, them, and, one, of, the, ite...\n",
              "1    [bulk, is, always, the, less, expensive, way, ...\n",
              "2    [well, they, are, not, duracell, but, for, the...\n",
              "3    [seem, to, work, as, well, as, name, brand, ba...\n",
              "4    [these, batteries, are, very, long, lasting, t...\n",
              "Name: tokens, dtype: object"
            ]
          },
          "metadata": {
            "tags": []
          },
          "execution_count": 15
        }
      ]
    },
    {
      "cell_type": "code",
      "metadata": {
        "id": "RHnOshcjRfto",
        "colab": {
          "base_uri": "https://localhost:8080/",
          "height": 347
        },
        "outputId": "7efd029e-fbd5-4c4d-9079-e1f40b669ea2"
      },
      "source": [
        "# Compare tokens to original reviews\n",
        "df[['reviews.text', 'tokens']][:10]"
      ],
      "execution_count": null,
      "outputs": [
        {
          "output_type": "execute_result",
          "data": {
            "text/html": [
              "<div>\n",
              "<style scoped>\n",
              "    .dataframe tbody tr th:only-of-type {\n",
              "        vertical-align: middle;\n",
              "    }\n",
              "\n",
              "    .dataframe tbody tr th {\n",
              "        vertical-align: top;\n",
              "    }\n",
              "\n",
              "    .dataframe thead th {\n",
              "        text-align: right;\n",
              "    }\n",
              "</style>\n",
              "<table border=\"1\" class=\"dataframe\">\n",
              "  <thead>\n",
              "    <tr style=\"text-align: right;\">\n",
              "      <th></th>\n",
              "      <th>reviews.text</th>\n",
              "      <th>tokens</th>\n",
              "    </tr>\n",
              "  </thead>\n",
              "  <tbody>\n",
              "    <tr>\n",
              "      <th>0</th>\n",
              "      <td>I order 3 of them and one of the item is bad q...</td>\n",
              "      <td>[i, order, 3, of, them, and, one, of, the, ite...</td>\n",
              "    </tr>\n",
              "    <tr>\n",
              "      <th>1</th>\n",
              "      <td>Bulk is always the less expensive way to go fo...</td>\n",
              "      <td>[bulk, is, always, the, less, expensive, way, ...</td>\n",
              "    </tr>\n",
              "    <tr>\n",
              "      <th>2</th>\n",
              "      <td>Well they are not Duracell but for the price i...</td>\n",
              "      <td>[well, they, are, not, duracell, but, for, the...</td>\n",
              "    </tr>\n",
              "    <tr>\n",
              "      <th>3</th>\n",
              "      <td>Seem to work as well as name brand batteries a...</td>\n",
              "      <td>[seem, to, work, as, well, as, name, brand, ba...</td>\n",
              "    </tr>\n",
              "    <tr>\n",
              "      <th>4</th>\n",
              "      <td>These batteries are very long lasting the pric...</td>\n",
              "      <td>[these, batteries, are, very, long, lasting, t...</td>\n",
              "    </tr>\n",
              "    <tr>\n",
              "      <th>5</th>\n",
              "      <td>Bought a lot of batteries for Christmas and th...</td>\n",
              "      <td>[bought, a, lot, of, batteries, for, christmas...</td>\n",
              "    </tr>\n",
              "    <tr>\n",
              "      <th>6</th>\n",
              "      <td>ive not had any problame with these batteries ...</td>\n",
              "      <td>[ive, not, had, any, problame, with, these, ba...</td>\n",
              "    </tr>\n",
              "    <tr>\n",
              "      <th>7</th>\n",
              "      <td>Well if you are looking for cheap non-recharge...</td>\n",
              "      <td>[well, if, you, are, looking, for, cheap, nonr...</td>\n",
              "    </tr>\n",
              "    <tr>\n",
              "      <th>8</th>\n",
              "      <td>These do not hold the amount of high power jui...</td>\n",
              "      <td>[these, do, not, hold, the, amount, of, high, ...</td>\n",
              "    </tr>\n",
              "    <tr>\n",
              "      <th>9</th>\n",
              "      <td>AmazonBasics AA AAA batteries have done well b...</td>\n",
              "      <td>[amazonbasics, aa, aaa, batteries, have, done,...</td>\n",
              "    </tr>\n",
              "  </tbody>\n",
              "</table>\n",
              "</div>"
            ],
            "text/plain": [
              "                                        reviews.text                                             tokens\n",
              "0  I order 3 of them and one of the item is bad q...  [i, order, 3, of, them, and, one, of, the, ite...\n",
              "1  Bulk is always the less expensive way to go fo...  [bulk, is, always, the, less, expensive, way, ...\n",
              "2  Well they are not Duracell but for the price i...  [well, they, are, not, duracell, but, for, the...\n",
              "3  Seem to work as well as name brand batteries a...  [seem, to, work, as, well, as, name, brand, ba...\n",
              "4  These batteries are very long lasting the pric...  [these, batteries, are, very, long, lasting, t...\n",
              "5  Bought a lot of batteries for Christmas and th...  [bought, a, lot, of, batteries, for, christmas...\n",
              "6  ive not had any problame with these batteries ...  [ive, not, had, any, problame, with, these, ba...\n",
              "7  Well if you are looking for cheap non-recharge...  [well, if, you, are, looking, for, cheap, nonr...\n",
              "8  These do not hold the amount of high power jui...  [these, do, not, hold, the, amount, of, high, ...\n",
              "9  AmazonBasics AA AAA batteries have done well b...  [amazonbasics, aa, aaa, batteries, have, done,..."
            ]
          },
          "metadata": {
            "tags": []
          },
          "execution_count": 17
        }
      ]
    },
    {
      "cell_type": "code",
      "metadata": {
        "id": "qyuZwmkNRfto",
        "colab": {
          "base_uri": "https://localhost:8080/"
        },
        "outputId": "25d9ed47-5256-47e5-a058-9e0a8afed283"
      },
      "source": [
        "df['primaryCategories'].value_counts()"
      ],
      "execution_count": null,
      "outputs": [
        {
          "output_type": "execute_result",
          "data": {
            "text/plain": [
              "Electronics                    13995\n",
              "Health & Beauty                12071\n",
              "Toys & Games,Electronics        1676\n",
              "Office Supplies,Electronics      386\n",
              "Electronics,Media                185\n",
              "Office Supplies                    9\n",
              "Animals & Pet Supplies             6\n",
              "Electronics,Furniture              2\n",
              "Home & Garden                      2\n",
              "Name: primaryCategories, dtype: int64"
            ]
          },
          "metadata": {
            "tags": []
          },
          "execution_count": 18
        }
      ]
    },
    {
      "cell_type": "code",
      "metadata": {
        "id": "Icpj3NanRftp"
      },
      "source": [
        "# Create Electronics subset\n",
        "\n",
        "df = df[df['primaryCategories'] == 'Electronics'].copy()"
      ],
      "execution_count": null,
      "outputs": []
    },
    {
      "cell_type": "code",
      "metadata": {
        "id": "vMzo4yLeRftp",
        "colab": {
          "base_uri": "https://localhost:8080/",
          "height": 567
        },
        "outputId": "fa9b1c7a-ff49-4fba-d209-1b1b1c3d2a8a"
      },
      "source": [
        "df.head()"
      ],
      "execution_count": null,
      "outputs": [
        {
          "output_type": "execute_result",
          "data": {
            "text/html": [
              "<div>\n",
              "<style scoped>\n",
              "    .dataframe tbody tr th:only-of-type {\n",
              "        vertical-align: middle;\n",
              "    }\n",
              "\n",
              "    .dataframe tbody tr th {\n",
              "        vertical-align: top;\n",
              "    }\n",
              "\n",
              "    .dataframe thead th {\n",
              "        text-align: right;\n",
              "    }\n",
              "</style>\n",
              "<table border=\"1\" class=\"dataframe\">\n",
              "  <thead>\n",
              "    <tr style=\"text-align: right;\">\n",
              "      <th></th>\n",
              "      <th>id</th>\n",
              "      <th>dateAdded</th>\n",
              "      <th>dateUpdated</th>\n",
              "      <th>name</th>\n",
              "      <th>asins</th>\n",
              "      <th>brand</th>\n",
              "      <th>categories</th>\n",
              "      <th>primaryCategories</th>\n",
              "      <th>imageURLs</th>\n",
              "      <th>keys</th>\n",
              "      <th>manufacturer</th>\n",
              "      <th>manufacturerNumber</th>\n",
              "      <th>reviews.date</th>\n",
              "      <th>reviews.dateSeen</th>\n",
              "      <th>reviews.didPurchase</th>\n",
              "      <th>reviews.doRecommend</th>\n",
              "      <th>reviews.id</th>\n",
              "      <th>reviews.numHelpful</th>\n",
              "      <th>reviews.rating</th>\n",
              "      <th>reviews.sourceURLs</th>\n",
              "      <th>reviews.text</th>\n",
              "      <th>reviews.title</th>\n",
              "      <th>reviews.username</th>\n",
              "      <th>sourceURLs</th>\n",
              "      <th>tokens</th>\n",
              "    </tr>\n",
              "  </thead>\n",
              "  <tbody>\n",
              "    <tr>\n",
              "      <th>8343</th>\n",
              "      <td>AVpe7nGV1cnluZ0-aG2o</td>\n",
              "      <td>2014-10-28T11:14:38Z</td>\n",
              "      <td>2019-04-25T09:05:28Z</td>\n",
              "      <td>AmazonBasics Nylon CD/DVD Binder (400 Capacity)</td>\n",
              "      <td>B00DIHVMEA,B00EZ1ZTV0</td>\n",
              "      <td>Amazonbasics</td>\n",
              "      <td>Audio &amp; Video Accessories,TV, Video &amp; Home Aud...</td>\n",
              "      <td>Electronics</td>\n",
              "      <td>http://ecx.images-amazon.com/images/I/41jQha7Z...</td>\n",
              "      <td>amazonbasicsnyloncddvdbinder400capacity/b00ez1...</td>\n",
              "      <td>AmazonBasics</td>\n",
              "      <td>YBB12400R2</td>\n",
              "      <td>2017-11-12T00:00:00.000Z</td>\n",
              "      <td>2019-03-25T00:00:00Z</td>\n",
              "      <td>NaN</td>\n",
              "      <td>NaN</td>\n",
              "      <td>NaN</td>\n",
              "      <td>NaN</td>\n",
              "      <td>5</td>\n",
              "      <td>https://www.ebay.com/itm/Amazonbasics-Nylon-Cd...</td>\n",
              "      <td>Great case to keep everything in its place! My...</td>\n",
              "      <td>Excellent product</td>\n",
              "      <td>qs341_5</td>\n",
              "      <td>https://www.ebay.com/itm/AmazonBasics-Nylon-CD...</td>\n",
              "      <td>[great, case, to, keep, everything, in, its, p...</td>\n",
              "    </tr>\n",
              "    <tr>\n",
              "      <th>8344</th>\n",
              "      <td>AVpe7nGV1cnluZ0-aG2o</td>\n",
              "      <td>2014-10-28T11:14:38Z</td>\n",
              "      <td>2019-04-25T09:05:28Z</td>\n",
              "      <td>AmazonBasics Nylon CD/DVD Binder (400 Capacity)</td>\n",
              "      <td>B00DIHVMEA,B00EZ1ZTV0</td>\n",
              "      <td>Amazonbasics</td>\n",
              "      <td>Audio &amp; Video Accessories,TV, Video &amp; Home Aud...</td>\n",
              "      <td>Electronics</td>\n",
              "      <td>http://ecx.images-amazon.com/images/I/41jQha7Z...</td>\n",
              "      <td>amazonbasicsnyloncddvdbinder400capacity/b00ez1...</td>\n",
              "      <td>AmazonBasics</td>\n",
              "      <td>YBB12400R2</td>\n",
              "      <td>2014-06-14T05:00:00Z</td>\n",
              "      <td>2014-08-28T00:00:00Z</td>\n",
              "      <td>NaN</td>\n",
              "      <td>NaN</td>\n",
              "      <td>NaN</td>\n",
              "      <td>NaN</td>\n",
              "      <td>5</td>\n",
              "      <td>http://www.amazon.co.uk/gp/product-reviews/B00...</td>\n",
              "      <td>After discarding and getting rid of broken cd ...</td>\n",
              "      <td>It was a much needed storage</td>\n",
              "      <td>Diablita</td>\n",
              "      <td>https://www.ebay.com/itm/AmazonBasics-Nylon-CD...</td>\n",
              "      <td>[after, discarding, and, getting, rid, of, bro...</td>\n",
              "    </tr>\n",
              "    <tr>\n",
              "      <th>8345</th>\n",
              "      <td>AVpe7nGV1cnluZ0-aG2o</td>\n",
              "      <td>2014-10-28T11:14:38Z</td>\n",
              "      <td>2019-04-25T09:05:28Z</td>\n",
              "      <td>AmazonBasics Nylon CD/DVD Binder (400 Capacity)</td>\n",
              "      <td>B00DIHVMEA,B00EZ1ZTV0</td>\n",
              "      <td>Amazonbasics</td>\n",
              "      <td>Audio &amp; Video Accessories,TV, Video &amp; Home Aud...</td>\n",
              "      <td>Electronics</td>\n",
              "      <td>http://ecx.images-amazon.com/images/I/41jQha7Z...</td>\n",
              "      <td>amazonbasicsnyloncddvdbinder400capacity/b00ez1...</td>\n",
              "      <td>AmazonBasics</td>\n",
              "      <td>YBB12400R2</td>\n",
              "      <td>2019-02-15T00:00:00.000Z</td>\n",
              "      <td>2019-03-25T00:00:00Z</td>\n",
              "      <td>NaN</td>\n",
              "      <td>NaN</td>\n",
              "      <td>NaN</td>\n",
              "      <td>NaN</td>\n",
              "      <td>5</td>\n",
              "      <td>https://www.ebay.com/itm/Amazonbasics-Nylon-Cd...</td>\n",
              "      <td>A few dollars more, but I am boycotting amazon</td>\n",
              "      <td>it was worth it</td>\n",
              "      <td>coldbloodblazing</td>\n",
              "      <td>https://www.ebay.com/itm/AmazonBasics-Nylon-CD...</td>\n",
              "      <td>[a, few, dollars, more, but, i, am, boycotting...</td>\n",
              "    </tr>\n",
              "    <tr>\n",
              "      <th>8346</th>\n",
              "      <td>AVpe7nGV1cnluZ0-aG2o</td>\n",
              "      <td>2014-10-28T11:14:38Z</td>\n",
              "      <td>2019-04-25T09:05:28Z</td>\n",
              "      <td>AmazonBasics Nylon CD/DVD Binder (400 Capacity)</td>\n",
              "      <td>B00DIHVMEA,B00EZ1ZTV0</td>\n",
              "      <td>Amazonbasics</td>\n",
              "      <td>Audio &amp; Video Accessories,TV, Video &amp; Home Aud...</td>\n",
              "      <td>Electronics</td>\n",
              "      <td>http://ecx.images-amazon.com/images/I/41jQha7Z...</td>\n",
              "      <td>amazonbasicsnyloncddvdbinder400capacity/b00ez1...</td>\n",
              "      <td>AmazonBasics</td>\n",
              "      <td>YBB12400R2</td>\n",
              "      <td>2014-06-19T05:00:00Z</td>\n",
              "      <td>2014-08-28T00:00:00Z</td>\n",
              "      <td>NaN</td>\n",
              "      <td>NaN</td>\n",
              "      <td>NaN</td>\n",
              "      <td>NaN</td>\n",
              "      <td>2</td>\n",
              "      <td>http://www.amazon.co.uk/gp/product-reviews/B00...</td>\n",
              "      <td>My initial impression of this was very good. T...</td>\n",
              "      <td>Not well designed, very tight when full. Becom...</td>\n",
              "      <td>Snrub</td>\n",
              "      <td>https://www.ebay.com/itm/AmazonBasics-Nylon-CD...</td>\n",
              "      <td>[my, initial, impression, of, this, was, very,...</td>\n",
              "    </tr>\n",
              "    <tr>\n",
              "      <th>8347</th>\n",
              "      <td>AVpfl8cLLJeJML43AE3S</td>\n",
              "      <td>2016-04-08T18:16:28Z</td>\n",
              "      <td>2019-04-25T08:51:22Z</td>\n",
              "      <td>Amazon Echo ‚Äì White</td>\n",
              "      <td>B01E6AO69U,B00L9EPT8O</td>\n",
              "      <td>Amazon</td>\n",
              "      <td>Stereos,Remote Controls,Audio Docks &amp; Mini Spe...</td>\n",
              "      <td>Electronics</td>\n",
              "      <td>https://i.ebayimg.com/images/g/NWEAAOSwDehbdx6...</td>\n",
              "      <td>amazonechowhite/b00l9ept8o,amazonechowhite/b01...</td>\n",
              "      <td>Amazon</td>\n",
              "      <td>B01E6AO69U</td>\n",
              "      <td>2018-10-15T00:00:00.000Z</td>\n",
              "      <td>2019-04-24T00:00:00Z,2019-04-25T00:00:00Z</td>\n",
              "      <td>True</td>\n",
              "      <td>NaN</td>\n",
              "      <td>NaN</td>\n",
              "      <td>NaN</td>\n",
              "      <td>5</td>\n",
              "      <td>https://www.newegg.com/Product/Product.aspx?It...</td>\n",
              "      <td>Pros: Standard Echo. Cons: Older generation Ec...</td>\n",
              "      <td>Arrived as described.</td>\n",
              "      <td>Anonymous</td>\n",
              "      <td>https://www.newegg.com/Product/Product.aspx?It...</td>\n",
              "      <td>[pros, standard, echo, cons, older, generation...</td>\n",
              "    </tr>\n",
              "  </tbody>\n",
              "</table>\n",
              "</div>"
            ],
            "text/plain": [
              "                        id  ...                                             tokens\n",
              "8343  AVpe7nGV1cnluZ0-aG2o  ...  [great, case, to, keep, everything, in, its, p...\n",
              "8344  AVpe7nGV1cnluZ0-aG2o  ...  [after, discarding, and, getting, rid, of, bro...\n",
              "8345  AVpe7nGV1cnluZ0-aG2o  ...  [a, few, dollars, more, but, i, am, boycotting...\n",
              "8346  AVpe7nGV1cnluZ0-aG2o  ...  [my, initial, impression, of, this, was, very,...\n",
              "8347  AVpfl8cLLJeJML43AE3S  ...  [pros, standard, echo, cons, older, generation...\n",
              "\n",
              "[5 rows x 25 columns]"
            ]
          },
          "metadata": {
            "tags": []
          },
          "execution_count": 20
        }
      ]
    },
    {
      "cell_type": "markdown",
      "metadata": {
        "id": "9bkqoCALRftp"
      },
      "source": [
        "#### Analyzing Tokens"
      ]
    },
    {
      "cell_type": "code",
      "metadata": {
        "id": "e4rppvqgRftp",
        "colab": {
          "base_uri": "https://localhost:8080/"
        },
        "outputId": "2480d1c3-88e2-43d9-b4f2-79eeded58796"
      },
      "source": [
        "# Object from Base Python\n",
        "from collections import Counter\n",
        "\n",
        "# The object `Counter` takes an iterable, but you can instaniate an empty one and update it. \n",
        "word_counts = Counter()\n",
        "\n",
        "# Update it based on a split of each of our documents\n",
        "df['tokens'].apply(lambda x: word_counts.update(x))\n",
        "\n",
        "# Print out the 10 most common words\n",
        "word_counts.most_common(10)"
      ],
      "execution_count": null,
      "outputs": [
        {
          "output_type": "execute_result",
          "data": {
            "text/plain": [
              "[('the', 17723),\n",
              " ('and', 14005),\n",
              " ('it', 13113),\n",
              " ('to', 12750),\n",
              " ('for', 12224),\n",
              " ('i', 12037),\n",
              " ('a', 10494),\n",
              " ('is', 8508),\n",
              " ('this', 8109),\n",
              " ('my', 7914)]"
            ]
          },
          "metadata": {
            "tags": []
          },
          "execution_count": 21
        }
      ]
    },
    {
      "cell_type": "markdown",
      "metadata": {
        "id": "1ZDmCjO5Rftp"
      },
      "source": [
        "Let's create a fuction which takes a corpus of document and returns a dataframe of word counts for us to analyze."
      ]
    },
    {
      "cell_type": "code",
      "metadata": {
        "id": "bVOrE2n_Rftp"
      },
      "source": [
        "def count(docs):\n",
        "\n",
        "        word_counts = Counter()\n",
        "        appears_in = Counter()\n",
        "        \n",
        "        total_docs = len(docs)\n",
        "\n",
        "        for doc in docs:\n",
        "            word_counts.update(doc)\n",
        "            appears_in.update(set(doc))\n",
        "\n",
        "        temp = zip(word_counts.keys(), word_counts.values())\n",
        "        \n",
        "        wc = pd.DataFrame(temp, columns = ['word', 'count'])\n",
        "\n",
        "        wc['rank'] = wc['count'].rank(method='first', ascending=False)\n",
        "        total = wc['count'].sum()\n",
        "\n",
        "        wc['pct_total'] = wc['count'].apply(lambda x: x / total)\n",
        "        \n",
        "        wc = wc.sort_values(by='rank')\n",
        "        wc['cul_pct_total'] = wc['pct_total'].cumsum()\n",
        "\n",
        "        t2 = zip(appears_in.keys(), appears_in.values())\n",
        "        ac = pd.DataFrame(t2, columns=['word', 'appears_in'])\n",
        "        wc = ac.merge(wc, on='word')\n",
        "\n",
        "        wc['appears_in_pct'] = wc['appears_in'].apply(lambda x: x / total_docs)\n",
        "        \n",
        "        return wc.sort_values(by='rank')"
      ],
      "execution_count": null,
      "outputs": []
    },
    {
      "cell_type": "code",
      "metadata": {
        "id": "OHAkGleeRftp"
      },
      "source": [
        "# Use the Function\n",
        "wc = count(df['tokens'])"
      ],
      "execution_count": null,
      "outputs": []
    },
    {
      "cell_type": "code",
      "metadata": {
        "id": "pZGFz6iaRftp",
        "colab": {
          "base_uri": "https://localhost:8080/",
          "height": 197
        },
        "outputId": "a02d681c-568b-4044-a67a-aaad7cd9c932"
      },
      "source": [
        "wc.head()"
      ],
      "execution_count": null,
      "outputs": [
        {
          "output_type": "execute_result",
          "data": {
            "text/html": [
              "<div>\n",
              "<style scoped>\n",
              "    .dataframe tbody tr th:only-of-type {\n",
              "        vertical-align: middle;\n",
              "    }\n",
              "\n",
              "    .dataframe tbody tr th {\n",
              "        vertical-align: top;\n",
              "    }\n",
              "\n",
              "    .dataframe thead th {\n",
              "        text-align: right;\n",
              "    }\n",
              "</style>\n",
              "<table border=\"1\" class=\"dataframe\">\n",
              "  <thead>\n",
              "    <tr style=\"text-align: right;\">\n",
              "      <th></th>\n",
              "      <th>word</th>\n",
              "      <th>appears_in</th>\n",
              "      <th>count</th>\n",
              "      <th>rank</th>\n",
              "      <th>pct_total</th>\n",
              "      <th>cul_pct_total</th>\n",
              "      <th>appears_in_pct</th>\n",
              "    </tr>\n",
              "  </thead>\n",
              "  <tbody>\n",
              "    <tr>\n",
              "      <th>94</th>\n",
              "      <td>the</td>\n",
              "      <td>7809</td>\n",
              "      <td>17723</td>\n",
              "      <td>1.0</td>\n",
              "      <td>0.041211</td>\n",
              "      <td>0.041211</td>\n",
              "      <td>0.557985</td>\n",
              "    </tr>\n",
              "    <tr>\n",
              "      <th>57</th>\n",
              "      <td>and</td>\n",
              "      <td>8543</td>\n",
              "      <td>14005</td>\n",
              "      <td>2.0</td>\n",
              "      <td>0.032565</td>\n",
              "      <td>0.073776</td>\n",
              "      <td>0.610432</td>\n",
              "    </tr>\n",
              "    <tr>\n",
              "      <th>13</th>\n",
              "      <td>it</td>\n",
              "      <td>7490</td>\n",
              "      <td>13113</td>\n",
              "      <td>3.0</td>\n",
              "      <td>0.030491</td>\n",
              "      <td>0.104267</td>\n",
              "      <td>0.535191</td>\n",
              "    </tr>\n",
              "    <tr>\n",
              "      <th>0</th>\n",
              "      <td>to</td>\n",
              "      <td>7137</td>\n",
              "      <td>12750</td>\n",
              "      <td>4.0</td>\n",
              "      <td>0.029647</td>\n",
              "      <td>0.133914</td>\n",
              "      <td>0.509968</td>\n",
              "    </tr>\n",
              "    <tr>\n",
              "      <th>81</th>\n",
              "      <td>for</td>\n",
              "      <td>7990</td>\n",
              "      <td>12224</td>\n",
              "      <td>5.0</td>\n",
              "      <td>0.028424</td>\n",
              "      <td>0.162339</td>\n",
              "      <td>0.570918</td>\n",
              "    </tr>\n",
              "  </tbody>\n",
              "</table>\n",
              "</div>"
            ],
            "text/plain": [
              "   word  appears_in  count  rank  pct_total  cul_pct_total  appears_in_pct\n",
              "94  the        7809  17723   1.0   0.041211       0.041211        0.557985\n",
              "57  and        8543  14005   2.0   0.032565       0.073776        0.610432\n",
              "13   it        7490  13113   3.0   0.030491       0.104267        0.535191\n",
              "0    to        7137  12750   4.0   0.029647       0.133914        0.509968\n",
              "81  for        7990  12224   5.0   0.028424       0.162339        0.570918"
            ]
          },
          "metadata": {
            "tags": []
          },
          "execution_count": 25
        }
      ]
    },
    {
      "cell_type": "code",
      "metadata": {
        "id": "TJhQXmQDRftp",
        "colab": {
          "base_uri": "https://localhost:8080/",
          "height": 278
        },
        "outputId": "b3e21188-92f3-486d-cc19-204d138ec9b5"
      },
      "source": [
        "import seaborn as sns\n",
        "\n",
        "# Cumulative Distribution Plot\n",
        "sns.lineplot(x='rank', y='cul_pct_total', data=wc);"
      ],
      "execution_count": null,
      "outputs": [
        {
          "output_type": "display_data",
          "data": {
            "image/png": "[encoded data removed]",
            "text/plain": [
              "<Figure size 432x288 with 1 Axes>"
            ]
          },
          "metadata": {
            "tags": [],
            "needs_background": "light"
          }
        }
      ]
    },
    {
      "cell_type": "code",
      "metadata": {
        "id": "bRqXz3PeRftp",
        "colab": {
          "base_uri": "https://localhost:8080/"
        },
        "outputId": "79c02aa3-66d4-4dbd-c8ac-1c7cf2dd00e1"
      },
      "source": [
        "wc[wc['rank'] <= 100]['cul_pct_total'].max()"
      ],
      "execution_count": null,
      "outputs": [
        {
          "output_type": "execute_result",
          "data": {
            "text/plain": [
              "0.6130405666212466"
            ]
          },
          "metadata": {
            "tags": []
          },
          "execution_count": 27
        }
      ]
    },
    {
      "cell_type": "code",
      "metadata": {
        "id": "xAq8E74dRftp",
        "colab": {
          "base_uri": "https://localhost:8080/",
          "height": 247
        },
        "outputId": "3f2406f6-1372-42ff-e7b3-751a1e18f2df"
      },
      "source": [
        "import squarify\n",
        "import matplotlib.pyplot as plt\n",
        "\n",
        "wc_top20 = wc[wc['rank'] <= 20]\n",
        "\n",
        "squarify.plot(sizes=wc_top20['pct_total'], label=wc_top20['word'], alpha=.8 )\n",
        "plt.axis('off')\n",
        "plt.show()"
      ],
      "execution_count": null,
      "outputs": [
        {
          "output_type": "display_data",
          "data": {
            "image/png": "[encoded data removed]",
            "text/plain": [
              "<Figure size 432x288 with 1 Axes>"
            ]
          },
          "metadata": {
            "tags": [],
            "needs_background": "light"
          }
        }
      ]
    },
    {
      "cell_type": "markdown",
      "metadata": {
        "id": "fsb244kxRftp"
      },
      "source": [
        "### Processing Raw Text with Spacy\n",
        "\n",
        "Spacy's datamodel for documents is unique among NLP libraries. Instead of storing the documents components in various data structures, Spacy indexes components and simply stores the lookup information. \n",
        "\n",
        "This is often why Spacy is considered to be more production grade than library like NLTK."
      ]
    },
    {
      "cell_type": "code",
      "metadata": {
        "id": "YcEb1UMFRftp"
      },
      "source": [
        "import spacy\n",
        "from spacy.tokenizer import Tokenizer\n",
        "\n",
        "nlp = spacy.load(\"en_core_web_lg\")\n"
      ],
      "execution_count": null,
      "outputs": []
    },
    {
      "cell_type": "code",
      "metadata": {
        "id": "GdmeSBgrvRrk"
      },
      "source": [
        "sample = \"\"\"\n",
        "Natural language processing is the study of computer programs that take natural, or human, language as input. \n",
        "Natural language processing applications may approach tasks ranging from low-level processing, such as assigning parts of speech to words, to high-level tasks, such as answering questions.\n",
        "\"\"\""
      ],
      "execution_count": null,
      "outputs": []
    },
    {
      "cell_type": "code",
      "metadata": {
        "colab": {
          "base_uri": "https://localhost:8080/"
        },
        "id": "PgQjFtrBva04",
        "outputId": "b98a6568-a711-46eb-e455-7211cd28d7fa"
      },
      "source": [
        "doc= nlp(sample)\n",
        "doc"
      ],
      "execution_count": null,
      "outputs": [
        {
          "output_type": "execute_result",
          "data": {
            "text/plain": [
              "\n",
              "Natural language processing is the study of computer programs that take natural, or human, language as input. \n",
              "Natural language processing applications may approach tasks ranging from low-level processing, such as assigning parts of speech to words, to high-level tasks, such as answering questions."
            ]
          },
          "metadata": {
            "tags": []
          },
          "execution_count": 31
        }
      ]
    },
    {
      "cell_type": "code",
      "metadata": {
        "colab": {
          "base_uri": "https://localhost:8080/"
        },
        "id": "79rJ09NLyI4z",
        "outputId": "dabde9b0-ca66-4748-e2cd-965ded11c448"
      },
      "source": [
        "df[\"reviews.text\"].head()"
      ],
      "execution_count": null,
      "outputs": [
        {
          "output_type": "execute_result",
          "data": {
            "text/plain": [
              "8343    Great case to keep everything in its place! My...\n",
              "8344    After discarding and getting rid of broken cd ...\n",
              "8345       A few dollars more, but I am boycotting amazon\n",
              "8346    My initial impression of this was very good. T...\n",
              "8347    Pros: Standard Echo. Cons: Older generation Ec...\n",
              "Name: reviews.text, dtype: object"
            ]
          },
          "metadata": {
            "tags": []
          },
          "execution_count": 33
        }
      ]
    },
    {
      "cell_type": "code",
      "metadata": {
        "colab": {
          "base_uri": "https://localhost:8080/"
        },
        "id": "VXixi1K-xiKy",
        "outputId": "af69c9c4-87a7-4e9d-fd3d-1c439d16e82b"
      },
      "source": [
        "doc = nlp.pipe(df[\"reviews.text\"])\n",
        "list(doc)[:5]"
      ],
      "execution_count": null,
      "outputs": [
        {
          "output_type": "execute_result",
          "data": {
            "text/plain": [
              "[Great case to keep everything in its place! My husband love it!!!! Holds a lot of cds!,\n",
              " After discarding and getting rid of broken cd cases, broken cds, and selecting those ones we really like, this binder turned up to be an excellent option to store our favourite cds and dvds and keep them in a small space at our living room, giving us the choice to donate or get rid of those cds towers that took a lot of room, despite looking nice. And because you can turn the pages, you can spot the cd you want to play without the hassle of taking it from a case that is falling apart. After storing them cds, all the cases and printed covers went straight to the recycling centre. We have a small version to put those cds my husband would like to listen to whenever he must drive away for work.,\n",
              " A few dollars more, but I am boycotting amazon,\n",
              " My initial impression of this was very good. The material is nicer than the shiny stuff on my Hama CD binders and the netting trim gives a nice appearance compared to plain look of most budget CD binders.There are 50 pages with 8 disc pockets each (4 per side) giving a total of 400 capacity. The pages are hung from the spine in two groups of 25. By that I mean that 25 pages all have a single attachment point to the plastic spine.This is where the first problem with this binder lies. Because each group of 25 pages shares the same anchor point in the spine, the pages cannot sit flat once full of discs. They bend and arch, and apart from looking tatty this puts a lot of tension across the plastic film. With long-term usage I suspect this plastic film will will tear due to the tension. It also makes it awkward to browse the binder as the pages don't sit flat. It may even crack or bend your discs.I look to my Hama 120 binder to see how it *should* be done - it only has 30 pages and yet they were smart enough to hang them from the spine in 3 bundles of 10. This spreads out the pages and allows easy browsing of the binder without putting any of the pockets under tension.After just 2 weeks in storage I opened the binder and the corners of all the pages have become dog-eared by themselves. This is due to the poor design and poor fit of the binder pages when filled with discs. Again, it is not a problem I have seen with my other disc binders, my two-year-old Hama binders look as good as new.Overally this binder has a lot of storage at a good price. If that's all you want you will probably be happy with the product. But sloppy design prevents it from being anything more than a mediocre binder. I feel that whoever designed this did not bother to fill it with discs to see how it would cope.,\n",
              " Pros: Standard Echo. Cons: Older generation Echo. Other Thoughts: Arrived on time and was new in box.]"
            ]
          },
          "metadata": {
            "tags": []
          },
          "execution_count": 34
        }
      ]
    },
    {
      "cell_type": "code",
      "metadata": {
        "id": "HpI13OrjwKde"
      },
      "source": [
        "tokens = []\n",
        "\n",
        "for doc in nlp.pipe(df[\"reviews.text\"]):\n",
        "  doc_tokens = []\n",
        "  \n",
        "  for token in doc:\n",
        "    doc_tokens.append(token.text)\n",
        "  \n",
        "  tokens.append(doc_tokens)"
      ],
      "execution_count": null,
      "outputs": []
    },
    {
      "cell_type": "code",
      "metadata": {
        "colab": {
          "base_uri": "https://localhost:8080/"
        },
        "id": "0R1gLwj2y9Bh",
        "outputId": "78bed440-55b5-4686-a5e9-208e360cb827"
      },
      "source": [
        "len(tokens)"
      ],
      "execution_count": null,
      "outputs": [
        {
          "output_type": "execute_result",
          "data": {
            "text/plain": [
              "13995"
            ]
          },
          "metadata": {
            "tags": []
          },
          "execution_count": 37
        }
      ]
    },
    {
      "cell_type": "code",
      "metadata": {
        "colab": {
          "base_uri": "https://localhost:8080/"
        },
        "id": "o_2KIU3Oyuex",
        "outputId": "758f6df1-92fb-4260-d6c0-f37aae7129ac"
      },
      "source": [
        "tokens[0]"
      ],
      "execution_count": null,
      "outputs": [
        {
          "output_type": "execute_result",
          "data": {
            "text/plain": [
              "['Great',\n",
              " 'case',\n",
              " 'to',\n",
              " 'keep',\n",
              " 'everything',\n",
              " 'in',\n",
              " 'its',\n",
              " 'place',\n",
              " '!',\n",
              " 'My',\n",
              " 'husband',\n",
              " 'love',\n",
              " 'it',\n",
              " '!',\n",
              " '!',\n",
              " '!',\n",
              " '!',\n",
              " 'Holds',\n",
              " 'a',\n",
              " 'lot',\n",
              " 'of',\n",
              " 'cds',\n",
              " '!']"
            ]
          },
          "metadata": {
            "tags": []
          },
          "execution_count": 38
        }
      ]
    },
    {
      "cell_type": "code",
      "metadata": {
        "colab": {
          "base_uri": "https://localhost:8080/"
        },
        "id": "WWwHyghH0CzJ",
        "outputId": "a35f1a16-8f29-4e92-f153-5db29f41af62"
      },
      "source": [
        "df[\"tokens\"] = tokens\n",
        "df[\"tokens\"].head()"
      ],
      "execution_count": null,
      "outputs": [
        {
          "output_type": "execute_result",
          "data": {
            "text/plain": [
              "8343    [Great, case, to, keep, everything, in, its, p...\n",
              "8344    [After, discarding, and, getting, rid, of, bro...\n",
              "8345    [A, few, dollars, more, ,, but, I, am, boycott...\n",
              "8346    [My, initial, impression, of, this, was, very,...\n",
              "8347    [Pros, :, Standard, Echo, ., Cons, :, Older, g...\n",
              "Name: tokens, dtype: object"
            ]
          },
          "metadata": {
            "tags": []
          },
          "execution_count": 39
        }
      ]
    },
    {
      "cell_type": "code",
      "metadata": {
        "id": "yArKZtOA0CsX"
      },
      "source": [
        ""
      ],
      "execution_count": null,
      "outputs": []
    },
    {
      "cell_type": "code",
      "metadata": {
        "id": "IwjrBQvntFLX"
      },
      "source": [
        "# Tokenizer\n",
        "tokenizer = Tokenizer(nlp.vocab)"
      ],
      "execution_count": null,
      "outputs": []
    },
    {
      "cell_type": "code",
      "metadata": {
        "id": "Bjmw9w2uRftp"
      },
      "source": [
        "# Print out list of tokens\n",
        "sample = \"Friends, Romans, countrymen, lend me your ears;\"\n",
        "[token.text for token in tokenizer(sample)]"
      ],
      "execution_count": null,
      "outputs": []
    },
    {
      "cell_type": "code",
      "metadata": {
        "id": "f0z0g_cbRftp"
      },
      "source": [
        "# Tokenizer Pipe\n",
        "\n",
        "tokens = []\n",
        "\n",
        "\"\"\" Make them tokens \"\"\"\n",
        "for doc in tokenizer.pipe(df['reviews.text'], batch_size=500):\n",
        "    doc_tokens = [token.text for token in doc]\n",
        "    tokens.append(doc_tokens)\n",
        "\n",
        "df['tokens'] = tokens"
      ],
      "execution_count": null,
      "outputs": []
    },
    {
      "cell_type": "code",
      "metadata": {
        "id": "uMY1OAGGRfuF"
      },
      "source": [
        "df['tokens'].head()"
      ],
      "execution_count": null,
      "outputs": []
    },
    {
      "cell_type": "code",
      "metadata": {
        "id": "70FbunNyRfuF"
      },
      "source": [
        "wc = count(df['tokens'])"
      ],
      "execution_count": null,
      "outputs": []
    },
    {
      "cell_type": "code",
      "metadata": {
        "id": "lOScnth0RfuG",
        "colab": {
          "base_uri": "https://localhost:8080/",
          "height": 347
        },
        "outputId": "7e272c1e-e70f-4139-e861-f22801de5341"
      },
      "source": [
        "wc.head(10)"
      ],
      "execution_count": null,
      "outputs": [
        {
          "output_type": "execute_result",
          "data": {
            "text/html": [
              "<div>\n",
              "<style scoped>\n",
              "    .dataframe tbody tr th:only-of-type {\n",
              "        vertical-align: middle;\n",
              "    }\n",
              "\n",
              "    .dataframe tbody tr th {\n",
              "        vertical-align: top;\n",
              "    }\n",
              "\n",
              "    .dataframe thead th {\n",
              "        text-align: right;\n",
              "    }\n",
              "</style>\n",
              "<table border=\"1\" class=\"dataframe\">\n",
              "  <thead>\n",
              "    <tr style=\"text-align: right;\">\n",
              "      <th></th>\n",
              "      <th>word</th>\n",
              "      <th>appears_in</th>\n",
              "      <th>count</th>\n",
              "      <th>rank</th>\n",
              "      <th>pct_total</th>\n",
              "      <th>cul_pct_total</th>\n",
              "      <th>appears_in_pct</th>\n",
              "    </tr>\n",
              "  </thead>\n",
              "  <tbody>\n",
              "    <tr>\n",
              "      <th>47</th>\n",
              "      <td>.</td>\n",
              "      <td>11468</td>\n",
              "      <td>30480</td>\n",
              "      <td>1.0</td>\n",
              "      <td>0.062103</td>\n",
              "      <td>0.062103</td>\n",
              "      <td>0.819436</td>\n",
              "    </tr>\n",
              "    <tr>\n",
              "      <th>100</th>\n",
              "      <td>the</td>\n",
              "      <td>7234</td>\n",
              "      <td>15183</td>\n",
              "      <td>2.0</td>\n",
              "      <td>0.030935</td>\n",
              "      <td>0.093038</td>\n",
              "      <td>0.516899</td>\n",
              "    </tr>\n",
              "    <tr>\n",
              "      <th>62</th>\n",
              "      <td>and</td>\n",
              "      <td>8454</td>\n",
              "      <td>13790</td>\n",
              "      <td>3.0</td>\n",
              "      <td>0.028097</td>\n",
              "      <td>0.121135</td>\n",
              "      <td>0.604073</td>\n",
              "    </tr>\n",
              "    <tr>\n",
              "      <th>0</th>\n",
              "      <td>to</td>\n",
              "      <td>7126</td>\n",
              "      <td>12732</td>\n",
              "      <td>4.0</td>\n",
              "      <td>0.025941</td>\n",
              "      <td>0.147076</td>\n",
              "      <td>0.509182</td>\n",
              "    </tr>\n",
              "    <tr>\n",
              "      <th>108</th>\n",
              "      <td>I</td>\n",
              "      <td>6081</td>\n",
              "      <td>12615</td>\n",
              "      <td>5.0</td>\n",
              "      <td>0.025703</td>\n",
              "      <td>0.172779</td>\n",
              "      <td>0.434512</td>\n",
              "    </tr>\n",
              "    <tr>\n",
              "      <th>12</th>\n",
              "      <td>it</td>\n",
              "      <td>7167</td>\n",
              "      <td>12195</td>\n",
              "      <td>6.0</td>\n",
              "      <td>0.024847</td>\n",
              "      <td>0.197626</td>\n",
              "      <td>0.512111</td>\n",
              "    </tr>\n",
              "    <tr>\n",
              "      <th>86</th>\n",
              "      <td>for</td>\n",
              "      <td>7863</td>\n",
              "      <td>11920</td>\n",
              "      <td>7.0</td>\n",
              "      <td>0.024287</td>\n",
              "      <td>0.221913</td>\n",
              "      <td>0.561844</td>\n",
              "    </tr>\n",
              "    <tr>\n",
              "      <th>40</th>\n",
              "      <td>,</td>\n",
              "      <td>4827</td>\n",
              "      <td>10466</td>\n",
              "      <td>8.0</td>\n",
              "      <td>0.021324</td>\n",
              "      <td>0.243237</td>\n",
              "      <td>0.344909</td>\n",
              "    </tr>\n",
              "    <tr>\n",
              "      <th>4</th>\n",
              "      <td>a</td>\n",
              "      <td>6187</td>\n",
              "      <td>10256</td>\n",
              "      <td>9.0</td>\n",
              "      <td>0.020896</td>\n",
              "      <td>0.264134</td>\n",
              "      <td>0.442086</td>\n",
              "    </tr>\n",
              "    <tr>\n",
              "      <th>59</th>\n",
              "      <td>is</td>\n",
              "      <td>5549</td>\n",
              "      <td>8575</td>\n",
              "      <td>10.0</td>\n",
              "      <td>0.017471</td>\n",
              "      <td>0.281605</td>\n",
              "      <td>0.396499</td>\n",
              "    </tr>\n",
              "  </tbody>\n",
              "</table>\n",
              "</div>"
            ],
            "text/plain": [
              "    word  appears_in  count  rank  pct_total  cul_pct_total  appears_in_pct\n",
              "47     .       11468  30480   1.0   0.062103       0.062103        0.819436\n",
              "100  the        7234  15183   2.0   0.030935       0.093038        0.516899\n",
              "62   and        8454  13790   3.0   0.028097       0.121135        0.604073\n",
              "0     to        7126  12732   4.0   0.025941       0.147076        0.509182\n",
              "108    I        6081  12615   5.0   0.025703       0.172779        0.434512\n",
              "12    it        7167  12195   6.0   0.024847       0.197626        0.512111\n",
              "86   for        7863  11920   7.0   0.024287       0.221913        0.561844\n",
              "40     ,        4827  10466   8.0   0.021324       0.243237        0.344909\n",
              "4      a        6187  10256   9.0   0.020896       0.264134        0.442086\n",
              "59    is        5549   8575  10.0   0.017471       0.281605        0.396499"
            ]
          },
          "metadata": {
            "tags": []
          },
          "execution_count": 41
        }
      ]
    },
    {
      "cell_type": "code",
      "metadata": {
        "id": "V6L7OmERRfuG",
        "colab": {
          "base_uri": "https://localhost:8080/",
          "height": 247
        },
        "outputId": "e133380a-8f26-474b-c1b9-be5bb5c98240"
      },
      "source": [
        "wc_top20 = wc[wc['rank'] <= 20]\n",
        "\n",
        "squarify.plot(sizes=wc_top20['pct_total'], label=wc_top20['word'], alpha=.8 )\n",
        "plt.axis('off')\n",
        "plt.show()"
      ],
      "execution_count": null,
      "outputs": [
        {
          "output_type": "display_data",
          "data": {
            "image/png": "[encoded data removed]",
            "text/plain": [
              "<Figure size 432x288 with 1 Axes>"
            ]
          },
          "metadata": {
            "tags": [],
            "needs_background": "light"
          }
        }
      ]
    },
    {
      "cell_type": "markdown",
      "metadata": {
        "toc-hr-collapsed": true,
        "id": "UoFaVXLIRfuG"
      },
      "source": [
        "## Challenge\n",
        "\n",
        "In the module project, you will apply tokenization to another set of review data and produce visualizations of those tokens. "
      ]
    },
    {
      "cell_type": "code",
      "metadata": {
        "id": "ZmI3Mx0XRfuH"
      },
      "source": [
        "list(df)"
      ],
      "execution_count": null,
      "outputs": []
    },
    {
      "cell_type": "markdown",
      "metadata": {
        "toc-hr-collapsed": false,
        "id": "C6VNPntERfuH"
      },
      "source": [
        "# Stop Words (Learn)\n",
        "<a id=\"p2\"></a>"
      ]
    },
    {
      "cell_type": "markdown",
      "metadata": {
        "id": "Z3L4qo7GRfuH"
      },
      "source": [
        "## Overview\n",
        "Section Agenda\n",
        "- What are they?\n",
        "- How do we get rid of them using Spacy?\n",
        "- Visualization\n",
        "- Libraries of Stop Words\n",
        "- Extending Stop Words\n",
        "- Statistical trimming\n",
        "\n",
        "If the visualizations above, you began to notice a pattern. Most of the words don't really add much to our understanding of product reviews. Words such as \"I\", \"and\", \"of\", etc. have almost no semantic meaning to us. We call these useless words \"stop words,\" because we should 'stop' ourselves from including them in the analysis. \n",
        "\n",
        "Most NLP libraries have built in lists of stop words that common english words: conjunctions, articles, adverbs, pronouns, and common verbs. The best practice, however, is to extend/customize these standard english stopwords for your problem's domain. If I am studying political science, I may want to exclude the word \"politics\" from my analysis; it's so common it does not add to my understanding. "
      ]
    },
    {
      "cell_type": "markdown",
      "metadata": {
        "toc-hr-collapsed": true,
        "id": "B74bG6_SRfuI"
      },
      "source": [
        "## Follow Along \n",
        "\n",
        "### Default Stop Words\n",
        "Let's take a look at the standard stop words that came with our Spacy model:"
      ]
    },
    {
      "cell_type": "code",
      "metadata": {
        "id": "_ZJiZrK-RfuI"
      },
      "source": [
        "# Spacy's Default Stop Words\n",
        "nlp.Defaults.stop_words"
      ],
      "execution_count": null,
      "outputs": []
    },
    {
      "cell_type": "code",
      "metadata": {
        "id": "uqKX_EONRfuJ"
      },
      "source": [
        "tokens = []\n",
        "\n",
        "\"\"\" Update those tokens w/o stopwords\"\"\"\n",
        "for doc in nlp.pipe(df['reviews.text'], batch_size=500):\n",
        "    \n",
        "    doc_tokens = []\n",
        "    \n",
        "    for token in doc:\n",
        "      # filter out bad tokens\n",
        "        if (token.is_stop == False) & (token.is_punct == False):\n",
        "            doc_tokens.append(token.text.lower())\n",
        "\n",
        "    tokens.append(doc_tokens)\n",
        "\n",
        "df['tokens'] = tokens"
      ],
      "execution_count": null,
      "outputs": []
    },
    {
      "cell_type": "code",
      "metadata": {
        "id": "3Fz6GdHjRfuJ",
        "colab": {
          "base_uri": "https://localhost:8080/"
        },
        "outputId": "f9b3d57d-b754-45cd-bd4f-3623f532267f"
      },
      "source": [
        "df.tokens.head()"
      ],
      "execution_count": null,
      "outputs": [
        {
          "output_type": "execute_result",
          "data": {
            "text/plain": [
              "8343    [great, case, place, husband, love, holds, lot...\n",
              "8344    [discarding, getting, rid, broken, cd, cases, ...\n",
              "8345                        [dollars, boycotting, amazon]\n",
              "8346    [initial, impression, good, material, nicer, s...\n",
              "8347    [pros, standard, echo, cons, older, generation...\n",
              "Name: tokens, dtype: object"
            ]
          },
          "metadata": {
            "tags": []
          },
          "execution_count": 45
        }
      ]
    },
    {
      "cell_type": "code",
      "metadata": {
        "id": "ifMcNrHoRfuJ",
        "colab": {
          "base_uri": "https://localhost:8080/",
          "height": 247
        },
        "outputId": "980f73ad-4268-42b6-8ef5-9cc683ef867b"
      },
      "source": [
        "wc = count(df['tokens'])\n",
        "\n",
        "wc_top20 = wc[wc['rank'] <= 20]\n",
        "\n",
        "squarify.plot(sizes=wc_top20['pct_total'], label=wc_top20['word'], alpha=.8 )\n",
        "plt.axis('off')\n",
        "plt.show()"
      ],
      "execution_count": null,
      "outputs": [
        {
          "output_type": "display_data",
          "data": {
            "image/png": "[encoded data removed]",
            "text/plain": [
              "<Figure size 432x288 with 1 Axes>"
            ]
          },
          "metadata": {
            "tags": [],
            "needs_background": "light"
          }
        }
      ]
    },
    {
      "cell_type": "markdown",
      "metadata": {
        "id": "FyuPx-xnRfuJ"
      },
      "source": [
        "### Extending Stop Words"
      ]
    },
    {
      "cell_type": "code",
      "metadata": {
        "id": "CORD85g5RfuJ",
        "colab": {
          "base_uri": "https://localhost:8080/"
        },
        "outputId": "67e2c5ec-62f8-43b2-a118-fb4c161514d5"
      },
      "source": [
        "print(type(nlp.Defaults.stop_words))"
      ],
      "execution_count": null,
      "outputs": [
        {
          "output_type": "stream",
          "text": [
            "<class 'set'>\n"
          ],
          "name": "stdout"
        }
      ]
    },
    {
      "cell_type": "code",
      "metadata": {
        "id": "QglGbWCaRfuJ"
      },
      "source": [
        "STOP_WORDS = nlp.Defaults.stop_words.union(['batteries','I', 'amazon', 'i', 'Amazon', 'it', \"it's\", 'it.', 'the', 'this',])"
      ],
      "execution_count": null,
      "outputs": []
    },
    {
      "cell_type": "code",
      "metadata": {
        "id": "Y9Gy09s7RfuJ"
      },
      "source": [
        "STOP_WORDS"
      ],
      "execution_count": null,
      "outputs": []
    },
    {
      "cell_type": "code",
      "metadata": {
        "id": "gc3NivcTRfuJ"
      },
      "source": [
        "tokens = []\n",
        "\n",
        "for doc in nlp.pipe(df['reviews.text'], batch_size=500):\n",
        "    \n",
        "    doc_tokens = []\n",
        "    \n",
        "    for token in doc: \n",
        "        if (token.text.lower() not in STOP_WORDS) & (token.is_punct == False):\n",
        "            doc_tokens.append(token.text.lower())\n",
        "   \n",
        "    tokens.append(doc_tokens)\n",
        "    \n",
        "df['tokens'] = tokens"
      ],
      "execution_count": null,
      "outputs": []
    },
    {
      "cell_type": "code",
      "metadata": {
        "id": "qYd5zqmmRfuK",
        "colab": {
          "base_uri": "https://localhost:8080/",
          "height": 647
        },
        "outputId": "d02c2459-16ba-4a1f-9b69-6d745f7ce1e5"
      },
      "source": [
        "wc = count(df['tokens'])\n",
        "wc.head(20)"
      ],
      "execution_count": null,
      "outputs": [
        {
          "output_type": "execute_result",
          "data": {
            "text/html": [
              "<div>\n",
              "<style scoped>\n",
              "    .dataframe tbody tr th:only-of-type {\n",
              "        vertical-align: middle;\n",
              "    }\n",
              "\n",
              "    .dataframe tbody tr th {\n",
              "        vertical-align: top;\n",
              "    }\n",
              "\n",
              "    .dataframe thead th {\n",
              "        text-align: right;\n",
              "    }\n",
              "</style>\n",
              "<table border=\"1\" class=\"dataframe\">\n",
              "  <thead>\n",
              "    <tr style=\"text-align: right;\">\n",
              "      <th></th>\n",
              "      <th>word</th>\n",
              "      <th>appears_in</th>\n",
              "      <th>count</th>\n",
              "      <th>rank</th>\n",
              "      <th>pct_total</th>\n",
              "      <th>cul_pct_total</th>\n",
              "      <th>appears_in_pct</th>\n",
              "    </tr>\n",
              "  </thead>\n",
              "  <tbody>\n",
              "    <tr>\n",
              "      <th>796</th>\n",
              "      <td>tablet</td>\n",
              "      <td>4617</td>\n",
              "      <td>5896</td>\n",
              "      <td>1.0</td>\n",
              "      <td>0.030740</td>\n",
              "      <td>0.030740</td>\n",
              "      <td>0.329904</td>\n",
              "    </tr>\n",
              "    <tr>\n",
              "      <th>3</th>\n",
              "      <td>great</td>\n",
              "      <td>4136</td>\n",
              "      <td>4871</td>\n",
              "      <td>2.0</td>\n",
              "      <td>0.025396</td>\n",
              "      <td>0.056137</td>\n",
              "      <td>0.295534</td>\n",
              "    </tr>\n",
              "    <tr>\n",
              "      <th>266</th>\n",
              "      <td>use</td>\n",
              "      <td>2758</td>\n",
              "      <td>3108</td>\n",
              "      <td>3.0</td>\n",
              "      <td>0.016204</td>\n",
              "      <td>0.072341</td>\n",
              "      <td>0.197070</td>\n",
              "    </tr>\n",
              "    <tr>\n",
              "      <th>5</th>\n",
              "      <td>love</td>\n",
              "      <td>2272</td>\n",
              "      <td>2530</td>\n",
              "      <td>4.0</td>\n",
              "      <td>0.013191</td>\n",
              "      <td>0.085532</td>\n",
              "      <td>0.162344</td>\n",
              "    </tr>\n",
              "    <tr>\n",
              "      <th>1169</th>\n",
              "      <td>kindle</td>\n",
              "      <td>1861</td>\n",
              "      <td>2378</td>\n",
              "      <td>5.0</td>\n",
              "      <td>0.012398</td>\n",
              "      <td>0.097930</td>\n",
              "      <td>0.132976</td>\n",
              "    </tr>\n",
              "    <tr>\n",
              "      <th>131</th>\n",
              "      <td>easy</td>\n",
              "      <td>2182</td>\n",
              "      <td>2374</td>\n",
              "      <td>6.0</td>\n",
              "      <td>0.012377</td>\n",
              "      <td>0.110308</td>\n",
              "      <td>0.155913</td>\n",
              "    </tr>\n",
              "    <tr>\n",
              "      <th>123</th>\n",
              "      <td>good</td>\n",
              "      <td>2045</td>\n",
              "      <td>2356</td>\n",
              "      <td>7.0</td>\n",
              "      <td>0.012284</td>\n",
              "      <td>0.122591</td>\n",
              "      <td>0.146124</td>\n",
              "    </tr>\n",
              "    <tr>\n",
              "      <th>973</th>\n",
              "      <td>bought</td>\n",
              "      <td>2220</td>\n",
              "      <td>2355</td>\n",
              "      <td>8.0</td>\n",
              "      <td>0.012278</td>\n",
              "      <td>0.134870</td>\n",
              "      <td>0.158628</td>\n",
              "    </tr>\n",
              "    <tr>\n",
              "      <th>1168</th>\n",
              "      <td>fire</td>\n",
              "      <td>1715</td>\n",
              "      <td>2040</td>\n",
              "      <td>9.0</td>\n",
              "      <td>0.010636</td>\n",
              "      <td>0.145506</td>\n",
              "      <td>0.122544</td>\n",
              "    </tr>\n",
              "    <tr>\n",
              "      <th>140</th>\n",
              "      <td>price</td>\n",
              "      <td>1822</td>\n",
              "      <td>1958</td>\n",
              "      <td>10.0</td>\n",
              "      <td>0.010209</td>\n",
              "      <td>0.155714</td>\n",
              "      <td>0.130189</td>\n",
              "    </tr>\n",
              "    <tr>\n",
              "      <th>1212</th>\n",
              "      <td>loves</td>\n",
              "      <td>1667</td>\n",
              "      <td>1757</td>\n",
              "      <td>11.0</td>\n",
              "      <td>0.009161</td>\n",
              "      <td>0.164875</td>\n",
              "      <td>0.119114</td>\n",
              "    </tr>\n",
              "    <tr>\n",
              "      <th>1632</th>\n",
              "      <td>kids</td>\n",
              "      <td>1412</td>\n",
              "      <td>1720</td>\n",
              "      <td>12.0</td>\n",
              "      <td>0.008968</td>\n",
              "      <td>0.173843</td>\n",
              "      <td>0.100893</td>\n",
              "    </tr>\n",
              "    <tr>\n",
              "      <th>114</th>\n",
              "      <td>old</td>\n",
              "      <td>1511</td>\n",
              "      <td>1632</td>\n",
              "      <td>13.0</td>\n",
              "      <td>0.008509</td>\n",
              "      <td>0.182351</td>\n",
              "      <td>0.107967</td>\n",
              "    </tr>\n",
              "    <tr>\n",
              "      <th>281</th>\n",
              "      <td>apps</td>\n",
              "      <td>1285</td>\n",
              "      <td>1530</td>\n",
              "      <td>14.0</td>\n",
              "      <td>0.007977</td>\n",
              "      <td>0.190328</td>\n",
              "      <td>0.091819</td>\n",
              "    </tr>\n",
              "    <tr>\n",
              "      <th>50</th>\n",
              "      <td>like</td>\n",
              "      <td>1240</td>\n",
              "      <td>1432</td>\n",
              "      <td>15.0</td>\n",
              "      <td>0.007466</td>\n",
              "      <td>0.197795</td>\n",
              "      <td>0.088603</td>\n",
              "    </tr>\n",
              "    <tr>\n",
              "      <th>1766</th>\n",
              "      <td>games</td>\n",
              "      <td>1297</td>\n",
              "      <td>1405</td>\n",
              "      <td>16.0</td>\n",
              "      <td>0.007325</td>\n",
              "      <td>0.205120</td>\n",
              "      <td>0.092676</td>\n",
              "    </tr>\n",
              "    <tr>\n",
              "      <th>182</th>\n",
              "      <td>screen</td>\n",
              "      <td>1152</td>\n",
              "      <td>1360</td>\n",
              "      <td>17.0</td>\n",
              "      <td>0.007091</td>\n",
              "      <td>0.212211</td>\n",
              "      <td>0.082315</td>\n",
              "    </tr>\n",
              "    <tr>\n",
              "      <th>873</th>\n",
              "      <td>books</td>\n",
              "      <td>1104</td>\n",
              "      <td>1277</td>\n",
              "      <td>18.0</td>\n",
              "      <td>0.006658</td>\n",
              "      <td>0.218869</td>\n",
              "      <td>0.078885</td>\n",
              "    </tr>\n",
              "    <tr>\n",
              "      <th>85</th>\n",
              "      <td>year</td>\n",
              "      <td>1069</td>\n",
              "      <td>1198</td>\n",
              "      <td>19.0</td>\n",
              "      <td>0.006246</td>\n",
              "      <td>0.225115</td>\n",
              "      <td>0.076384</td>\n",
              "    </tr>\n",
              "    <tr>\n",
              "      <th>91</th>\n",
              "      <td>product</td>\n",
              "      <td>1097</td>\n",
              "      <td>1165</td>\n",
              "      <td>20.0</td>\n",
              "      <td>0.006074</td>\n",
              "      <td>0.231189</td>\n",
              "      <td>0.078385</td>\n",
              "    </tr>\n",
              "  </tbody>\n",
              "</table>\n",
              "</div>"
            ],
            "text/plain": [
              "         word  appears_in  count  ...  pct_total  cul_pct_total  appears_in_pct\n",
              "796    tablet        4617   5896  ...   0.030740       0.030740        0.329904\n",
              "3       great        4136   4871  ...   0.025396       0.056137        0.295534\n",
              "266       use        2758   3108  ...   0.016204       0.072341        0.197070\n",
              "5        love        2272   2530  ...   0.013191       0.085532        0.162344\n",
              "1169   kindle        1861   2378  ...   0.012398       0.097930        0.132976\n",
              "131      easy        2182   2374  ...   0.012377       0.110308        0.155913\n",
              "123      good        2045   2356  ...   0.012284       0.122591        0.146124\n",
              "973    bought        2220   2355  ...   0.012278       0.134870        0.158628\n",
              "1168     fire        1715   2040  ...   0.010636       0.145506        0.122544\n",
              "140     price        1822   1958  ...   0.010209       0.155714        0.130189\n",
              "1212    loves        1667   1757  ...   0.009161       0.164875        0.119114\n",
              "1632     kids        1412   1720  ...   0.008968       0.173843        0.100893\n",
              "114       old        1511   1632  ...   0.008509       0.182351        0.107967\n",
              "281      apps        1285   1530  ...   0.007977       0.190328        0.091819\n",
              "50       like        1240   1432  ...   0.007466       0.197795        0.088603\n",
              "1766    games        1297   1405  ...   0.007325       0.205120        0.092676\n",
              "182    screen        1152   1360  ...   0.007091       0.212211        0.082315\n",
              "873     books        1104   1277  ...   0.006658       0.218869        0.078885\n",
              "85       year        1069   1198  ...   0.006246       0.225115        0.076384\n",
              "91    product        1097   1165  ...   0.006074       0.231189        0.078385\n",
              "\n",
              "[20 rows x 7 columns]"
            ]
          },
          "metadata": {
            "tags": []
          },
          "execution_count": 54
        }
      ]
    },
    {
      "cell_type": "code",
      "metadata": {
        "id": "8eBOpjteRfuK",
        "colab": {
          "base_uri": "https://localhost:8080/",
          "height": 247
        },
        "outputId": "e1c02b63-56b3-42e3-f0e5-ca4f6b9f64e4"
      },
      "source": [
        "wc_top20 = wc[wc['rank'] <= 20]\n",
        "\n",
        "squarify.plot(sizes=wc_top20['pct_total'], label=wc_top20['word'], alpha=.8 )\n",
        "plt.axis('off')\n",
        "plt.show()"
      ],
      "execution_count": null,
      "outputs": [
        {
          "output_type": "display_data",
          "data": {
            "image/png": "[encoded data removed]",
            "text/plain": [
              "<Figure size 432x288 with 1 Axes>"
            ]
          },
          "metadata": {
            "tags": [],
            "needs_background": "light"
          }
        }
      ]
    },
    {
      "cell_type": "code",
      "metadata": {
        "id": "fjLYzblcRfuK",
        "colab": {
          "base_uri": "https://localhost:8080/"
        },
        "outputId": "0f485a16-c285-4bf1-d1db-b171112b1116"
      },
      "source": [
        "df['reviews.rating'].value_counts()"
      ],
      "execution_count": null,
      "outputs": [
        {
          "output_type": "execute_result",
          "data": {
            "text/plain": [
              "5    9371\n",
              "4    3703\n",
              "3     551\n",
              "1     187\n",
              "2     183\n",
              "Name: reviews.rating, dtype: int64"
            ]
          },
          "metadata": {
            "tags": []
          },
          "execution_count": 55
        }
      ]
    },
    {
      "cell_type": "markdown",
      "metadata": {
        "id": "ZBSnGcvMRfuK"
      },
      "source": [
        "### Statistical Trimming\n",
        "\n",
        "So far, we have talked about stop word in relation to either broad english words or domain specific stop words. Another common approach to stop word removal is via statistical trimming. The basic idea: preserve the words that give the most about of variation in your data. \n",
        "\n",
        "Do you remember this graph?"
      ]
    },
    {
      "cell_type": "code",
      "metadata": {
        "id": "sBKNMOXdRfuK",
        "colab": {
          "base_uri": "https://localhost:8080/",
          "height": 278
        },
        "outputId": "9314426c-2b01-43a8-8aac-ce155fcf31e3"
      },
      "source": [
        "sns.lineplot(x='rank', y='cul_pct_total', data=wc);"
      ],
      "execution_count": null,
      "outputs": [
        {
          "output_type": "display_data",
          "data": {
            "image/png": "[encoded data removed]",
            "text/plain": [
              "<Figure size 432x288 with 1 Axes>"
            ]
          },
          "metadata": {
            "tags": [],
            "needs_background": "light"
          }
        }
      ]
    },
    {
      "cell_type": "markdown",
      "metadata": {
        "id": "VpHZxm1URfuK"
      },
      "source": [
        "This graph tells us that only a *handful* of words represented 80% of words in the overall corpus. We can interpret this in two ways: \n",
        "1. The words that appear most frequently may not provide any insight into the mean on the documents since they are so prevalent. \n",
        "2. Words that appear infrequency (at the end of the graph) also probably do not add much value, because the are mentioned so rarely. \n",
        "\n",
        "Let's take a look at the words at the bottom and the top and make a decision for ourselves:"
      ]
    },
    {
      "cell_type": "code",
      "metadata": {
        "id": "nFF1QM32RfuK",
        "colab": {
          "base_uri": "https://localhost:8080/",
          "height": 647
        },
        "outputId": "794b5334-dae4-4fdb-aac0-aa0140f44175"
      },
      "source": [
        "wc.tail(20)"
      ],
      "execution_count": null,
      "outputs": [
        {
          "output_type": "execute_result",
          "data": {
            "text/html": [
              "<div>\n",
              "<style scoped>\n",
              "    .dataframe tbody tr th:only-of-type {\n",
              "        vertical-align: middle;\n",
              "    }\n",
              "\n",
              "    .dataframe tbody tr th {\n",
              "        vertical-align: top;\n",
              "    }\n",
              "\n",
              "    .dataframe thead th {\n",
              "        text-align: right;\n",
              "    }\n",
              "</style>\n",
              "<table border=\"1\" class=\"dataframe\">\n",
              "  <thead>\n",
              "    <tr style=\"text-align: right;\">\n",
              "      <th></th>\n",
              "      <th>word</th>\n",
              "      <th>appears_in</th>\n",
              "      <th>count</th>\n",
              "      <th>rank</th>\n",
              "      <th>pct_total</th>\n",
              "      <th>cul_pct_total</th>\n",
              "      <th>appears_in_pct</th>\n",
              "    </tr>\n",
              "  </thead>\n",
              "  <tbody>\n",
              "    <tr>\n",
              "      <th>7727</th>\n",
              "      <td>open!1</td>\n",
              "      <td>1</td>\n",
              "      <td>1</td>\n",
              "      <td>7729.0</td>\n",
              "      <td>0.000005</td>\n",
              "      <td>0.999901</td>\n",
              "      <td>0.000071</td>\n",
              "    </tr>\n",
              "    <tr>\n",
              "      <th>7729</th>\n",
              "      <td>shades</td>\n",
              "      <td>1</td>\n",
              "      <td>1</td>\n",
              "      <td>7730.0</td>\n",
              "      <td>0.000005</td>\n",
              "      <td>0.999906</td>\n",
              "      <td>0.000071</td>\n",
              "    </tr>\n",
              "    <tr>\n",
              "      <th>7730</th>\n",
              "      <td>diabetic</td>\n",
              "      <td>1</td>\n",
              "      <td>1</td>\n",
              "      <td>7731.0</td>\n",
              "      <td>0.000005</td>\n",
              "      <td>0.999911</td>\n",
              "      <td>0.000071</td>\n",
              "    </tr>\n",
              "    <tr>\n",
              "      <th>7731</th>\n",
              "      <td>scheduling</td>\n",
              "      <td>1</td>\n",
              "      <td>1</td>\n",
              "      <td>7732.0</td>\n",
              "      <td>0.000005</td>\n",
              "      <td>0.999917</td>\n",
              "      <td>0.000071</td>\n",
              "    </tr>\n",
              "    <tr>\n",
              "      <th>7732</th>\n",
              "      <td>alertanative</td>\n",
              "      <td>1</td>\n",
              "      <td>1</td>\n",
              "      <td>7733.0</td>\n",
              "      <td>0.000005</td>\n",
              "      <td>0.999922</td>\n",
              "      <td>0.000071</td>\n",
              "    </tr>\n",
              "    <tr>\n",
              "      <th>7735</th>\n",
              "      <td>pearl</td>\n",
              "      <td>1</td>\n",
              "      <td>1</td>\n",
              "      <td>7734.0</td>\n",
              "      <td>0.000005</td>\n",
              "      <td>0.999927</td>\n",
              "      <td>0.000071</td>\n",
              "    </tr>\n",
              "    <tr>\n",
              "      <th>7738</th>\n",
              "      <td>rearvision</td>\n",
              "      <td>1</td>\n",
              "      <td>1</td>\n",
              "      <td>7735.0</td>\n",
              "      <td>0.000005</td>\n",
              "      <td>0.999932</td>\n",
              "      <td>0.000071</td>\n",
              "    </tr>\n",
              "    <tr>\n",
              "      <th>7733</th>\n",
              "      <td>fyi</td>\n",
              "      <td>1</td>\n",
              "      <td>1</td>\n",
              "      <td>7736.0</td>\n",
              "      <td>0.000005</td>\n",
              "      <td>0.999937</td>\n",
              "      <td>0.000071</td>\n",
              "    </tr>\n",
              "    <tr>\n",
              "      <th>7737</th>\n",
              "      <td>mounts</td>\n",
              "      <td>1</td>\n",
              "      <td>1</td>\n",
              "      <td>7737.0</td>\n",
              "      <td>0.000005</td>\n",
              "      <td>0.999943</td>\n",
              "      <td>0.000071</td>\n",
              "    </tr>\n",
              "    <tr>\n",
              "      <th>7736</th>\n",
              "      <td>magnetically</td>\n",
              "      <td>1</td>\n",
              "      <td>1</td>\n",
              "      <td>7738.0</td>\n",
              "      <td>0.000005</td>\n",
              "      <td>0.999948</td>\n",
              "      <td>0.000071</td>\n",
              "    </tr>\n",
              "    <tr>\n",
              "      <th>7734</th>\n",
              "      <td>vent</td>\n",
              "      <td>1</td>\n",
              "      <td>1</td>\n",
              "      <td>7739.0</td>\n",
              "      <td>0.000005</td>\n",
              "      <td>0.999953</td>\n",
              "      <td>0.000071</td>\n",
              "    </tr>\n",
              "    <tr>\n",
              "      <th>7739</th>\n",
              "      <td>cares</td>\n",
              "      <td>1</td>\n",
              "      <td>1</td>\n",
              "      <td>7740.0</td>\n",
              "      <td>0.000005</td>\n",
              "      <td>0.999958</td>\n",
              "      <td>0.000071</td>\n",
              "    </tr>\n",
              "    <tr>\n",
              "      <th>7740</th>\n",
              "      <td>kindlelishous</td>\n",
              "      <td>1</td>\n",
              "      <td>1</td>\n",
              "      <td>7741.0</td>\n",
              "      <td>0.000005</td>\n",
              "      <td>0.999964</td>\n",
              "      <td>0.000071</td>\n",
              "    </tr>\n",
              "    <tr>\n",
              "      <th>7741</th>\n",
              "      <td>competent</td>\n",
              "      <td>1</td>\n",
              "      <td>1</td>\n",
              "      <td>7742.0</td>\n",
              "      <td>0.000005</td>\n",
              "      <td>0.999969</td>\n",
              "      <td>0.000071</td>\n",
              "    </tr>\n",
              "    <tr>\n",
              "      <th>7742</th>\n",
              "      <td>objective</td>\n",
              "      <td>1</td>\n",
              "      <td>1</td>\n",
              "      <td>7743.0</td>\n",
              "      <td>0.000005</td>\n",
              "      <td>0.999974</td>\n",
              "      <td>0.000071</td>\n",
              "    </tr>\n",
              "    <tr>\n",
              "      <th>7743</th>\n",
              "      <td>relies</td>\n",
              "      <td>1</td>\n",
              "      <td>1</td>\n",
              "      <td>7744.0</td>\n",
              "      <td>0.000005</td>\n",
              "      <td>0.999979</td>\n",
              "      <td>0.000071</td>\n",
              "    </tr>\n",
              "    <tr>\n",
              "      <th>7744</th>\n",
              "      <td>readi</td>\n",
              "      <td>1</td>\n",
              "      <td>1</td>\n",
              "      <td>7745.0</td>\n",
              "      <td>0.000005</td>\n",
              "      <td>0.999984</td>\n",
              "      <td>0.000071</td>\n",
              "    </tr>\n",
              "    <tr>\n",
              "      <th>7745</th>\n",
              "      <td>blanking</td>\n",
              "      <td>1</td>\n",
              "      <td>1</td>\n",
              "      <td>7746.0</td>\n",
              "      <td>0.000005</td>\n",
              "      <td>0.999990</td>\n",
              "      <td>0.000071</td>\n",
              "    </tr>\n",
              "    <tr>\n",
              "      <th>7746</th>\n",
              "      <td>moztly</td>\n",
              "      <td>1</td>\n",
              "      <td>1</td>\n",
              "      <td>7747.0</td>\n",
              "      <td>0.000005</td>\n",
              "      <td>0.999995</td>\n",
              "      <td>0.000071</td>\n",
              "    </tr>\n",
              "    <tr>\n",
              "      <th>7747</th>\n",
              "      <td>bookreader</td>\n",
              "      <td>1</td>\n",
              "      <td>1</td>\n",
              "      <td>7748.0</td>\n",
              "      <td>0.000005</td>\n",
              "      <td>1.000000</td>\n",
              "      <td>0.000071</td>\n",
              "    </tr>\n",
              "  </tbody>\n",
              "</table>\n",
              "</div>"
            ],
            "text/plain": [
              "               word  appears_in  ...  cul_pct_total  appears_in_pct\n",
              "7727         open!1           1  ...       0.999901        0.000071\n",
              "7729         shades           1  ...       0.999906        0.000071\n",
              "7730       diabetic           1  ...       0.999911        0.000071\n",
              "7731     scheduling           1  ...       0.999917        0.000071\n",
              "7732   alertanative           1  ...       0.999922        0.000071\n",
              "7735          pearl           1  ...       0.999927        0.000071\n",
              "7738     rearvision           1  ...       0.999932        0.000071\n",
              "7733            fyi           1  ...       0.999937        0.000071\n",
              "7737         mounts           1  ...       0.999943        0.000071\n",
              "7736   magnetically           1  ...       0.999948        0.000071\n",
              "7734           vent           1  ...       0.999953        0.000071\n",
              "7739          cares           1  ...       0.999958        0.000071\n",
              "7740  kindlelishous           1  ...       0.999964        0.000071\n",
              "7741      competent           1  ...       0.999969        0.000071\n",
              "7742      objective           1  ...       0.999974        0.000071\n",
              "7743         relies           1  ...       0.999979        0.000071\n",
              "7744          readi           1  ...       0.999984        0.000071\n",
              "7745       blanking           1  ...       0.999990        0.000071\n",
              "7746         moztly           1  ...       0.999995        0.000071\n",
              "7747     bookreader           1  ...       1.000000        0.000071\n",
              "\n",
              "[20 rows x 7 columns]"
            ]
          },
          "metadata": {
            "tags": []
          },
          "execution_count": 57
        }
      ]
    },
    {
      "cell_type": "code",
      "metadata": {
        "id": "2gaJkV0QRfuK",
        "colab": {
          "base_uri": "https://localhost:8080/"
        },
        "outputId": "46f296f4-61e3-45fd-f414-4bd56dc95fbd"
      },
      "source": [
        "wc['appears_in_pct'].describe()"
      ],
      "execution_count": null,
      "outputs": [
        {
          "output_type": "execute_result",
          "data": {
            "text/plain": [
              "count    7748.000000\n",
              "mean        0.001632\n",
              "std         0.008878\n",
              "min         0.000071\n",
              "25%         0.000071\n",
              "50%         0.000214\n",
              "75%         0.000572\n",
              "max         0.329904\n",
              "Name: appears_in_pct, dtype: float64"
            ]
          },
          "metadata": {
            "tags": []
          },
          "execution_count": 58
        }
      ]
    },
    {
      "cell_type": "code",
      "metadata": {
        "id": "H3V1yY0dRfuK",
        "colab": {
          "base_uri": "https://localhost:8080/",
          "height": 280
        },
        "outputId": "7d7475b1-7f20-44d9-b075-d8d8eb354db5"
      },
      "source": [
        "# Frequency of appears in documents\n",
        "sns.distplot(wc['appears_in_pct']);"
      ],
      "execution_count": null,
      "outputs": [
        {
          "output_type": "display_data",
          "data": {
            "image/png": "[encoded data removed]",
            "text/plain": [
              "<Figure size 432x288 with 1 Axes>"
            ]
          },
          "metadata": {
            "tags": [],
            "needs_background": "light"
          }
        }
      ]
    },
    {
      "cell_type": "code",
      "metadata": {
        "id": "Q-ceLnaVRfuK",
        "colab": {
          "base_uri": "https://localhost:8080/",
          "height": 280
        },
        "outputId": "1272bd44-13d3-45a4-e58d-a52a255f8930"
      },
      "source": [
        "# Tree-Map w/ Words that appear in a least 2.5% of documents. \n",
        "\n",
        "wc = wc[wc['appears_in_pct'] >= 0.025]\n",
        "\n",
        "sns.distplot(wc['appears_in_pct']);"
      ],
      "execution_count": null,
      "outputs": [
        {
          "output_type": "display_data",
          "data": {
            "image/png": "[encoded data removed]",
            "text/plain": [
              "<Figure size 432x288 with 1 Axes>"
            ]
          },
          "metadata": {
            "tags": [],
            "needs_background": "light"
          }
        }
      ]
    },
    {
      "cell_type": "code",
      "metadata": {
        "id": "lwALOiOJRfuL",
        "colab": {
          "base_uri": "https://localhost:8080/"
        },
        "outputId": "5e42e051-bdd8-4e7f-8551-86710b060dee"
      },
      "source": [
        "wc.shape"
      ],
      "execution_count": null,
      "outputs": [
        {
          "output_type": "execute_result",
          "data": {
            "text/plain": [
              "(80, 7)"
            ]
          },
          "metadata": {
            "tags": []
          },
          "execution_count": 61
        }
      ]
    },
    {
      "cell_type": "markdown",
      "metadata": {
        "id": "4kbD67LKRfuL"
      },
      "source": [
        "## Challenge\n",
        "\n",
        "In the module project, you will apply stop word removal to a new corpus. You will focus on applying dictionary based stop word removal, but as a stretch goal, you should consider applying statistical stopword trimming. "
      ]
    },
    {
      "cell_type": "markdown",
      "metadata": {
        "toc-hr-collapsed": false,
        "id": "To9yUsgLRfuL"
      },
      "source": [
        "# Stemming & Lemmatization (Learn)\n",
        "<a id=\"p3\"></a>"
      ]
    },
    {
      "cell_type": "markdown",
      "metadata": {
        "toc-hr-collapsed": false,
        "id": "LlKp0C-tRfuL"
      },
      "source": [
        "## Overview\n",
        "\n",
        "You can see from our example above there is still some normalization to do to get a clean analysis. You notice that there many words (*i.e.* 'batteries', 'battery') which share the same root word. We can use either the process of stemming or lemmatization to trim our words down to the 'root' word. \n",
        "\n",
        "__Section Agenda__:\n",
        "\n",
        "- Which is which\n",
        "- why use one v. other\n",
        "- show side by side visualizations \n",
        "- how to do it in spacy & nltk\n",
        "- introduce PoS in here as well"
      ]
    },
    {
      "cell_type": "markdown",
      "metadata": {
        "toc-hr-collapsed": true,
        "id": "Q7X2h8qdRfuL"
      },
      "source": [
        "## Follow Along"
      ]
    },
    {
      "cell_type": "markdown",
      "metadata": {
        "toc-hr-collapsed": true,
        "id": "bvXOS2aiRfuL"
      },
      "source": [
        "### Stemming\n",
        "\n",
        "> *a process for removing the commoner morphological and inflexional endings from words in English. Its main use is as part of a term normalisation process that is usually done when setting up Information Retrieval systems.* - [Martin Porter](https://tartarus.org/martin/PorterStemmer/)\n",
        "\n",
        "Some examples include:\n",
        "- 'ing'\n",
        "- 'ed'\n",
        "- 's'\n",
        "\n",
        "These rules are by no means comprehensive, but they are somewhere to start. Most stemming is done by well documented algorithms such as Porter, Snowball, and Dawson. Porter and its newer version Snowball are the most popular stemming algorithms today. For more information on various stemming algorithms check out [*\"A Comparative Study of Stemming Algorithms\"*](https://pdfs.semanticscholar.org/1c0c/0fa35d4ff8a2f925eb955e48d655494bd167.pdf) \n",
        "\n",
        "\n",
        "Spacy does not do stemming out of the box, but instead uses a different technique called *lemmatization* which we will discuss in the next section. Let's turn to an antique python package `nltk` for stemming. "
      ]
    },
    {
      "cell_type": "code",
      "metadata": {
        "id": "w_2Y1gJqRfuL",
        "colab": {
          "base_uri": "https://localhost:8080/"
        },
        "outputId": "fcdf8bfb-958d-497f-981c-0c1668ade2b6"
      },
      "source": [
        "from nltk.stem import PorterStemmer\n",
        "\n",
        "ps = PorterStemmer()\n",
        "\n",
        "words = [\"wolf\", \"wolves\", \"is\", \"was\", \"be\", \"are\", \"swim\", \"swimming\", \"swims\"]\n",
        "\n",
        "for word in words:\n",
        "    print(ps.stem(word))"
      ],
      "execution_count": null,
      "outputs": [
        {
          "output_type": "stream",
          "text": [
            "wolf\n",
            "wolv\n",
            "is\n",
            "wa\n",
            "be\n",
            "are\n",
            "swim\n",
            "swim\n",
            "swim\n"
          ],
          "name": "stdout"
        }
      ]
    },
    {
      "cell_type": "markdown",
      "metadata": {
        "id": "WRoJmfiQRfuM"
      },
      "source": [
        "### Two Minute Challenge\n",
        "\n",
        "Apply the Porter stemming algorithm to the tokens in the `df` dataframe. Visualize the results in the tree graph we have been using for this session."
      ]
    },
    {
      "cell_type": "code",
      "metadata": {
        "id": "6vl7D9WCRfuM"
      },
      "source": [
        "# Put in a new column `stems`\n",
        "def get_stems(text):\n",
        "  return [ps.stem(word) for word in text.split() if word not in STOP_WORDS]\n",
        "\n",
        "df[\"stems\"] = df[\"reviews.text\"].apply(get_stems)"
      ],
      "execution_count": null,
      "outputs": []
    },
    {
      "cell_type": "code",
      "metadata": {
        "id": "_XI8zYHtRfuM",
        "colab": {
          "base_uri": "https://localhost:8080/",
          "height": 247
        },
        "outputId": "860e0aad-807d-4ef0-c086-4a3f79b4a6ff"
      },
      "source": [
        "wc = count(df['stems'])\n",
        "\n",
        "wc_top20 = wc[wc['rank'] <= 20]\n",
        "\n",
        "squarify.plot(sizes=wc_top20['pct_total'], label=wc_top20['word'], alpha=.8 )\n",
        "plt.axis('off')\n",
        "plt.show()"
      ],
      "execution_count": null,
      "outputs": [
        {
          "output_type": "display_data",
          "data": {
            "image/png": "[encoded data removed]",
            "text/plain": [
              "<Figure size 432x288 with 1 Axes>"
            ]
          },
          "metadata": {
            "tags": [],
            "needs_background": "light"
          }
        }
      ]
    },
    {
      "cell_type": "markdown",
      "metadata": {
        "toc-hr-collapsed": false,
        "id": "ekB6w3o-RfuM"
      },
      "source": [
        "### Lemmatization\n",
        "\n",
        "You notice immediately that results are kinda funky - words just oddly chopped off. The Porter algorithm did exactly what it knows to do: chop off endings. Stemming works well in applications where humans don't have to worry about reading the results. Search engines and more broadly information retrieval algorithms use stemming. Why? Because it's fast. \n",
        "\n",
        "Lemmatization on the other hand is more methodical. The goal is to transform a word into its base form called a lemma. Plural nouns with funky spellings get transformed to singular tense. Verbs are all transformed to the transitive. Nice tidy data for a visualization. :) However, this tidy data can come at computational cost. Spacy does a pretty freaking good job of it though. Let's take a look:"
      ]
    },
    {
      "cell_type": "code",
      "metadata": {
        "id": "t4Dlt99zRfuN",
        "colab": {
          "base_uri": "https://localhost:8080/"
        },
        "outputId": "aa1a720e-f2af-4699-851f-60dcae1eeead"
      },
      "source": [
        "sent = \"This is the start of our NLP adventures. We started here with Spacy. We are starting here with NLP. JC went to the zoo and saw pandas eat bamboo\"\n",
        "\n",
        "nlp = spacy.load(\"en_core_web_lg\")\n",
        "\n",
        "doc = nlp(sent)\n",
        "\n",
        "# Lemma Attributes\n",
        "for token in doc:\n",
        "    print(token.text, \"  \", token.lemma_)"
      ],
      "execution_count": null,
      "outputs": [
        {
          "output_type": "stream",
          "text": [
            "This    this\n",
            "is    be\n",
            "the    the\n",
            "start    start\n",
            "of    of\n",
            "our    -PRON-\n",
            "NLP    NLP\n",
            "adventures    adventure\n",
            ".    .\n",
            "We    -PRON-\n",
            "started    start\n",
            "here    here\n",
            "with    with\n",
            "Spacy    Spacy\n",
            ".    .\n",
            "We    -PRON-\n",
            "are    be\n",
            "starting    start\n",
            "here    here\n",
            "with    with\n",
            "NLP    NLP\n",
            ".    .\n",
            "JC    JC\n",
            "went    go\n",
            "to    to\n",
            "the    the\n",
            "zoo    zoo\n",
            "and    and\n",
            "saw    see\n",
            "pandas    panda\n",
            "eat    eat\n",
            "bamboo    bamboo\n"
          ],
          "name": "stdout"
        }
      ]
    },
    {
      "cell_type": "code",
      "metadata": {
        "id": "Idod7hUNRfuN"
      },
      "source": [
        "# Wrap it all in a function\n",
        "def get_lemmas(text):\n",
        "\n",
        "    lemmas = []\n",
        "    \n",
        "    doc = nlp(text)\n",
        "    \n",
        "    # Something goes here :P\n",
        "    for token in doc: \n",
        "        if ((token.is_stop == False) and (token.is_punct == False)) and (token.pos_ != 'PRON'):\n",
        "            lemmas.append(token.lemma_)\n",
        "    \n",
        "    return lemmas"
      ],
      "execution_count": null,
      "outputs": []
    },
    {
      "cell_type": "code",
      "metadata": {
        "id": "s4tKWwzeRfuN"
      },
      "source": [
        "df['lemmas'] = df['reviews.text'].apply(get_lemmas)"
      ],
      "execution_count": null,
      "outputs": []
    },
    {
      "cell_type": "code",
      "metadata": {
        "id": "djZFJ3lTRfuN",
        "colab": {
          "base_uri": "https://localhost:8080/"
        },
        "outputId": "d9eb9294-db1c-42d2-9de6-9ee0b6618d48"
      },
      "source": [
        "# Note didn't call .lower()\n",
        "df['lemmas'].head()"
      ],
      "execution_count": null,
      "outputs": [
        {
          "output_type": "execute_result",
          "data": {
            "text/plain": [
              "8343    [great, case, place, husband, love, hold, lot,...\n",
              "8344    [discard, get, rid, broken, cd, case, broken, ...\n",
              "8345                            [dollar, boycott, amazon]\n",
              "8346    [initial, impression, good, material, nice, sh...\n",
              "8347    [pro, Standard, Echo, con, old, generation, Ec...\n",
              "Name: lemmas, dtype: object"
            ]
          },
          "metadata": {
            "tags": []
          },
          "execution_count": 68
        }
      ]
    },
    {
      "cell_type": "code",
      "metadata": {
        "id": "pLN3qzk-RfuN",
        "colab": {
          "base_uri": "https://localhost:8080/",
          "height": 247
        },
        "outputId": "22114d0b-87ac-47e5-a299-7d607b4dc2ba"
      },
      "source": [
        "wc = count(df['lemmas'])\n",
        "wc_top20 = wc[wc['rank'] <= 20]\n",
        "\n",
        "squarify.plot(sizes=wc_top20['pct_total'], label=wc_top20['word'], alpha=.8 )\n",
        "plt.axis('off')\n",
        "plt.show()"
      ],
      "execution_count": null,
      "outputs": [
        {
          "output_type": "display_data",
          "data": {
            "image/png": "[encoded data removed]",
            "text/plain": [
              "<Figure size 432x288 with 1 Axes>"
            ]
          },
          "metadata": {
            "tags": [],
            "needs_background": "light"
          }
        }
      ]
    },
    {
      "cell_type": "markdown",
      "metadata": {
        "id": "I4_w65THRfuO"
      },
      "source": [
        "## Challenge\n",
        "\n",
        "You should know how to apply lemmatization with Spacy to a corpus of text. "
      ]
    },
    {
      "cell_type": "markdown",
      "metadata": {
        "id": "rWBl6AAcRfuO"
      },
      "source": [
        "# Review\n",
        "\n",
        "In this module project, you've seen us apply Natural Language Processing techniques (tokenization, stopword removal, and lemmatization) to a corpus of Amazon text reviews. We analyzed those reviews using these techniques and discovered that Amazon customers are generally satisfied with the battery life of Amazon products and generally appear satisfied. \n",
        "\n",
        "You will apply similar techniques to today's [module project assignment](LS_DS_411_Text_Data_Assignment.ipynb) to analyze coffee shop reviews from yelp. Remember that the techniques of processing the text are just the beginning. There are many ways to slice and dice the data. "
      ]
    },
    {
      "cell_type": "markdown",
      "metadata": {
        "id": "YwsCJ6ovRfuO"
      },
      "source": [
        "# Sources\n",
        "\n",
        "* Spacy 101 - https://course.spacy.io\n",
        "* NLTK Book - https://www.nltk.org/book/\n",
        "* An Introduction to Information Retrieval - https://nlp.stanford.edu/IR-book/pdf/irbookonlinereading.pdf"
      ]
    },
    {
      "cell_type": "markdown",
      "metadata": {
        "toc-hr-collapsed": true,
        "id": "sZG1jVnIRfuO"
      },
      "source": [
        "## Advanced Resources & Techniques\n",
        "- Named Entity Recognition (NER)\n",
        "- Dependcy Trees \n",
        "- Generators\n",
        "- the major libraries (NLTK, Spacy, Gensim)"
      ]
    }
  ]
}